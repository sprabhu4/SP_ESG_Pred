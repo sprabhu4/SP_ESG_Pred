{
 "cells": [
  {
   "cell_type": "code",
   "execution_count": 32,
   "metadata": {},
   "outputs": [],
   "source": [
    "# import required libraries\n",
    "import numpy as np\n",
    "import pandas as pd\n",
    "import matplotlib.pyplot as plt\n",
    "from sklearn.ensemble import RandomForestRegressor\n",
    "from sklearn.model_selection import train_test_split\n",
    "from sklearn.metrics import mean_squared_error, mean_absolute_error, r2_score\n",
    "from sklearn.model_selection import cross_val_score\n",
    "from sklearn.model_selection import KFold\n",
    "from sklearn.preprocessing import MinMaxScaler"
   ]
  },
  {
   "attachments": {},
   "cell_type": "markdown",
   "metadata": {},
   "source": [
    "## Load Datasets"
   ]
  },
  {
   "cell_type": "code",
   "execution_count": 23,
   "metadata": {},
   "outputs": [
    {
     "data": {
      "text/plain": [
       "Index(['Unnamed: 0', 'Total Current Assets', 'Total Current Liabilities',\n",
       "       'Total Debt', 'Total Assets, Reported', 'Net Income - Actual',\n",
       "       'Revenue Per Share', 'Total Revenue', 'Total Equity',\n",
       "       'Total CO2 Equivalent Emissions To Revenues USD in million',\n",
       "       'Company Market Capitalization',\n",
       "       'Property Plant And Equipment, Total - Gross',\n",
       "       'P/E (Daily Time Series Ratio)', 'returns_yearly', 'Current Ratio',\n",
       "       'Debt-to-Equity Ratio', 'Return on Assets', 'Revenue Per Employee',\n",
       "       'Return on Equity', 'Asset Turnover Ratio', 'Net Income Margin', 'RIC',\n",
       "       'Year', 'ESG Score'],\n",
       "      dtype='object')"
      ]
     },
     "execution_count": 23,
     "metadata": {},
     "output_type": "execute_result"
    }
   ],
   "source": [
    "data_without_outliers = pd.read_csv(\n",
    "    \"data/model_training_files/imputed_without_outliers.csv\"\n",
    ")\n",
    "data_without_outliers.columns"
   ]
  },
  {
   "cell_type": "code",
   "execution_count": null,
   "metadata": {},
   "outputs": [],
   "source": [
    "data_without_outliers.shape"
   ]
  },
  {
   "cell_type": "code",
   "execution_count": 24,
   "metadata": {},
   "outputs": [
    {
     "data": {
      "text/plain": [
       "Index(['Unnamed: 0', 'Total Current Assets', 'Total Current Liabilities',\n",
       "       'Total Debt', 'Total Assets, Reported', 'Net Income - Actual',\n",
       "       'Revenue Per Share', 'Total Revenue', 'Total Equity',\n",
       "       'Total CO2 Equivalent Emissions To Revenues USD in million',\n",
       "       'Company Market Capitalization',\n",
       "       'Property Plant And Equipment, Total - Gross',\n",
       "       'P/E (Daily Time Series Ratio)', 'returns_yearly', 'Current Ratio',\n",
       "       'Debt-to-Equity Ratio', 'Return on Assets', 'Revenue Per Employee',\n",
       "       'Return on Equity', 'Asset Turnover Ratio', 'Net Income Margin', 'RIC',\n",
       "       'Year', 'ESG Score'],\n",
       "      dtype='object')"
      ]
     },
     "execution_count": 24,
     "metadata": {},
     "output_type": "execute_result"
    }
   ],
   "source": [
    "data_with_outliers = pd.read_csv(\n",
    "    \"data/model_training_files/imputed_with_outliers.csv\"\n",
    ")\n",
    "data_with_outliers.columns"
   ]
  },
  {
   "cell_type": "code",
   "execution_count": null,
   "metadata": {},
   "outputs": [],
   "source": [
    "data_with_outliers.shape"
   ]
  },
  {
   "attachments": {},
   "cell_type": "markdown",
   "metadata": {},
   "source": [
    "## Without Outliers"
   ]
  },
  {
   "attachments": {},
   "cell_type": "markdown",
   "metadata": {},
   "source": [
    "### 1. With Absolute Ratios"
   ]
  },
  {
   "cell_type": "code",
   "execution_count": null,
   "metadata": {},
   "outputs": [],
   "source": [
    "X = data_without_outliers.drop(\n",
    "    columns=[\"Unnamed: 0\", \"RIC\", \"Year\", \"ESG Score\"]\n",
    ")"
   ]
  },
  {
   "cell_type": "code",
   "execution_count": null,
   "metadata": {},
   "outputs": [],
   "source": [
    "y = pd.Series(data_without_outliers[\"ESG Score\"])"
   ]
  },
  {
   "cell_type": "code",
   "execution_count": null,
   "metadata": {},
   "outputs": [],
   "source": [
    "X = X.drop(\n",
    "    columns=[\n",
    "        \"Total Current Assets\",\n",
    "        \"Total Current Liabilities\",\n",
    "        \"Total Debt\",\n",
    "        \"Total Assets, Reported\",\n",
    "        \"Net Income - Actual\",\n",
    "        \"Company Market Capitalization\",\n",
    "        \"Total Revenue\",\n",
    "        \"Total Equity\",\n",
    "    ]\n",
    ")"
   ]
  },
  {
   "cell_type": "code",
   "execution_count": null,
   "metadata": {},
   "outputs": [],
   "source": [
    "# rescale the features\n",
    "scaler = MinMaxScaler()\n",
    "\n",
    "# apply scaler() to all the numeric columns\n",
    "X = scaler.fit_transform(X)\n",
    "\n",
    "# split the dataset into training and testing sets\n",
    "X_train, X_test, y_train, y_test = train_test_split(\n",
    "    X, y, test_size=0.33, random_state=42\n",
    ")"
   ]
  },
  {
   "cell_type": "code",
   "execution_count": null,
   "metadata": {},
   "outputs": [],
   "source": [
    "# initialize the ensemble regression models\n",
    "rf = RandomForestRegressor(n_estimators=100, random_state=42)\n",
    "\n",
    "\n",
    "# fit the models on the training data\n",
    "rf.fit(X_train, y_train)\n",
    "\n",
    "\n",
    "# make predictions on the testing data\n",
    "rf_pred = rf.predict(X_test)\n",
    "\n",
    "\n",
    "# calculate the root mean squared error of each model\n",
    "rf_rmse = np.sqrt(mean_squared_error(y_test, rf_pred))\n",
    "\n",
    "\n",
    "# calculate the root mean absolute error of each model\n",
    "rf_rmae = mean_absolute_error(y_test, rf_pred)\n",
    "\n",
    "\n",
    "# print the RMSE of each model\n",
    "print(\"Random Forest RMSE:\", rf_rmse)\n",
    "\n",
    "# print the RMAE of each model\n",
    "print(\"Random Forest RMAE:\", rf_rmae)\n",
    "\n",
    "\n",
    "# create a KFold object with 5 splits\n",
    "folds = KFold(n_splits=5, shuffle=True, random_state=100)\n",
    "# perform cross-validation and calculate the r2_score for each model\n",
    "rf_scores = cross_val_score(rf, X, y, cv=folds, scoring=\"r2\")\n",
    "\n",
    "\n",
    "# print the r2_score of each model\n",
    "print(\"Random Forest r2_score:\", np.mean(rf_scores))"
   ]
  },
  {
   "attachments": {},
   "cell_type": "markdown",
   "metadata": {},
   "source": [
    "### 2. Without Absolute Ratios"
   ]
  },
  {
   "cell_type": "code",
   "execution_count": null,
   "metadata": {},
   "outputs": [],
   "source": [
    "X = data_without_outliers.drop(\n",
    "    columns=[\"Unnamed: 0\", \"RIC\", \"Year\", \"ESG Score\"]\n",
    ")"
   ]
  },
  {
   "cell_type": "code",
   "execution_count": null,
   "metadata": {},
   "outputs": [],
   "source": [
    "y = pd.Series(data_without_outliers[\"ESG Score\"])"
   ]
  },
  {
   "cell_type": "code",
   "execution_count": null,
   "metadata": {},
   "outputs": [],
   "source": [
    "X = X.drop(\n",
    "    columns=[\n",
    "        \"Current Ratio\",\n",
    "        \"Debt-to-Equity Ratio\",\n",
    "        \"Return on Assets\",\n",
    "        \"Revenue Per Employee\",\n",
    "        \"Return on Equity\",\n",
    "        \"Asset Turnover Ratio\",\n",
    "        \"Net Income Margin\",\n",
    "    ]\n",
    ")"
   ]
  },
  {
   "cell_type": "code",
   "execution_count": null,
   "metadata": {},
   "outputs": [],
   "source": [
    "# rescale the features\n",
    "scaler = MinMaxScaler()\n",
    "\n",
    "# apply scaler() to all the numeric columns\n",
    "X = scaler.fit_transform(X)\n",
    "\n",
    "# split the dataset into training and testing sets\n",
    "X_train, X_test, y_train, y_test = train_test_split(\n",
    "    X, y, test_size=0.33, random_state=42\n",
    ")"
   ]
  },
  {
   "cell_type": "code",
   "execution_count": null,
   "metadata": {},
   "outputs": [],
   "source": [
    "# initialize the ensemble regression models\n",
    "rf = RandomForestRegressor(n_estimators=100, random_state=42)\n",
    "\n",
    "\n",
    "# fit the models on the training data\n",
    "rf.fit(X_train, y_train)\n",
    "\n",
    "\n",
    "# make predictions on the testing data\n",
    "rf_pred = rf.predict(X_test)\n",
    "\n",
    "\n",
    "# calculate the root mean squared error of each model\n",
    "rf_rmse = np.sqrt(mean_squared_error(y_test, rf_pred))\n",
    "\n",
    "\n",
    "# calculate the root mean absolute error of each model\n",
    "rf_rmae = mean_absolute_error(y_test, rf_pred)\n",
    "\n",
    "\n",
    "# print the RMSE of each model\n",
    "print(\"Random Forest RMSE:\", rf_rmse)\n",
    "\n",
    "# print the RMAE of each model\n",
    "print(\"Random Forest RMAE:\", rf_rmae)\n",
    "\n",
    "\n",
    "# create a KFold object with 5 splits\n",
    "folds = KFold(n_splits=5, shuffle=True, random_state=100)\n",
    "# perform cross-validation and calculate the r2_score for each model\n",
    "rf_scores = cross_val_score(rf, X, y, cv=folds, scoring=\"r2\")\n",
    "\n",
    "\n",
    "# print the r2_score of each model\n",
    "print(\"Random Forest r2_score:\", np.mean(rf_scores))"
   ]
  },
  {
   "cell_type": "code",
   "execution_count": null,
   "metadata": {},
   "outputs": [],
   "source": [
    "# print the r2_score of each model\n",
    "print(\"Random Forest r2_score:\", np.mean(rf_scores))"
   ]
  },
  {
   "attachments": {},
   "cell_type": "markdown",
   "metadata": {},
   "source": [
    "### 3. All features"
   ]
  },
  {
   "cell_type": "code",
   "execution_count": null,
   "metadata": {},
   "outputs": [],
   "source": [
    "X = data_without_outliers.drop(\n",
    "    columns=[\"Unnamed: 0\", \"RIC\", \"Year\", \"ESG Score\"]\n",
    ")"
   ]
  },
  {
   "cell_type": "code",
   "execution_count": null,
   "metadata": {},
   "outputs": [],
   "source": [
    "y = pd.Series(data_without_outliers[\"ESG Score\"])"
   ]
  },
  {
   "cell_type": "code",
   "execution_count": null,
   "metadata": {},
   "outputs": [],
   "source": [
    "# rescale the features\n",
    "scaler = MinMaxScaler()\n",
    "\n",
    "# apply scaler() to all the numeric columns\n",
    "X = scaler.fit_transform(X)\n",
    "\n",
    "# split the dataset into training and testing sets\n",
    "X_train, X_test, y_train, y_test = train_test_split(\n",
    "    X, y, test_size=0.33, random_state=42\n",
    ")"
   ]
  },
  {
   "cell_type": "code",
   "execution_count": null,
   "metadata": {},
   "outputs": [],
   "source": [
    "# initialize the ensemble regression models\n",
    "rf = RandomForestRegressor(n_estimators=100, random_state=42)\n",
    "\n",
    "\n",
    "# fit the models on the training data\n",
    "rf.fit(X_train, y_train)\n",
    "\n",
    "\n",
    "# make predictions on the testing data\n",
    "rf_pred = rf.predict(X_test)\n",
    "\n",
    "\n",
    "# calculate the root mean squared error of each model\n",
    "rf_rmse = np.sqrt(mean_squared_error(y_test, rf_pred))\n",
    "\n",
    "\n",
    "# calculate the root mean absolute error of each model\n",
    "rf_rmae = mean_absolute_error(y_test, rf_pred)\n",
    "\n",
    "\n",
    "# print the RMSE of each model\n",
    "print(\"Random Forest RMSE:\", rf_rmse)\n",
    "\n",
    "# print the RMAE of each model\n",
    "print(\"Random Forest RMAE:\", rf_rmae)\n",
    "\n",
    "\n",
    "# create a KFold object with 5 splits\n",
    "folds = KFold(n_splits=5, shuffle=True, random_state=100)\n",
    "# perform cross-validation and calculate the r2_score for each model\n",
    "rf_scores = cross_val_score(rf, X, y, cv=folds, scoring=\"r2\")\n",
    "\n",
    "\n",
    "# print the r2_score of each model\n",
    "print(\"Random Forest r2_score:\", np.mean(rf_scores))"
   ]
  },
  {
   "attachments": {},
   "cell_type": "markdown",
   "metadata": {},
   "source": [
    "## With Outliers"
   ]
  },
  {
   "attachments": {},
   "cell_type": "markdown",
   "metadata": {},
   "source": [
    "### 1. With Absolute Ratios"
   ]
  },
  {
   "cell_type": "code",
   "execution_count": null,
   "metadata": {},
   "outputs": [],
   "source": [
    "X = data_with_outliers.drop(columns=[\"Unnamed: 0\", \"RIC\", \"Year\", \"ESG Score\"])"
   ]
  },
  {
   "cell_type": "code",
   "execution_count": null,
   "metadata": {},
   "outputs": [],
   "source": [
    "y = pd.Series(data_with_outliers[\"ESG Score\"])"
   ]
  },
  {
   "cell_type": "code",
   "execution_count": null,
   "metadata": {},
   "outputs": [],
   "source": [
    "X = X.drop(\n",
    "    columns=[\n",
    "        \"Total Current Assets\",\n",
    "        \"Total Current Liabilities\",\n",
    "        \"Total Debt\",\n",
    "        \"Total Assets, Reported\",\n",
    "        \"Net Income - Actual\",\n",
    "        \"Company Market Capitalization\",\n",
    "        \"Total Revenue\",\n",
    "        \"Total Equity\",\n",
    "    ]\n",
    ")"
   ]
  },
  {
   "cell_type": "code",
   "execution_count": null,
   "metadata": {},
   "outputs": [],
   "source": [
    "# rescale the features\n",
    "scaler = MinMaxScaler()\n",
    "\n",
    "# apply scaler() to all the numeric columns\n",
    "X = scaler.fit_transform(X)\n",
    "\n",
    "# split the dataset into training and testing sets\n",
    "X_train, X_test, y_train, y_test = train_test_split(\n",
    "    X, y, test_size=0.33, random_state=42\n",
    ")"
   ]
  },
  {
   "cell_type": "code",
   "execution_count": null,
   "metadata": {},
   "outputs": [],
   "source": [
    "# initialize the ensemble regression models\n",
    "rf = RandomForestRegressor(n_estimators=100, random_state=42)\n",
    "\n",
    "\n",
    "# fit the models on the training data\n",
    "rf.fit(X_train, y_train)\n",
    "\n",
    "\n",
    "# make predictions on the testing data\n",
    "rf_pred = rf.predict(X_test)\n",
    "\n",
    "\n",
    "# calculate the root mean squared error of each model\n",
    "rf_rmse = np.sqrt(mean_squared_error(y_test, rf_pred))\n",
    "\n",
    "\n",
    "# calculate the root mean absolute error of each model\n",
    "rf_rmae = mean_absolute_error(y_test, rf_pred)\n",
    "\n",
    "\n",
    "# print the RMSE of each model\n",
    "print(\"Random Forest RMSE:\", rf_rmse)\n",
    "\n",
    "# print the RMAE of each model\n",
    "print(\"Random Forest RMAE:\", rf_rmae)\n",
    "\n",
    "\n",
    "# create a KFold object with 5 splits\n",
    "folds = KFold(n_splits=5, shuffle=True, random_state=100)\n",
    "# perform cross-validation and calculate the r2_score for each model\n",
    "rf_scores = cross_val_score(rf, X, y, cv=folds, scoring=\"r2\")\n",
    "\n",
    "\n",
    "# print the r2_score of each model\n",
    "print(\"Random Forest r2_score:\", np.mean(rf_scores))"
   ]
  },
  {
   "attachments": {},
   "cell_type": "markdown",
   "metadata": {},
   "source": [
    "### 2. Without Absolute Ratios"
   ]
  },
  {
   "cell_type": "code",
   "execution_count": 25,
   "metadata": {},
   "outputs": [],
   "source": [
    "X = data_with_outliers.drop(columns=[\"Unnamed: 0\", \"RIC\", \"Year\", \"ESG Score\"])"
   ]
  },
  {
   "cell_type": "code",
   "execution_count": 26,
   "metadata": {},
   "outputs": [],
   "source": [
    "y = pd.Series(data_with_outliers[\"ESG Score\"])"
   ]
  },
  {
   "cell_type": "code",
   "execution_count": null,
   "metadata": {},
   "outputs": [],
   "source": [
    "X = X.drop(\n",
    "    columns=[\n",
    "        \"Current Ratio\",\n",
    "        \"Debt-to-Equity Ratio\",\n",
    "        \"Return on Assets\",\n",
    "        \"Revenue Per Employee\",\n",
    "        \"Return on Equity\",\n",
    "        \"Asset Turnover Ratio\",\n",
    "        \"Net Income Margin\",\n",
    "    ]\n",
    ")"
   ]
  },
  {
   "cell_type": "code",
   "execution_count": null,
   "metadata": {},
   "outputs": [],
   "source": [
    "# rescale the features\n",
    "scaler = MinMaxScaler()\n",
    "\n",
    "# apply scaler() to all the numeric columns\n",
    "X = scaler.fit_transform(X)\n",
    "\n",
    "# split the dataset into training and testing sets\n",
    "X_train, X_test, y_train, y_test = train_test_split(\n",
    "    X, y, test_size=0.33, random_state=42\n",
    ")"
   ]
  },
  {
   "cell_type": "code",
   "execution_count": null,
   "metadata": {},
   "outputs": [],
   "source": [
    "# initialize the ensemble regression models\n",
    "rf = RandomForestRegressor(n_estimators=100, random_state=42)\n",
    "\n",
    "\n",
    "# fit the models on the training data\n",
    "rf.fit(X_train, y_train)\n",
    "\n",
    "\n",
    "# make predictions on the testing data\n",
    "rf_pred = rf.predict(X_test)\n",
    "\n",
    "\n",
    "# calculate the root mean squared error of each model\n",
    "rf_rmse = np.sqrt(mean_squared_error(y_test, rf_pred))\n",
    "\n",
    "\n",
    "# calculate the root mean absolute error of each model\n",
    "rf_rmae = mean_absolute_error(y_test, rf_pred)\n",
    "\n",
    "\n",
    "# print the RMSE of each model\n",
    "print(\"Random Forest RMSE:\", rf_rmse)\n",
    "\n",
    "# print the RMAE of each model\n",
    "print(\"Random Forest RMAE:\", rf_rmae)\n",
    "\n",
    "\n",
    "# create a KFold object with 5 splits\n",
    "folds = KFold(n_splits=5, shuffle=True, random_state=100)\n",
    "# perform cross-validation and calculate the r2_score for each model\n",
    "rf_scores = cross_val_score(rf, X, y, cv=folds, scoring=\"r2\")\n",
    "\n",
    "\n",
    "# print the r2_score of each model\n",
    "print(\"Random Forest r2_score:\", np.mean(rf_scores))"
   ]
  },
  {
   "attachments": {},
   "cell_type": "markdown",
   "metadata": {},
   "source": [
    "### 3. All Features"
   ]
  },
  {
   "cell_type": "code",
   "execution_count": 27,
   "metadata": {},
   "outputs": [],
   "source": [
    "X = data_with_outliers.drop(columns=[\"Unnamed: 0\", \"RIC\", \"Year\", \"ESG Score\"])"
   ]
  },
  {
   "cell_type": "code",
   "execution_count": 28,
   "metadata": {},
   "outputs": [],
   "source": [
    "y = pd.Series(data_with_outliers[\"ESG Score\"])"
   ]
  },
  {
   "cell_type": "code",
   "execution_count": 29,
   "metadata": {},
   "outputs": [],
   "source": [
    "# rescale the features\n",
    "scaler = MinMaxScaler()\n",
    "\n",
    "# apply scaler() to all the numeric columns\n",
    "X = scaler.fit_transform(X)\n",
    "\n",
    "# split the dataset into training and testing sets\n",
    "X_train, X_test, y_train, y_test = train_test_split(\n",
    "    X, y, test_size=0.33, random_state=42\n",
    ")"
   ]
  },
  {
   "cell_type": "code",
   "execution_count": 30,
   "metadata": {},
   "outputs": [
    {
     "name": "stdout",
     "output_type": "stream",
     "text": [
      "Random Forest RMSE: 13.220924885136958\n",
      "Random Forest RMAE: 10.379928844761869\n",
      "Random Forest r2_score: 0.525985877764467\n"
     ]
    }
   ],
   "source": [
    "# initialize the ensemble regression models\n",
    "rf = RandomForestRegressor(n_estimators=100, random_state=42)\n",
    "\n",
    "\n",
    "# fit the models on the training data\n",
    "rf.fit(X_train, y_train)\n",
    "\n",
    "\n",
    "# make predictions on the testing data\n",
    "rf_pred = rf.predict(X_test)\n",
    "\n",
    "\n",
    "# calculate the root mean squared error of each model\n",
    "rf_rmse = np.sqrt(mean_squared_error(y_test, rf_pred))\n",
    "\n",
    "\n",
    "# calculate the root mean absolute error of each model\n",
    "rf_rmae = mean_absolute_error(y_test, rf_pred)\n",
    "\n",
    "\n",
    "# print the RMSE of each model\n",
    "print(\"Random Forest RMSE:\", rf_rmse)\n",
    "\n",
    "# print the RMAE of each model\n",
    "print(\"Random Forest RMAE:\", rf_rmae)\n",
    "\n",
    "\n",
    "# create a KFold object with 5 splits\n",
    "folds = KFold(n_splits=5, shuffle=True, random_state=100)\n",
    "# perform cross-validation and calculate the r2_score for each model\n",
    "rf_scores = cross_val_score(rf, X, y, cv=folds, scoring=\"r2\")\n",
    "\n",
    "\n",
    "# print the r2_score of each model\n",
    "print(\"Random Forest r2_score:\", np.mean(rf_scores))"
   ]
  },
  {
   "cell_type": "code",
   "execution_count": 66,
   "metadata": {},
   "outputs": [],
   "source": [
    "columns = [\n",
    "    \"Total Current Assets\",\n",
    "    \"Total Current Liabilities\",\n",
    "    \"Total Debt\",\n",
    "    \"Total Assets, Reported\",\n",
    "    \"Net Income - Actual\",\n",
    "    \"Revenue Per Share\",\n",
    "    \"Total Revenue\",\n",
    "    \"Total Equity\",\n",
    "    \"Total CO2 Emissions To Revenues\",\n",
    "    \"Company Market Capitalization\",\n",
    "    \"Property Plant And Equipment\",\n",
    "    \"P/E (Daily Time Series Ratio)\",\n",
    "    \"returns_yearly\",\n",
    "    \"Current Ratio\",\n",
    "    \"Debt-to-Equity Ratio\",\n",
    "    \"Return on Assets\",\n",
    "    \"Revenue Per Employee\",\n",
    "    \"Return on Equity\",\n",
    "    \"Asset Turnover Ratio\",\n",
    "    \"Net Income Margin\",\n",
    "]"
   ]
  },
  {
   "cell_type": "code",
   "execution_count": 67,
   "metadata": {},
   "outputs": [],
   "source": [
    "feature_importance_score = pd.DataFrame(\n",
    "    data={\n",
    "        \"feature\": columns,\n",
    "        \"scores\": list(rf.feature_importances_),\n",
    "    }\n",
    ")\n",
    "df_scores = feature_importance_score.sort_values(by=\"scores\", ascending=False)"
   ]
  },
  {
   "cell_type": "code",
   "execution_count": 68,
   "metadata": {},
   "outputs": [
    {
     "data": {
      "image/png": "[encoded data removed]",
      "text/plain": [
       "<Figure size 640x480 with 1 Axes>"
      ]
     },
     "metadata": {},
     "output_type": "display_data"
    }
   ],
   "source": [
    "# Create a horizontal bar plot\n",
    "fig, ax = plt.subplots()\n",
    "ax.barh(df_scores[\"feature\"], df_scores[\"scores\"])\n",
    "\n",
    "# Set the title and labels\n",
    "# ax.set_title('Feature Importance from Random Forest Regressor')\n",
    "ax.set_xlabel(\"Score\")\n",
    "ax.set_ylabel(\"Feature\")\n",
    "\n",
    "plt.show()"
   ]
  },
  {
   "cell_type": "code",
   "execution_count": null,
   "metadata": {},
   "outputs": [],
   "source": []
  }
 ],
 "metadata": {
  "kernelspec": {
   "display_name": "SP_ESG_Pred",
   "language": "python",
   "name": "python3"
  },
  "language_info": {
   "codemirror_mode": {
    "name": "ipython",
    "version": 3
   },
   "file_extension": ".py",
   "mimetype": "text/x-python",
   "name": "python",
   "nbconvert_exporter": "python",
   "pygments_lexer": "ipython3",
   "version": "3.8.9"
  },
  "orig_nbformat": 4
 },
 "nbformat": 4,
 "nbformat_minor": 2
}
