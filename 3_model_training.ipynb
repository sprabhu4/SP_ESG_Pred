{
 "cells": [
  {
   "cell_type": "code",
   "execution_count": 2,
   "metadata": {},
   "outputs": [],
   "source": [
    "# import required libraries and load dataset\n",
    "import numpy as np\n",
    "import pandas as pd\n",
    "from sklearn.ensemble import RandomForestRegressor\n",
    "from sklearn.model_selection import train_test_split\n",
    "from sklearn.metrics import mean_squared_error, mean_absolute_error, r2_score\n",
    "from sklearn.model_selection import cross_val_score\n",
    "from sklearn.model_selection import KFold\n",
    "from sklearn.preprocessing import MinMaxScaler\n"
   ]
  },
  {
   "cell_type": "code",
   "execution_count": 16,
   "metadata": {},
   "outputs": [
    {
     "data": {
      "text/plain": [
       "Index(['Unnamed: 0', 'Total Current Assets', 'Total Current Liabilities',\n",
       "       'Total Debt', 'Total Assets, Reported', 'Net Income - Actual',\n",
       "       'Revenue Per Share', 'Total Revenue', 'Total Equity',\n",
       "       'Total CO2 Equivalent Emissions To Revenues USD in million',\n",
       "       'Company Market Capitalization',\n",
       "       'Property Plant And Equipment, Total - Gross',\n",
       "       'P/E (Daily Time Series Ratio)', 'returns_yearly', 'Current Ratio',\n",
       "       'Debt-to-Equity Ratio', 'Return on Assets', 'Revenue Per Employee',\n",
       "       'Return on Equity', 'Asset Turnover Ratio', 'Net Income Margin', 'RIC',\n",
       "       'Year', 'ESG Score'],\n",
       "      dtype='object')"
      ]
     },
     "execution_count": 16,
     "metadata": {},
     "output_type": "execute_result"
    }
   ],
   "source": [
    "\n",
    "data_without_outliers = pd.read_csv(\"data/model_training_files/imputed_without_outliers.csv\")\n",
    "data_without_outliers.columns\n"
   ]
  },
  {
   "cell_type": "code",
   "execution_count": 17,
   "metadata": {},
   "outputs": [
    {
     "data": {
      "text/plain": [
       "(9781, 24)"
      ]
     },
     "execution_count": 17,
     "metadata": {},
     "output_type": "execute_result"
    }
   ],
   "source": [
    "data_without_outliers.shape"
   ]
  },
  {
   "cell_type": "code",
   "execution_count": 14,
   "metadata": {},
   "outputs": [
    {
     "data": {
      "text/plain": [
       "Index(['Unnamed: 0', 'Total Current Assets', 'Total Current Liabilities',\n",
       "       'Total Debt', 'Total Assets, Reported', 'Net Income - Actual',\n",
       "       'Revenue Per Share', 'Total Revenue', 'Total Equity',\n",
       "       'Total CO2 Equivalent Emissions To Revenues USD in million',\n",
       "       'Company Market Capitalization',\n",
       "       'Property Plant And Equipment, Total - Gross',\n",
       "       'P/E (Daily Time Series Ratio)', 'returns_yearly', 'Current Ratio',\n",
       "       'Debt-to-Equity Ratio', 'Return on Assets', 'Revenue Per Employee',\n",
       "       'Return on Equity', 'Asset Turnover Ratio', 'Net Income Margin', 'RIC',\n",
       "       'Year', 'ESG Score'],\n",
       "      dtype='object')"
      ]
     },
     "execution_count": 14,
     "metadata": {},
     "output_type": "execute_result"
    }
   ],
   "source": [
    "\n",
    "data_with_outliers = pd.read_csv(\"data/model_training_files/imputed_with_outliers.csv\")\n",
    "data_with_outliers.columns"
   ]
  },
  {
   "cell_type": "code",
   "execution_count": 18,
   "metadata": {},
   "outputs": [
    {
     "data": {
      "text/plain": [
       "(17748, 24)"
      ]
     },
     "execution_count": 18,
     "metadata": {},
     "output_type": "execute_result"
    }
   ],
   "source": [
    "data_with_outliers.shape"
   ]
  },
  {
   "attachments": {},
   "cell_type": "markdown",
   "metadata": {},
   "source": [
    "## Without Outliers"
   ]
  },
  {
   "attachments": {},
   "cell_type": "markdown",
   "metadata": {},
   "source": [
    "### 1. With Absolute Ratios"
   ]
  },
  {
   "cell_type": "code",
   "execution_count": 9,
   "metadata": {},
   "outputs": [],
   "source": [
    "X = data_without_outliers.drop(columns=['Unnamed: 0','RIC','Year','ESG Score'])"
   ]
  },
  {
   "cell_type": "code",
   "execution_count": 10,
   "metadata": {},
   "outputs": [],
   "source": [
    "y = pd.Series(data_without_outliers['ESG Score'])"
   ]
  },
  {
   "cell_type": "code",
   "execution_count": 11,
   "metadata": {},
   "outputs": [],
   "source": [
    "X  = X.drop(columns=['Total Current Assets', 'Total Current Liabilities',\n",
    "       'Total Debt', 'Total Assets, Reported', 'Net Income - Actual',\n",
    "        'Company Market Capitalization','Total Revenue', 'Total Equity'])"
   ]
  },
  {
   "cell_type": "code",
   "execution_count": 12,
   "metadata": {},
   "outputs": [],
   "source": [
    "\n",
    "# rescale the features\n",
    "scaler = MinMaxScaler()\n",
    "\n",
    "# apply scaler() to all the numeric columns \n",
    "X = scaler.fit_transform(X)\n",
    "\n",
    "# split the dataset into training and testing sets\n",
    "X_train, X_test, y_train, y_test = train_test_split(X, y, test_size=0.33, random_state=42)\n"
   ]
  },
  {
   "cell_type": "code",
   "execution_count": 13,
   "metadata": {},
   "outputs": [
    {
     "name": "stdout",
     "output_type": "stream",
     "text": [
      "Random Forest RMSE: 14.760987448439323\n",
      "Random Forest RMAE: 11.715122260715587\n",
      "Random Forest r2_score: 0.3798076846847597\n"
     ]
    }
   ],
   "source": [
    "\n",
    "# initialize the ensemble regression models\n",
    "rf = RandomForestRegressor(n_estimators=100, random_state=42)\n",
    "\n",
    "\n",
    "# fit the models on the training data\n",
    "rf.fit(X_train, y_train)\n",
    "\n",
    "\n",
    "# make predictions on the testing data\n",
    "rf_pred = rf.predict(X_test)\n",
    "\n",
    "\n",
    "# calculate the root mean squared error of each model\n",
    "rf_rmse = np.sqrt(mean_squared_error(y_test, rf_pred))\n",
    "\n",
    "\n",
    "# calculate the root mean absolute error of each model\n",
    "rf_rmae = (mean_absolute_error(y_test, rf_pred))\n",
    "\n",
    "\n",
    "# print the RMSE of each model\n",
    "print(\"Random Forest RMSE:\", rf_rmse)\n",
    "\n",
    "# print the RMAE of each model\n",
    "print(\"Random Forest RMAE:\", rf_rmae)\n",
    "\n",
    "\n",
    "# create a KFold object with 5 splits \n",
    "folds = KFold(n_splits = 5, shuffle = True, random_state = 100)\n",
    "# perform cross-validation and calculate the r2_score for each model\n",
    "rf_scores = cross_val_score(rf, X, y, cv=folds, scoring='r2')\n",
    "\n",
    "\n",
    "# print the r2_score of each model\n",
    "print(\"Random Forest r2_score:\", np.mean(rf_scores))\n"
   ]
  },
  {
   "attachments": {},
   "cell_type": "markdown",
   "metadata": {},
   "source": [
    "### 2. Without Absolute Ratios"
   ]
  },
  {
   "cell_type": "code",
   "execution_count": 19,
   "metadata": {},
   "outputs": [],
   "source": [
    "X = data_without_outliers.drop(columns=['Unnamed: 0','RIC','Year','ESG Score'])"
   ]
  },
  {
   "cell_type": "code",
   "execution_count": 20,
   "metadata": {},
   "outputs": [],
   "source": [
    "y = pd.Series(data_without_outliers['ESG Score'])"
   ]
  },
  {
   "cell_type": "code",
   "execution_count": 21,
   "metadata": {},
   "outputs": [],
   "source": [
    "X  = X.drop(columns=['Current Ratio',\n",
    "       'Debt-to-Equity Ratio', 'Return on Assets', 'Revenue Per Employee',\n",
    "       'Return on Equity', 'Asset Turnover Ratio', 'Net Income Margin'])"
   ]
  },
  {
   "cell_type": "code",
   "execution_count": 22,
   "metadata": {},
   "outputs": [],
   "source": [
    "\n",
    "# rescale the features\n",
    "scaler = MinMaxScaler()\n",
    "\n",
    "# apply scaler() to all the numeric columns \n",
    "X = scaler.fit_transform(X)\n",
    "\n",
    "# split the dataset into training and testing sets\n",
    "X_train, X_test, y_train, y_test = train_test_split(X, y, test_size=0.33, random_state=42)\n"
   ]
  },
  {
   "cell_type": "code",
   "execution_count": 24,
   "metadata": {},
   "outputs": [
    {
     "name": "stdout",
     "output_type": "stream",
     "text": [
      "Random Forest RMSE: 14.264062321926684\n",
      "Random Forest RMAE: 11.236947882789654\n",
      "Random Forest r2_score: 0.4175154093785916\n"
     ]
    }
   ],
   "source": [
    "\n",
    "# initialize the ensemble regression models\n",
    "rf = RandomForestRegressor(n_estimators=100, random_state=42)\n",
    "\n",
    "\n",
    "# fit the models on the training data\n",
    "rf.fit(X_train, y_train)\n",
    "\n",
    "\n",
    "# make predictions on the testing data\n",
    "rf_pred = rf.predict(X_test)\n",
    "\n",
    "\n",
    "# calculate the root mean squared error of each model\n",
    "rf_rmse = np.sqrt(mean_squared_error(y_test, rf_pred))\n",
    "\n",
    "\n",
    "# calculate the root mean absolute error of each model\n",
    "rf_rmae = (mean_absolute_error(y_test, rf_pred))\n",
    "\n",
    "\n",
    "# print the RMSE of each model\n",
    "print(\"Random Forest RMSE:\", rf_rmse)\n",
    "\n",
    "# print the RMAE of each model\n",
    "print(\"Random Forest RMAE:\", rf_rmae)\n",
    "\n",
    "\n",
    "# create a KFold object with 5 splits \n",
    "folds = KFold(n_splits = 5, shuffle = True, random_state = 100)\n",
    "# perform cross-validation and calculate the r2_score for each model\n",
    "rf_scores = cross_val_score(rf, X, y, cv=folds, scoring='r2')\n",
    "\n",
    "\n",
    "# print the r2_score of each model\n",
    "print(\"Random Forest r2_score:\", np.mean(rf_scores))\n"
   ]
  },
  {
   "attachments": {},
   "cell_type": "markdown",
   "metadata": {},
   "source": [
    "### 3. All features"
   ]
  },
  {
   "cell_type": "code",
   "execution_count": 25,
   "metadata": {},
   "outputs": [],
   "source": [
    "X = data_without_outliers.drop(columns=['Unnamed: 0','RIC','Year','ESG Score'])"
   ]
  },
  {
   "cell_type": "code",
   "execution_count": 26,
   "metadata": {},
   "outputs": [],
   "source": [
    "y = pd.Series(data_without_outliers['ESG Score'])"
   ]
  },
  {
   "cell_type": "code",
   "execution_count": 27,
   "metadata": {},
   "outputs": [],
   "source": [
    "\n",
    "# rescale the features\n",
    "scaler = MinMaxScaler()\n",
    "\n",
    "# apply scaler() to all the numeric columns \n",
    "X = scaler.fit_transform(X)\n",
    "\n",
    "# split the dataset into training and testing sets\n",
    "X_train, X_test, y_train, y_test = train_test_split(X, y, test_size=0.33, random_state=42)\n"
   ]
  },
  {
   "cell_type": "code",
   "execution_count": 28,
   "metadata": {},
   "outputs": [
    {
     "name": "stdout",
     "output_type": "stream",
     "text": [
      "Random Forest RMSE: 14.117138195264623\n",
      "Random Forest RMAE: 11.125579905392717\n",
      "Random Forest r2_score: 0.4257686155030672\n"
     ]
    }
   ],
   "source": [
    "\n",
    "# initialize the ensemble regression models\n",
    "rf = RandomForestRegressor(n_estimators=100, random_state=42)\n",
    "\n",
    "\n",
    "# fit the models on the training data\n",
    "rf.fit(X_train, y_train)\n",
    "\n",
    "\n",
    "# make predictions on the testing data\n",
    "rf_pred = rf.predict(X_test)\n",
    "\n",
    "\n",
    "# calculate the root mean squared error of each model\n",
    "rf_rmse = np.sqrt(mean_squared_error(y_test, rf_pred))\n",
    "\n",
    "\n",
    "# calculate the root mean absolute error of each model\n",
    "rf_rmae = (mean_absolute_error(y_test, rf_pred))\n",
    "\n",
    "\n",
    "# print the RMSE of each model\n",
    "print(\"Random Forest RMSE:\", rf_rmse)\n",
    "\n",
    "# print the RMAE of each model\n",
    "print(\"Random Forest RMAE:\", rf_rmae)\n",
    "\n",
    "\n",
    "# create a KFold object with 5 splits \n",
    "folds = KFold(n_splits = 5, shuffle = True, random_state = 100)\n",
    "# perform cross-validation and calculate the r2_score for each model\n",
    "rf_scores = cross_val_score(rf, X, y, cv=folds, scoring='r2')\n",
    "\n",
    "\n",
    "# print the r2_score of each model\n",
    "print(\"Random Forest r2_score:\", np.mean(rf_scores))\n"
   ]
  },
  {
   "attachments": {},
   "cell_type": "markdown",
   "metadata": {},
   "source": [
    "## With Outliers"
   ]
  },
  {
   "attachments": {},
   "cell_type": "markdown",
   "metadata": {},
   "source": [
    "### 1. With Absolute Ratios"
   ]
  },
  {
   "cell_type": "code",
   "execution_count": 38,
   "metadata": {},
   "outputs": [],
   "source": [
    "X = data_with_outliers.drop(columns=['Unnamed: 0','RIC','Year','ESG Score'])"
   ]
  },
  {
   "cell_type": "code",
   "execution_count": 39,
   "metadata": {},
   "outputs": [],
   "source": [
    "y = pd.Series(data_with_outliers['ESG Score'])"
   ]
  },
  {
   "cell_type": "code",
   "execution_count": null,
   "metadata": {},
   "outputs": [],
   "source": [
    "X  = X.drop(columns=['Total Current Assets', 'Total Current Liabilities',\n",
    "       'Total Debt', 'Total Assets, Reported', 'Net Income - Actual',\n",
    "        'Company Market Capitalization','Total Revenue', 'Total Equity'])"
   ]
  },
  {
   "cell_type": "code",
   "execution_count": 36,
   "metadata": {},
   "outputs": [],
   "source": [
    "\n",
    "# rescale the features\n",
    "scaler = MinMaxScaler()\n",
    "\n",
    "# apply scaler() to all the numeric columns \n",
    "X = scaler.fit_transform(X)\n",
    "\n",
    "# split the dataset into training and testing sets\n",
    "X_train, X_test, y_train, y_test = train_test_split(X, y, test_size=0.33, random_state=42)\n"
   ]
  },
  {
   "cell_type": "code",
   "execution_count": 37,
   "metadata": {},
   "outputs": [
    {
     "name": "stdout",
     "output_type": "stream",
     "text": [
      "Random Forest RMSE: 13.99539115280832\n",
      "Random Forest RMAE: 11.006824609431689\n",
      "Random Forest r2_score: 0.46270015270986986\n"
     ]
    }
   ],
   "source": [
    "\n",
    "# initialize the ensemble regression models\n",
    "rf = RandomForestRegressor(n_estimators=100, random_state=42)\n",
    "\n",
    "\n",
    "# fit the models on the training data\n",
    "rf.fit(X_train, y_train)\n",
    "\n",
    "\n",
    "# make predictions on the testing data\n",
    "rf_pred = rf.predict(X_test)\n",
    "\n",
    "\n",
    "# calculate the root mean squared error of each model\n",
    "rf_rmse = np.sqrt(mean_squared_error(y_test, rf_pred))\n",
    "\n",
    "\n",
    "# calculate the root mean absolute error of each model\n",
    "rf_rmae = (mean_absolute_error(y_test, rf_pred))\n",
    "\n",
    "\n",
    "# print the RMSE of each model\n",
    "print(\"Random Forest RMSE:\", rf_rmse)\n",
    "\n",
    "# print the RMAE of each model\n",
    "print(\"Random Forest RMAE:\", rf_rmae)\n",
    "\n",
    "\n",
    "# create a KFold object with 5 splits \n",
    "folds = KFold(n_splits = 5, shuffle = True, random_state = 100)\n",
    "# perform cross-validation and calculate the r2_score for each model\n",
    "rf_scores = cross_val_score(rf, X, y, cv=folds, scoring='r2')\n",
    "\n",
    "\n",
    "# print the r2_score of each model\n",
    "print(\"Random Forest r2_score:\", np.mean(rf_scores))\n"
   ]
  },
  {
   "attachments": {},
   "cell_type": "markdown",
   "metadata": {},
   "source": [
    "### 2. Without Absolute Ratios"
   ]
  },
  {
   "cell_type": "code",
   "execution_count": 50,
   "metadata": {},
   "outputs": [],
   "source": [
    "X = data_with_outliers.drop(columns=['Unnamed: 0','RIC','Year','ESG Score'])"
   ]
  },
  {
   "cell_type": "code",
   "execution_count": 51,
   "metadata": {},
   "outputs": [],
   "source": [
    "y = pd.Series(data_with_outliers['ESG Score'])"
   ]
  },
  {
   "cell_type": "code",
   "execution_count": 52,
   "metadata": {},
   "outputs": [],
   "source": [
    "X  = X.drop(columns=['Current Ratio',\n",
    "       'Debt-to-Equity Ratio', 'Return on Assets', 'Revenue Per Employee',\n",
    "       'Return on Equity', 'Asset Turnover Ratio', 'Net Income Margin'])"
   ]
  },
  {
   "cell_type": "code",
   "execution_count": 53,
   "metadata": {},
   "outputs": [],
   "source": [
    "\n",
    "# rescale the features\n",
    "scaler = MinMaxScaler()\n",
    "\n",
    "# apply scaler() to all the numeric columns \n",
    "X = scaler.fit_transform(X)\n",
    "\n",
    "# split the dataset into training and testing sets\n",
    "X_train, X_test, y_train, y_test = train_test_split(X, y, test_size=0.33, random_state=42)\n"
   ]
  },
  {
   "cell_type": "code",
   "execution_count": 54,
   "metadata": {},
   "outputs": [
    {
     "name": "stdout",
     "output_type": "stream",
     "text": [
      "Random Forest RMSE: 13.300192738408638\n",
      "Random Forest RMAE: 10.474575940664035\n",
      "Random Forest r2_score: 0.5161897330744114\n"
     ]
    }
   ],
   "source": [
    "\n",
    "# initialize the ensemble regression models\n",
    "rf = RandomForestRegressor(n_estimators=100, random_state=42)\n",
    "\n",
    "\n",
    "# fit the models on the training data\n",
    "rf.fit(X_train, y_train)\n",
    "\n",
    "\n",
    "# make predictions on the testing data\n",
    "rf_pred = rf.predict(X_test)\n",
    "\n",
    "\n",
    "# calculate the root mean squared error of each model\n",
    "rf_rmse = np.sqrt(mean_squared_error(y_test, rf_pred))\n",
    "\n",
    "\n",
    "# calculate the root mean absolute error of each model\n",
    "rf_rmae = (mean_absolute_error(y_test, rf_pred))\n",
    "\n",
    "\n",
    "# print the RMSE of each model\n",
    "print(\"Random Forest RMSE:\", rf_rmse)\n",
    "\n",
    "# print the RMAE of each model\n",
    "print(\"Random Forest RMAE:\", rf_rmae)\n",
    "\n",
    "\n",
    "# create a KFold object with 5 splits \n",
    "folds = KFold(n_splits = 5, shuffle = True, random_state = 100)\n",
    "# perform cross-validation and calculate the r2_score for each model\n",
    "rf_scores = cross_val_score(rf, X, y, cv=folds, scoring='r2')\n",
    "\n",
    "\n",
    "# print the r2_score of each model\n",
    "print(\"Random Forest r2_score:\", np.mean(rf_scores))\n"
   ]
  },
  {
   "attachments": {},
   "cell_type": "markdown",
   "metadata": {},
   "source": [
    "### 3. All Features"
   ]
  },
  {
   "cell_type": "code",
   "execution_count": 55,
   "metadata": {},
   "outputs": [],
   "source": [
    "X = data_with_outliers.drop(columns=['Unnamed: 0','RIC','Year','ESG Score'])"
   ]
  },
  {
   "cell_type": "code",
   "execution_count": 56,
   "metadata": {},
   "outputs": [],
   "source": [
    "y = pd.Series(data_with_outliers['ESG Score'])"
   ]
  },
  {
   "cell_type": "code",
   "execution_count": 57,
   "metadata": {},
   "outputs": [],
   "source": [
    "\n",
    "# rescale the features\n",
    "scaler = MinMaxScaler()\n",
    "\n",
    "# apply scaler() to all the numeric columns \n",
    "X = scaler.fit_transform(X)\n",
    "\n",
    "# split the dataset into training and testing sets\n",
    "X_train, X_test, y_train, y_test = train_test_split(X, y, test_size=0.33, random_state=42)\n"
   ]
  },
  {
   "cell_type": "code",
   "execution_count": 58,
   "metadata": {},
   "outputs": [
    {
     "name": "stdout",
     "output_type": "stream",
     "text": [
      "Random Forest RMSE: 13.220924885136958\n",
      "Random Forest RMAE: 10.379928844761869\n",
      "Random Forest r2_score: 0.525985877764467\n"
     ]
    }
   ],
   "source": [
    "\n",
    "# initialize the ensemble regression models\n",
    "rf = RandomForestRegressor(n_estimators=100, random_state=42)\n",
    "\n",
    "\n",
    "# fit the models on the training data\n",
    "rf.fit(X_train, y_train)\n",
    "\n",
    "\n",
    "# make predictions on the testing data\n",
    "rf_pred = rf.predict(X_test)\n",
    "\n",
    "\n",
    "# calculate the root mean squared error of each model\n",
    "rf_rmse = np.sqrt(mean_squared_error(y_test, rf_pred))\n",
    "\n",
    "\n",
    "# calculate the root mean absolute error of each model\n",
    "rf_rmae = (mean_absolute_error(y_test, rf_pred))\n",
    "\n",
    "\n",
    "# print the RMSE of each model\n",
    "print(\"Random Forest RMSE:\", rf_rmse)\n",
    "\n",
    "# print the RMAE of each model\n",
    "print(\"Random Forest RMAE:\", rf_rmae)\n",
    "\n",
    "\n",
    "# create a KFold object with 5 splits \n",
    "folds = KFold(n_splits = 5, shuffle = True, random_state = 100)\n",
    "# perform cross-validation and calculate the r2_score for each model\n",
    "rf_scores = cross_val_score(rf, X, y, cv=folds, scoring='r2')\n",
    "\n",
    "\n",
    "# print the r2_score of each model\n",
    "print(\"Random Forest r2_score:\", np.mean(rf_scores))\n"
   ]
  },
  {
   "cell_type": "code",
   "execution_count": null,
   "metadata": {},
   "outputs": [],
   "source": []
  }
 ],
 "metadata": {
  "kernelspec": {
   "display_name": "SP_ESG_Pred",
   "language": "python",
   "name": "python3"
  },
  "language_info": {
   "codemirror_mode": {
    "name": "ipython",
    "version": 3
   },
   "file_extension": ".py",
   "mimetype": "text/x-python",
   "name": "python",
   "nbconvert_exporter": "python",
   "pygments_lexer": "ipython3",
   "version": "3.8.9"
  },
  "orig_nbformat": 4
 },
 "nbformat": 4,
 "nbformat_minor": 2
}
