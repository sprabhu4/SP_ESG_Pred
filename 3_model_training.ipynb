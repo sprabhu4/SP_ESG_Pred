{
 "cells": [
  {
   "cell_type": "code",
   "execution_count": 2,
   "metadata": {},
   "outputs": [],
   "source": [
    "# import required libraries and load dataset\n",
    "import numpy as np\n",
    "import pandas as pd\n",
    "from sklearn.ensemble import RandomForestRegressor\n",
    "from sklearn.model_selection import train_test_split\n",
    "from sklearn.metrics import mean_squared_error, mean_absolute_error, r2_score\n",
    "from sklearn.model_selection import cross_val_score\n",
    "from sklearn.model_selection import KFold\n",
    "from sklearn.preprocessing import MinMaxScaler\n"
   ]
  },
  {
   "cell_type": "code",
   "execution_count": 3,
   "metadata": {},
   "outputs": [
    {
     "data": {
      "text/plain": [
       "Index(['Unnamed: 0', 'Total Current Assets', 'Total Current Liabilities',\n",
       "       'Total Debt', 'Total Assets, Reported', 'Net Income - Actual',\n",
       "       'Revenue Per Share', 'Total Revenue', 'Total Equity',\n",
       "       'Total CO2 Equivalent Emissions To Revenues USD in million',\n",
       "       'Company Market Capitalization',\n",
       "       'Property Plant And Equipment, Total - Gross',\n",
       "       'P/E (Daily Time Series Ratio)', 'returns_yearly', 'Current Ratio',\n",
       "       'Debt-to-Equity Ratio', 'Return on Assets', 'Revenue Per Employee',\n",
       "       'Return on Equity', 'Asset Turnover Ratio', 'Net Income Margin', 'RIC',\n",
       "       'Year', 'ESG Score'],\n",
       "      dtype='object')"
      ]
     },
     "execution_count": 3,
     "metadata": {},
     "output_type": "execute_result"
    }
   ],
   "source": [
    "\n",
    "data_without_outliers = pd.read_csv(\"data/model_training_files/imputed_without_outliers.csv\")\n",
    "data_without_outliers.columns\n"
   ]
  },
  {
   "cell_type": "code",
   "execution_count": 4,
   "metadata": {},
   "outputs": [
    {
     "data": {
      "text/plain": [
       "(9781, 24)"
      ]
     },
     "execution_count": 4,
     "metadata": {},
     "output_type": "execute_result"
    }
   ],
   "source": [
    "data_without_outliers.shape"
   ]
  },
  {
   "cell_type": "code",
   "execution_count": 5,
   "metadata": {},
   "outputs": [
    {
     "data": {
      "text/plain": [
       "Index(['Unnamed: 0', 'Total Current Assets', 'Total Current Liabilities',\n",
       "       'Total Debt', 'Total Assets, Reported', 'Net Income - Actual',\n",
       "       'Revenue Per Share', 'Total Revenue', 'Total Equity',\n",
       "       'Total CO2 Equivalent Emissions To Revenues USD in million',\n",
       "       'Company Market Capitalization',\n",
       "       'Property Plant And Equipment, Total - Gross',\n",
       "       'P/E (Daily Time Series Ratio)', 'returns_yearly', 'Current Ratio',\n",
       "       'Debt-to-Equity Ratio', 'Return on Assets', 'Revenue Per Employee',\n",
       "       'Return on Equity', 'Asset Turnover Ratio', 'Net Income Margin', 'RIC',\n",
       "       'Year', 'ESG Score'],\n",
       "      dtype='object')"
      ]
     },
     "execution_count": 5,
     "metadata": {},
     "output_type": "execute_result"
    }
   ],
   "source": [
    "\n",
    "data_with_outliers = pd.read_csv(\"data/model_training_files/imputed_with_outliers.csv\")\n",
    "data_with_outliers.columns"
   ]
  },
  {
   "cell_type": "code",
   "execution_count": 6,
   "metadata": {},
   "outputs": [
    {
     "data": {
      "text/plain": [
       "(17748, 24)"
      ]
     },
     "execution_count": 6,
     "metadata": {},
     "output_type": "execute_result"
    }
   ],
   "source": [
    "data_with_outliers.shape"
   ]
  },
  {
   "attachments": {},
   "cell_type": "markdown",
   "metadata": {},
   "source": [
    "## Without Outliers"
   ]
  },
  {
   "attachments": {},
   "cell_type": "markdown",
   "metadata": {},
   "source": [
    "### 1. With Absolute Ratios"
   ]
  },
  {
   "cell_type": "code",
   "execution_count": 9,
   "metadata": {},
   "outputs": [],
   "source": [
    "X = data_without_outliers.drop(columns=['Unnamed: 0','RIC','Year','ESG Score'])"
   ]
  },
  {
   "cell_type": "code",
   "execution_count": 10,
   "metadata": {},
   "outputs": [],
   "source": [
    "y = pd.Series(data_without_outliers['ESG Score'])"
   ]
  },
  {
   "cell_type": "code",
   "execution_count": 11,
   "metadata": {},
   "outputs": [],
   "source": [
    "X  = X.drop(columns=['Total Current Assets', 'Total Current Liabilities',\n",
    "       'Total Debt', 'Total Assets, Reported', 'Net Income - Actual',\n",
    "        'Company Market Capitalization','Total Revenue', 'Total Equity'])"
   ]
  },
  {
   "cell_type": "code",
   "execution_count": 12,
   "metadata": {},
   "outputs": [],
   "source": [
    "\n",
    "# rescale the features\n",
    "scaler = MinMaxScaler()\n",
    "\n",
    "# apply scaler() to all the numeric columns \n",
    "X = scaler.fit_transform(X)\n",
    "\n",
    "# split the dataset into training and testing sets\n",
    "X_train, X_test, y_train, y_test = train_test_split(X, y, test_size=0.33, random_state=42)\n"
   ]
  },
  {
   "cell_type": "code",
   "execution_count": 13,
   "metadata": {},
   "outputs": [
    {
     "name": "stdout",
     "output_type": "stream",
     "text": [
      "Random Forest RMSE: 14.760987448439323\n",
      "Random Forest RMAE: 11.715122260715587\n",
      "Random Forest r2_score: 0.3798076846847597\n"
     ]
    }
   ],
   "source": [
    "\n",
    "# initialize the ensemble regression models\n",
    "rf = RandomForestRegressor(n_estimators=100, random_state=42)\n",
    "\n",
    "\n",
    "# fit the models on the training data\n",
    "rf.fit(X_train, y_train)\n",
    "\n",
    "\n",
    "# make predictions on the testing data\n",
    "rf_pred = rf.predict(X_test)\n",
    "\n",
    "\n",
    "# calculate the root mean squared error of each model\n",
    "rf_rmse = np.sqrt(mean_squared_error(y_test, rf_pred))\n",
    "\n",
    "\n",
    "# calculate the root mean absolute error of each model\n",
    "rf_rmae = (mean_absolute_error(y_test, rf_pred))\n",
    "\n",
    "\n",
    "# print the RMSE of each model\n",
    "print(\"Random Forest RMSE:\", rf_rmse)\n",
    "\n",
    "# print the RMAE of each model\n",
    "print(\"Random Forest RMAE:\", rf_rmae)\n",
    "\n",
    "\n",
    "# create a KFold object with 5 splits \n",
    "folds = KFold(n_splits = 5, shuffle = True, random_state = 100)\n",
    "# perform cross-validation and calculate the r2_score for each model\n",
    "rf_scores = cross_val_score(rf, X, y, cv=folds, scoring='r2')\n",
    "\n",
    "\n",
    "# print the r2_score of each model\n",
    "print(\"Random Forest r2_score:\", np.mean(rf_scores))\n"
   ]
  },
  {
   "attachments": {},
   "cell_type": "markdown",
   "metadata": {},
   "source": [
    "### 2. Without Absolute Ratios"
   ]
  },
  {
   "cell_type": "code",
   "execution_count": 19,
   "metadata": {},
   "outputs": [],
   "source": [
    "X = data_without_outliers.drop(columns=['Unnamed: 0','RIC','Year','ESG Score'])"
   ]
  },
  {
   "cell_type": "code",
   "execution_count": 20,
   "metadata": {},
   "outputs": [],
   "source": [
    "y = pd.Series(data_without_outliers['ESG Score'])"
   ]
  },
  {
   "cell_type": "code",
   "execution_count": 21,
   "metadata": {},
   "outputs": [],
   "source": [
    "X  = X.drop(columns=['Current Ratio',\n",
    "       'Debt-to-Equity Ratio', 'Return on Assets', 'Revenue Per Employee',\n",
    "       'Return on Equity', 'Asset Turnover Ratio', 'Net Income Margin'])"
   ]
  },
  {
   "cell_type": "code",
   "execution_count": 22,
   "metadata": {},
   "outputs": [],
   "source": [
    "\n",
    "# rescale the features\n",
    "scaler = MinMaxScaler()\n",
    "\n",
    "# apply scaler() to all the numeric columns \n",
    "X = scaler.fit_transform(X)\n",
    "\n",
    "# split the dataset into training and testing sets\n",
    "X_train, X_test, y_train, y_test = train_test_split(X, y, test_size=0.33, random_state=42)\n"
   ]
  },
  {
   "cell_type": "code",
   "execution_count": 24,
   "metadata": {},
   "outputs": [
    {
     "name": "stdout",
     "output_type": "stream",
     "text": [
      "Random Forest RMSE: 14.264062321926684\n",
      "Random Forest RMAE: 11.236947882789654\n",
      "Random Forest r2_score: 0.4175154093785916\n"
     ]
    }
   ],
   "source": [
    "\n",
    "# initialize the ensemble regression models\n",
    "rf = RandomForestRegressor(n_estimators=100, random_state=42)\n",
    "\n",
    "\n",
    "# fit the models on the training data\n",
    "rf.fit(X_train, y_train)\n",
    "\n",
    "\n",
    "# make predictions on the testing data\n",
    "rf_pred = rf.predict(X_test)\n",
    "\n",
    "\n",
    "# calculate the root mean squared error of each model\n",
    "rf_rmse = np.sqrt(mean_squared_error(y_test, rf_pred))\n",
    "\n",
    "\n",
    "# calculate the root mean absolute error of each model\n",
    "rf_rmae = (mean_absolute_error(y_test, rf_pred))\n",
    "\n",
    "\n",
    "# print the RMSE of each model\n",
    "print(\"Random Forest RMSE:\", rf_rmse)\n",
    "\n",
    "# print the RMAE of each model\n",
    "print(\"Random Forest RMAE:\", rf_rmae)\n",
    "\n",
    "\n",
    "# create a KFold object with 5 splits \n",
    "folds = KFold(n_splits = 5, shuffle = True, random_state = 100)\n",
    "# perform cross-validation and calculate the r2_score for each model\n",
    "rf_scores = cross_val_score(rf, X, y, cv=folds, scoring='r2')\n",
    "\n",
    "\n",
    "# print the r2_score of each model\n",
    "print(\"Random Forest r2_score:\", np.mean(rf_scores))\n"
   ]
  },
  {
   "attachments": {},
   "cell_type": "markdown",
   "metadata": {},
   "source": [
    "### 3. All features"
   ]
  },
  {
   "cell_type": "code",
   "execution_count": 25,
   "metadata": {},
   "outputs": [],
   "source": [
    "X = data_without_outliers.drop(columns=['Unnamed: 0','RIC','Year','ESG Score'])"
   ]
  },
  {
   "cell_type": "code",
   "execution_count": 26,
   "metadata": {},
   "outputs": [],
   "source": [
    "y = pd.Series(data_without_outliers['ESG Score'])"
   ]
  },
  {
   "cell_type": "code",
   "execution_count": 27,
   "metadata": {},
   "outputs": [],
   "source": [
    "\n",
    "# rescale the features\n",
    "scaler = MinMaxScaler()\n",
    "\n",
    "# apply scaler() to all the numeric columns \n",
    "X = scaler.fit_transform(X)\n",
    "\n",
    "# split the dataset into training and testing sets\n",
    "X_train, X_test, y_train, y_test = train_test_split(X, y, test_size=0.33, random_state=42)\n"
   ]
  },
  {
   "cell_type": "code",
   "execution_count": 28,
   "metadata": {},
   "outputs": [
    {
     "name": "stdout",
     "output_type": "stream",
     "text": [
      "Random Forest RMSE: 14.117138195264623\n",
      "Random Forest RMAE: 11.125579905392717\n",
      "Random Forest r2_score: 0.4257686155030672\n"
     ]
    }
   ],
   "source": [
    "\n",
    "# initialize the ensemble regression models\n",
    "rf = RandomForestRegressor(n_estimators=100, random_state=42)\n",
    "\n",
    "\n",
    "# fit the models on the training data\n",
    "rf.fit(X_train, y_train)\n",
    "\n",
    "\n",
    "# make predictions on the testing data\n",
    "rf_pred = rf.predict(X_test)\n",
    "\n",
    "\n",
    "# calculate the root mean squared error of each model\n",
    "rf_rmse = np.sqrt(mean_squared_error(y_test, rf_pred))\n",
    "\n",
    "\n",
    "# calculate the root mean absolute error of each model\n",
    "rf_rmae = (mean_absolute_error(y_test, rf_pred))\n",
    "\n",
    "\n",
    "# print the RMSE of each model\n",
    "print(\"Random Forest RMSE:\", rf_rmse)\n",
    "\n",
    "# print the RMAE of each model\n",
    "print(\"Random Forest RMAE:\", rf_rmae)\n",
    "\n",
    "\n",
    "# create a KFold object with 5 splits \n",
    "folds = KFold(n_splits = 5, shuffle = True, random_state = 100)\n",
    "# perform cross-validation and calculate the r2_score for each model\n",
    "rf_scores = cross_val_score(rf, X, y, cv=folds, scoring='r2')\n",
    "\n",
    "\n",
    "# print the r2_score of each model\n",
    "print(\"Random Forest r2_score:\", np.mean(rf_scores))\n"
   ]
  },
  {
   "attachments": {},
   "cell_type": "markdown",
   "metadata": {},
   "source": [
    "## With Outliers"
   ]
  },
  {
   "attachments": {},
   "cell_type": "markdown",
   "metadata": {},
   "source": [
    "### 1. With Absolute Ratios"
   ]
  },
  {
   "cell_type": "code",
   "execution_count": 20,
   "metadata": {},
   "outputs": [],
   "source": [
    "X = data_with_outliers.drop(columns=['Unnamed: 0','RIC','Year','ESG Score'])"
   ]
  },
  {
   "cell_type": "code",
   "execution_count": 21,
   "metadata": {},
   "outputs": [],
   "source": [
    "y = pd.Series(data_with_outliers['ESG Score'])"
   ]
  },
  {
   "cell_type": "code",
   "execution_count": 22,
   "metadata": {},
   "outputs": [],
   "source": [
    "X  = X.drop(columns=['Total Current Assets', 'Total Current Liabilities',\n",
    "       'Total Debt', 'Total Assets, Reported', 'Net Income - Actual',\n",
    "        'Company Market Capitalization','Total Revenue', 'Total Equity'])"
   ]
  },
  {
   "cell_type": "code",
   "execution_count": 23,
   "metadata": {},
   "outputs": [],
   "source": [
    "\n",
    "# rescale the features\n",
    "scaler = MinMaxScaler()\n",
    "\n",
    "# apply scaler() to all the numeric columns \n",
    "X = scaler.fit_transform(X)\n",
    "\n",
    "# split the dataset into training and testing sets\n",
    "X_train, X_test, y_train, y_test = train_test_split(X, y, test_size=0.33, random_state=42)\n"
   ]
  },
  {
   "cell_type": "code",
   "execution_count": 24,
   "metadata": {},
   "outputs": [
    {
     "name": "stdout",
     "output_type": "stream",
     "text": [
      "Random Forest RMSE: 13.99539115280832\n",
      "Random Forest RMAE: 11.006824609431689\n",
      "Random Forest r2_score: 0.46270015270986986\n"
     ]
    }
   ],
   "source": [
    "\n",
    "# initialize the ensemble regression models\n",
    "rf = RandomForestRegressor(n_estimators=100, random_state=42)\n",
    "\n",
    "\n",
    "# fit the models on the training data\n",
    "rf.fit(X_train, y_train)\n",
    "\n",
    "\n",
    "# make predictions on the testing data\n",
    "rf_pred = rf.predict(X_test)\n",
    "\n",
    "\n",
    "# calculate the root mean squared error of each model\n",
    "rf_rmse = np.sqrt(mean_squared_error(y_test, rf_pred))\n",
    "\n",
    "\n",
    "# calculate the root mean absolute error of each model\n",
    "rf_rmae = (mean_absolute_error(y_test, rf_pred))\n",
    "\n",
    "\n",
    "# print the RMSE of each model\n",
    "print(\"Random Forest RMSE:\", rf_rmse)\n",
    "\n",
    "# print the RMAE of each model\n",
    "print(\"Random Forest RMAE:\", rf_rmae)\n",
    "\n",
    "\n",
    "# create a KFold object with 5 splits \n",
    "folds = KFold(n_splits = 5, shuffle = True, random_state = 100)\n",
    "# perform cross-validation and calculate the r2_score for each model\n",
    "rf_scores = cross_val_score(rf, X, y, cv=folds, scoring='r2')\n",
    "\n",
    "\n",
    "# print the r2_score of each model\n",
    "print(\"Random Forest r2_score:\", np.mean(rf_scores))\n"
   ]
  },
  {
   "cell_type": "code",
   "execution_count": 26,
   "metadata": {},
   "outputs": [
    {
     "data": {
      "text/html": [
       "<div>\n",
       "<style scoped>\n",
       "    .dataframe tbody tr th:only-of-type {\n",
       "        vertical-align: middle;\n",
       "    }\n",
       "\n",
       "    .dataframe tbody tr th {\n",
       "        vertical-align: top;\n",
       "    }\n",
       "\n",
       "    .dataframe thead th {\n",
       "        text-align: right;\n",
       "    }\n",
       "</style>\n",
       "<table border=\"1\" class=\"dataframe\">\n",
       "  <thead>\n",
       "    <tr style=\"text-align: right;\">\n",
       "      <th></th>\n",
       "      <th>feature</th>\n",
       "      <th>scores</th>\n",
       "    </tr>\n",
       "  </thead>\n",
       "  <tbody>\n",
       "    <tr>\n",
       "      <th>2</th>\n",
       "      <td>Property Plant And Equipment, Total - Gross</td>\n",
       "      <td>0.245598</td>\n",
       "    </tr>\n",
       "    <tr>\n",
       "      <th>1</th>\n",
       "      <td>Total CO2 Equivalent Emissions To Revenues USD...</td>\n",
       "      <td>0.124669</td>\n",
       "    </tr>\n",
       "    <tr>\n",
       "      <th>0</th>\n",
       "      <td>Revenue Per Share</td>\n",
       "      <td>0.094781</td>\n",
       "    </tr>\n",
       "    <tr>\n",
       "      <th>10</th>\n",
       "      <td>Asset Turnover Ratio</td>\n",
       "      <td>0.090381</td>\n",
       "    </tr>\n",
       "    <tr>\n",
       "      <th>5</th>\n",
       "      <td>Current Ratio</td>\n",
       "      <td>0.082642</td>\n",
       "    </tr>\n",
       "    <tr>\n",
       "      <th>6</th>\n",
       "      <td>Debt-to-Equity Ratio</td>\n",
       "      <td>0.069340</td>\n",
       "    </tr>\n",
       "    <tr>\n",
       "      <th>8</th>\n",
       "      <td>Revenue Per Employee</td>\n",
       "      <td>0.064707</td>\n",
       "    </tr>\n",
       "    <tr>\n",
       "      <th>3</th>\n",
       "      <td>P/E (Daily Time Series Ratio)</td>\n",
       "      <td>0.059680</td>\n",
       "    </tr>\n",
       "    <tr>\n",
       "      <th>7</th>\n",
       "      <td>Return on Assets</td>\n",
       "      <td>0.059189</td>\n",
       "    </tr>\n",
       "    <tr>\n",
       "      <th>4</th>\n",
       "      <td>returns_yearly</td>\n",
       "      <td>0.056759</td>\n",
       "    </tr>\n",
       "    <tr>\n",
       "      <th>9</th>\n",
       "      <td>Return on Equity</td>\n",
       "      <td>0.052255</td>\n",
       "    </tr>\n",
       "    <tr>\n",
       "      <th>11</th>\n",
       "      <td>Net Income Margin</td>\n",
       "      <td>0.000000</td>\n",
       "    </tr>\n",
       "  </tbody>\n",
       "</table>\n",
       "</div>"
      ],
      "text/plain": [
       "                                              feature    scores\n",
       "2         Property Plant And Equipment, Total - Gross  0.245598\n",
       "1   Total CO2 Equivalent Emissions To Revenues USD...  0.124669\n",
       "0                                   Revenue Per Share  0.094781\n",
       "10                               Asset Turnover Ratio  0.090381\n",
       "5                                       Current Ratio  0.082642\n",
       "6                                Debt-to-Equity Ratio  0.069340\n",
       "8                                Revenue Per Employee  0.064707\n",
       "3                       P/E (Daily Time Series Ratio)  0.059680\n",
       "7                                    Return on Assets  0.059189\n",
       "4                                      returns_yearly  0.056759\n",
       "9                                    Return on Equity  0.052255\n",
       "11                                  Net Income Margin  0.000000"
      ]
     },
     "execution_count": 26,
     "metadata": {},
     "output_type": "execute_result"
    }
   ],
   "source": [
    "feature_importance_score = pd.DataFrame(data=  {\"feature\": data_with_outliers.drop(columns=['Unnamed: 0','RIC','Year','ESG Score','Total Current Assets', 'Total Current Liabilities',\n",
    "       'Total Debt', 'Total Assets, Reported', 'Net Income - Actual',\n",
    "        'Company Market Capitalization','Total Revenue', 'Total Equity']).columns,\n",
    "                                                   \"scores\" : list(rf.feature_importances_)})\n",
    "feature_importance_score.sort_values(by=\"scores\",ascending=False)"
   ]
  },
  {
   "attachments": {},
   "cell_type": "markdown",
   "metadata": {},
   "source": [
    "### 2. Without Absolute Ratios"
   ]
  },
  {
   "cell_type": "code",
   "execution_count": 50,
   "metadata": {},
   "outputs": [],
   "source": [
    "X = data_with_outliers.drop(columns=['Unnamed: 0','RIC','Year','ESG Score'])"
   ]
  },
  {
   "cell_type": "code",
   "execution_count": 51,
   "metadata": {},
   "outputs": [],
   "source": [
    "y = pd.Series(data_with_outliers['ESG Score'])"
   ]
  },
  {
   "cell_type": "code",
   "execution_count": 52,
   "metadata": {},
   "outputs": [],
   "source": [
    "X  = X.drop(columns=['Current Ratio',\n",
    "       'Debt-to-Equity Ratio', 'Return on Assets', 'Revenue Per Employee',\n",
    "       'Return on Equity', 'Asset Turnover Ratio', 'Net Income Margin'])"
   ]
  },
  {
   "cell_type": "code",
   "execution_count": 53,
   "metadata": {},
   "outputs": [],
   "source": [
    "\n",
    "# rescale the features\n",
    "scaler = MinMaxScaler()\n",
    "\n",
    "# apply scaler() to all the numeric columns \n",
    "X = scaler.fit_transform(X)\n",
    "\n",
    "# split the dataset into training and testing sets\n",
    "X_train, X_test, y_train, y_test = train_test_split(X, y, test_size=0.33, random_state=42)\n"
   ]
  },
  {
   "cell_type": "code",
   "execution_count": 54,
   "metadata": {},
   "outputs": [
    {
     "name": "stdout",
     "output_type": "stream",
     "text": [
      "Random Forest RMSE: 13.300192738408638\n",
      "Random Forest RMAE: 10.474575940664035\n",
      "Random Forest r2_score: 0.5161897330744114\n"
     ]
    }
   ],
   "source": [
    "\n",
    "# initialize the ensemble regression models\n",
    "rf = RandomForestRegressor(n_estimators=100, random_state=42)\n",
    "\n",
    "\n",
    "# fit the models on the training data\n",
    "rf.fit(X_train, y_train)\n",
    "\n",
    "\n",
    "# make predictions on the testing data\n",
    "rf_pred = rf.predict(X_test)\n",
    "\n",
    "\n",
    "# calculate the root mean squared error of each model\n",
    "rf_rmse = np.sqrt(mean_squared_error(y_test, rf_pred))\n",
    "\n",
    "\n",
    "# calculate the root mean absolute error of each model\n",
    "rf_rmae = (mean_absolute_error(y_test, rf_pred))\n",
    "\n",
    "\n",
    "# print the RMSE of each model\n",
    "print(\"Random Forest RMSE:\", rf_rmse)\n",
    "\n",
    "# print the RMAE of each model\n",
    "print(\"Random Forest RMAE:\", rf_rmae)\n",
    "\n",
    "\n",
    "# create a KFold object with 5 splits \n",
    "folds = KFold(n_splits = 5, shuffle = True, random_state = 100)\n",
    "# perform cross-validation and calculate the r2_score for each model\n",
    "rf_scores = cross_val_score(rf, X, y, cv=folds, scoring='r2')\n",
    "\n",
    "\n",
    "# print the r2_score of each model\n",
    "print(\"Random Forest r2_score:\", np.mean(rf_scores))\n"
   ]
  },
  {
   "attachments": {},
   "cell_type": "markdown",
   "metadata": {},
   "source": [
    "### 3. All Features"
   ]
  },
  {
   "cell_type": "code",
   "execution_count": 7,
   "metadata": {},
   "outputs": [],
   "source": [
    "X = data_with_outliers.drop(columns=['Unnamed: 0','RIC','Year','ESG Score'])"
   ]
  },
  {
   "cell_type": "code",
   "execution_count": 8,
   "metadata": {},
   "outputs": [],
   "source": [
    "y = pd.Series(data_with_outliers['ESG Score'])"
   ]
  },
  {
   "cell_type": "code",
   "execution_count": 9,
   "metadata": {},
   "outputs": [],
   "source": [
    "\n",
    "# rescale the features\n",
    "scaler = MinMaxScaler()\n",
    "\n",
    "# apply scaler() to all the numeric columns \n",
    "X = scaler.fit_transform(X)\n",
    "\n",
    "# split the dataset into training and testing sets\n",
    "X_train, X_test, y_train, y_test = train_test_split(X, y, test_size=0.33, random_state=42)\n"
   ]
  },
  {
   "cell_type": "code",
   "execution_count": 10,
   "metadata": {},
   "outputs": [
    {
     "name": "stdout",
     "output_type": "stream",
     "text": [
      "Random Forest RMSE: 13.220924885136958\n",
      "Random Forest RMAE: 10.379928844761869\n",
      "Random Forest r2_score: 0.525985877764467\n"
     ]
    }
   ],
   "source": [
    "\n",
    "# initialize the ensemble regression models\n",
    "rf = RandomForestRegressor(n_estimators=100, random_state=42)\n",
    "\n",
    "\n",
    "# fit the models on the training data\n",
    "rf.fit(X_train, y_train)\n",
    "\n",
    "\n",
    "# make predictions on the testing data\n",
    "rf_pred = rf.predict(X_test)\n",
    "\n",
    "\n",
    "# calculate the root mean squared error of each model\n",
    "rf_rmse = np.sqrt(mean_squared_error(y_test, rf_pred))\n",
    "\n",
    "\n",
    "# calculate the root mean absolute error of each model\n",
    "rf_rmae = (mean_absolute_error(y_test, rf_pred))\n",
    "\n",
    "\n",
    "# print the RMSE of each model\n",
    "print(\"Random Forest RMSE:\", rf_rmse)\n",
    "\n",
    "# print the RMAE of each model\n",
    "print(\"Random Forest RMAE:\", rf_rmae)\n",
    "\n",
    "\n",
    "# create a KFold object with 5 splits \n",
    "folds = KFold(n_splits = 5, shuffle = True, random_state = 100)\n",
    "# perform cross-validation and calculate the r2_score for each model\n",
    "rf_scores = cross_val_score(rf, X, y, cv=folds, scoring='r2')\n",
    "\n",
    "\n",
    "# print the r2_score of each model\n",
    "print(\"Random Forest r2_score:\", np.mean(rf_scores))\n"
   ]
  },
  {
   "cell_type": "code",
   "execution_count": 19,
   "metadata": {},
   "outputs": [
    {
     "data": {
      "text/html": [
       "<div>\n",
       "<style scoped>\n",
       "    .dataframe tbody tr th:only-of-type {\n",
       "        vertical-align: middle;\n",
       "    }\n",
       "\n",
       "    .dataframe tbody tr th {\n",
       "        vertical-align: top;\n",
       "    }\n",
       "\n",
       "    .dataframe thead th {\n",
       "        text-align: right;\n",
       "    }\n",
       "</style>\n",
       "<table border=\"1\" class=\"dataframe\">\n",
       "  <thead>\n",
       "    <tr style=\"text-align: right;\">\n",
       "      <th></th>\n",
       "      <th>feature</th>\n",
       "      <th>scores</th>\n",
       "    </tr>\n",
       "  </thead>\n",
       "  <tbody>\n",
       "    <tr>\n",
       "      <th>1</th>\n",
       "      <td>Total Current Liabilities</td>\n",
       "      <td>0.268600</td>\n",
       "    </tr>\n",
       "    <tr>\n",
       "      <th>8</th>\n",
       "      <td>Total CO2 Equivalent Emissions To Revenues USD...</td>\n",
       "      <td>0.069345</td>\n",
       "    </tr>\n",
       "    <tr>\n",
       "      <th>10</th>\n",
       "      <td>Property Plant And Equipment, Total - Gross</td>\n",
       "      <td>0.059614</td>\n",
       "    </tr>\n",
       "    <tr>\n",
       "      <th>5</th>\n",
       "      <td>Revenue Per Share</td>\n",
       "      <td>0.057508</td>\n",
       "    </tr>\n",
       "    <tr>\n",
       "      <th>18</th>\n",
       "      <td>Asset Turnover Ratio</td>\n",
       "      <td>0.044282</td>\n",
       "    </tr>\n",
       "    <tr>\n",
       "      <th>13</th>\n",
       "      <td>Current Ratio</td>\n",
       "      <td>0.041532</td>\n",
       "    </tr>\n",
       "    <tr>\n",
       "      <th>2</th>\n",
       "      <td>Total Debt</td>\n",
       "      <td>0.041064</td>\n",
       "    </tr>\n",
       "    <tr>\n",
       "      <th>9</th>\n",
       "      <td>Company Market Capitalization</td>\n",
       "      <td>0.040635</td>\n",
       "    </tr>\n",
       "    <tr>\n",
       "      <th>3</th>\n",
       "      <td>Total Assets, Reported</td>\n",
       "      <td>0.039951</td>\n",
       "    </tr>\n",
       "    <tr>\n",
       "      <th>6</th>\n",
       "      <td>Total Revenue</td>\n",
       "      <td>0.036383</td>\n",
       "    </tr>\n",
       "    <tr>\n",
       "      <th>16</th>\n",
       "      <td>Revenue Per Employee</td>\n",
       "      <td>0.036202</td>\n",
       "    </tr>\n",
       "    <tr>\n",
       "      <th>11</th>\n",
       "      <td>P/E (Daily Time Series Ratio)</td>\n",
       "      <td>0.035936</td>\n",
       "    </tr>\n",
       "    <tr>\n",
       "      <th>7</th>\n",
       "      <td>Total Equity</td>\n",
       "      <td>0.035407</td>\n",
       "    </tr>\n",
       "    <tr>\n",
       "      <th>14</th>\n",
       "      <td>Debt-to-Equity Ratio</td>\n",
       "      <td>0.035397</td>\n",
       "    </tr>\n",
       "    <tr>\n",
       "      <th>0</th>\n",
       "      <td>Total Current Assets</td>\n",
       "      <td>0.034631</td>\n",
       "    </tr>\n",
       "    <tr>\n",
       "      <th>12</th>\n",
       "      <td>returns_yearly</td>\n",
       "      <td>0.034487</td>\n",
       "    </tr>\n",
       "    <tr>\n",
       "      <th>4</th>\n",
       "      <td>Net Income - Actual</td>\n",
       "      <td>0.033907</td>\n",
       "    </tr>\n",
       "    <tr>\n",
       "      <th>15</th>\n",
       "      <td>Return on Assets</td>\n",
       "      <td>0.027851</td>\n",
       "    </tr>\n",
       "    <tr>\n",
       "      <th>17</th>\n",
       "      <td>Return on Equity</td>\n",
       "      <td>0.027269</td>\n",
       "    </tr>\n",
       "    <tr>\n",
       "      <th>19</th>\n",
       "      <td>Net Income Margin</td>\n",
       "      <td>0.000000</td>\n",
       "    </tr>\n",
       "  </tbody>\n",
       "</table>\n",
       "</div>"
      ],
      "text/plain": [
       "                                              feature    scores\n",
       "1                           Total Current Liabilities  0.268600\n",
       "8   Total CO2 Equivalent Emissions To Revenues USD...  0.069345\n",
       "10        Property Plant And Equipment, Total - Gross  0.059614\n",
       "5                                   Revenue Per Share  0.057508\n",
       "18                               Asset Turnover Ratio  0.044282\n",
       "13                                      Current Ratio  0.041532\n",
       "2                                          Total Debt  0.041064\n",
       "9                       Company Market Capitalization  0.040635\n",
       "3                              Total Assets, Reported  0.039951\n",
       "6                                       Total Revenue  0.036383\n",
       "16                               Revenue Per Employee  0.036202\n",
       "11                      P/E (Daily Time Series Ratio)  0.035936\n",
       "7                                        Total Equity  0.035407\n",
       "14                               Debt-to-Equity Ratio  0.035397\n",
       "0                                Total Current Assets  0.034631\n",
       "12                                     returns_yearly  0.034487\n",
       "4                                 Net Income - Actual  0.033907\n",
       "15                                   Return on Assets  0.027851\n",
       "17                                   Return on Equity  0.027269\n",
       "19                                  Net Income Margin  0.000000"
      ]
     },
     "execution_count": 19,
     "metadata": {},
     "output_type": "execute_result"
    }
   ],
   "source": [
    "feature_importance_score = pd.DataFrame(data=  {\"feature\": data_with_outliers.drop(columns=['Unnamed: 0','RIC','Year','ESG Score']).columns,\n",
    "                                                   \"scores\" : list(rf.feature_importances_)})\n",
    "feature_importance_score.sort_values(by=\"scores\",ascending=False)"
   ]
  }
 ],
 "metadata": {
  "kernelspec": {
   "display_name": "SP_ESG_Pred",
   "language": "python",
   "name": "python3"
  },
  "language_info": {
   "codemirror_mode": {
    "name": "ipython",
    "version": 3
   },
   "file_extension": ".py",
   "mimetype": "text/x-python",
   "name": "python",
   "nbconvert_exporter": "python",
   "pygments_lexer": "ipython3",
   "version": "3.8.9"
  },
  "orig_nbformat": 4
 },
 "nbformat": 4,
 "nbformat_minor": 2
}
