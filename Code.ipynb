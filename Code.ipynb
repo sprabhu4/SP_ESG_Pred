{
 "cells": [
  {
   "cell_type": "markdown",
   "id": "8af7dc11",
   "metadata": {},
   "source": [
    "# ESG Score Prediction"
   ]
  },
  {
   "cell_type": "markdown",
   "id": "a460aaae",
   "metadata": {},
   "source": [
    "## Notebook Outline :\n",
    "\n",
    "1. Introduction (ESG Score, Calculation method, Factors - Summary based on the TR pdf)\n",
    "2. Data Explanation (Features - what they are)\n",
    "3. Data Processing - Outlier Detection, Feature Transformation \n",
    "4. EDA - Basic Insights\n",
    "6. Feature Selection/Importance\n",
    "5. Data Modelling"
   ]
  },
  {
   "attachments": {},
   "cell_type": "markdown",
   "id": "e70c0e7e",
   "metadata": {},
   "source": [
    "## 1. Introduction "
   ]
  },
  {
   "attachments": {},
   "cell_type": "markdown",
   "id": "ea7bb276",
   "metadata": {},
   "source": [
    "A financial statement lists the assets, liabilities and equity of a company at a specific point in time and is used to calculate the net worth of a business. A basic tenet of double-entry book-keeping is that total assets (what a business owns) must equal liabilities plus equity (how the assets are financed). In other words, the balance sheet must balance. Subtracting liabilities from assets shows the net worth of the business. \n",
    "\n",
    "How does ESG score come into picture in a business?\n",
    "(TBD by Aheli)\n"
   ]
  },
  {
   "attachments": {},
   "cell_type": "markdown",
   "id": "bc0dfb80",
   "metadata": {},
   "source": [
    "## 2. Data Explanation  "
   ]
  },
  {
   "attachments": {},
   "cell_type": "markdown",
   "id": "e4421f26",
   "metadata": {},
   "source": [
    "### Total Current Assets \n",
    "Current assets are cash or its equivalent or those assets that will be used by the business in a year or less\n",
    "\n",
    "### Total Current Liabilities \n",
    "Debts that are due in one year or less are classified as current liabilities. If they're due in more than one year, they're long-term liabilities.\n",
    "\n",
    "### Total Debt \n",
    "Total debt refers to the sum of borrowed money that your business owes. It’s calculated by adding together your current and long-term liabilities.\n",
    "\n",
    "### Total Assets Reported \n",
    "\"Total long-term assets\" is the sum of capital and plant, investments, and miscellaneous assets.\n",
    "\"Total assets\" is the sum of total current assets and total long-term assets\n",
    "\n",
    "### Net Income - Actual \n",
    "Net income refers to the amount an individual or business makes after deducting costs, allowances and taxes.\n",
    "In commerce, net income is what the business has left over after all expenses, including salary and wages, cost of goods or raw material and taxes. \n",
    "\n",
    "### Revenue Per Share\n",
    "1. Earnings per share (EPS) is a company's net profit divided by the number of common shares it has outstanding.\n",
    "2. EPS indicates how much money a company makes for each share of its stock and is a widely used metric for estimating corporate value.\n",
    "3. A higher EPS indicates greater value because investors will pay more for a company's shares if they think the company has higher profits relative to its share price.\n",
    "4. EPS can be arrived at in several forms, such as excluding extraordinary items or discontinued operations, or on a diluted basis.\n",
    "5. Like other financial metrics, earnings per share is most valuable when compared against competitor metrics, companies of the same industry, or across a period of time.\n",
    "\n",
    "### Total Revenue \n",
    "Total revenue is the amount of money a company brings in from selling its goods and services. In other words, company's use this metric to determine how well they're generating money from their core revenue-driving operations.\n",
    "\n",
    "### Total Equity \n",
    "The total equity of a business is derived by subtracting its liabilities from its assets. The information for this calculation can be found on a company's balance sheet, which is one of its financial statements. \n",
    "An alternative approach for calculating total equity is to add up all of the line items in the stockholders' equity section of the balance sheet, which is comprised of common stock, additional paid-in capital, and retained earnings, minus treasury stock.\n",
    "In essence, total equity is the amount invested in a company by investors in exchange for stock, plus all subsequent earnings of the business, minus all subsequent dividends paid out. Many smaller businesses are strapped for cash and so have never paid any dividends. In their case, total equity is simply invested funds plus all subsequent earnings.\n",
    "\n",
    "### Company Market Capitilization \n",
    "Market cap—or market capitalization—refers to the total value of all a company's shares of stock. It is calculated by multiplying the price of a stock by its total number of outstanding shares. For example, a company with 20 million shares selling at $50 a share would have a market cap of $1 billion.\n",
    "\n",
    "Why is market capitalization such an important concept? It allows investors to understand the relative size of one company versus another. Market cap measures what a company is worth on the open market, as well as the market's perception of its future prospects, because it reflects what investors are willing to pay for its stock.\n",
    "\n",
    "### Property Plant And Equipment, Total - Gross\n",
    "Carrying amount at the balance sheet date for long-lived physical assets used in the normal conduct of business and not intended for resale. This can include land, physical structures, machinery, vehicles, furniture, computer equipment, construction in progress, and similar items.\n",
    "\n",
    "### P/E Ratio\n",
    "The price/earnings (P/E) ratio, also known as an “earnings multiple,” is one of the most popular valuation measures used by investors and analysts. The basic definition of a P/E ratio is stock price divided by earnings per share (EPS)\n"
   ]
  },
  {
   "attachments": {},
   "cell_type": "markdown",
   "id": "7362186c",
   "metadata": {},
   "source": [
    "## 3. Data Exploration"
   ]
  },
  {
   "cell_type": "code",
   "execution_count": 1,
   "id": "e85e4907",
   "metadata": {},
   "outputs": [],
   "source": [
    "import pandas as pd\n",
    "import matplotlib.pyplot as plt\n",
    "import seaborn as sns"
   ]
  },
  {
   "cell_type": "code",
   "execution_count": 2,
   "id": "fc160a67",
   "metadata": {},
   "outputs": [],
   "source": [
    "df_firm = pd.read_csv(\"Firm_Data.csv\")"
   ]
  },
  {
   "cell_type": "code",
   "execution_count": 3,
   "id": "be7e8b13",
   "metadata": {},
   "outputs": [
    {
     "data": {
      "text/html": [
       "<div>\n",
       "<style scoped>\n",
       "    .dataframe tbody tr th:only-of-type {\n",
       "        vertical-align: middle;\n",
       "    }\n",
       "\n",
       "    .dataframe tbody tr th {\n",
       "        vertical-align: top;\n",
       "    }\n",
       "\n",
       "    .dataframe thead th {\n",
       "        text-align: right;\n",
       "    }\n",
       "</style>\n",
       "<table border=\"1\" class=\"dataframe\">\n",
       "  <thead>\n",
       "    <tr style=\"text-align: right;\">\n",
       "      <th></th>\n",
       "      <th>RIC</th>\n",
       "      <th>Date</th>\n",
       "      <th>Total Current Assets</th>\n",
       "      <th>Total Current Liabilities</th>\n",
       "      <th>Total Debt</th>\n",
       "      <th>Total Assets, Reported</th>\n",
       "      <th>Net Income - Actual</th>\n",
       "      <th>Revenue Per Share</th>\n",
       "      <th>Total Revenue</th>\n",
       "      <th>Total Equity</th>\n",
       "      <th>Total CO2 Equivalent Emissions To Revenues USD in million</th>\n",
       "      <th>ESG Score</th>\n",
       "      <th>Social Pillar Score</th>\n",
       "      <th>Governance Pillar Score</th>\n",
       "      <th>Environmental Pillar Score</th>\n",
       "      <th>Company Market Capitalization</th>\n",
       "      <th>Property Plant And Equipment, Total - Gross</th>\n",
       "      <th>P/E (Daily Time Series Ratio)</th>\n",
       "    </tr>\n",
       "  </thead>\n",
       "  <tbody>\n",
       "    <tr>\n",
       "      <th>0</th>\n",
       "      <td>BVIC.L</td>\n",
       "      <td>31/12/2009</td>\n",
       "      <td>434.373405</td>\n",
       "      <td>483.824655</td>\n",
       "      <td>718.957376</td>\n",
       "      <td>1361.504594</td>\n",
       "      <td>107.309409</td>\n",
       "      <td>7.068281</td>\n",
       "      <td>1561.383359</td>\n",
       "      <td>-3.988004</td>\n",
       "      <td>NaN</td>\n",
       "      <td>51.267135</td>\n",
       "      <td>45.539754</td>\n",
       "      <td>59.077651</td>\n",
       "      <td>53.535053</td>\n",
       "      <td>1430.561330</td>\n",
       "      <td>817.381317</td>\n",
       "      <td>19.299905</td>\n",
       "    </tr>\n",
       "    <tr>\n",
       "      <th>1</th>\n",
       "      <td>BVIC.L</td>\n",
       "      <td>31/12/2010</td>\n",
       "      <td>579.778906</td>\n",
       "      <td>580.095207</td>\n",
       "      <td>901.298414</td>\n",
       "      <td>1655.358922</td>\n",
       "      <td>139.656087</td>\n",
       "      <td>8.006665</td>\n",
       "      <td>1800.699024</td>\n",
       "      <td>-48.552134</td>\n",
       "      <td>NaN</td>\n",
       "      <td>50.550242</td>\n",
       "      <td>57.622888</td>\n",
       "      <td>31.890959</td>\n",
       "      <td>55.261467</td>\n",
       "      <td>1772.376566</td>\n",
       "      <td>889.120843</td>\n",
       "      <td>16.927900</td>\n",
       "    </tr>\n",
       "    <tr>\n",
       "      <th>2</th>\n",
       "      <td>BVIC.L</td>\n",
       "      <td>31/12/2011</td>\n",
       "      <td>598.968478</td>\n",
       "      <td>607.694345</td>\n",
       "      <td>893.154869</td>\n",
       "      <td>1660.096296</td>\n",
       "      <td>122.255528</td>\n",
       "      <td>7.912984</td>\n",
       "      <td>2010.689188</td>\n",
       "      <td>35.059289</td>\n",
       "      <td>NaN</td>\n",
       "      <td>46.732870</td>\n",
       "      <td>57.397993</td>\n",
       "      <td>28.924942</td>\n",
       "      <td>45.229496</td>\n",
       "      <td>1205.126197</td>\n",
       "      <td>836.280911</td>\n",
       "      <td>13.534436</td>\n",
       "    </tr>\n",
       "    <tr>\n",
       "      <th>3</th>\n",
       "      <td>BVIC.L</td>\n",
       "      <td>31/12/2012</td>\n",
       "      <td>615.523874</td>\n",
       "      <td>601.137943</td>\n",
       "      <td>907.121844</td>\n",
       "      <td>1658.099764</td>\n",
       "      <td>100.765756</td>\n",
       "      <td>7.914423</td>\n",
       "      <td>2030.840850</td>\n",
       "      <td>59.968319</td>\n",
       "      <td>NaN</td>\n",
       "      <td>57.941343</td>\n",
       "      <td>70.633040</td>\n",
       "      <td>37.216902</td>\n",
       "      <td>55.762859</td>\n",
       "      <td>1603.272359</td>\n",
       "      <td>872.046035</td>\n",
       "      <td>18.363571</td>\n",
       "    </tr>\n",
       "    <tr>\n",
       "      <th>4</th>\n",
       "      <td>BVIC.L</td>\n",
       "      <td>31/12/2013</td>\n",
       "      <td>748.229068</td>\n",
       "      <td>814.064189</td>\n",
       "      <td>895.874010</td>\n",
       "      <td>1714.940377</td>\n",
       "      <td>133.919162</td>\n",
       "      <td>8.716901</td>\n",
       "      <td>2133.025672</td>\n",
       "      <td>65.996482</td>\n",
       "      <td>31.296503</td>\n",
       "      <td>49.513243</td>\n",
       "      <td>52.778937</td>\n",
       "      <td>33.146107</td>\n",
       "      <td>58.148148</td>\n",
       "      <td>2819.919676</td>\n",
       "      <td>907.653333</td>\n",
       "      <td>27.421399</td>\n",
       "    </tr>\n",
       "  </tbody>\n",
       "</table>\n",
       "</div>"
      ],
      "text/plain": [
       "      RIC        Date  Total Current Assets  Total Current Liabilities  \\\n",
       "0  BVIC.L  31/12/2009            434.373405                 483.824655   \n",
       "1  BVIC.L  31/12/2010            579.778906                 580.095207   \n",
       "2  BVIC.L  31/12/2011            598.968478                 607.694345   \n",
       "3  BVIC.L  31/12/2012            615.523874                 601.137943   \n",
       "4  BVIC.L  31/12/2013            748.229068                 814.064189   \n",
       "\n",
       "   Total Debt  Total Assets, Reported  Net Income - Actual  Revenue Per Share  \\\n",
       "0  718.957376             1361.504594           107.309409           7.068281   \n",
       "1  901.298414             1655.358922           139.656087           8.006665   \n",
       "2  893.154869             1660.096296           122.255528           7.912984   \n",
       "3  907.121844             1658.099764           100.765756           7.914423   \n",
       "4  895.874010             1714.940377           133.919162           8.716901   \n",
       "\n",
       "   Total Revenue  Total Equity  \\\n",
       "0    1561.383359     -3.988004   \n",
       "1    1800.699024    -48.552134   \n",
       "2    2010.689188     35.059289   \n",
       "3    2030.840850     59.968319   \n",
       "4    2133.025672     65.996482   \n",
       "\n",
       "   Total CO2 Equivalent Emissions To Revenues USD in million  ESG Score  \\\n",
       "0                                                NaN          51.267135   \n",
       "1                                                NaN          50.550242   \n",
       "2                                                NaN          46.732870   \n",
       "3                                                NaN          57.941343   \n",
       "4                                          31.296503          49.513243   \n",
       "\n",
       "   Social Pillar Score  Governance Pillar Score  Environmental Pillar Score  \\\n",
       "0            45.539754                59.077651                   53.535053   \n",
       "1            57.622888                31.890959                   55.261467   \n",
       "2            57.397993                28.924942                   45.229496   \n",
       "3            70.633040                37.216902                   55.762859   \n",
       "4            52.778937                33.146107                   58.148148   \n",
       "\n",
       "   Company Market Capitalization  Property Plant And Equipment, Total - Gross  \\\n",
       "0                    1430.561330                                   817.381317   \n",
       "1                    1772.376566                                   889.120843   \n",
       "2                    1205.126197                                   836.280911   \n",
       "3                    1603.272359                                   872.046035   \n",
       "4                    2819.919676                                   907.653333   \n",
       "\n",
       "   P/E (Daily Time Series Ratio)  \n",
       "0                      19.299905  \n",
       "1                      16.927900  \n",
       "2                      13.534436  \n",
       "3                      18.363571  \n",
       "4                      27.421399  "
      ]
     },
     "execution_count": 3,
     "metadata": {},
     "output_type": "execute_result"
    }
   ],
   "source": [
    "df_firm.head()"
   ]
  },
  {
   "cell_type": "code",
   "execution_count": 4,
   "id": "3e579816",
   "metadata": {
    "scrolled": true
   },
   "outputs": [
    {
     "data": {
      "text/plain": [
       "(24479, 18)"
      ]
     },
     "execution_count": 4,
     "metadata": {},
     "output_type": "execute_result"
    }
   ],
   "source": [
    "df_firm.shape"
   ]
  },
  {
   "cell_type": "code",
   "execution_count": 5,
   "id": "21147a0a",
   "metadata": {},
   "outputs": [
    {
     "data": {
      "text/plain": [
       "Index(['RIC', 'Date', 'Total Current Assets', 'Total Current Liabilities',\n",
       "       'Total Debt', 'Total Assets, Reported', 'Net Income - Actual',\n",
       "       'Revenue Per Share', 'Total Revenue', 'Total Equity',\n",
       "       'Total CO2 Equivalent Emissions To Revenues USD in million',\n",
       "       'ESG Score', 'Social Pillar Score', 'Governance Pillar Score',\n",
       "       'Environmental Pillar Score', 'Company Market Capitalization',\n",
       "       'Property Plant And Equipment, Total - Gross',\n",
       "       'P/E (Daily Time Series Ratio)'],\n",
       "      dtype='object')"
      ]
     },
     "execution_count": 5,
     "metadata": {},
     "output_type": "execute_result"
    }
   ],
   "source": [
    "df_firm.columns"
   ]
  },
  {
   "cell_type": "code",
   "execution_count": 6,
   "id": "cd46bbbd",
   "metadata": {},
   "outputs": [],
   "source": [
    "# Lets rename some columns\n",
    "df_firm.rename(\n",
    "    columns={\n",
    "        \"Total CO2 Equivalent Emissions To Revenues USD in million\": \"CO2 Emissions\",\n",
    "        \"Property Plant And Equipment, Total - Gross\": \"PPE Total\",\n",
    "    },\n",
    "    inplace=True,\n",
    ")"
   ]
  },
  {
   "cell_type": "code",
   "execution_count": 7,
   "id": "7278305b",
   "metadata": {},
   "outputs": [
    {
     "name": "stdout",
     "output_type": "stream",
     "text": [
      "<class 'pandas.core.frame.DataFrame'>\n",
      "RangeIndex: 24479 entries, 0 to 24478\n",
      "Data columns (total 18 columns):\n",
      " #   Column                         Non-Null Count  Dtype  \n",
      "---  ------                         --------------  -----  \n",
      " 0   RIC                            24479 non-null  object \n",
      " 1   Date                           24479 non-null  object \n",
      " 2   Total Current Assets           22689 non-null  float64\n",
      " 3   Total Current Liabilities      22681 non-null  float64\n",
      " 4   Total Debt                     23628 non-null  float64\n",
      " 5   Total Assets, Reported         23663 non-null  float64\n",
      " 6   Net Income - Actual            21343 non-null  float64\n",
      " 7   Revenue Per Share              23617 non-null  float64\n",
      " 8   Total Revenue                  23718 non-null  float64\n",
      " 9   Total Equity                   23640 non-null  float64\n",
      " 10  CO2 Emissions                  14408 non-null  float64\n",
      " 11  ESG Score                      17762 non-null  float64\n",
      " 12  Social Pillar Score            17761 non-null  float64\n",
      " 13  Governance Pillar Score        17762 non-null  float64\n",
      " 14  Environmental Pillar Score     17761 non-null  float64\n",
      " 15  Company Market Capitalization  22639 non-null  float64\n",
      " 16  PPE Total                      22116 non-null  float64\n",
      " 17  P/E (Daily Time Series Ratio)  19110 non-null  float64\n",
      "dtypes: float64(16), object(2)\n",
      "memory usage: 3.4+ MB\n"
     ]
    }
   ],
   "source": [
    "df_firm.info()"
   ]
  },
  {
   "cell_type": "markdown",
   "id": "3df04892",
   "metadata": {},
   "source": [
    "#### Share of Null Values in the data"
   ]
  },
  {
   "cell_type": "code",
   "execution_count": 8,
   "id": "4aaf530d",
   "metadata": {
    "scrolled": true
   },
   "outputs": [
    {
     "data": {
      "text/plain": [
       "RIC                               0.000000\n",
       "Date                              0.000000\n",
       "Total Current Assets              7.312390\n",
       "Total Current Liabilities         7.345071\n",
       "Total Debt                        3.476449\n",
       "Total Assets, Reported            3.333470\n",
       "Net Income - Actual              12.810981\n",
       "Revenue Per Share                 3.521386\n",
       "Total Revenue                     3.108787\n",
       "Total Equity                      3.427428\n",
       "CO2 Emissions                    41.141386\n",
       "ESG Score                        27.439846\n",
       "Social Pillar Score              27.443932\n",
       "Governance Pillar Score          27.439846\n",
       "Environmental Pillar Score       27.443932\n",
       "Company Market Capitalization     7.516647\n",
       "PPE Total                         9.653172\n",
       "P/E (Daily Time Series Ratio)    21.933086\n",
       "dtype: float64"
      ]
     },
     "execution_count": 8,
     "metadata": {},
     "output_type": "execute_result"
    }
   ],
   "source": [
    "df_firm.isnull().sum() / len(df_firm) * 100"
   ]
  },
  {
   "attachments": {},
   "cell_type": "markdown",
   "id": "ea40a1d0",
   "metadata": {},
   "source": [
    "Lets remove rows where ESG score is null"
   ]
  },
  {
   "cell_type": "code",
   "execution_count": 9,
   "id": "89a06065",
   "metadata": {},
   "outputs": [
    {
     "data": {
      "text/plain": [
       "(17762, 18)"
      ]
     },
     "execution_count": 9,
     "metadata": {},
     "output_type": "execute_result"
    }
   ],
   "source": [
    "df_firm = df_firm[df_firm[\"ESG Score\"].notna()]\n",
    "df_firm.shape"
   ]
  },
  {
   "cell_type": "code",
   "execution_count": 10,
   "id": "13c9ca73",
   "metadata": {},
   "outputs": [
    {
     "data": {
      "text/plain": [
       "RIC                               0.000000\n",
       "Date                              0.000000\n",
       "Total Current Assets              4.081748\n",
       "Total Current Liabilities         4.081748\n",
       "Total Debt                        0.090080\n",
       "Total Assets, Reported            0.095710\n",
       "Net Income - Actual               3.704538\n",
       "Revenue Per Share                 0.258980\n",
       "Total Revenue                     0.090080\n",
       "Total Equity                      0.095710\n",
       "CO2 Emissions                    18.883009\n",
       "ESG Score                         0.000000\n",
       "Social Pillar Score               0.005630\n",
       "Governance Pillar Score           0.000000\n",
       "Environmental Pillar Score        0.005630\n",
       "Company Market Capitalization     0.805090\n",
       "PPE Total                         5.601847\n",
       "P/E (Daily Time Series Ratio)    15.611981\n",
       "dtype: float64"
      ]
     },
     "execution_count": 10,
     "metadata": {},
     "output_type": "execute_result"
    }
   ],
   "source": [
    "df_firm.isnull().sum() / len(df_firm) * 100"
   ]
  },
  {
   "cell_type": "markdown",
   "id": "d3d6e4cc",
   "metadata": {},
   "source": [
    "#### Outliers "
   ]
  },
  {
   "attachments": {},
   "cell_type": "markdown",
   "id": "218c0918",
   "metadata": {},
   "source": [
    "Note: Clearly there are some extreme values. However, the question is whether these values are outliers or real-world values "
   ]
  },
  {
   "cell_type": "code",
   "execution_count": null,
   "id": "19abaa65",
   "metadata": {},
   "outputs": [],
   "source": [
    "df_firm.describe(\n",
    "    [0.1, 0.2, 0.4, 0.5, 0.6, 0.7, 0.8, 0.9, 0.95, 0.97, 0.99, 0.999]\n",
    ")"
   ]
  },
  {
   "cell_type": "markdown",
   "id": "85bcf566",
   "metadata": {},
   "source": [
    "#### Visualising the distribution "
   ]
  },
  {
   "attachments": {},
   "cell_type": "markdown",
   "id": "265b8d54",
   "metadata": {},
   "source": [
    "##### Correlation heatmaps"
   ]
  },
  {
   "attachments": {},
   "cell_type": "markdown",
   "id": "25d03d10",
   "metadata": {},
   "source": [
    "It is clear from the heatmap that there is a strong correlation between the following features :\n",
    "\n",
    "(We look into correlation values >= 0.8)\n",
    "\n",
    "1. Total Current Assets - Total Current Liabilities - Total Debt - Total Assets, Reported\n",
    "2. Total Equity - Total Assests, Reported"
   ]
  },
  {
   "cell_type": "code",
   "execution_count": null,
   "id": "fb14d161",
   "metadata": {},
   "outputs": [],
   "source": [
    "columns = [\n",
    "    \"Total Current Assets\",\n",
    "    \"Total Current Liabilities\",\n",
    "    \"Total Debt\",\n",
    "    \"Total Assets, Reported\",\n",
    "    \"Net Income - Actual\",\n",
    "    \"Total Revenue\",\n",
    "    \"Total Equity\",\n",
    "    \"ESG Score\",\n",
    "]"
   ]
  },
  {
   "cell_type": "code",
   "execution_count": null,
   "id": "be70ab87",
   "metadata": {},
   "outputs": [],
   "source": [
    "cormat = df_firm[columns].corr()\n",
    "sns.heatmap(cormat, annot=True)\n",
    "plt.figure(figsize=(20, 20))\n",
    "plt.show()"
   ]
  },
  {
   "attachments": {},
   "cell_type": "markdown",
   "id": "3fbfbd99",
   "metadata": {},
   "source": [
    "It is clear from the heatmap that none of these features are correlated among each other"
   ]
  },
  {
   "cell_type": "code",
   "execution_count": null,
   "id": "a548ed8a",
   "metadata": {},
   "outputs": [],
   "source": [
    "columns = [\n",
    "    \"Revenue Per Share\",\n",
    "    \"CO2 Emissions\",\n",
    "    \"Company Market Capitalization\",\n",
    "    \"PPE Total\",\n",
    "    \"P/E (Daily Time Series Ratio)\",\n",
    "    \"ESG Score\",\n",
    "]"
   ]
  },
  {
   "cell_type": "code",
   "execution_count": null,
   "id": "706df270",
   "metadata": {},
   "outputs": [],
   "source": [
    "cormat = df_firm[columns].corr()\n",
    "sns.heatmap(cormat, annot=True)\n",
    "plt.figure(figsize=(20, 20))\n",
    "plt.show()"
   ]
  },
  {
   "cell_type": "code",
   "execution_count": null,
   "id": "5266a6b2",
   "metadata": {},
   "outputs": [],
   "source": [
    "columns = [\n",
    "    \"Total Current Assets\",\n",
    "    \"Total Current Liabilities\",\n",
    "    \"Total Debt\",\n",
    "    \"Total Assets, Reported\",\n",
    "    \"Total Revenue\",\n",
    "    \"Total Equity\",\n",
    "    \"Net Income - Actual\",\n",
    "    \"PPE Total\",\n",
    "    \"Revenue Per Share\",\n",
    "    \"CO2 Emissions\",\n",
    "    \"Company Market Capitalization\",\n",
    "    \"P/E (Daily Time Series Ratio)\",\n",
    "]"
   ]
  },
  {
   "cell_type": "code",
   "execution_count": null,
   "id": "e2c20bc3",
   "metadata": {},
   "outputs": [],
   "source": [
    "cormat = df_firm[columns].corr()\n",
    "sns.heatmap(cormat, annot=True, fmt=\".1f\")\n",
    "plt.figure(figsize=(30, 30))\n",
    "plt.show()"
   ]
  },
  {
   "attachments": {},
   "cell_type": "markdown",
   "id": "59dcceef",
   "metadata": {},
   "source": [
    "#### Data Imputation"
   ]
  },
  {
   "cell_type": "code",
   "execution_count": 12,
   "id": "f0aedb1e",
   "metadata": {},
   "outputs": [],
   "source": [
    "columns_to_impute = [\n",
    "    \"Total Current Assets\",\n",
    "    \"Total Current Liabilities\",\n",
    "    \"Total Debt\",\n",
    "    \"Total Assets, Reported\",\n",
    "    \"Net Income - Actual\",\n",
    "    \"Revenue Per Share\",\n",
    "    \"Total Revenue\",\n",
    "    \"Total Equity\",\n",
    "    \"CO2 Emissions\",\n",
    "    \"Company Market Capitalization\",\n",
    "    \"PPE Total\",\n",
    "    \"P/E (Daily Time Series Ratio)\",\n",
    "]"
   ]
  },
  {
   "cell_type": "code",
   "execution_count": 14,
   "id": "187e24bb",
   "metadata": {},
   "outputs": [],
   "source": [
    "df_firm = df_firm.dropna(\n",
    "    subset=columns_to_impute,\n",
    "    how=\"all\",\n",
    ")"
   ]
  },
  {
   "cell_type": "code",
   "execution_count": 15,
   "id": "bdc77841",
   "metadata": {},
   "outputs": [
    {
     "data": {
      "text/plain": [
       "(17760, 18)"
      ]
     },
     "execution_count": 15,
     "metadata": {},
     "output_type": "execute_result"
    }
   ],
   "source": [
    "df_firm.shape"
   ]
  },
  {
   "cell_type": "code",
   "execution_count": 16,
   "id": "9c097119",
   "metadata": {},
   "outputs": [
    {
     "name": "stderr",
     "output_type": "stream",
     "text": [
      "/var/folders/85/38gqqh4n5fx2l8tcp2c0412x0md1yy/T/ipykernel_85128/4244186801.py:1: SettingWithCopyWarning: \n",
      "A value is trying to be set on a copy of a slice from a DataFrame.\n",
      "Try using .loc[row_indexer,col_indexer] = value instead\n",
      "\n",
      "See the caveats in the documentation: https://pandas.pydata.org/pandas-docs/stable/user_guide/indexing.html#returning-a-view-versus-a-copy\n",
      "  df_firm[columns_to_impute] = df_firm.groupby(['RIC'])[columns_to_impute]\\\n"
     ]
    }
   ],
   "source": [
    "df_firm[columns_to_impute] = df_firm.groupby([\"RIC\"])[\n",
    "    columns_to_impute\n",
    "].transform(lambda x: x.fillna(x.mean()))"
   ]
  },
  {
   "cell_type": "code",
   "execution_count": 17,
   "id": "e9779b64",
   "metadata": {},
   "outputs": [
    {
     "data": {
      "text/plain": [
       "(17760, 18)"
      ]
     },
     "execution_count": 17,
     "metadata": {},
     "output_type": "execute_result"
    }
   ],
   "source": [
    "df_firm.shape"
   ]
  },
  {
   "cell_type": "code",
   "execution_count": 21,
   "id": "57991f99",
   "metadata": {},
   "outputs": [
    {
     "data": {
      "text/plain": [
       "RIC                                0\n",
       "Date                               0\n",
       "Total Current Assets             695\n",
       "Total Current Liabilities        695\n",
       "Total Debt                         0\n",
       "Total Assets, Reported             0\n",
       "Net Income - Actual              106\n",
       "Revenue Per Share                  0\n",
       "Total Revenue                      0\n",
       "Total Equity                       0\n",
       "CO2 Emissions                     10\n",
       "ESG Score                          0\n",
       "Social Pillar Score                1\n",
       "Governance Pillar Score            0\n",
       "Environmental Pillar Score         1\n",
       "Company Market Capitalization      0\n",
       "PPE Total                          0\n",
       "P/E (Daily Time Series Ratio)    123\n",
       "dtype: int64"
      ]
     },
     "execution_count": 21,
     "metadata": {},
     "output_type": "execute_result"
    }
   ],
   "source": [
    "df_firm[df_firm['PPE Total'].notna()].isna().sum()"
   ]
  },
  {
   "cell_type": "code",
   "execution_count": 23,
   "id": "c56015b5",
   "metadata": {},
   "outputs": [
    {
     "name": "stderr",
     "output_type": "stream",
     "text": [
      "/var/folders/85/38gqqh4n5fx2l8tcp2c0412x0md1yy/T/ipykernel_85128/2349518347.py:1: FutureWarning: The default value of numeric_only in DataFrame.mean is deprecated. In a future version, it will default to False. In addition, specifying 'numeric_only=None' is deprecated. Select only valid columns or specify the value of numeric_only to silence this warning.\n",
      "  df_firm=df_firm.fillna(df_firm.mean())\n"
     ]
    }
   ],
   "source": [
    "df_firm=df_firm.fillna(df_firm.mean())"
   ]
  },
  {
   "cell_type": "code",
   "execution_count": 24,
   "id": "88380bed",
   "metadata": {},
   "outputs": [
    {
     "data": {
      "text/plain": [
       "RIC                              0\n",
       "Date                             0\n",
       "Total Current Assets             0\n",
       "Total Current Liabilities        0\n",
       "Total Debt                       0\n",
       "Total Assets, Reported           0\n",
       "Net Income - Actual              0\n",
       "Revenue Per Share                0\n",
       "Total Revenue                    0\n",
       "Total Equity                     0\n",
       "CO2 Emissions                    0\n",
       "ESG Score                        0\n",
       "Social Pillar Score              0\n",
       "Governance Pillar Score          0\n",
       "Environmental Pillar Score       0\n",
       "Company Market Capitalization    0\n",
       "PPE Total                        0\n",
       "P/E (Daily Time Series Ratio)    0\n",
       "dtype: int64"
      ]
     },
     "execution_count": 24,
     "metadata": {},
     "output_type": "execute_result"
    }
   ],
   "source": [
    "df_firm[df_firm['PPE Total'].notna()].isna().sum()"
   ]
  },
  {
   "attachments": {},
   "cell_type": "markdown",
   "id": "203b41c5",
   "metadata": {},
   "source": [
    "#### Simple Linear Regression"
   ]
  },
  {
   "cell_type": "code",
   "execution_count": 51,
   "id": "1dffa1d2",
   "metadata": {},
   "outputs": [],
   "source": [
    "from sklearn.metrics import mean_squared_error, mean_absolute_error, r2_score\n",
    "from sklearn.linear_model import LinearRegression\n",
    "from sklearn.model_selection import train_test_split\n",
    "from sklearn.preprocessing import MinMaxScaler\n",
    "from sklearn.model_selection import cross_val_score\n",
    "from sklearn.model_selection import KFold"
   ]
  },
  {
   "cell_type": "code",
   "execution_count": 55,
   "id": "dc84e904",
   "metadata": {},
   "outputs": [],
   "source": [
    "columns_selected = [\n",
    "    \"Total Equity\",\n",
    "    \"CO2 Emissions\",\n",
    "    \"Company Market Capitalization\",\n",
    "    \"PPE Total\",\n",
    "    \"P/E (Daily Time Series Ratio)\",\n",
    "]"
   ]
  },
  {
   "cell_type": "code",
   "execution_count": 56,
   "id": "e6da754b",
   "metadata": {},
   "outputs": [],
   "source": [
    "X = df_firm[columns_selected]\n",
    "y = df_firm['ESG Score']"
   ]
  },
  {
   "cell_type": "code",
   "execution_count": 57,
   "id": "9d978ef4",
   "metadata": {},
   "outputs": [],
   "source": [
    "# rescale the features\n",
    "scaler = MinMaxScaler()\n",
    "\n",
    "# apply scaler() to all the numeric columns \n",
    "X = scaler.fit_transform(X)"
   ]
  },
  {
   "cell_type": "code",
   "execution_count": 58,
   "id": "7a0f1842",
   "metadata": {},
   "outputs": [],
   "source": [
    "X_train, X_test, y_train, y_test = train_test_split(X, y, test_size=0.33, random_state=42)"
   ]
  },
  {
   "cell_type": "code",
   "execution_count": 59,
   "id": "6f16bee0",
   "metadata": {},
   "outputs": [
    {
     "name": "stdout",
     "output_type": "stream",
     "text": [
      "mean_squared_error :  328.77697789769456\n",
      "mean_absolute_error :  14.942169409978684\n"
     ]
    }
   ],
   "source": [
    "model = LinearRegression()\n",
    "model.fit(X_train,y_train)\n",
    "y_pred = model.predict(X_test)\n",
    "# model evaluation\n",
    "print(\n",
    "  'mean_squared_error : ', mean_squared_error(y_test, y_pred))\n",
    "print(\n",
    "  'mean_absolute_error : ', mean_absolute_error(y_test, y_pred))"
   ]
  },
  {
   "cell_type": "code",
   "execution_count": 60,
   "id": "0174e87d",
   "metadata": {},
   "outputs": [
    {
     "data": {
      "text/plain": [
       "array([0.07562335, 0.08329892, 0.09090981, 0.07984194, 0.0562524 ])"
      ]
     },
     "execution_count": 60,
     "metadata": {},
     "output_type": "execute_result"
    }
   ],
   "source": [
    "# create a KFold object with 5 splits \n",
    "folds = KFold(n_splits = 5, shuffle = True, random_state = 100)\n",
    "scores = cross_val_score(model, X_train, y_train, scoring='r2', cv=folds)\n",
    "scores  "
   ]
  },
  {
   "cell_type": "code",
   "execution_count": null,
   "id": "60daf7fa",
   "metadata": {},
   "outputs": [],
   "source": []
  }
 ],
 "metadata": {
  "kernelspec": {
   "display_name": "Python 3",
   "language": "python",
   "name": "python3"
  },
  "language_info": {
   "codemirror_mode": {
    "name": "ipython",
    "version": 3
   },
   "file_extension": ".py",
   "mimetype": "text/x-python",
   "name": "python",
   "nbconvert_exporter": "python",
   "pygments_lexer": "ipython3",
   "version": "3.8.9"
  }
 },
 "nbformat": 4,
 "nbformat_minor": 5
}
