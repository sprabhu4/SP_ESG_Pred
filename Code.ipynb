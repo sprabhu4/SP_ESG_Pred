{
 "cells": [
  {
   "cell_type": "markdown",
   "id": "8af7dc11",
   "metadata": {},
   "source": [
    "# ESG Score Prediction"
   ]
  },
  {
   "cell_type": "markdown",
   "id": "a460aaae",
   "metadata": {},
   "source": [
    "## Notebook Outline :\n",
    "\n",
    "1. Introduction (ESG Score, Calculation method, Factors - Summary based on the TR pdf)\n",
    "2. Data Explanation (Features - what they are)\n",
    "3. Data Processing - Outlier Detection, Feature Transformation \n",
    "4. EDA - Basic Insights\n",
    "6. Feature Selection/Importance\n",
    "5. Data Modelling"
   ]
  },
  {
   "attachments": {},
   "cell_type": "markdown",
   "id": "ddcbb214",
   "metadata": {},
   "source": [
    "# Introduction"
   ]
  },
  {
   "attachments": {},
   "cell_type": "markdown",
   "id": "d5b66f0d",
   "metadata": {},
   "source": [
    "### ESG Score"
   ]
  },
  {
   "attachments": {},
   "cell_type": "markdown",
   "id": "72ece707",
   "metadata": {},
   "source": [
    "Environmental, social and governance score is a way of measuring important parameters of a company to evaluate its sustainibility. It is available in both percentages and letter grades (D- to A+). Thomas Reuters ESG scores was designed to measure a company's ESG performance based on several themes such as emissions, environmental\n",
    "product innovation, human rights, shareholders, etc. This uses publicly available data from around 6000 public companies and around 400 ESG metrics. "
   ]
  },
  {
   "attachments": {},
   "cell_type": "markdown",
   "id": "103c82dc",
   "metadata": {},
   "source": [
    "### Factors "
   ]
  },
  {
   "attachments": {},
   "cell_type": "markdown",
   "id": "9addcc2c",
   "metadata": {},
   "source": [
    "The ESG score is based on a number of different factors.\n",
    "<br> • Environmental factors include resource use, emissions, innovations, etc. \n",
    "<br> • Social factors include workforce, human rights, community etc. \n",
    "<br> • Governance factors include management, share holders, CSR strategy etc. "
   ]
  },
  {
   "attachments": {},
   "cell_type": "markdown",
   "id": "337f7e4b",
   "metadata": {},
   "source": [
    "### Calculation Method"
   ]
  },
  {
   "attachments": {},
   "cell_type": "markdown",
   "id": "c49fe28c",
   "metadata": {},
   "source": [
    "The calculation of the overall ESG score is based on two kinds of ESG scores.\n",
    "\n",
    "\n",
    "Thomas Reuters ESG score - Out of publicly reported company data, 400 ESG measures are calculatd. Out of this, 178 data points are selected for the scoring process. It is then grouped into 10 categories. \n",
    "\n",
    "Thomas Reuters ESG Controversy score - The controversy category score is based on a list of 23 controversy topics. It is a comprehensive measure of the company's ESG performance relative to negative media stories captured from global media. \n",
    "\n",
    "The ESG Score Calculation Methodology:\n",
    "\n",
    "Percentile Rank Method is used to calculate the scores. It is based on three factors:\n",
    "<br> • How many companies have the same value?\n",
    "<br> • How many companies have a value at all?\n",
    "<br> • How many companies are worse than the current one?\n",
    "\n",
    "\n",
    "\n",
    "$$ Score = \\frac{\\text{No. of companies with a worst value} + \\frac{\\text{No. of companies with the same value included the current one}}{2}}{\\text{No. of companies with a value}} $$\n",
    "\n"
   ]
  },
  {
   "cell_type": "markdown",
   "id": "f3c6cbb8",
   "metadata": {},
   "source": [
    "TODO :\n",
    "1. Figure out Return and MC data values \n",
    "2. P/E Daily time series ration - what does this column mean? - Karthik\n",
    "3. Read about KNN Imputation \n",
    "4. Null values and outlier "
   ]
  },
  {
   "cell_type": "markdown",
   "id": "7170a6b4",
   "metadata": {},
   "source": [
    "'Total Current Assets', 'Total Current Liabilities', 'Total Debt', 'Total Assets, Reported' - Dev\n",
    "\n",
    "'P/E (Daily Time Series Ratio)','CO2 Emissions','Total Revenue', 'Total Equity' - Karthik\n",
    "\n",
    " 'Net Income - Actual','Revenue Per Share','Company Market Capitalization', 'PPE Total', - Sush"
   ]
  },
  {
   "cell_type": "code",
   "execution_count": 1,
   "id": "e85e4907",
   "metadata": {},
   "outputs": [],
   "source": [
    "import pandas as pd\n",
    "import matplotlib.pyplot as plt\n",
    "import seaborn as sns"
   ]
  },
  {
   "cell_type": "code",
   "execution_count": 2,
   "id": "fc160a67",
   "metadata": {},
   "outputs": [],
   "source": [
    "df_firm = pd.read_csv(\"Firm Data.csv\")"
   ]
  },
  {
   "cell_type": "code",
   "execution_count": null,
   "id": "be7e8b13",
   "metadata": {},
   "outputs": [],
   "source": [
    "df_firm.head(20)"
   ]
  },
  {
   "cell_type": "code",
   "execution_count": null,
   "id": "3e579816",
   "metadata": {
    "scrolled": true
   },
   "outputs": [],
   "source": [
    "df_firm.shape"
   ]
  },
  {
   "cell_type": "code",
   "execution_count": null,
   "id": "21147a0a",
   "metadata": {},
   "outputs": [],
   "source": [
    "df_firm.columns"
   ]
  },
  {
   "cell_type": "code",
   "execution_count": 3,
   "id": "cd46bbbd",
   "metadata": {},
   "outputs": [],
   "source": [
    "# Lets rename some columns\n",
    "df_firm.rename(columns={\"Total CO2 Equivalent Emissions To Revenues USD in million\": \"CO2 Emissions\", \"Property Plant And Equipment, Total - Gross\": \"PPE Total\"},inplace=True)"
   ]
  },
  {
   "cell_type": "code",
   "execution_count": null,
   "id": "49a40565",
   "metadata": {
    "scrolled": true
   },
   "outputs": [],
   "source": [
    "df_ID = pd.read_csv(\"ID_Data.csv\")\n",
    "df_ID.head()"
   ]
  },
  {
   "cell_type": "code",
   "execution_count": null,
   "id": "01129f58",
   "metadata": {},
   "outputs": [],
   "source": [
    "df_return = pd.read_csv(\"Return_Data.csv\")\n",
    "df_return.head(20)"
   ]
  },
  {
   "cell_type": "markdown",
   "id": "50c1ad12",
   "metadata": {},
   "source": [
    "### Data Exploration"
   ]
  },
  {
   "cell_type": "code",
   "execution_count": null,
   "id": "7278305b",
   "metadata": {},
   "outputs": [],
   "source": [
    "df_firm.info()"
   ]
  },
  {
   "cell_type": "markdown",
   "id": "3df04892",
   "metadata": {},
   "source": [
    "#### Share of Null Values in the data"
   ]
  },
  {
   "cell_type": "code",
   "execution_count": null,
   "id": "4aaf530d",
   "metadata": {
    "scrolled": true
   },
   "outputs": [],
   "source": [
    "# count = df_firm.isnull().sum()/len(df_firm) *100\n",
    "# display(count)\n",
    "import plotly.express as px\n",
    "null_df = df_firm.apply(lambda x: sum(x.isnull())).to_frame(name= 'count')\n",
    "print(null_df)\n",
    "\n",
    "plt.plot(null_df.index, null_df['count'])\n",
    "plt.xticks(null_df.index, null_df.index, rotation=45, horizontalalignment='right')\n",
    "plt.margins(0.1)\n",
    "plt.show()\n",
    "\n",
    "figure = px.line(x = null_df.index, y = null_df['count'])\n",
    "figure.update_layout(xaxis_title = '')\n",
    "\n",
    "\n",
    "figure.show()"
   ]
  },
  {
   "attachments": {},
   "cell_type": "markdown",
   "id": "2f3759f6",
   "metadata": {},
   "source": [
    "### Data imputation"
   ]
  },
  {
   "cell_type": "code",
   "execution_count": null,
   "id": "23355317",
   "metadata": {},
   "outputs": [],
   "source": [
    "#Data Imputation\n",
    "#Dropping rows with all NaN values corresponding to each stock\n",
    "df_firm = df_firm.dropna(subset=['Total Current Assets', 'Total Current Liabilities', 'Total Debt', 'Total Assets, Reported', 'Net Income - Actual', 'Environmental Pillar Score','CO2 Emissions', 'P/E (Daily Time Series Ratio)'], how='all')\n",
    "#df_firm['Total Current Assets'].isna()\n",
    "df_firm['Total Current Assets'] = df_firm.groupby('RIC').transform(lambda group: group.fillna(group.mean()))['Total Current Assets']\n",
    "df_firm['Total Current Liabilities'] = df_firm.groupby('RIC').transform(lambda group: group.fillna(group.mean()))['Total Current Liabilities']\n",
    "df_firm['Total Debt'] = df_firm.groupby('RIC').transform(lambda group: group.fillna(group.mean()))['Total Debt']\n",
    "df_firm['Total Assets, Reported'] = df_firm.groupby('RIC').transform(lambda group: group.fillna(group.mean()))['Total Assets, Reported']\n",
    "df_firm['Net Income - Actual'] = df_firm.groupby('RIC').transform(lambda group: group.fillna(group.mean()))['Net Income - Actual']\n",
    "df_firm['Revenue Per Share'] = df_firm.groupby('RIC').transform(lambda group: group.fillna(group.mean()))['Revenue Per Share']\n",
    "df_firm['Total Revenue'] = df_firm.groupby('RIC').transform(lambda group: group.fillna(group.mean()))['Total Revenue']\n",
    "df_firm['Total Equity'] = df_firm.groupby('RIC').transform(lambda group: group.fillna(group.mean()))['Total Equity']\n",
    "df_firm['CO2 Emissions'] = df_firm.groupby('RIC').transform(lambda group: group.fillna(group.mean()))['CO2 Emissions']\n",
    "df_firm['ESG Score'] = df_firm.groupby('RIC').transform(lambda group: group.fillna(group.mean()))['ESG Score']\n",
    "df_firm['Social Pillar Score'] = df_firm.groupby('RIC').transform(lambda group: group.fillna(group.mean()))['Social Pillar Score']\n",
    "df_firm['Governance Pillar Score'] = df_firm.groupby('RIC').transform(lambda group: group.fillna(group.mean()))['Governance Pillar Score']\n",
    "df_firm['Environmental Pillar Score'] = df_firm.groupby('RIC').transform(lambda group: group.fillna(group.mean()))['Environmental Pillar Score']\n",
    "df_firm['Company Market Capitalization'] = df_firm.groupby('RIC').transform(lambda group: group.fillna(group.mean()))['Company Market Capitalization']\n",
    "df_firm['PPE Total'] = df_firm.groupby('RIC').transform(lambda group: group.fillna(group.mean()))['PPE Total']\n",
    "df_firm['P/E (Daily Time Series Ratio)'] = df_firm.groupby('RIC').transform(lambda group: group.fillna(group.mean()))['P/E (Daily Time Series Ratio)']\n",
    "\n",
    "#Handling the remaining NaN values\n",
    "for column in df_firm.columns[2:]:\n",
    "    df_firm[column].fillna(df_firm[column].mean(), inplace=True)\n",
    "#df_firm.apply(lambda x: x.fillna(x.mean()),axis=0)\n",
    "df_firm.isnull().sum()/len(df_firm) *100"
   ]
  },
  {
   "cell_type": "markdown",
   "id": "d3d6e4cc",
   "metadata": {},
   "source": [
    "#### Outliers "
   ]
  },
  {
   "cell_type": "code",
   "execution_count": null,
   "id": "19abaa65",
   "metadata": {},
   "outputs": [],
   "source": [
    "df_firm.describe([0.1,0.2,0.4,0.5,0.6,0.7,0.8,0.9,0.95,0.97,0.99])"
   ]
  },
  {
   "cell_type": "code",
   "execution_count": null,
   "id": "c2ec0fbe",
   "metadata": {},
   "outputs": [],
   "source": [
    "import plotly.express as px\n",
    "\n",
    "fig = plt.figure(figsize=(4,3))\n",
    "sns.boxplot(df_firm['Total Current Assets'])\n",
    "plt.xlabel('Total Current Assets', fontsize=14)\n",
    "plt.show()\n",
    "\n",
    "box1 = px.box(df_firm, y=\"Total Current Liabilities\", width= 500, height= 500)\n",
    "box1.show()\n",
    "\n",
    "box2 = px.box(df_firm, y=\"Total Debt\", width= 500, height= 500)\n",
    "box2.show()"
   ]
  },
  {
   "cell_type": "code",
   "execution_count": null,
   "id": "72604072",
   "metadata": {},
   "outputs": [],
   "source": [
    "df_firm['Total Current Assets'].quantile(0.8)"
   ]
  },
  {
   "cell_type": "code",
   "execution_count": null,
   "id": "1a0ac4be",
   "metadata": {},
   "outputs": [],
   "source": [
    "df_firm['Total Current Assets'].clip(upper=5000,inplace=True)"
   ]
  },
  {
   "cell_type": "code",
   "execution_count": 4,
   "id": "0a459c27",
   "metadata": {},
   "outputs": [],
   "source": [
    "columns = ['Total Current Assets', 'Total Current Liabilities',\n",
    "       'Total Debt', 'Total Assets, Reported', 'Net Income - Actual',\n",
    "       'Revenue Per Share', 'Total Revenue', 'Total Equity', 'CO2 Emissions',\n",
    "       #'ESG Score', #'Social Pillar Score', 'Governance Pillar Score','Environmental Pillar Score',\n",
    "        'Company Market Capitalization',\n",
    "       'PPE Total', 'P/E (Daily Time Series Ratio)']\n",
    "\n",
    "for i in columns :\n",
    "    df_firm[i].clip(upper=df_firm[i].quantile(0.8),inplace=True)"
   ]
  },
  {
   "cell_type": "markdown",
   "id": "2106be48",
   "metadata": {},
   "source": []
  },
  {
   "cell_type": "markdown",
   "id": "85bcf566",
   "metadata": {},
   "source": [
    "#### Visualising the distribution "
   ]
  },
  {
   "cell_type": "markdown",
   "id": "1133eeb4",
   "metadata": {},
   "source": []
  },
  {
   "cell_type": "code",
   "execution_count": null,
   "id": "fb14d161",
   "metadata": {},
   "outputs": [],
   "source": [
    "columns = ['Total Current Assets', 'Total Current Liabilities',\n",
    "       'Total Debt', 'Total Assets, Reported', 'Net Income - Actual',\n",
    "       'Revenue Per Share', 'Total Revenue', 'Total Equity', 'CO2 Emissions',\n",
    "       #'ESG Score', #'Social Pillar Score', 'Governance Pillar Score','Environmental Pillar Score',\n",
    "        'Company Market Capitalization',\n",
    "       'PPE Total', 'P/E (Daily Time Series Ratio)']"
   ]
  },
  {
   "attachments": {},
   "cell_type": "markdown",
   "id": "1d751b29",
   "metadata": {},
   "source": [
    "### Boxplots"
   ]
  },
  {
   "cell_type": "code",
   "execution_count": null,
   "id": "23997126",
   "metadata": {},
   "outputs": [],
   "source": [
    "box3 = px.box(df_firm, y=\"Total Current Liabilities\", width= 500, height= 500)\n",
    "box3.show()\n",
    "\n",
    "box4 = px.box(df_firm, y=\"Total Debt\", width= 500, height= 500)\n",
    "box4.show()\n",
    "\n"
   ]
  },
  {
   "attachments": {},
   "cell_type": "markdown",
   "id": "da80687c",
   "metadata": {},
   "source": [
    "### Visualization of data"
   ]
  },
  {
   "attachments": {},
   "cell_type": "markdown",
   "id": "36216fa7",
   "metadata": {},
   "source": [
    "### Distplot"
   ]
  },
  {
   "cell_type": "code",
   "execution_count": null,
   "id": "80007087",
   "metadata": {},
   "outputs": [],
   "source": [
    "import plotly.figure_factory as ff\n",
    "\n",
    "# x1 = df_firm['Total Current Assets']\n",
    "# x2 = df_firm['Total Current Liabilities']\n",
    "# x3 = df_firm['Total Debt']\n",
    "# x4 = df_firm['Total Assets, Reported']\n",
    "# x5 = df_firm['Net Income - Actual']\n",
    "# x6 = df_firm['Revenue Per Share']\n",
    "# x7 = df_firm['Total Revenue']\n",
    "# x8 = df_firm['Total Equity']\n",
    "# x9 = df_firm['CO2 Emissions']\n",
    "# x13 = df_firm['Company Market Capitalization'] \n",
    "# x14 = df_firm['PPE Total']\n",
    "# x15 = df_firm['P/E (Daily Time Series Ratio)']\n",
    "new_df = df_firm[['Total Current Assets', 'Total Current Liabilities',\n",
    "       'Total Debt', 'Total Assets, Reported', 'Net Income - Actual',\n",
    "       'Revenue Per Share', 'Total Revenue', 'Total Equity', 'CO2 Emissions','Company Market Capitalization',\n",
    "       'PPE Total', 'P/E (Daily Time Series Ratio)']]\n",
    "# x = [x1, x2, x3, x4, x5, x6, x7, x8, x9, x13, x14, x15]\n",
    "print(new_df)\n",
    "fig = ff.create_distplot(new_df, group_labels= 'columns')\n",
    "fig.show()"
   ]
  },
  {
   "attachments": {},
   "cell_type": "markdown",
   "id": "9960e835",
   "metadata": {},
   "source": [
    "### Scatterplot of each feature"
   ]
  },
  {
   "cell_type": "code",
   "execution_count": null,
   "id": "c8122e66",
   "metadata": {},
   "outputs": [],
   "source": [
    "import plotly.express as px\n",
    "\n",
    "fig = px.scatter(df_firm, x=\"Total Current Assets\", y=\"ESG Score\", color= 'ESG Score',trendline= 'ols')\n",
    "fig1 = px.scatter(df_firm, x=\"Total Current Liabilities\", y=\"ESG Score\", color= 'ESG Score',trendline= 'ols')\n",
    "fig2 = px.scatter(df_firm, x=\"Total Debt\", y=\"ESG Score\", color= 'ESG Score',trendline= 'ols')\n",
    "fig3 = px.scatter(df_firm, x=\"Total Assets, Reported\", y=\"ESG Score\", color= 'ESG Score',trendline= 'ols')\n",
    "fig4 = px.scatter(df_firm, x=\"Net Income - Actual\", y=\"ESG Score\", color= 'ESG Score',trendline= 'ols')\n",
    "fig5 = px.scatter(df_firm, x=\"Revenue Per Share\", y=\"ESG Score\", color= 'ESG Score',trendline= 'ols')\n",
    "fig6 = px.scatter(df_firm, x=\"Total Revenue\", y=\"ESG Score\", color= 'ESG Score',trendline= 'ols')\n",
    "fig7 = px.scatter(df_firm, x=\"Total Equity\", y=\"ESG Score\", color= 'ESG Score',trendline= 'ols')\n",
    "fig8 = px.scatter(df_firm, x=\"CO2 Emissions\", y=\"ESG Score\", color= 'ESG Score',trendline= 'ols')\n",
    "fig9 = px.scatter(df_firm, x=\"Company Market Capitalization\", y=\"ESG Score\", color= 'ESG Score',trendline= 'ols')\n",
    "fig10 = px.scatter(df_firm, x=\"PPE Total\", y=\"ESG Score\", color= 'ESG Score',trendline= 'ols')\n",
    "fig11 = px.scatter(df_firm, x=\"P/E (Daily Time Series Ratio)\", y=\"ESG Score\", color= 'ESG Score',trendline= 'ols')\n",
    "\n",
    "\n",
    "fig.show()\n",
    "fig1.show()\n",
    "fig2.show()\n",
    "fig3.show()\n",
    "fig4.show()\n",
    "fig5.show()\n",
    "fig6.show()\n",
    "fig7.show()\n",
    "fig8.show()\n",
    "fig9.show()\n",
    "fig10.show()\n",
    "fig11.show()"
   ]
  },
  {
   "cell_type": "code",
   "execution_count": null,
   "id": "7a5359ec",
   "metadata": {},
   "outputs": [],
   "source": [
    "df_firm[columns].hist( figsize=(15,15))\n",
    "\n",
    "plt.show()"
   ]
  },
  {
   "cell_type": "code",
   "execution_count": null,
   "id": "be70ab87",
   "metadata": {},
   "outputs": [],
   "source": [
    "cormat = df_firm[columns].corr()\n",
    "sns.heatmap(cormat)\n",
    "plt.figure(figsize=(20,20))\n",
    "plt.show()"
   ]
  }
 ],
 "metadata": {
  "kernelspec": {
   "display_name": "Python 3",
   "language": "python",
   "name": "python3"
  },
  "language_info": {
   "codemirror_mode": {
    "name": "ipython",
    "version": 3
   },
   "file_extension": ".py",
   "mimetype": "text/x-python",
   "name": "python",
   "nbconvert_exporter": "python",
   "pygments_lexer": "ipython3",
   "version": "3.8.8"
  }
 },
 "nbformat": 4,
 "nbformat_minor": 5
}
