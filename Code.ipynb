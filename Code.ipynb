{
 "cells": [
  {
   "cell_type": "markdown",
   "id": "8af7dc11",
   "metadata": {},
   "source": [
    "# ESG Score Prediction"
   ]
  },
  {
   "cell_type": "markdown",
   "id": "a460aaae",
   "metadata": {},
   "source": [
    "## Notebook Outline :\n",
    "\n",
    "1. Introduction (ESG Score, Calculation method, Factors - Summary based on the TR pdf)\n",
    "2. Data Explanation (Features - what they are)\n",
    "3. Data Processing - Outlier Detection, Feature Transformation \n",
    "4. EDA - Basic Insights\n",
    "6. Feature Selection/Importance\n",
    "5. Data Modelling"
   ]
  },
  {
   "attachments": {},
   "cell_type": "markdown",
   "id": "ddcbb214",
   "metadata": {},
   "source": [
    "# Introduction"
   ]
  },
  {
   "attachments": {},
   "cell_type": "markdown",
   "id": "d5b66f0d",
   "metadata": {},
   "source": [
    "### ESG Score"
   ]
  },
  {
   "attachments": {},
   "cell_type": "markdown",
   "id": "72ece707",
   "metadata": {},
   "source": [
    "Environmental, social and governance score is a way of measuring important parameters of a company to evaluate its sustainibility. It is available in both percentages and letter grades (D- to A+). Thomas Reuters ESG scores was designed to measure a company's ESG performance based on several themes such as emissions, environmental\n",
    "product innovation, human rights, shareholders, etc. This uses publicly available data from around 6000 public companies and around 400 ESG metrics. "
   ]
  },
  {
   "attachments": {},
   "cell_type": "markdown",
   "id": "103c82dc",
   "metadata": {},
   "source": [
    "### Factors "
   ]
  },
  {
   "attachments": {},
   "cell_type": "markdown",
   "id": "9addcc2c",
   "metadata": {},
   "source": [
    "The ESG score is based on a number of different factors.\n",
    "<br> • Environmental factors include resource use, emissions, innovations, etc. \n",
    "<br> • Social factors include workforce, human rights, community etc. \n",
    "<br> • Governance factors include management, share holders, CSR strategy etc. "
   ]
  },
  {
   "attachments": {},
   "cell_type": "markdown",
   "id": "337f7e4b",
   "metadata": {},
   "source": [
    "### Calculation Method"
   ]
  },
  {
   "attachments": {},
   "cell_type": "markdown",
   "id": "c49fe28c",
   "metadata": {},
   "source": [
    "The calculation of the overall ESG score is based on two kinds of ESG scores.\n",
    "\n",
    "\n",
    "Thomas Reuters ESG score - Out of publicly reported company data, 400 ESG measures are calculatd. Out of this, 178 data points are selected for the scoring process. It is then grouped into 10 categories. \n",
    "\n",
    "Thomas Reuters ESG Controversy score - The controversy category score is based on a list of 23 controversy topics. It is a comprehensive measure of the company's ESG performance relative to negative media stories captured from global media. \n",
    "\n",
    "The ESG Score Calculation Methodology:\n",
    "\n",
    "Percentile Rank Method is used to calculate the scores. It is based on three factors:\n",
    "<br> • How many companies have the same value?\n",
    "<br> • How many companies have a value at all?\n",
    "<br> • How many companies are worse than the current one?\n",
    "\n",
    "\n",
    "\n",
    "$$ Score = \\frac{\\text{No. of companies with a worst value} + \\frac{\\text{No. of companies with the same value included the current one}}{2}}{\\text{No. of companies with a value}} $$\n",
    "\n"
   ]
  },
  {
   "cell_type": "markdown",
   "id": "f3c6cbb8",
   "metadata": {},
   "source": [
    "TODO :\n",
    "1. Figure out Return and MC data values \n",
    "2. P/E Daily time series ration - what does this column mean? - Karthik\n",
    "3. Read about KNN Imputation \n",
    "4. Null values and outlier "
   ]
  },
  {
   "cell_type": "markdown",
   "id": "7170a6b4",
   "metadata": {},
   "source": [
    "'Total Current Assets', 'Total Current Liabilities', 'Total Debt', 'Total Assets, Reported' - Dev\n",
    "\n",
    "'P/E (Daily Time Series Ratio)','CO2 Emissions','Total Revenue', 'Total Equity' - Karthik\n",
    "\n",
    " 'Net Income - Actual','Revenue Per Share','Company Market Capitalization', 'PPE Total', - Sush"
   ]
  },
  {
   "cell_type": "code",
   "execution_count": 1,
   "id": "e85e4907",
   "metadata": {},
   "outputs": [],
   "source": [
    "import pandas as pd\n",
    "import matplotlib.pyplot as plt\n",
    "import seaborn as sns"
   ]
  },
  {
   "cell_type": "code",
   "execution_count": 3,
   "id": "fc160a67",
   "metadata": {},
   "outputs": [
    {
     "ename": "FileNotFoundError",
     "evalue": "[Errno 2] No such file or directory: 'Firm_Data.csv'",
     "output_type": "error",
     "traceback": [
      "\u001b[0;31m---------------------------------------------------------------------------\u001b[0m",
      "\u001b[0;31mFileNotFoundError\u001b[0m                         Traceback (most recent call last)",
      "Cell \u001b[0;32mIn[3], line 1\u001b[0m\n\u001b[0;32m----> 1\u001b[0m df_firm \u001b[39m=\u001b[39m pd\u001b[39m.\u001b[39;49mread_csv(\u001b[39m\"\u001b[39;49m\u001b[39mFirm_Data.csv\u001b[39;49m\u001b[39m\"\u001b[39;49m)\n",
      "File \u001b[0;32m~/opt/anaconda3/lib/python3.8/site-packages/pandas/io/parsers.py:610\u001b[0m, in \u001b[0;36mread_csv\u001b[0;34m(filepath_or_buffer, sep, delimiter, header, names, index_col, usecols, squeeze, prefix, mangle_dupe_cols, dtype, engine, converters, true_values, false_values, skipinitialspace, skiprows, skipfooter, nrows, na_values, keep_default_na, na_filter, verbose, skip_blank_lines, parse_dates, infer_datetime_format, keep_date_col, date_parser, dayfirst, cache_dates, iterator, chunksize, compression, thousands, decimal, lineterminator, quotechar, quoting, doublequote, escapechar, comment, encoding, dialect, error_bad_lines, warn_bad_lines, delim_whitespace, low_memory, memory_map, float_precision, storage_options)\u001b[0m\n\u001b[1;32m    605\u001b[0m kwds_defaults \u001b[39m=\u001b[39m _refine_defaults_read(\n\u001b[1;32m    606\u001b[0m     dialect, delimiter, delim_whitespace, engine, sep, defaults\u001b[39m=\u001b[39m{\u001b[39m\"\u001b[39m\u001b[39mdelimiter\u001b[39m\u001b[39m\"\u001b[39m: \u001b[39m\"\u001b[39m\u001b[39m,\u001b[39m\u001b[39m\"\u001b[39m}\n\u001b[1;32m    607\u001b[0m )\n\u001b[1;32m    608\u001b[0m kwds\u001b[39m.\u001b[39mupdate(kwds_defaults)\n\u001b[0;32m--> 610\u001b[0m \u001b[39mreturn\u001b[39;00m _read(filepath_or_buffer, kwds)\n",
      "File \u001b[0;32m~/opt/anaconda3/lib/python3.8/site-packages/pandas/io/parsers.py:462\u001b[0m, in \u001b[0;36m_read\u001b[0;34m(filepath_or_buffer, kwds)\u001b[0m\n\u001b[1;32m    459\u001b[0m _validate_names(kwds\u001b[39m.\u001b[39mget(\u001b[39m\"\u001b[39m\u001b[39mnames\u001b[39m\u001b[39m\"\u001b[39m, \u001b[39mNone\u001b[39;00m))\n\u001b[1;32m    461\u001b[0m \u001b[39m# Create the parser.\u001b[39;00m\n\u001b[0;32m--> 462\u001b[0m parser \u001b[39m=\u001b[39m TextFileReader(filepath_or_buffer, \u001b[39m*\u001b[39;49m\u001b[39m*\u001b[39;49mkwds)\n\u001b[1;32m    464\u001b[0m \u001b[39mif\u001b[39;00m chunksize \u001b[39mor\u001b[39;00m iterator:\n\u001b[1;32m    465\u001b[0m     \u001b[39mreturn\u001b[39;00m parser\n",
      "File \u001b[0;32m~/opt/anaconda3/lib/python3.8/site-packages/pandas/io/parsers.py:819\u001b[0m, in \u001b[0;36mTextFileReader.__init__\u001b[0;34m(self, f, engine, **kwds)\u001b[0m\n\u001b[1;32m    816\u001b[0m \u001b[39mif\u001b[39;00m \u001b[39m\"\u001b[39m\u001b[39mhas_index_names\u001b[39m\u001b[39m\"\u001b[39m \u001b[39min\u001b[39;00m kwds:\n\u001b[1;32m    817\u001b[0m     \u001b[39mself\u001b[39m\u001b[39m.\u001b[39moptions[\u001b[39m\"\u001b[39m\u001b[39mhas_index_names\u001b[39m\u001b[39m\"\u001b[39m] \u001b[39m=\u001b[39m kwds[\u001b[39m\"\u001b[39m\u001b[39mhas_index_names\u001b[39m\u001b[39m\"\u001b[39m]\n\u001b[0;32m--> 819\u001b[0m \u001b[39mself\u001b[39m\u001b[39m.\u001b[39m_engine \u001b[39m=\u001b[39m \u001b[39mself\u001b[39;49m\u001b[39m.\u001b[39;49m_make_engine(\u001b[39mself\u001b[39;49m\u001b[39m.\u001b[39;49mengine)\n",
      "File \u001b[0;32m~/opt/anaconda3/lib/python3.8/site-packages/pandas/io/parsers.py:1050\u001b[0m, in \u001b[0;36mTextFileReader._make_engine\u001b[0;34m(self, engine)\u001b[0m\n\u001b[1;32m   1046\u001b[0m     \u001b[39mraise\u001b[39;00m \u001b[39mValueError\u001b[39;00m(\n\u001b[1;32m   1047\u001b[0m         \u001b[39mf\u001b[39m\u001b[39m\"\u001b[39m\u001b[39mUnknown engine: \u001b[39m\u001b[39m{\u001b[39;00mengine\u001b[39m}\u001b[39;00m\u001b[39m (valid options are \u001b[39m\u001b[39m{\u001b[39;00mmapping\u001b[39m.\u001b[39mkeys()\u001b[39m}\u001b[39;00m\u001b[39m)\u001b[39m\u001b[39m\"\u001b[39m\n\u001b[1;32m   1048\u001b[0m     )\n\u001b[1;32m   1049\u001b[0m \u001b[39m# error: Too many arguments for \"ParserBase\"\u001b[39;00m\n\u001b[0;32m-> 1050\u001b[0m \u001b[39mreturn\u001b[39;00m mapping[engine](\u001b[39mself\u001b[39;49m\u001b[39m.\u001b[39;49mf, \u001b[39m*\u001b[39;49m\u001b[39m*\u001b[39;49m\u001b[39mself\u001b[39;49m\u001b[39m.\u001b[39;49moptions)\n",
      "File \u001b[0;32m~/opt/anaconda3/lib/python3.8/site-packages/pandas/io/parsers.py:1867\u001b[0m, in \u001b[0;36mCParserWrapper.__init__\u001b[0;34m(self, src, **kwds)\u001b[0m\n\u001b[1;32m   1864\u001b[0m kwds[\u001b[39m\"\u001b[39m\u001b[39musecols\u001b[39m\u001b[39m\"\u001b[39m] \u001b[39m=\u001b[39m \u001b[39mself\u001b[39m\u001b[39m.\u001b[39musecols\n\u001b[1;32m   1866\u001b[0m \u001b[39m# open handles\u001b[39;00m\n\u001b[0;32m-> 1867\u001b[0m \u001b[39mself\u001b[39;49m\u001b[39m.\u001b[39;49m_open_handles(src, kwds)\n\u001b[1;32m   1868\u001b[0m \u001b[39massert\u001b[39;00m \u001b[39mself\u001b[39m\u001b[39m.\u001b[39mhandles \u001b[39mis\u001b[39;00m \u001b[39mnot\u001b[39;00m \u001b[39mNone\u001b[39;00m\n\u001b[1;32m   1869\u001b[0m \u001b[39mfor\u001b[39;00m key \u001b[39min\u001b[39;00m (\u001b[39m\"\u001b[39m\u001b[39mstorage_options\u001b[39m\u001b[39m\"\u001b[39m, \u001b[39m\"\u001b[39m\u001b[39mencoding\u001b[39m\u001b[39m\"\u001b[39m, \u001b[39m\"\u001b[39m\u001b[39mmemory_map\u001b[39m\u001b[39m\"\u001b[39m, \u001b[39m\"\u001b[39m\u001b[39mcompression\u001b[39m\u001b[39m\"\u001b[39m):\n",
      "File \u001b[0;32m~/opt/anaconda3/lib/python3.8/site-packages/pandas/io/parsers.py:1362\u001b[0m, in \u001b[0;36mParserBase._open_handles\u001b[0;34m(self, src, kwds)\u001b[0m\n\u001b[1;32m   1358\u001b[0m \u001b[39mdef\u001b[39;00m \u001b[39m_open_handles\u001b[39m(\u001b[39mself\u001b[39m, src: FilePathOrBuffer, kwds: Dict[\u001b[39mstr\u001b[39m, Any]) \u001b[39m-\u001b[39m\u001b[39m>\u001b[39m \u001b[39mNone\u001b[39;00m:\n\u001b[1;32m   1359\u001b[0m \u001b[39m    \u001b[39m\u001b[39m\"\"\"\u001b[39;00m\n\u001b[1;32m   1360\u001b[0m \u001b[39m    Let the readers open IOHanldes after they are done with their potential raises.\u001b[39;00m\n\u001b[1;32m   1361\u001b[0m \u001b[39m    \"\"\"\u001b[39;00m\n\u001b[0;32m-> 1362\u001b[0m     \u001b[39mself\u001b[39m\u001b[39m.\u001b[39mhandles \u001b[39m=\u001b[39m get_handle(\n\u001b[1;32m   1363\u001b[0m         src,\n\u001b[1;32m   1364\u001b[0m         \u001b[39m\"\u001b[39;49m\u001b[39mr\u001b[39;49m\u001b[39m\"\u001b[39;49m,\n\u001b[1;32m   1365\u001b[0m         encoding\u001b[39m=\u001b[39;49mkwds\u001b[39m.\u001b[39;49mget(\u001b[39m\"\u001b[39;49m\u001b[39mencoding\u001b[39;49m\u001b[39m\"\u001b[39;49m, \u001b[39mNone\u001b[39;49;00m),\n\u001b[1;32m   1366\u001b[0m         compression\u001b[39m=\u001b[39;49mkwds\u001b[39m.\u001b[39;49mget(\u001b[39m\"\u001b[39;49m\u001b[39mcompression\u001b[39;49m\u001b[39m\"\u001b[39;49m, \u001b[39mNone\u001b[39;49;00m),\n\u001b[1;32m   1367\u001b[0m         memory_map\u001b[39m=\u001b[39;49mkwds\u001b[39m.\u001b[39;49mget(\u001b[39m\"\u001b[39;49m\u001b[39mmemory_map\u001b[39;49m\u001b[39m\"\u001b[39;49m, \u001b[39mFalse\u001b[39;49;00m),\n\u001b[1;32m   1368\u001b[0m         storage_options\u001b[39m=\u001b[39;49mkwds\u001b[39m.\u001b[39;49mget(\u001b[39m\"\u001b[39;49m\u001b[39mstorage_options\u001b[39;49m\u001b[39m\"\u001b[39;49m, \u001b[39mNone\u001b[39;49;00m),\n\u001b[1;32m   1369\u001b[0m     )\n",
      "File \u001b[0;32m~/opt/anaconda3/lib/python3.8/site-packages/pandas/io/common.py:642\u001b[0m, in \u001b[0;36mget_handle\u001b[0;34m(path_or_buf, mode, encoding, compression, memory_map, is_text, errors, storage_options)\u001b[0m\n\u001b[1;32m    640\u001b[0m         errors \u001b[39m=\u001b[39m \u001b[39m\"\u001b[39m\u001b[39mreplace\u001b[39m\u001b[39m\"\u001b[39m\n\u001b[1;32m    641\u001b[0m     \u001b[39m# Encoding\u001b[39;00m\n\u001b[0;32m--> 642\u001b[0m     handle \u001b[39m=\u001b[39m \u001b[39mopen\u001b[39;49m(\n\u001b[1;32m    643\u001b[0m         handle,\n\u001b[1;32m    644\u001b[0m         ioargs\u001b[39m.\u001b[39;49mmode,\n\u001b[1;32m    645\u001b[0m         encoding\u001b[39m=\u001b[39;49mioargs\u001b[39m.\u001b[39;49mencoding,\n\u001b[1;32m    646\u001b[0m         errors\u001b[39m=\u001b[39;49merrors,\n\u001b[1;32m    647\u001b[0m         newline\u001b[39m=\u001b[39;49m\u001b[39m\"\u001b[39;49m\u001b[39m\"\u001b[39;49m,\n\u001b[1;32m    648\u001b[0m     )\n\u001b[1;32m    649\u001b[0m \u001b[39melse\u001b[39;00m:\n\u001b[1;32m    650\u001b[0m     \u001b[39m# Binary mode\u001b[39;00m\n\u001b[1;32m    651\u001b[0m     handle \u001b[39m=\u001b[39m \u001b[39mopen\u001b[39m(handle, ioargs\u001b[39m.\u001b[39mmode)\n",
      "\u001b[0;31mFileNotFoundError\u001b[0m: [Errno 2] No such file or directory: 'Firm_Data.csv'"
     ]
    }
   ],
   "source": [
    "df_firm = pd.read_csv(\"Firm_Data.csv\")"
   ]
  },
  {
   "cell_type": "code",
   "execution_count": null,
   "id": "be7e8b13",
   "metadata": {},
   "outputs": [],
   "source": [
    "df_firm.head(20)"
   ]
  },
  {
   "cell_type": "code",
   "execution_count": null,
   "id": "3e579816",
   "metadata": {
    "scrolled": true
   },
   "outputs": [],
   "source": [
    "df_firm.shape"
   ]
  },
  {
   "cell_type": "code",
   "execution_count": null,
   "id": "21147a0a",
   "metadata": {},
   "outputs": [],
   "source": [
    "df_firm.columns"
   ]
  },
  {
   "cell_type": "code",
   "execution_count": null,
   "id": "cd46bbbd",
   "metadata": {},
   "outputs": [],
   "source": [
    "# Lets rename some columns\n",
    "df_firm.rename(columns={\"Total CO2 Equivalent Emissions To Revenues USD in million\": \"CO2 Emissions\", \"Property Plant And Equipment, Total - Gross\": \"PPE Total\"},inplace=True)"
   ]
  },
  {
   "cell_type": "code",
   "execution_count": null,
   "id": "49a40565",
   "metadata": {
    "scrolled": true
   },
   "outputs": [],
   "source": [
    "df_ID = pd.read_csv(\"ID_Data.csv\")\n",
    "df_ID.head()"
   ]
  },
  {
   "cell_type": "code",
   "execution_count": null,
   "id": "01129f58",
   "metadata": {},
   "outputs": [],
   "source": [
    "df_return = pd.read_csv(\"Return_Data.csv\")\n",
    "df_return.head(20)"
   ]
  },
  {
   "cell_type": "markdown",
   "id": "50c1ad12",
   "metadata": {},
   "source": [
    "### Data Exploration"
   ]
  },
  {
   "cell_type": "code",
   "execution_count": null,
   "id": "7278305b",
   "metadata": {},
   "outputs": [],
   "source": [
    "df_firm.info()"
   ]
  },
  {
   "cell_type": "markdown",
   "id": "3df04892",
   "metadata": {},
   "source": [
    "#### Share of Null Values in the data"
   ]
  },
  {
   "cell_type": "code",
   "execution_count": null,
   "id": "4aaf530d",
   "metadata": {
    "scrolled": true
   },
   "outputs": [],
   "source": [
    "df_firm.isnull().sum()/len(df_firm) *100"
   ]
  },
  {
   "cell_type": "markdown",
   "id": "d3d6e4cc",
   "metadata": {},
   "source": [
    "#### Outliers "
   ]
  },
  {
   "cell_type": "code",
   "execution_count": null,
   "id": "19abaa65",
   "metadata": {},
   "outputs": [],
   "source": [
    "df_firm.describe([0.1,0.2,0.4,0.5,0.6,0.7,0.8,0.9,0.95,0.97,0.99])"
   ]
  },
  {
   "cell_type": "code",
   "execution_count": null,
   "id": "72604072",
   "metadata": {},
   "outputs": [],
   "source": [
    "df_firm['Total Current Assets'].quantile(0.8)"
   ]
  },
  {
   "cell_type": "code",
   "execution_count": null,
   "id": "1a0ac4be",
   "metadata": {},
   "outputs": [],
   "source": [
    "df_firm['Total Current Assets'].clip(upper=5000,inplace=True)"
   ]
  },
  {
   "cell_type": "code",
   "execution_count": null,
   "id": "0a459c27",
   "metadata": {},
   "outputs": [],
   "source": [
    "for i in columns :\n",
    "    df_firm[i].clip(upper=df_firm[i].quantile(0.8),inplace=True)"
   ]
  },
  {
   "cell_type": "markdown",
   "id": "2106be48",
   "metadata": {},
   "source": []
  },
  {
   "cell_type": "markdown",
   "id": "85bcf566",
   "metadata": {},
   "source": [
    "#### Visualising the distribution "
   ]
  },
  {
   "cell_type": "markdown",
   "id": "1133eeb4",
   "metadata": {},
   "source": []
  },
  {
   "cell_type": "code",
   "execution_count": null,
   "id": "fb14d161",
   "metadata": {},
   "outputs": [],
   "source": [
    "columns = ['Total Current Assets', 'Total Current Liabilities',\n",
    "       'Total Debt', 'Total Assets, Reported', 'Net Income - Actual',\n",
    "       'Revenue Per Share', 'Total Revenue', 'Total Equity', 'CO2 Emissions',\n",
    "       #'ESG Score', #'Social Pillar Score', 'Governance Pillar Score','Environmental Pillar Score',\n",
    "        'Company Market Capitalization',\n",
    "       'PPE Total', 'P/E (Daily Time Series Ratio)']"
   ]
  },
  {
   "cell_type": "code",
   "execution_count": null,
   "id": "23997126",
   "metadata": {},
   "outputs": [],
   "source": [
    "len(columns)"
   ]
  },
  {
   "attachments": {},
   "cell_type": "markdown",
   "id": "da80687c",
   "metadata": {},
   "source": [
    "### Visualizations"
   ]
  },
  {
   "cell_type": "code",
   "execution_count": null,
   "id": "c8122e66",
   "metadata": {},
   "outputs": [],
   "source": [
    "import plotly.express as px\n",
    "\n",
    "fig = px.scatter(df_firm, x=\"Total Current Assets\", y=\"ESG Score\", color= 'ESG Score',trendline= 'ols')\n",
    "fig1 = px.scatter(df_firm, x=\"Total Current Liabilities\", y=\"ESG Score\", color= 'ESG Score',trendline= 'ols')\n",
    "fig2 = px.scatter(df_firm, x=\"Total Debt\", y=\"ESG Score\", color= 'ESG Score',trendline= 'ols')\n",
    "fig3 = px.scatter(df_firm, x=\"Total Assets, Reported\", y=\"ESG Score\", color= 'ESG Score',trendline= 'ols')\n",
    "fig4 = px.scatter(df_firm, x=\"Net Income - Actual\", y=\"ESG Score\", color= 'ESG Score',trendline= 'ols')\n",
    "fig5 = px.scatter(df_firm, x=\"Revenue Per Share\", y=\"ESG Score\", color= 'ESG Score',trendline= 'ols')\n",
    "fig6 = px.scatter(df_firm, x=\"Total Revenue\", y=\"ESG Score\", color= 'ESG Score',trendline= 'ols')\n",
    "fig7 = px.scatter(df_firm, x=\"Total Equity\", y=\"ESG Score\", color= 'ESG Score',trendline= 'ols')\n",
    "fig8 = px.scatter(df_firm, x=\"CO2 Emissions\", y=\"ESG Score\", color= 'ESG Score',trendline= 'ols')\n",
    "fig9 = px.scatter(df_firm, x=\"Company Market Capitalization\", y=\"ESG Score\", color= 'ESG Score',trendline= 'ols')\n",
    "fig10 = px.scatter(df_firm, x=\"PPE Total\", y=\"ESG Score\", color= 'ESG Score',trendline= 'ols')\n",
    "fig11 = px.scatter(df_firm, x=\"P/E (Daily Time Series Ratio)\", y=\"ESG Score\", color= 'ESG Score',trendline= 'ols')\n",
    "\n",
    "\n",
    "fig.show()\n",
    "fig1.show()\n",
    "fig2.show()\n",
    "fig3.show()\n",
    "fig4.show()\n",
    "fig5.show()\n",
    "fig6.show()\n",
    "fig7.show()\n",
    "fig8.show()\n",
    "fig9.show()\n",
    "fig10.show()\n",
    "fig11.show()"
   ]
  },
  {
   "cell_type": "code",
   "execution_count": null,
   "id": "7a5359ec",
   "metadata": {},
   "outputs": [],
   "source": [
    "df_firm[columns].hist( figsize=(15,15))\n",
    "\n",
    "plt.show()"
   ]
  },
  {
   "cell_type": "code",
   "execution_count": null,
   "id": "e680c6bf",
   "metadata": {},
   "outputs": [],
   "source": []
  },
  {
   "cell_type": "code",
   "execution_count": null,
   "id": "be70ab87",
   "metadata": {},
   "outputs": [],
   "source": [
    "cormat = df_firm[columns].corr()\n",
    "sns.heatmap(cormat)\n",
    "plt.figure(figsize=(20,20))\n",
    "plt.show()"
   ]
  },
  {
   "cell_type": "code",
   "execution_count": null,
   "id": "32c68358",
   "metadata": {},
   "outputs": [],
   "source": [
    "display(df_return)"
   ]
  },
  {
   "attachments": {},
   "cell_type": "markdown",
   "id": "c4300924",
   "metadata": {},
   "source": [
    "### Adding yearly return data to firm data"
   ]
  },
  {
   "cell_type": "code",
   "execution_count": null,
   "id": "b14910d0",
   "metadata": {},
   "outputs": [],
   "source": [
    "df_yearlyreturndata = pd.read_csv(\"yearly_return.csv\")\n",
    "\n",
    "display(df_yearlyreturndata)\n",
    "\n",
    "df_mergereturnandfirmdata = df_firm.merge(df_yearlyreturndata, on= [\"RIC\",\"Date\"])\n",
    "\n",
    "display(df_mergereturnandfirmdata)"
   ]
  }
 ],
 "metadata": {
  "kernelspec": {
   "display_name": "Python 3",
   "language": "python",
   "name": "python3"
  },
  "language_info": {
   "codemirror_mode": {
    "name": "ipython",
    "version": 3
   },
   "file_extension": ".py",
   "mimetype": "text/x-python",
   "name": "python",
   "nbconvert_exporter": "python",
   "pygments_lexer": "ipython3",
   "version": "3.8.8"
  }
 },
 "nbformat": 4,
 "nbformat_minor": 5
}
