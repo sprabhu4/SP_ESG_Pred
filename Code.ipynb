{
 "cells": [
  {
   "cell_type": "markdown",
   "id": "8af7dc11",
   "metadata": {},
   "source": [
    "# ESG Score Prediction"
   ]
  },
  {
   "cell_type": "markdown",
   "id": "a460aaae",
   "metadata": {},
   "source": [
    "## Notebook Outline :\n",
    "\n",
    "1. Introduction (ESG Score, Calculation method, Factors - Summary based on the TR pdf)\n",
    "2. Data Explanation (Features - what they are)\n",
    "3. Data Processing - Outlier Detection, Feature Transformation \n",
    "4. EDA - Basic Insights\n",
    "6. Feature Selection/Importance\n",
    "5. Data Modelling"
   ]
  },
  {
   "attachments": {},
   "cell_type": "markdown",
   "id": "e70c0e7e",
   "metadata": {},
   "source": [
    "## 1. Introduction "
   ]
  },
  {
   "attachments": {},
   "cell_type": "markdown",
   "id": "ea7bb276",
   "metadata": {},
   "source": [
    "A financial statement lists the assets, liabilities and equity of a company at a specific point in time and is used to calculate the net worth of a business. A basic tenet of double-entry book-keeping is that total assets (what a business owns) must equal liabilities plus equity (how the assets are financed). In other words, the balance sheet must balance. Subtracting liabilities from assets shows the net worth of the business. \n",
    "\n",
    "How does ESG score come into picture in a business?\n",
    "(TBD by Aheli)\n"
   ]
  },
  {
   "attachments": {},
   "cell_type": "markdown",
   "id": "bc0dfb80",
   "metadata": {},
   "source": [
    "## 2. Data Explanation  "
   ]
  },
  {
   "attachments": {},
   "cell_type": "markdown",
   "id": "e4421f26",
   "metadata": {},
   "source": [
    "### Total Current Assets \n",
    "Current assets are cash or its equivalent or those assets that will be used by the business in a year or less\n",
    "\n",
    "### Total Current Liabilities \n",
    "Debts that are due in one year or less are classified as current liabilities. If they're due in more than one year, they're long-term liabilities.\n",
    "\n",
    "### Total Debt \n",
    "Total debt refers to the sum of borrowed money that your business owes. It’s calculated by adding together your current and long-term liabilities.\n",
    "\n",
    "### Total Assets Reported \n",
    "\"Total long-term assets\" is the sum of capital and plant, investments, and miscellaneous assets.\n",
    "\"Total assets\" is the sum of total current assets and total long-term assets\n",
    "\n",
    "### Net Income - Actual \n",
    "Net income refers to the amount an individual or business makes after deducting costs, allowances and taxes.\n",
    "In commerce, net income is what the business has left over after all expenses, including salary and wages, cost of goods or raw material and taxes. \n",
    "\n",
    "### Revenue Per Share\n",
    "1. Earnings per share (EPS) is a company's net profit divided by the number of common shares it has outstanding.\n",
    "2. EPS indicates how much money a company makes for each share of its stock and is a widely used metric for estimating corporate value.\n",
    "3. A higher EPS indicates greater value because investors will pay more for a company's shares if they think the company has higher profits relative to its share price.\n",
    "4. EPS can be arrived at in several forms, such as excluding extraordinary items or discontinued operations, or on a diluted basis.\n",
    "5. Like other financial metrics, earnings per share is most valuable when compared against competitor metrics, companies of the same industry, or across a period of time.\n",
    "\n",
    "### Total Revenue \n",
    "Total revenue is the amount of money a company brings in from selling its goods and services. In other words, company's use this metric to determine how well they're generating money from their core revenue-driving operations.\n",
    "\n",
    "### Total Equity \n",
    "The total equity of a business is derived by subtracting its liabilities from its assets. The information for this calculation can be found on a company's balance sheet, which is one of its financial statements. \n",
    "An alternative approach for calculating total equity is to add up all of the line items in the stockholders' equity section of the balance sheet, which is comprised of common stock, additional paid-in capital, and retained earnings, minus treasury stock.\n",
    "In essence, total equity is the amount invested in a company by investors in exchange for stock, plus all subsequent earnings of the business, minus all subsequent dividends paid out. Many smaller businesses are strapped for cash and so have never paid any dividends. In their case, total equity is simply invested funds plus all subsequent earnings.\n",
    "\n",
    "### Company Market Capitilization \n",
    "Market cap—or market capitalization—refers to the total value of all a company's shares of stock. It is calculated by multiplying the price of a stock by its total number of outstanding shares. For example, a company with 20 million shares selling at $50 a share would have a market cap of $1 billion.\n",
    "\n",
    "Why is market capitalization such an important concept? It allows investors to understand the relative size of one company versus another. Market cap measures what a company is worth on the open market, as well as the market's perception of its future prospects, because it reflects what investors are willing to pay for its stock.\n",
    "\n",
    "### Property Plant And Equipment, Total - Gross\n",
    "Carrying amount at the balance sheet date for long-lived physical assets used in the normal conduct of business and not intended for resale. This can include land, physical structures, machinery, vehicles, furniture, computer equipment, construction in progress, and similar items.\n",
    "\n",
    "### P/E Ratio\n",
    "The price/earnings (P/E) ratio, also known as an “earnings multiple,” is one of the most popular valuation measures used by investors and analysts. The basic definition of a P/E ratio is stock price divided by earnings per share (EPS)\n"
   ]
  },
  {
   "attachments": {},
   "cell_type": "markdown",
   "id": "7362186c",
   "metadata": {},
   "source": [
    "## 3. Data Exploration"
   ]
  },
  {
   "cell_type": "code",
   "execution_count": 1,
   "id": "e85e4907",
   "metadata": {},
   "outputs": [],
   "source": [
    "import pandas as pd\n",
    "import matplotlib.pyplot as plt\n",
    "import seaborn as sns"
   ]
  },
  {
   "attachments": {},
   "cell_type": "markdown",
   "id": "fedf7972",
   "metadata": {},
   "source": [
    "### Firm Data Import"
   ]
  },
  {
   "cell_type": "code",
   "execution_count": 33,
   "id": "fc160a67",
   "metadata": {},
   "outputs": [],
   "source": [
    "firm_data = pd.read_csv(\"Firm Data.csv\")"
   ]
  },
  {
   "cell_type": "code",
   "execution_count": 17,
   "id": "be7e8b13",
   "metadata": {},
   "outputs": [
    {
     "data": {
      "text/html": [
       "<div>\n",
       "<style scoped>\n",
       "    .dataframe tbody tr th:only-of-type {\n",
       "        vertical-align: middle;\n",
       "    }\n",
       "\n",
       "    .dataframe tbody tr th {\n",
       "        vertical-align: top;\n",
       "    }\n",
       "\n",
       "    .dataframe thead th {\n",
       "        text-align: right;\n",
       "    }\n",
       "</style>\n",
       "<table border=\"1\" class=\"dataframe\">\n",
       "  <thead>\n",
       "    <tr style=\"text-align: right;\">\n",
       "      <th></th>\n",
       "      <th>RIC</th>\n",
       "      <th>Date</th>\n",
       "      <th>Total Current Assets</th>\n",
       "      <th>Total Current Liabilities</th>\n",
       "      <th>Total Debt</th>\n",
       "      <th>Total Assets, Reported</th>\n",
       "      <th>Net Income - Actual</th>\n",
       "      <th>Revenue Per Share</th>\n",
       "      <th>Total Revenue</th>\n",
       "      <th>Total Equity</th>\n",
       "      <th>Total CO2 Equivalent Emissions To Revenues USD in million</th>\n",
       "      <th>ESG Score</th>\n",
       "      <th>Social Pillar Score</th>\n",
       "      <th>Governance Pillar Score</th>\n",
       "      <th>Environmental Pillar Score</th>\n",
       "      <th>Company Market Capitalization</th>\n",
       "      <th>Property Plant And Equipment, Total - Gross</th>\n",
       "      <th>P/E (Daily Time Series Ratio)</th>\n",
       "    </tr>\n",
       "  </thead>\n",
       "  <tbody>\n",
       "    <tr>\n",
       "      <th>0</th>\n",
       "      <td>BVIC.L</td>\n",
       "      <td>31/12/2009</td>\n",
       "      <td>434.373405</td>\n",
       "      <td>483.824655</td>\n",
       "      <td>718.957376</td>\n",
       "      <td>1361.504594</td>\n",
       "      <td>107.309409</td>\n",
       "      <td>7.068281</td>\n",
       "      <td>1561.383359</td>\n",
       "      <td>-3.988004</td>\n",
       "      <td>NaN</td>\n",
       "      <td>51.267135</td>\n",
       "      <td>45.539754</td>\n",
       "      <td>59.077651</td>\n",
       "      <td>53.535053</td>\n",
       "      <td>1430.561330</td>\n",
       "      <td>817.381317</td>\n",
       "      <td>19.299905</td>\n",
       "    </tr>\n",
       "    <tr>\n",
       "      <th>1</th>\n",
       "      <td>BVIC.L</td>\n",
       "      <td>31/12/2010</td>\n",
       "      <td>579.778906</td>\n",
       "      <td>580.095207</td>\n",
       "      <td>901.298414</td>\n",
       "      <td>1655.358922</td>\n",
       "      <td>139.656087</td>\n",
       "      <td>8.006665</td>\n",
       "      <td>1800.699024</td>\n",
       "      <td>-48.552134</td>\n",
       "      <td>NaN</td>\n",
       "      <td>50.550242</td>\n",
       "      <td>57.622888</td>\n",
       "      <td>31.890959</td>\n",
       "      <td>55.261467</td>\n",
       "      <td>1772.376566</td>\n",
       "      <td>889.120843</td>\n",
       "      <td>16.927900</td>\n",
       "    </tr>\n",
       "    <tr>\n",
       "      <th>2</th>\n",
       "      <td>BVIC.L</td>\n",
       "      <td>31/12/2011</td>\n",
       "      <td>598.968478</td>\n",
       "      <td>607.694345</td>\n",
       "      <td>893.154869</td>\n",
       "      <td>1660.096296</td>\n",
       "      <td>122.255528</td>\n",
       "      <td>7.912984</td>\n",
       "      <td>2010.689188</td>\n",
       "      <td>35.059289</td>\n",
       "      <td>NaN</td>\n",
       "      <td>46.732870</td>\n",
       "      <td>57.397993</td>\n",
       "      <td>28.924942</td>\n",
       "      <td>45.229496</td>\n",
       "      <td>1205.126197</td>\n",
       "      <td>836.280911</td>\n",
       "      <td>13.534436</td>\n",
       "    </tr>\n",
       "    <tr>\n",
       "      <th>3</th>\n",
       "      <td>BVIC.L</td>\n",
       "      <td>31/12/2012</td>\n",
       "      <td>615.523874</td>\n",
       "      <td>601.137943</td>\n",
       "      <td>907.121844</td>\n",
       "      <td>1658.099764</td>\n",
       "      <td>100.765756</td>\n",
       "      <td>7.914423</td>\n",
       "      <td>2030.840850</td>\n",
       "      <td>59.968319</td>\n",
       "      <td>NaN</td>\n",
       "      <td>57.941343</td>\n",
       "      <td>70.633040</td>\n",
       "      <td>37.216902</td>\n",
       "      <td>55.762859</td>\n",
       "      <td>1603.272359</td>\n",
       "      <td>872.046035</td>\n",
       "      <td>18.363571</td>\n",
       "    </tr>\n",
       "    <tr>\n",
       "      <th>4</th>\n",
       "      <td>BVIC.L</td>\n",
       "      <td>31/12/2013</td>\n",
       "      <td>748.229068</td>\n",
       "      <td>814.064189</td>\n",
       "      <td>895.874010</td>\n",
       "      <td>1714.940377</td>\n",
       "      <td>133.919162</td>\n",
       "      <td>8.716901</td>\n",
       "      <td>2133.025672</td>\n",
       "      <td>65.996482</td>\n",
       "      <td>31.296503</td>\n",
       "      <td>49.513243</td>\n",
       "      <td>52.778937</td>\n",
       "      <td>33.146107</td>\n",
       "      <td>58.148148</td>\n",
       "      <td>2819.919676</td>\n",
       "      <td>907.653333</td>\n",
       "      <td>27.421399</td>\n",
       "    </tr>\n",
       "  </tbody>\n",
       "</table>\n",
       "</div>"
      ],
      "text/plain": [
       "      RIC        Date  Total Current Assets  Total Current Liabilities  \\\n",
       "0  BVIC.L  31/12/2009            434.373405                 483.824655   \n",
       "1  BVIC.L  31/12/2010            579.778906                 580.095207   \n",
       "2  BVIC.L  31/12/2011            598.968478                 607.694345   \n",
       "3  BVIC.L  31/12/2012            615.523874                 601.137943   \n",
       "4  BVIC.L  31/12/2013            748.229068                 814.064189   \n",
       "\n",
       "   Total Debt  Total Assets, Reported  Net Income - Actual  Revenue Per Share  \\\n",
       "0  718.957376             1361.504594           107.309409           7.068281   \n",
       "1  901.298414             1655.358922           139.656087           8.006665   \n",
       "2  893.154869             1660.096296           122.255528           7.912984   \n",
       "3  907.121844             1658.099764           100.765756           7.914423   \n",
       "4  895.874010             1714.940377           133.919162           8.716901   \n",
       "\n",
       "   Total Revenue  Total Equity  \\\n",
       "0    1561.383359     -3.988004   \n",
       "1    1800.699024    -48.552134   \n",
       "2    2010.689188     35.059289   \n",
       "3    2030.840850     59.968319   \n",
       "4    2133.025672     65.996482   \n",
       "\n",
       "   Total CO2 Equivalent Emissions To Revenues USD in million  ESG Score  \\\n",
       "0                                                NaN          51.267135   \n",
       "1                                                NaN          50.550242   \n",
       "2                                                NaN          46.732870   \n",
       "3                                                NaN          57.941343   \n",
       "4                                          31.296503          49.513243   \n",
       "\n",
       "   Social Pillar Score  Governance Pillar Score  Environmental Pillar Score  \\\n",
       "0            45.539754                59.077651                   53.535053   \n",
       "1            57.622888                31.890959                   55.261467   \n",
       "2            57.397993                28.924942                   45.229496   \n",
       "3            70.633040                37.216902                   55.762859   \n",
       "4            52.778937                33.146107                   58.148148   \n",
       "\n",
       "   Company Market Capitalization  Property Plant And Equipment, Total - Gross  \\\n",
       "0                    1430.561330                                   817.381317   \n",
       "1                    1772.376566                                   889.120843   \n",
       "2                    1205.126197                                   836.280911   \n",
       "3                    1603.272359                                   872.046035   \n",
       "4                    2819.919676                                   907.653333   \n",
       "\n",
       "   P/E (Daily Time Series Ratio)  \n",
       "0                      19.299905  \n",
       "1                      16.927900  \n",
       "2                      13.534436  \n",
       "3                      18.363571  \n",
       "4                      27.421399  "
      ]
     },
     "execution_count": 17,
     "metadata": {},
     "output_type": "execute_result"
    }
   ],
   "source": [
    "firm_data.head()"
   ]
  },
  {
   "cell_type": "code",
   "execution_count": 18,
   "id": "3e579816",
   "metadata": {
    "scrolled": true
   },
   "outputs": [
    {
     "data": {
      "text/plain": [
       "(24479, 18)"
      ]
     },
     "execution_count": 18,
     "metadata": {},
     "output_type": "execute_result"
    }
   ],
   "source": [
    "firm_data.shape"
   ]
  },
  {
   "cell_type": "code",
   "execution_count": 19,
   "id": "21147a0a",
   "metadata": {},
   "outputs": [
    {
     "data": {
      "text/plain": [
       "Index(['RIC', 'Date', 'Total Current Assets', 'Total Current Liabilities',\n",
       "       'Total Debt', 'Total Assets, Reported', 'Net Income - Actual',\n",
       "       'Revenue Per Share', 'Total Revenue', 'Total Equity',\n",
       "       'Total CO2 Equivalent Emissions To Revenues USD in million',\n",
       "       'ESG Score', 'Social Pillar Score', 'Governance Pillar Score',\n",
       "       'Environmental Pillar Score', 'Company Market Capitalization',\n",
       "       'Property Plant And Equipment, Total - Gross',\n",
       "       'P/E (Daily Time Series Ratio)'],\n",
       "      dtype='object')"
      ]
     },
     "execution_count": 19,
     "metadata": {},
     "output_type": "execute_result"
    }
   ],
   "source": [
    "firm_data.columns"
   ]
  },
  {
   "cell_type": "code",
   "execution_count": 28,
   "id": "7278305b",
   "metadata": {},
   "outputs": [
    {
     "name": "stdout",
     "output_type": "stream",
     "text": [
      "<class 'pandas.core.frame.DataFrame'>\n",
      "RangeIndex: 24479 entries, 0 to 24478\n",
      "Data columns (total 18 columns):\n",
      " #   Column                                                     Non-Null Count  Dtype         \n",
      "---  ------                                                     --------------  -----         \n",
      " 0   RIC                                                        24479 non-null  object        \n",
      " 1   Date                                                       24479 non-null  datetime64[ns]\n",
      " 2   Total Current Assets                                       22689 non-null  float64       \n",
      " 3   Total Current Liabilities                                  22681 non-null  float64       \n",
      " 4   Total Debt                                                 23628 non-null  float64       \n",
      " 5   Total Assets, Reported                                     23663 non-null  float64       \n",
      " 6   Net Income - Actual                                        21343 non-null  float64       \n",
      " 7   Revenue Per Share                                          23617 non-null  float64       \n",
      " 8   Total Revenue                                              23718 non-null  float64       \n",
      " 9   Total Equity                                               23640 non-null  float64       \n",
      " 10  Total CO2 Equivalent Emissions To Revenues USD in million  14408 non-null  float64       \n",
      " 11  ESG Score                                                  17762 non-null  float64       \n",
      " 12  Social Pillar Score                                        17761 non-null  float64       \n",
      " 13  Governance Pillar Score                                    17762 non-null  float64       \n",
      " 14  Environmental Pillar Score                                 17761 non-null  float64       \n",
      " 15  Company Market Capitalization                              22639 non-null  float64       \n",
      " 16  Property Plant And Equipment, Total - Gross                22116 non-null  float64       \n",
      " 17  P/E (Daily Time Series Ratio)                              19110 non-null  float64       \n",
      "dtypes: datetime64[ns](1), float64(16), object(1)\n",
      "memory usage: 3.4+ MB\n"
     ]
    }
   ],
   "source": [
    "firm_data.info()"
   ]
  },
  {
   "attachments": {},
   "cell_type": "markdown",
   "id": "3df04892",
   "metadata": {},
   "source": [
    "Share of NaN values in the data"
   ]
  },
  {
   "cell_type": "code",
   "execution_count": 27,
   "id": "4aaf530d",
   "metadata": {
    "scrolled": true
   },
   "outputs": [
    {
     "data": {
      "text/plain": [
       "RIC                                                           0.000000\n",
       "Date                                                          0.000000\n",
       "Total Current Assets                                          7.312390\n",
       "Total Current Liabilities                                     7.345071\n",
       "Total Debt                                                    3.476449\n",
       "Total Assets, Reported                                        3.333470\n",
       "Net Income - Actual                                          12.810981\n",
       "Revenue Per Share                                             3.521386\n",
       "Total Revenue                                                 3.108787\n",
       "Total Equity                                                  3.427428\n",
       "Total CO2 Equivalent Emissions To Revenues USD in million    41.141386\n",
       "ESG Score                                                    27.439846\n",
       "Social Pillar Score                                          27.443932\n",
       "Governance Pillar Score                                      27.439846\n",
       "Environmental Pillar Score                                   27.443932\n",
       "Company Market Capitalization                                 7.516647\n",
       "Property Plant And Equipment, Total - Gross                   9.653172\n",
       "P/E (Daily Time Series Ratio)                                21.933086\n",
       "dtype: float64"
      ]
     },
     "execution_count": 27,
     "metadata": {},
     "output_type": "execute_result"
    }
   ],
   "source": [
    "firm_data.isnull().sum() / len(firm_data) * 100"
   ]
  },
  {
   "attachments": {},
   "cell_type": "markdown",
   "id": "03d51e8a",
   "metadata": {},
   "source": [
    "We limit the data to only rows where there is a ESG Score"
   ]
  },
  {
   "cell_type": "code",
   "execution_count": 30,
   "id": "aeea1267",
   "metadata": {},
   "outputs": [
    {
     "data": {
      "text/plain": [
       "(17762, 18)"
      ]
     },
     "execution_count": 30,
     "metadata": {},
     "output_type": "execute_result"
    }
   ],
   "source": [
    "firm_data_with_ESG = firm_data[firm_data['ESG Score'].notna()].copy()\n",
    "firm_data_with_ESG.shape"
   ]
  },
  {
   "attachments": {},
   "cell_type": "markdown",
   "id": "daffd885",
   "metadata": {},
   "source": [
    "New NaN distribution for the data"
   ]
  },
  {
   "cell_type": "code",
   "execution_count": 31,
   "id": "4fe9a9c6",
   "metadata": {},
   "outputs": [
    {
     "data": {
      "text/plain": [
       "RIC                                                           0.000000\n",
       "Date                                                          0.000000\n",
       "Total Current Assets                                          2.961722\n",
       "Total Current Liabilities                                     2.961722\n",
       "Total Debt                                                    0.065362\n",
       "Total Assets, Reported                                        0.069447\n",
       "Net Income - Actual                                           2.688018\n",
       "Revenue Per Share                                             0.187916\n",
       "Total Revenue                                                 0.065362\n",
       "Total Equity                                                  0.069447\n",
       "Total CO2 Equivalent Emissions To Revenues USD in million    13.701540\n",
       "ESG Score                                                     0.000000\n",
       "Social Pillar Score                                           0.004085\n",
       "Governance Pillar Score                                       0.000000\n",
       "Environmental Pillar Score                                    0.004085\n",
       "Company Market Capitalization                                 0.584174\n",
       "Property Plant And Equipment, Total - Gross                   4.064709\n",
       "P/E (Daily Time Series Ratio)                                11.328077\n",
       "dtype: float64"
      ]
     },
     "execution_count": 31,
     "metadata": {},
     "output_type": "execute_result"
    }
   ],
   "source": [
    "firm_data_with_ESG.isnull().sum() / len(firm_data) * 100"
   ]
  },
  {
   "attachments": {},
   "cell_type": "markdown",
   "id": "ab23a636",
   "metadata": {},
   "source": [
    "Converting object to datatime"
   ]
  },
  {
   "cell_type": "code",
   "execution_count": 32,
   "id": "2f0e735b",
   "metadata": {},
   "outputs": [
    {
     "data": {
      "text/plain": [
       "2021-12-31    1866\n",
       "2020-12-31    1863\n",
       "2019-12-31    1767\n",
       "2018-12-31    1679\n",
       "2017-12-31    1459\n",
       "2016-12-31    1370\n",
       "2015-12-31    1266\n",
       "2014-12-31    1149\n",
       "2013-12-31    1121\n",
       "2012-12-31    1103\n",
       "2011-12-31    1076\n",
       "2010-12-31    1047\n",
       "2009-12-31     996\n",
       "Name: Date, dtype: int64"
      ]
     },
     "execution_count": 32,
     "metadata": {},
     "output_type": "execute_result"
    }
   ],
   "source": [
    "firm_data_with_ESG['Date'] = pd.to_datetime(firm_data_with_ESG['Date'],format=\"%d/%m/%Y\")\n",
    "firm_data_with_ESG['Date'].value_counts()"
   ]
  },
  {
   "attachments": {},
   "cell_type": "markdown",
   "id": "0c354040",
   "metadata": {},
   "source": [
    "### Return Data Import"
   ]
  },
  {
   "cell_type": "code",
   "execution_count": 53,
   "id": "ffa2e898",
   "metadata": {},
   "outputs": [],
   "source": [
    "return_data = pd.read_csv('Return_Data.csv')\n",
    "return_data = return_data.drop('Unnamed: 0', axis=1)"
   ]
  },
  {
   "cell_type": "code",
   "execution_count": 14,
   "id": "f9fa5b7b",
   "metadata": {},
   "outputs": [
    {
     "data": {
      "text/html": [
       "<div>\n",
       "<style scoped>\n",
       "    .dataframe tbody tr th:only-of-type {\n",
       "        vertical-align: middle;\n",
       "    }\n",
       "\n",
       "    .dataframe tbody tr th {\n",
       "        vertical-align: top;\n",
       "    }\n",
       "\n",
       "    .dataframe thead th {\n",
       "        text-align: right;\n",
       "    }\n",
       "</style>\n",
       "<table border=\"1\" class=\"dataframe\">\n",
       "  <thead>\n",
       "    <tr style=\"text-align: right;\">\n",
       "      <th></th>\n",
       "      <th>Date</th>\n",
       "      <th>INTU.O</th>\n",
       "      <th>HL</th>\n",
       "      <th>GILG.DE</th>\n",
       "      <th>APH</th>\n",
       "      <th>SGH.O</th>\n",
       "      <th>PMAG.S</th>\n",
       "      <th>RTX</th>\n",
       "      <th>SOLARb.CO</th>\n",
       "      <th>OBEL.BR</th>\n",
       "      <th>...</th>\n",
       "      <th>XYL</th>\n",
       "      <th>SCHN.PA</th>\n",
       "      <th>PRGO.K</th>\n",
       "      <th>TRELb.ST</th>\n",
       "      <th>SRG.MI</th>\n",
       "      <th>LOG.MC</th>\n",
       "      <th>GEO.MI</th>\n",
       "      <th>NRG</th>\n",
       "      <th>MYTr.AT</th>\n",
       "      <th>TEMN.S</th>\n",
       "    </tr>\n",
       "  </thead>\n",
       "  <tbody>\n",
       "    <tr>\n",
       "      <th>0</th>\n",
       "      <td>2000-01-31</td>\n",
       "      <td>0.625652</td>\n",
       "      <td>-12.000000</td>\n",
       "      <td>11.671470</td>\n",
       "      <td>1.971831</td>\n",
       "      <td>0.0</td>\n",
       "      <td>0.0</td>\n",
       "      <td>-18.557692</td>\n",
       "      <td>0.000000</td>\n",
       "      <td>-25.558487</td>\n",
       "      <td>...</td>\n",
       "      <td>0.0</td>\n",
       "      <td>-6.991661</td>\n",
       "      <td>7.421875</td>\n",
       "      <td>-1.045752e+01</td>\n",
       "      <td>0.0</td>\n",
       "      <td>0.0</td>\n",
       "      <td>0.0</td>\n",
       "      <td>0.0</td>\n",
       "      <td>-23.040752</td>\n",
       "      <td>0.0</td>\n",
       "    </tr>\n",
       "    <tr>\n",
       "      <th>1</th>\n",
       "      <td>2000-02-29</td>\n",
       "      <td>-12.953368</td>\n",
       "      <td>4.545455</td>\n",
       "      <td>-2.580645</td>\n",
       "      <td>17.771639</td>\n",
       "      <td>0.0</td>\n",
       "      <td>0.0</td>\n",
       "      <td>-3.408844</td>\n",
       "      <td>-2.777778</td>\n",
       "      <td>13.397921</td>\n",
       "      <td>...</td>\n",
       "      <td>0.0</td>\n",
       "      <td>-7.586207</td>\n",
       "      <td>-14.545455</td>\n",
       "      <td>-1.021898e+01</td>\n",
       "      <td>0.0</td>\n",
       "      <td>0.0</td>\n",
       "      <td>0.0</td>\n",
       "      <td>0.0</td>\n",
       "      <td>-18.533605</td>\n",
       "      <td>0.0</td>\n",
       "    </tr>\n",
       "    <tr>\n",
       "      <th>2</th>\n",
       "      <td>2000-03-31</td>\n",
       "      <td>3.571429</td>\n",
       "      <td>-4.347826</td>\n",
       "      <td>3.973510</td>\n",
       "      <td>27.912432</td>\n",
       "      <td>0.0</td>\n",
       "      <td>0.0</td>\n",
       "      <td>24.049080</td>\n",
       "      <td>3.428571</td>\n",
       "      <td>-1.521150</td>\n",
       "      <td>...</td>\n",
       "      <td>0.0</td>\n",
       "      <td>-0.447761</td>\n",
       "      <td>3.404255</td>\n",
       "      <td>-8.130081e-01</td>\n",
       "      <td>0.0</td>\n",
       "      <td>0.0</td>\n",
       "      <td>0.0</td>\n",
       "      <td>0.0</td>\n",
       "      <td>1.125000</td>\n",
       "      <td>0.0</td>\n",
       "    </tr>\n",
       "    <tr>\n",
       "      <th>3</th>\n",
       "      <td>2000-04-30</td>\n",
       "      <td>-33.908046</td>\n",
       "      <td>-9.090909</td>\n",
       "      <td>5.732484</td>\n",
       "      <td>24.694377</td>\n",
       "      <td>0.0</td>\n",
       "      <td>0.0</td>\n",
       "      <td>-1.582591</td>\n",
       "      <td>2.287293</td>\n",
       "      <td>-14.621244</td>\n",
       "      <td>...</td>\n",
       "      <td>0.0</td>\n",
       "      <td>7.946027</td>\n",
       "      <td>-25.102881</td>\n",
       "      <td>3.516658e+00</td>\n",
       "      <td>0.0</td>\n",
       "      <td>0.0</td>\n",
       "      <td>0.0</td>\n",
       "      <td>0.0</td>\n",
       "      <td>-20.519159</td>\n",
       "      <td>0.0</td>\n",
       "    </tr>\n",
       "    <tr>\n",
       "      <th>4</th>\n",
       "      <td>2000-05-31</td>\n",
       "      <td>0.869565</td>\n",
       "      <td>-15.000000</td>\n",
       "      <td>11.862429</td>\n",
       "      <td>-28.235294</td>\n",
       "      <td>0.0</td>\n",
       "      <td>0.0</td>\n",
       "      <td>-2.515897</td>\n",
       "      <td>2.040297</td>\n",
       "      <td>-9.491945</td>\n",
       "      <td>...</td>\n",
       "      <td>0.0</td>\n",
       "      <td>-0.833333</td>\n",
       "      <td>5.494505</td>\n",
       "      <td>-4.023120e-10</td>\n",
       "      <td>0.0</td>\n",
       "      <td>0.0</td>\n",
       "      <td>0.0</td>\n",
       "      <td>0.0</td>\n",
       "      <td>19.284603</td>\n",
       "      <td>0.0</td>\n",
       "    </tr>\n",
       "  </tbody>\n",
       "</table>\n",
       "<p>5 rows × 1884 columns</p>\n",
       "</div>"
      ],
      "text/plain": [
       "         Date     INTU.O         HL    GILG.DE        APH  SGH.O  PMAG.S  \\\n",
       "0  2000-01-31   0.625652 -12.000000  11.671470   1.971831    0.0     0.0   \n",
       "1  2000-02-29 -12.953368   4.545455  -2.580645  17.771639    0.0     0.0   \n",
       "2  2000-03-31   3.571429  -4.347826   3.973510  27.912432    0.0     0.0   \n",
       "3  2000-04-30 -33.908046  -9.090909   5.732484  24.694377    0.0     0.0   \n",
       "4  2000-05-31   0.869565 -15.000000  11.862429 -28.235294    0.0     0.0   \n",
       "\n",
       "         RTX  SOLARb.CO    OBEL.BR  ...  XYL   SCHN.PA     PRGO.K  \\\n",
       "0 -18.557692   0.000000 -25.558487  ...  0.0 -6.991661   7.421875   \n",
       "1  -3.408844  -2.777778  13.397921  ...  0.0 -7.586207 -14.545455   \n",
       "2  24.049080   3.428571  -1.521150  ...  0.0 -0.447761   3.404255   \n",
       "3  -1.582591   2.287293 -14.621244  ...  0.0  7.946027 -25.102881   \n",
       "4  -2.515897   2.040297  -9.491945  ...  0.0 -0.833333   5.494505   \n",
       "\n",
       "       TRELb.ST  SRG.MI  LOG.MC  GEO.MI  NRG    MYTr.AT  TEMN.S  \n",
       "0 -1.045752e+01     0.0     0.0     0.0  0.0 -23.040752     0.0  \n",
       "1 -1.021898e+01     0.0     0.0     0.0  0.0 -18.533605     0.0  \n",
       "2 -8.130081e-01     0.0     0.0     0.0  0.0   1.125000     0.0  \n",
       "3  3.516658e+00     0.0     0.0     0.0  0.0 -20.519159     0.0  \n",
       "4 -4.023120e-10     0.0     0.0     0.0  0.0  19.284603     0.0  \n",
       "\n",
       "[5 rows x 1884 columns]"
      ]
     },
     "execution_count": 14,
     "metadata": {},
     "output_type": "execute_result"
    }
   ],
   "source": [
    "return_data.head()"
   ]
  },
  {
   "cell_type": "code",
   "execution_count": 35,
   "id": "c1664a45",
   "metadata": {},
   "outputs": [
    {
     "name": "stdout",
     "output_type": "stream",
     "text": [
      "<class 'pandas.core.frame.DataFrame'>\n",
      "RangeIndex: 261 entries, 0 to 260\n",
      "Data columns (total 2 columns):\n",
      " #   Column  Non-Null Count  Dtype  \n",
      "---  ------  --------------  -----  \n",
      " 0   Date    261 non-null    object \n",
      " 1   HL      261 non-null    float64\n",
      "dtypes: float64(1), object(1)\n",
      "memory usage: 4.2+ KB\n"
     ]
    }
   ],
   "source": [
    "return_data[['Date','HL']].info()"
   ]
  },
  {
   "cell_type": "code",
   "execution_count": 54,
   "id": "ad64bf91",
   "metadata": {},
   "outputs": [
    {
     "data": {
      "text/plain": [
       "261"
      ]
     },
     "execution_count": 54,
     "metadata": {},
     "output_type": "execute_result"
    }
   ],
   "source": [
    "return_data['Date'] = pd.to_datetime(return_data['Date'],format=\"%Y/%m/%d\")\n",
    "return_data['Date'].nunique()"
   ]
  },
  {
   "cell_type": "markdown",
   "id": "5706d1b7",
   "metadata": {},
   "source": [
    "We have data from 2000s in the return data. However, in our firm data - we have data only from 2009. \n",
    "Hence, we will limit our return data as per the timeline of firm data"
   ]
  },
  {
   "cell_type": "code",
   "execution_count": 55,
   "id": "8488ed87",
   "metadata": {},
   "outputs": [
    {
     "data": {
      "text/plain": [
       "(Timestamp('2009-12-31 00:00:00'), Timestamp('2021-12-31 00:00:00'))"
      ]
     },
     "execution_count": 55,
     "metadata": {},
     "output_type": "execute_result"
    }
   ],
   "source": [
    "firm_data_with_ESG['Date'].min(), firm_data_with_ESG['Date'].max()"
   ]
  },
  {
   "cell_type": "code",
   "execution_count": 56,
   "id": "21d16e3a",
   "metadata": {},
   "outputs": [
    {
     "data": {
      "text/plain": [
       "(Timestamp('2000-01-31 00:00:00'), Timestamp('2021-09-30 00:00:00'))"
      ]
     },
     "execution_count": 56,
     "metadata": {},
     "output_type": "execute_result"
    }
   ],
   "source": [
    "return_data['Date'].min(), return_data['Date'].max()"
   ]
  },
  {
   "cell_type": "code",
   "execution_count": 57,
   "id": "c3a56fd9",
   "metadata": {},
   "outputs": [],
   "source": [
    "start_date = '2009-01-01'\n",
    "end_date = '2021-12-31'\n",
    "mask = return_data['Date'].between(start_date, end_date)\n",
    "return_data = return_data[mask]"
   ]
  },
  {
   "cell_type": "code",
   "execution_count": 58,
   "id": "f0a5e947",
   "metadata": {},
   "outputs": [
    {
     "data": {
      "text/plain": [
       "153"
      ]
     },
     "execution_count": 58,
     "metadata": {},
     "output_type": "execute_result"
    }
   ],
   "source": [
    "return_data['Date'] = pd.to_datetime(return_data['Date'],format=\"%Y/%m/%d\")\n",
    "return_data['Date'].nunique()"
   ]
  },
  {
   "cell_type": "code",
   "execution_count": 59,
   "id": "4f9236f3",
   "metadata": {},
   "outputs": [
    {
     "data": {
      "text/plain": [
       "(Timestamp('2009-01-31 00:00:00'), Timestamp('2021-09-30 00:00:00'))"
      ]
     },
     "execution_count": 59,
     "metadata": {},
     "output_type": "execute_result"
    }
   ],
   "source": [
    "return_data['Date'].min(), return_data['Date'].max()"
   ]
  },
  {
   "attachments": {},
   "cell_type": "markdown",
   "id": "df81254c",
   "metadata": {},
   "source": [
    "Transforming columns to rows"
   ]
  },
  {
   "cell_type": "code",
   "execution_count": 60,
   "id": "033a8833",
   "metadata": {},
   "outputs": [],
   "source": [
    "return_data = pd.melt(return_data, id_vars='Date', var_name='RIC', value_name='returns_monthly')"
   ]
  },
  {
   "attachments": {},
   "cell_type": "markdown",
   "id": "c9759c6b",
   "metadata": {},
   "source": [
    "### Combining Return Data with Firm Data"
   ]
  },
  {
   "attachments": {},
   "cell_type": "markdown",
   "id": "7a4317e6",
   "metadata": {},
   "source": [
    "Before we combine, we need to bring return data to year level since firm data is at the year level. "
   ]
  },
  {
   "cell_type": "code",
   "execution_count": 61,
   "id": "3817bc00",
   "metadata": {},
   "outputs": [],
   "source": [
    "return_data['Year'] = return_data['Date'].dt.year"
   ]
  },
  {
   "cell_type": "code",
   "execution_count": 62,
   "id": "af443cdb",
   "metadata": {},
   "outputs": [
    {
     "data": {
      "text/html": [
       "<div>\n",
       "<style scoped>\n",
       "    .dataframe tbody tr th:only-of-type {\n",
       "        vertical-align: middle;\n",
       "    }\n",
       "\n",
       "    .dataframe tbody tr th {\n",
       "        vertical-align: top;\n",
       "    }\n",
       "\n",
       "    .dataframe thead th {\n",
       "        text-align: right;\n",
       "    }\n",
       "</style>\n",
       "<table border=\"1\" class=\"dataframe\">\n",
       "  <thead>\n",
       "    <tr style=\"text-align: right;\">\n",
       "      <th></th>\n",
       "      <th>Date</th>\n",
       "      <th>RIC</th>\n",
       "      <th>returns_monthly</th>\n",
       "      <th>Year</th>\n",
       "    </tr>\n",
       "  </thead>\n",
       "  <tbody>\n",
       "    <tr>\n",
       "      <th>0</th>\n",
       "      <td>2009-01-31</td>\n",
       "      <td>INTU.O</td>\n",
       "      <td>-4.791929</td>\n",
       "      <td>2009</td>\n",
       "    </tr>\n",
       "    <tr>\n",
       "      <th>1</th>\n",
       "      <td>2009-02-28</td>\n",
       "      <td>INTU.O</td>\n",
       "      <td>0.618102</td>\n",
       "      <td>2009</td>\n",
       "    </tr>\n",
       "    <tr>\n",
       "      <th>2</th>\n",
       "      <td>2009-03-31</td>\n",
       "      <td>INTU.O</td>\n",
       "      <td>18.473014</td>\n",
       "      <td>2009</td>\n",
       "    </tr>\n",
       "    <tr>\n",
       "      <th>3</th>\n",
       "      <td>2009-04-30</td>\n",
       "      <td>INTU.O</td>\n",
       "      <td>-14.333333</td>\n",
       "      <td>2009</td>\n",
       "    </tr>\n",
       "    <tr>\n",
       "      <th>4</th>\n",
       "      <td>2009-05-31</td>\n",
       "      <td>INTU.O</td>\n",
       "      <td>17.682663</td>\n",
       "      <td>2009</td>\n",
       "    </tr>\n",
       "  </tbody>\n",
       "</table>\n",
       "</div>"
      ],
      "text/plain": [
       "        Date     RIC  returns_monthly  Year\n",
       "0 2009-01-31  INTU.O        -4.791929  2009\n",
       "1 2009-02-28  INTU.O         0.618102  2009\n",
       "2 2009-03-31  INTU.O        18.473014  2009\n",
       "3 2009-04-30  INTU.O       -14.333333  2009\n",
       "4 2009-05-31  INTU.O        17.682663  2009"
      ]
     },
     "execution_count": 62,
     "metadata": {},
     "output_type": "execute_result"
    }
   ],
   "source": [
    "return_data.head()"
   ]
  },
  {
   "cell_type": "code",
   "execution_count": 73,
   "id": "9c30fc6c",
   "metadata": {},
   "outputs": [
    {
     "data": {
      "text/html": [
       "<div>\n",
       "<style scoped>\n",
       "    .dataframe tbody tr th:only-of-type {\n",
       "        vertical-align: middle;\n",
       "    }\n",
       "\n",
       "    .dataframe tbody tr th {\n",
       "        vertical-align: top;\n",
       "    }\n",
       "\n",
       "    .dataframe thead th {\n",
       "        text-align: right;\n",
       "    }\n",
       "</style>\n",
       "<table border=\"1\" class=\"dataframe\">\n",
       "  <thead>\n",
       "    <tr style=\"text-align: right;\">\n",
       "      <th></th>\n",
       "      <th>RIC</th>\n",
       "      <th>Year</th>\n",
       "      <th>returns_yearly</th>\n",
       "    </tr>\n",
       "  </thead>\n",
       "  <tbody>\n",
       "    <tr>\n",
       "      <th>0</th>\n",
       "      <td>0973.HK</td>\n",
       "      <td>2009</td>\n",
       "      <td>0.000000</td>\n",
       "    </tr>\n",
       "    <tr>\n",
       "      <th>1</th>\n",
       "      <td>0973.HK</td>\n",
       "      <td>2010</td>\n",
       "      <td>46.444961</td>\n",
       "    </tr>\n",
       "    <tr>\n",
       "      <th>2</th>\n",
       "      <td>0973.HK</td>\n",
       "      <td>2011</td>\n",
       "      <td>-23.899519</td>\n",
       "    </tr>\n",
       "    <tr>\n",
       "      <th>3</th>\n",
       "      <td>0973.HK</td>\n",
       "      <td>2012</td>\n",
       "      <td>51.000108</td>\n",
       "    </tr>\n",
       "    <tr>\n",
       "      <th>4</th>\n",
       "      <td>0973.HK</td>\n",
       "      <td>2013</td>\n",
       "      <td>-34.498730</td>\n",
       "    </tr>\n",
       "  </tbody>\n",
       "</table>\n",
       "</div>"
      ],
      "text/plain": [
       "       RIC  Year  returns_yearly\n",
       "0  0973.HK  2009        0.000000\n",
       "1  0973.HK  2010       46.444961\n",
       "2  0973.HK  2011      -23.899519\n",
       "3  0973.HK  2012       51.000108\n",
       "4  0973.HK  2013      -34.498730"
      ]
     },
     "execution_count": 73,
     "metadata": {},
     "output_type": "execute_result"
    }
   ],
   "source": [
    "returns_yearly = return_data.groupby([return_data['RIC'], return_data['Year']],as_index=False)['returns_monthly'].sum()\n",
    "returns_yearly.rename(columns={\"returns_monthly\":\"returns_yearly\"},inplace=True)\n",
    "returns_yearly.head()"
   ]
  },
  {
   "cell_type": "code",
   "execution_count": 74,
   "id": "cda021a0",
   "metadata": {},
   "outputs": [],
   "source": [
    "returns_yearly.to_csv('yearly_return.csv', index=False)"
   ]
  },
  {
   "cell_type": "code",
   "execution_count": 70,
   "id": "df7e62a0",
   "metadata": {},
   "outputs": [],
   "source": [
    "firm_data_with_ESG['Year'] = firm_data_with_ESG['Date'].dt.year"
   ]
  },
  {
   "cell_type": "code",
   "execution_count": 77,
   "id": "912d2251",
   "metadata": {},
   "outputs": [],
   "source": [
    "firm_returns_merged = firm_data_with_ESG.merge(returns_yearly, how=\"left\", on=['RIC', 'Year'])"
   ]
  },
  {
   "cell_type": "code",
   "execution_count": 78,
   "id": "4e39e20f",
   "metadata": {},
   "outputs": [
    {
     "data": {
      "text/html": [
       "<div>\n",
       "<style scoped>\n",
       "    .dataframe tbody tr th:only-of-type {\n",
       "        vertical-align: middle;\n",
       "    }\n",
       "\n",
       "    .dataframe tbody tr th {\n",
       "        vertical-align: top;\n",
       "    }\n",
       "\n",
       "    .dataframe thead th {\n",
       "        text-align: right;\n",
       "    }\n",
       "</style>\n",
       "<table border=\"1\" class=\"dataframe\">\n",
       "  <thead>\n",
       "    <tr style=\"text-align: right;\">\n",
       "      <th></th>\n",
       "      <th>RIC</th>\n",
       "      <th>Date</th>\n",
       "      <th>Total Current Assets</th>\n",
       "      <th>Total Current Liabilities</th>\n",
       "      <th>Total Debt</th>\n",
       "      <th>Total Assets, Reported</th>\n",
       "      <th>Net Income - Actual</th>\n",
       "      <th>Revenue Per Share</th>\n",
       "      <th>Total Revenue</th>\n",
       "      <th>Total Equity</th>\n",
       "      <th>Total CO2 Equivalent Emissions To Revenues USD in million</th>\n",
       "      <th>ESG Score</th>\n",
       "      <th>Social Pillar Score</th>\n",
       "      <th>Governance Pillar Score</th>\n",
       "      <th>Environmental Pillar Score</th>\n",
       "      <th>Company Market Capitalization</th>\n",
       "      <th>Property Plant And Equipment, Total - Gross</th>\n",
       "      <th>P/E (Daily Time Series Ratio)</th>\n",
       "      <th>Year</th>\n",
       "      <th>returns_yearly</th>\n",
       "    </tr>\n",
       "  </thead>\n",
       "  <tbody>\n",
       "    <tr>\n",
       "      <th>0</th>\n",
       "      <td>BVIC.L</td>\n",
       "      <td>2009-12-31</td>\n",
       "      <td>434.373405</td>\n",
       "      <td>483.824655</td>\n",
       "      <td>718.957376</td>\n",
       "      <td>1361.504594</td>\n",
       "      <td>107.309409</td>\n",
       "      <td>7.068281</td>\n",
       "      <td>1561.383359</td>\n",
       "      <td>-3.988004</td>\n",
       "      <td>NaN</td>\n",
       "      <td>51.267135</td>\n",
       "      <td>45.539754</td>\n",
       "      <td>59.077651</td>\n",
       "      <td>53.535053</td>\n",
       "      <td>1430.561330</td>\n",
       "      <td>817.381317</td>\n",
       "      <td>19.299905</td>\n",
       "      <td>2009</td>\n",
       "      <td>48.651108</td>\n",
       "    </tr>\n",
       "    <tr>\n",
       "      <th>1</th>\n",
       "      <td>BVIC.L</td>\n",
       "      <td>2010-12-31</td>\n",
       "      <td>579.778906</td>\n",
       "      <td>580.095207</td>\n",
       "      <td>901.298414</td>\n",
       "      <td>1655.358922</td>\n",
       "      <td>139.656087</td>\n",
       "      <td>8.006665</td>\n",
       "      <td>1800.699024</td>\n",
       "      <td>-48.552134</td>\n",
       "      <td>NaN</td>\n",
       "      <td>50.550242</td>\n",
       "      <td>57.622888</td>\n",
       "      <td>31.890959</td>\n",
       "      <td>55.261467</td>\n",
       "      <td>1772.376566</td>\n",
       "      <td>889.120843</td>\n",
       "      <td>16.927900</td>\n",
       "      <td>2010</td>\n",
       "      <td>15.557061</td>\n",
       "    </tr>\n",
       "    <tr>\n",
       "      <th>2</th>\n",
       "      <td>BVIC.L</td>\n",
       "      <td>2011-12-31</td>\n",
       "      <td>598.968478</td>\n",
       "      <td>607.694345</td>\n",
       "      <td>893.154869</td>\n",
       "      <td>1660.096296</td>\n",
       "      <td>122.255528</td>\n",
       "      <td>7.912984</td>\n",
       "      <td>2010.689188</td>\n",
       "      <td>35.059289</td>\n",
       "      <td>NaN</td>\n",
       "      <td>46.732870</td>\n",
       "      <td>57.397993</td>\n",
       "      <td>28.924942</td>\n",
       "      <td>45.229496</td>\n",
       "      <td>1205.126197</td>\n",
       "      <td>836.280911</td>\n",
       "      <td>13.534436</td>\n",
       "      <td>2011</td>\n",
       "      <td>-33.927688</td>\n",
       "    </tr>\n",
       "    <tr>\n",
       "      <th>3</th>\n",
       "      <td>BVIC.L</td>\n",
       "      <td>2012-12-31</td>\n",
       "      <td>615.523874</td>\n",
       "      <td>601.137943</td>\n",
       "      <td>907.121844</td>\n",
       "      <td>1658.099764</td>\n",
       "      <td>100.765756</td>\n",
       "      <td>7.914423</td>\n",
       "      <td>2030.840850</td>\n",
       "      <td>59.968319</td>\n",
       "      <td>NaN</td>\n",
       "      <td>57.941343</td>\n",
       "      <td>70.633040</td>\n",
       "      <td>37.216902</td>\n",
       "      <td>55.762859</td>\n",
       "      <td>1603.272359</td>\n",
       "      <td>872.046035</td>\n",
       "      <td>18.363571</td>\n",
       "      <td>2012</td>\n",
       "      <td>27.226920</td>\n",
       "    </tr>\n",
       "    <tr>\n",
       "      <th>4</th>\n",
       "      <td>BVIC.L</td>\n",
       "      <td>2013-12-31</td>\n",
       "      <td>748.229068</td>\n",
       "      <td>814.064189</td>\n",
       "      <td>895.874010</td>\n",
       "      <td>1714.940377</td>\n",
       "      <td>133.919162</td>\n",
       "      <td>8.716901</td>\n",
       "      <td>2133.025672</td>\n",
       "      <td>65.996482</td>\n",
       "      <td>31.296503</td>\n",
       "      <td>49.513243</td>\n",
       "      <td>52.778937</td>\n",
       "      <td>33.146107</td>\n",
       "      <td>58.148148</td>\n",
       "      <td>2819.919676</td>\n",
       "      <td>907.653333</td>\n",
       "      <td>27.421399</td>\n",
       "      <td>2013</td>\n",
       "      <td>56.909555</td>\n",
       "    </tr>\n",
       "  </tbody>\n",
       "</table>\n",
       "</div>"
      ],
      "text/plain": [
       "      RIC       Date  Total Current Assets  Total Current Liabilities  \\\n",
       "0  BVIC.L 2009-12-31            434.373405                 483.824655   \n",
       "1  BVIC.L 2010-12-31            579.778906                 580.095207   \n",
       "2  BVIC.L 2011-12-31            598.968478                 607.694345   \n",
       "3  BVIC.L 2012-12-31            615.523874                 601.137943   \n",
       "4  BVIC.L 2013-12-31            748.229068                 814.064189   \n",
       "\n",
       "   Total Debt  Total Assets, Reported  Net Income - Actual  Revenue Per Share  \\\n",
       "0  718.957376             1361.504594           107.309409           7.068281   \n",
       "1  901.298414             1655.358922           139.656087           8.006665   \n",
       "2  893.154869             1660.096296           122.255528           7.912984   \n",
       "3  907.121844             1658.099764           100.765756           7.914423   \n",
       "4  895.874010             1714.940377           133.919162           8.716901   \n",
       "\n",
       "   Total Revenue  Total Equity  \\\n",
       "0    1561.383359     -3.988004   \n",
       "1    1800.699024    -48.552134   \n",
       "2    2010.689188     35.059289   \n",
       "3    2030.840850     59.968319   \n",
       "4    2133.025672     65.996482   \n",
       "\n",
       "   Total CO2 Equivalent Emissions To Revenues USD in million  ESG Score  \\\n",
       "0                                                NaN          51.267135   \n",
       "1                                                NaN          50.550242   \n",
       "2                                                NaN          46.732870   \n",
       "3                                                NaN          57.941343   \n",
       "4                                          31.296503          49.513243   \n",
       "\n",
       "   Social Pillar Score  Governance Pillar Score  Environmental Pillar Score  \\\n",
       "0            45.539754                59.077651                   53.535053   \n",
       "1            57.622888                31.890959                   55.261467   \n",
       "2            57.397993                28.924942                   45.229496   \n",
       "3            70.633040                37.216902                   55.762859   \n",
       "4            52.778937                33.146107                   58.148148   \n",
       "\n",
       "   Company Market Capitalization  Property Plant And Equipment, Total - Gross  \\\n",
       "0                    1430.561330                                   817.381317   \n",
       "1                    1772.376566                                   889.120843   \n",
       "2                    1205.126197                                   836.280911   \n",
       "3                    1603.272359                                   872.046035   \n",
       "4                    2819.919676                                   907.653333   \n",
       "\n",
       "   P/E (Daily Time Series Ratio)  Year  returns_yearly  \n",
       "0                      19.299905  2009       48.651108  \n",
       "1                      16.927900  2010       15.557061  \n",
       "2                      13.534436  2011      -33.927688  \n",
       "3                      18.363571  2012       27.226920  \n",
       "4                      27.421399  2013       56.909555  "
      ]
     },
     "execution_count": 78,
     "metadata": {},
     "output_type": "execute_result"
    }
   ],
   "source": [
    "firm_returns_merged.head()"
   ]
  },
  {
   "cell_type": "code",
   "execution_count": 80,
   "id": "d69dcf50",
   "metadata": {},
   "outputs": [
    {
     "name": "stdout",
     "output_type": "stream",
     "text": [
      "<class 'pandas.core.frame.DataFrame'>\n",
      "Int64Index: 17762 entries, 0 to 17761\n",
      "Data columns (total 20 columns):\n",
      " #   Column                                                     Non-Null Count  Dtype         \n",
      "---  ------                                                     --------------  -----         \n",
      " 0   RIC                                                        17762 non-null  object        \n",
      " 1   Date                                                       17762 non-null  datetime64[ns]\n",
      " 2   Total Current Assets                                       17037 non-null  float64       \n",
      " 3   Total Current Liabilities                                  17037 non-null  float64       \n",
      " 4   Total Debt                                                 17746 non-null  float64       \n",
      " 5   Total Assets, Reported                                     17745 non-null  float64       \n",
      " 6   Net Income - Actual                                        17104 non-null  float64       \n",
      " 7   Revenue Per Share                                          17716 non-null  float64       \n",
      " 8   Total Revenue                                              17746 non-null  float64       \n",
      " 9   Total Equity                                               17745 non-null  float64       \n",
      " 10  Total CO2 Equivalent Emissions To Revenues USD in million  14408 non-null  float64       \n",
      " 11  ESG Score                                                  17762 non-null  float64       \n",
      " 12  Social Pillar Score                                        17761 non-null  float64       \n",
      " 13  Governance Pillar Score                                    17762 non-null  float64       \n",
      " 14  Environmental Pillar Score                                 17761 non-null  float64       \n",
      " 15  Company Market Capitalization                              17619 non-null  float64       \n",
      " 16  Property Plant And Equipment, Total - Gross                16767 non-null  float64       \n",
      " 17  P/E (Daily Time Series Ratio)                              14989 non-null  float64       \n",
      " 18  Year                                                       17762 non-null  int64         \n",
      " 19  returns_yearly                                             17762 non-null  float64       \n",
      "dtypes: datetime64[ns](1), float64(17), int64(1), object(1)\n",
      "memory usage: 2.8+ MB\n"
     ]
    }
   ],
   "source": [
    "firm_returns_merged.info()"
   ]
  },
  {
   "cell_type": "code",
   "execution_count": 79,
   "id": "1b8bcef3",
   "metadata": {},
   "outputs": [],
   "source": [
    "firm_returns_merged.to_csv('firm_returns_merged.csv', index=False)"
   ]
  },
  {
   "attachments": {},
   "cell_type": "markdown",
   "id": "85bcf566",
   "metadata": {},
   "source": [
    "### Visualising the distribution "
   ]
  },
  {
   "attachments": {},
   "cell_type": "markdown",
   "id": "265b8d54",
   "metadata": {},
   "source": [
    "##### Correlation heatmaps"
   ]
  },
  {
   "attachments": {},
   "cell_type": "markdown",
   "id": "25d03d10",
   "metadata": {},
   "source": [
    "It is clear from the heatmap that there is a strong correlation between the following features :\n",
    "\n",
    "(We look into correlation values >= 0.8)\n",
    "\n",
    "1. Total Current Assets - Total Current Liabilities - Total Debt - Total Assets, Reported\n",
    "2. Total Equity - Total Assests, Reported"
   ]
  },
  {
   "cell_type": "code",
   "execution_count": 99,
   "id": "fb14d161",
   "metadata": {},
   "outputs": [],
   "source": [
    "columns = [\n",
    "    \"Total Current Assets\",\n",
    "    \"Total Current Liabilities\",\n",
    "    \"Total Debt\",\n",
    "    \"Total Assets, Reported\",\n",
    "    \"Net Income - Actual\",\n",
    "    \"Total Revenue\",\n",
    "    \"Total Equity\",\n",
    "    \"ESG Score\",\n",
    "]"
   ]
  },
  {
   "cell_type": "code",
   "execution_count": 100,
   "id": "be70ab87",
   "metadata": {},
   "outputs": [
    {
     "data": {
      "image/png": "[encoded data removed]",
      "text/plain": [
       "<Figure size 640x480 with 2 Axes>"
      ]
     },
     "metadata": {},
     "output_type": "display_data"
    },
    {
     "data": {
      "text/plain": [
       "<Figure size 2000x2000 with 0 Axes>"
      ]
     },
     "metadata": {},
     "output_type": "display_data"
    }
   ],
   "source": [
    "cormat = df_firm[columns].corr()\n",
    "sns.heatmap(cormat, annot=True)\n",
    "plt.figure(figsize=(20, 20))\n",
    "plt.show()"
   ]
  },
  {
   "attachments": {},
   "cell_type": "markdown",
   "id": "3fbfbd99",
   "metadata": {},
   "source": [
    "It is clear from the heatmap that none of these features are correlated among each other"
   ]
  },
  {
   "cell_type": "code",
   "execution_count": 101,
   "id": "a548ed8a",
   "metadata": {},
   "outputs": [],
   "source": [
    "columns = [\n",
    "    \"Revenue Per Share\",\n",
    "    \"CO2 Emissions\",\n",
    "    \"Company Market Capitalization\",\n",
    "    \"PPE Total\",\n",
    "    \"P/E (Daily Time Series Ratio)\",\n",
    "    \"ESG Score\",\n",
    "]"
   ]
  },
  {
   "cell_type": "code",
   "execution_count": 102,
   "id": "706df270",
   "metadata": {},
   "outputs": [
    {
     "data": {
      "image/png": "[encoded data removed]",
      "text/plain": [
       "<Figure size 640x480 with 2 Axes>"
      ]
     },
     "metadata": {},
     "output_type": "display_data"
    },
    {
     "data": {
      "text/plain": [
       "<Figure size 2000x2000 with 0 Axes>"
      ]
     },
     "metadata": {},
     "output_type": "display_data"
    }
   ],
   "source": [
    "cormat = df_firm[columns].corr()\n",
    "sns.heatmap(cormat, annot=True)\n",
    "plt.figure(figsize=(20, 20))\n",
    "plt.show()"
   ]
  },
  {
   "cell_type": "code",
   "execution_count": 103,
   "id": "5266a6b2",
   "metadata": {},
   "outputs": [],
   "source": [
    "columns = [\n",
    "    \"Total Current Assets\",\n",
    "    \"Total Current Liabilities\",\n",
    "    \"Total Debt\",\n",
    "    \"Total Assets, Reported\",\n",
    "    \"Total Revenue\",\n",
    "    \"Total Equity\",\n",
    "    \"Net Income - Actual\",\n",
    "    \"PPE Total\",\n",
    "    \"Revenue Per Share\",\n",
    "    \"CO2 Emissions\",\n",
    "    \"Company Market Capitalization\",\n",
    "    \"P/E (Daily Time Series Ratio)\",\n",
    "]"
   ]
  },
  {
   "cell_type": "code",
   "execution_count": 104,
   "id": "e2c20bc3",
   "metadata": {},
   "outputs": [
    {
     "data": {
      "image/png": "[encoded data removed]",
      "text/plain": [
       "<Figure size 640x480 with 2 Axes>"
      ]
     },
     "metadata": {},
     "output_type": "display_data"
    },
    {
     "data": {
      "text/plain": [
       "<Figure size 3000x3000 with 0 Axes>"
      ]
     },
     "metadata": {},
     "output_type": "display_data"
    }
   ],
   "source": [
    "cormat = df_firm[columns].corr()\n",
    "sns.heatmap(cormat, annot=True, fmt=\".1f\")\n",
    "plt.figure(figsize=(30, 30))\n",
    "plt.show()"
   ]
  },
  {
   "attachments": {},
   "cell_type": "markdown",
   "id": "59dcceef",
   "metadata": {},
   "source": [
    "#### Data Imputation"
   ]
  },
  {
   "cell_type": "code",
   "execution_count": 105,
   "id": "f0aedb1e",
   "metadata": {},
   "outputs": [],
   "source": [
    "columns_to_impute = [\n",
    "    \"Total Current Assets\",\n",
    "    \"Total Current Liabilities\",\n",
    "    \"Total Debt\",\n",
    "    \"Total Assets, Reported\",\n",
    "    \"Net Income - Actual\",\n",
    "    \"Revenue Per Share\",\n",
    "    \"Total Revenue\",\n",
    "    \"Total Equity\",\n",
    "    \"CO2 Emissions\",\n",
    "    \"Company Market Capitalization\",\n",
    "    \"PPE Total\",\n",
    "    \"P/E (Daily Time Series Ratio)\",\n",
    "]"
   ]
  },
  {
   "cell_type": "code",
   "execution_count": 106,
   "id": "187e24bb",
   "metadata": {},
   "outputs": [],
   "source": [
    "df_firm = df_firm.dropna(\n",
    "    subset=columns_to_impute,\n",
    "    how=\"all\",\n",
    ")"
   ]
  },
  {
   "cell_type": "code",
   "execution_count": 107,
   "id": "bdc77841",
   "metadata": {},
   "outputs": [
    {
     "data": {
      "text/plain": [
       "(23760, 18)"
      ]
     },
     "execution_count": 107,
     "metadata": {},
     "output_type": "execute_result"
    }
   ],
   "source": [
    "df_firm.shape"
   ]
  },
  {
   "cell_type": "code",
   "execution_count": 108,
   "id": "9c097119",
   "metadata": {},
   "outputs": [],
   "source": [
    "df_firm[columns_to_impute] = df_firm.groupby([\"RIC\"])[\n",
    "    columns_to_impute\n",
    "].transform(lambda x: x.fillna(x.mean()))"
   ]
  },
  {
   "cell_type": "code",
   "execution_count": 109,
   "id": "e9779b64",
   "metadata": {},
   "outputs": [
    {
     "data": {
      "text/plain": [
       "(23760, 18)"
      ]
     },
     "execution_count": 109,
     "metadata": {},
     "output_type": "execute_result"
    }
   ],
   "source": [
    "df_firm.shape"
   ]
  },
  {
   "cell_type": "code",
   "execution_count": 110,
   "id": "57991f99",
   "metadata": {},
   "outputs": [
    {
     "data": {
      "text/plain": [
       "RIC                                 0\n",
       "Date                                0\n",
       "Total Current Assets              900\n",
       "Total Current Liabilities         900\n",
       "Total Debt                          0\n",
       "Total Assets, Reported              0\n",
       "Net Income - Actual               104\n",
       "Revenue Per Share                   0\n",
       "Total Revenue                       0\n",
       "Total Equity                        0\n",
       "CO2 Emissions                      45\n",
       "ESG Score                        6000\n",
       "Social Pillar Score              6001\n",
       "Governance Pillar Score          6000\n",
       "Environmental Pillar Score       6001\n",
       "Company Market Capitalization       0\n",
       "PPE Total                         241\n",
       "P/E (Daily Time Series Ratio)     102\n",
       "dtype: int64"
      ]
     },
     "execution_count": 110,
     "metadata": {},
     "output_type": "execute_result"
    }
   ],
   "source": [
    "df_firm.isna().sum()"
   ]
  },
  {
   "cell_type": "code",
   "execution_count": 111,
   "id": "c56015b5",
   "metadata": {},
   "outputs": [
    {
     "name": "stderr",
     "output_type": "stream",
     "text": [
      "/var/folders/85/38gqqh4n5fx2l8tcp2c0412x0md1yy/T/ipykernel_99485/935695378.py:1: FutureWarning: The default value of numeric_only in DataFrame.mean is deprecated. In a future version, it will default to False. In addition, specifying 'numeric_only=None' is deprecated. Select only valid columns or specify the value of numeric_only to silence this warning.\n",
      "  df_firm[columns_to_impute]=df_firm[columns_to_impute].fillna(df_firm.mean())\n"
     ]
    }
   ],
   "source": [
    "df_firm[columns_to_impute]=df_firm[columns_to_impute].fillna(df_firm.mean())"
   ]
  },
  {
   "cell_type": "code",
   "execution_count": 112,
   "id": "88380bed",
   "metadata": {},
   "outputs": [
    {
     "data": {
      "text/plain": [
       "RIC                                 0\n",
       "Date                                0\n",
       "Total Current Assets                0\n",
       "Total Current Liabilities           0\n",
       "Total Debt                          0\n",
       "Total Assets, Reported              0\n",
       "Net Income - Actual                 0\n",
       "Revenue Per Share                   0\n",
       "Total Revenue                       0\n",
       "Total Equity                        0\n",
       "CO2 Emissions                       0\n",
       "ESG Score                        6000\n",
       "Social Pillar Score              6001\n",
       "Governance Pillar Score          6000\n",
       "Environmental Pillar Score       6001\n",
       "Company Market Capitalization       0\n",
       "PPE Total                           0\n",
       "P/E (Daily Time Series Ratio)       0\n",
       "dtype: int64"
      ]
     },
     "execution_count": 112,
     "metadata": {},
     "output_type": "execute_result"
    }
   ],
   "source": [
    "df_firm.isna().sum()"
   ]
  },
  {
   "cell_type": "code",
   "execution_count": 113,
   "id": "2b9050fe",
   "metadata": {},
   "outputs": [
    {
     "data": {
      "text/plain": [
       "Index(['RIC', 'Date', 'Total Current Assets', 'Total Current Liabilities',\n",
       "       'Total Debt', 'Total Assets, Reported', 'Net Income - Actual',\n",
       "       'Revenue Per Share', 'Total Revenue', 'Total Equity', 'CO2 Emissions',\n",
       "       'ESG Score', 'Social Pillar Score', 'Governance Pillar Score',\n",
       "       'Environmental Pillar Score', 'Company Market Capitalization',\n",
       "       'PPE Total', 'P/E (Daily Time Series Ratio)'],\n",
       "      dtype='object')"
      ]
     },
     "execution_count": 113,
     "metadata": {},
     "output_type": "execute_result"
    }
   ],
   "source": [
    "df_firm.columns"
   ]
  },
  {
   "cell_type": "code",
   "execution_count": 114,
   "id": "344925da",
   "metadata": {},
   "outputs": [],
   "source": [
    "df_firm_new = df_firm[df_firm['ESG Score'].notna()]"
   ]
  },
  {
   "attachments": {},
   "cell_type": "markdown",
   "id": "410ee121",
   "metadata": {},
   "source": [
    "KNN Imputation"
   ]
  },
  {
   "cell_type": "code",
   "execution_count": 115,
   "id": "cc64d307",
   "metadata": {},
   "outputs": [],
   "source": [
    "X = df_firm.drop(columns = ['Social Pillar Score', 'Governance Pillar Score',\n",
    "       'Environmental Pillar Score','RIC','Date'])"
   ]
  },
  {
   "cell_type": "code",
   "execution_count": 117,
   "id": "82e2357c",
   "metadata": {},
   "outputs": [
    {
     "data": {
      "text/plain": [
       "(23760, 13)"
      ]
     },
     "execution_count": 117,
     "metadata": {},
     "output_type": "execute_result"
    }
   ],
   "source": [
    "X.shape"
   ]
  },
  {
   "cell_type": "code",
   "execution_count": 118,
   "id": "72af3a05",
   "metadata": {},
   "outputs": [],
   "source": [
    "import numpy as np\n",
    "from sklearn.impute import KNNImputer\n",
    "imputer = KNNImputer(n_neighbors=5,missing_values=np.nan)\n",
    "X = imputer.fit_transform(X)"
   ]
  },
  {
   "cell_type": "code",
   "execution_count": 119,
   "id": "c9ac993e",
   "metadata": {},
   "outputs": [
    {
     "data": {
      "text/plain": [
       "(23760, 13)"
      ]
     },
     "execution_count": 119,
     "metadata": {},
     "output_type": "execute_result"
    }
   ],
   "source": [
    "X.shape"
   ]
  },
  {
   "cell_type": "code",
   "execution_count": 120,
   "id": "ef20af9c",
   "metadata": {},
   "outputs": [],
   "source": [
    "df_imputed = pd.DataFrame(X, columns = ['Total Current Assets', 'Total Current Liabilities',\n",
    "       'Total Debt', 'Total Assets, Reported', 'Net Income - Actual',\n",
    "       'Revenue Per Share', 'Total Revenue', 'Total Equity', 'CO2 Emissions',\n",
    "       'ESG Score', 'Company Market Capitalization',\n",
    "       'PPE Total', 'P/E (Daily Time Series Ratio)'])"
   ]
  },
  {
   "cell_type": "code",
   "execution_count": 121,
   "id": "8a38acb8",
   "metadata": {},
   "outputs": [],
   "source": [
    "df_firm ['ESG Score'] = df_imputed['ESG Score']"
   ]
  },
  {
   "cell_type": "code",
   "execution_count": 122,
   "id": "2dd2eb59",
   "metadata": {},
   "outputs": [
    {
     "data": {
      "text/plain": [
       "(23760, 18)"
      ]
     },
     "execution_count": 122,
     "metadata": {},
     "output_type": "execute_result"
    }
   ],
   "source": [
    "df_firm.shape"
   ]
  },
  {
   "cell_type": "code",
   "execution_count": 123,
   "id": "cfc8aa54",
   "metadata": {},
   "outputs": [
    {
     "data": {
      "text/plain": [
       "RIC                                 0\n",
       "Date                                0\n",
       "Total Current Assets                0\n",
       "Total Current Liabilities           0\n",
       "Total Debt                          0\n",
       "Total Assets, Reported              0\n",
       "Net Income - Actual                 0\n",
       "Revenue Per Share                   0\n",
       "Total Revenue                       0\n",
       "Total Equity                        0\n",
       "CO2 Emissions                       0\n",
       "ESG Score                         687\n",
       "Social Pillar Score              6001\n",
       "Governance Pillar Score          6000\n",
       "Environmental Pillar Score       6001\n",
       "Company Market Capitalization       0\n",
       "PPE Total                           0\n",
       "P/E (Daily Time Series Ratio)       0\n",
       "dtype: int64"
      ]
     },
     "execution_count": 123,
     "metadata": {},
     "output_type": "execute_result"
    }
   ],
   "source": [
    "df_firm.isna().sum()"
   ]
  },
  {
   "cell_type": "code",
   "execution_count": 124,
   "id": "2acb8188",
   "metadata": {},
   "outputs": [],
   "source": [
    "df_firm = df_firm[df_firm['ESG Score'].notna()]"
   ]
  },
  {
   "cell_type": "code",
   "execution_count": 128,
   "id": "0e34a7f4",
   "metadata": {},
   "outputs": [
    {
     "data": {
      "text/html": [
       "<div>\n",
       "<style scoped>\n",
       "    .dataframe tbody tr th:only-of-type {\n",
       "        vertical-align: middle;\n",
       "    }\n",
       "\n",
       "    .dataframe tbody tr th {\n",
       "        vertical-align: top;\n",
       "    }\n",
       "\n",
       "    .dataframe thead th {\n",
       "        text-align: right;\n",
       "    }\n",
       "</style>\n",
       "<table border=\"1\" class=\"dataframe\">\n",
       "  <thead>\n",
       "    <tr style=\"text-align: right;\">\n",
       "      <th></th>\n",
       "      <th>Total Current Assets</th>\n",
       "      <th>Total Current Liabilities</th>\n",
       "      <th>Total Debt</th>\n",
       "      <th>Total Assets, Reported</th>\n",
       "      <th>Net Income - Actual</th>\n",
       "      <th>Revenue Per Share</th>\n",
       "      <th>Total Revenue</th>\n",
       "      <th>Total Equity</th>\n",
       "      <th>CO2 Emissions</th>\n",
       "      <th>ESG Score</th>\n",
       "      <th>Social Pillar Score</th>\n",
       "      <th>Governance Pillar Score</th>\n",
       "      <th>Environmental Pillar Score</th>\n",
       "      <th>Company Market Capitalization</th>\n",
       "      <th>PPE Total</th>\n",
       "      <th>P/E (Daily Time Series Ratio)</th>\n",
       "    </tr>\n",
       "  </thead>\n",
       "  <tbody>\n",
       "    <tr>\n",
       "      <th>count</th>\n",
       "      <td>23073.000000</td>\n",
       "      <td>23073.000000</td>\n",
       "      <td>23073.000000</td>\n",
       "      <td>23073.000000</td>\n",
       "      <td>23073.000000</td>\n",
       "      <td>23073.000000</td>\n",
       "      <td>23073.000000</td>\n",
       "      <td>23073.000000</td>\n",
       "      <td>23073.000000</td>\n",
       "      <td>23073.000000</td>\n",
       "      <td>17238.000000</td>\n",
       "      <td>17239.000000</td>\n",
       "      <td>17238.000000</td>\n",
       "      <td>2.307300e+04</td>\n",
       "      <td>23073.000000</td>\n",
       "      <td>23073.000000</td>\n",
       "    </tr>\n",
       "    <tr>\n",
       "      <th>mean</th>\n",
       "      <td>4687.338669</td>\n",
       "      <td>3712.740499</td>\n",
       "      <td>4472.901344</td>\n",
       "      <td>15001.832321</td>\n",
       "      <td>826.442397</td>\n",
       "      <td>107.361805</td>\n",
       "      <td>10195.897172</td>\n",
       "      <td>5110.907694</td>\n",
       "      <td>374.254087</td>\n",
       "      <td>52.911752</td>\n",
       "      <td>57.807477</td>\n",
       "      <td>55.814305</td>\n",
       "      <td>52.169836</td>\n",
       "      <td>2.106372e+04</td>\n",
       "      <td>8556.197347</td>\n",
       "      <td>45.249698</td>\n",
       "    </tr>\n",
       "    <tr>\n",
       "      <th>std</th>\n",
       "      <td>13281.697822</td>\n",
       "      <td>10089.435403</td>\n",
       "      <td>13432.307488</td>\n",
       "      <td>37533.294270</td>\n",
       "      <td>2618.055090</td>\n",
       "      <td>2779.986979</td>\n",
       "      <td>27850.339158</td>\n",
       "      <td>13825.898337</td>\n",
       "      <td>1398.226180</td>\n",
       "      <td>17.837653</td>\n",
       "      <td>22.000629</td>\n",
       "      <td>21.575963</td>\n",
       "      <td>25.542867</td>\n",
       "      <td>2.445388e+05</td>\n",
       "      <td>27255.601941</td>\n",
       "      <td>231.219945</td>\n",
       "    </tr>\n",
       "    <tr>\n",
       "      <th>min</th>\n",
       "      <td>0.018617</td>\n",
       "      <td>0.026879</td>\n",
       "      <td>0.000000</td>\n",
       "      <td>0.018617</td>\n",
       "      <td>-9703.255825</td>\n",
       "      <td>-33.626790</td>\n",
       "      <td>-188.078000</td>\n",
       "      <td>-85560.000000</td>\n",
       "      <td>0.000000</td>\n",
       "      <td>1.019613</td>\n",
       "      <td>0.263458</td>\n",
       "      <td>0.249062</td>\n",
       "      <td>0.000000</td>\n",
       "      <td>4.115218e-01</td>\n",
       "      <td>0.000000</td>\n",
       "      <td>0.124464</td>\n",
       "    </tr>\n",
       "    <tr>\n",
       "      <th>50%</th>\n",
       "      <td>1273.212729</td>\n",
       "      <td>883.445231</td>\n",
       "      <td>977.804000</td>\n",
       "      <td>3784.534817</td>\n",
       "      <td>165.544332</td>\n",
       "      <td>16.755698</td>\n",
       "      <td>2434.766000</td>\n",
       "      <td>1345.000000</td>\n",
       "      <td>40.064161</td>\n",
       "      <td>52.071780</td>\n",
       "      <td>59.346335</td>\n",
       "      <td>57.478632</td>\n",
       "      <td>54.516657</td>\n",
       "      <td>3.324993e+03</td>\n",
       "      <td>1500.000000</td>\n",
       "      <td>20.425396</td>\n",
       "    </tr>\n",
       "    <tr>\n",
       "      <th>75%</th>\n",
       "      <td>4186.500000</td>\n",
       "      <td>3119.000000</td>\n",
       "      <td>3493.847947</td>\n",
       "      <td>11734.500000</td>\n",
       "      <td>587.471756</td>\n",
       "      <td>40.455093</td>\n",
       "      <td>7826.900000</td>\n",
       "      <td>4009.385051</td>\n",
       "      <td>178.961947</td>\n",
       "      <td>66.539845</td>\n",
       "      <td>75.806258</td>\n",
       "      <td>73.257341</td>\n",
       "      <td>73.201747</td>\n",
       "      <td>1.110090e+04</td>\n",
       "      <td>5981.286796</td>\n",
       "      <td>32.474405</td>\n",
       "    </tr>\n",
       "    <tr>\n",
       "      <th>80%</th>\n",
       "      <td>4679.779456</td>\n",
       "      <td>3712.732628</td>\n",
       "      <td>4755.091873</td>\n",
       "      <td>15774.436224</td>\n",
       "      <td>796.313900</td>\n",
       "      <td>49.559893</td>\n",
       "      <td>10514.626864</td>\n",
       "      <td>5413.613560</td>\n",
       "      <td>296.564946</td>\n",
       "      <td>69.811269</td>\n",
       "      <td>79.004966</td>\n",
       "      <td>76.340187</td>\n",
       "      <td>77.065867</td>\n",
       "      <td>1.486577e+04</td>\n",
       "      <td>8487.124190</td>\n",
       "      <td>37.591846</td>\n",
       "    </tr>\n",
       "    <tr>\n",
       "      <th>85%</th>\n",
       "      <td>6271.942388</td>\n",
       "      <td>4738.410078</td>\n",
       "      <td>6865.431948</td>\n",
       "      <td>22514.782800</td>\n",
       "      <td>1111.120000</td>\n",
       "      <td>64.065004</td>\n",
       "      <td>14704.098058</td>\n",
       "      <td>7484.454147</td>\n",
       "      <td>455.195108</td>\n",
       "      <td>73.317468</td>\n",
       "      <td>82.565531</td>\n",
       "      <td>79.780430</td>\n",
       "      <td>80.459345</td>\n",
       "      <td>2.134411e+04</td>\n",
       "      <td>11587.292366</td>\n",
       "      <td>45.301422</td>\n",
       "    </tr>\n",
       "    <tr>\n",
       "      <th>88%</th>\n",
       "      <td>8105.355905</td>\n",
       "      <td>6377.971549</td>\n",
       "      <td>8873.720000</td>\n",
       "      <td>30067.061408</td>\n",
       "      <td>1443.708997</td>\n",
       "      <td>77.531943</td>\n",
       "      <td>18863.245811</td>\n",
       "      <td>9516.589879</td>\n",
       "      <td>611.903582</td>\n",
       "      <td>75.596438</td>\n",
       "      <td>84.797207</td>\n",
       "      <td>81.935990</td>\n",
       "      <td>82.797894</td>\n",
       "      <td>2.680617e+04</td>\n",
       "      <td>15409.297024</td>\n",
       "      <td>52.847056</td>\n",
       "    </tr>\n",
       "    <tr>\n",
       "      <th>90%</th>\n",
       "      <td>9890.800000</td>\n",
       "      <td>8114.831071</td>\n",
       "      <td>10366.995600</td>\n",
       "      <td>36149.713848</td>\n",
       "      <td>1829.049824</td>\n",
       "      <td>87.945523</td>\n",
       "      <td>22542.614352</td>\n",
       "      <td>11239.270860</td>\n",
       "      <td>768.344200</td>\n",
       "      <td>77.363980</td>\n",
       "      <td>86.293569</td>\n",
       "      <td>83.418149</td>\n",
       "      <td>84.284978</td>\n",
       "      <td>3.251433e+04</td>\n",
       "      <td>18586.020000</td>\n",
       "      <td>59.417870</td>\n",
       "    </tr>\n",
       "    <tr>\n",
       "      <th>max</th>\n",
       "      <td>547299.000000</td>\n",
       "      <td>337426.091300</td>\n",
       "      <td>523762.000000</td>\n",
       "      <td>797769.000000</td>\n",
       "      <td>94680.000000</td>\n",
       "      <td>241197.527900</td>\n",
       "      <td>559151.000000</td>\n",
       "      <td>283356.339300</td>\n",
       "      <td>61537.050000</td>\n",
       "      <td>95.754204</td>\n",
       "      <td>99.564164</td>\n",
       "      <td>99.454933</td>\n",
       "      <td>99.215987</td>\n",
       "      <td>1.294135e+07</td>\n",
       "      <td>511400.000000</td>\n",
       "      <td>14545.454550</td>\n",
       "    </tr>\n",
       "  </tbody>\n",
       "</table>\n",
       "</div>"
      ],
      "text/plain": [
       "       Total Current Assets  Total Current Liabilities     Total Debt  \\\n",
       "count          23073.000000               23073.000000   23073.000000   \n",
       "mean            4687.338669                3712.740499    4472.901344   \n",
       "std            13281.697822               10089.435403   13432.307488   \n",
       "min                0.018617                   0.026879       0.000000   \n",
       "50%             1273.212729                 883.445231     977.804000   \n",
       "75%             4186.500000                3119.000000    3493.847947   \n",
       "80%             4679.779456                3712.732628    4755.091873   \n",
       "85%             6271.942388                4738.410078    6865.431948   \n",
       "88%             8105.355905                6377.971549    8873.720000   \n",
       "90%             9890.800000                8114.831071   10366.995600   \n",
       "max           547299.000000              337426.091300  523762.000000   \n",
       "\n",
       "       Total Assets, Reported  Net Income - Actual  Revenue Per Share  \\\n",
       "count            23073.000000         23073.000000       23073.000000   \n",
       "mean             15001.832321           826.442397         107.361805   \n",
       "std              37533.294270          2618.055090        2779.986979   \n",
       "min                  0.018617         -9703.255825         -33.626790   \n",
       "50%               3784.534817           165.544332          16.755698   \n",
       "75%              11734.500000           587.471756          40.455093   \n",
       "80%              15774.436224           796.313900          49.559893   \n",
       "85%              22514.782800          1111.120000          64.065004   \n",
       "88%              30067.061408          1443.708997          77.531943   \n",
       "90%              36149.713848          1829.049824          87.945523   \n",
       "max             797769.000000         94680.000000      241197.527900   \n",
       "\n",
       "       Total Revenue   Total Equity  CO2 Emissions     ESG Score  \\\n",
       "count   23073.000000   23073.000000   23073.000000  23073.000000   \n",
       "mean    10195.897172    5110.907694     374.254087     52.911752   \n",
       "std     27850.339158   13825.898337    1398.226180     17.837653   \n",
       "min      -188.078000  -85560.000000       0.000000      1.019613   \n",
       "50%      2434.766000    1345.000000      40.064161     52.071780   \n",
       "75%      7826.900000    4009.385051     178.961947     66.539845   \n",
       "80%     10514.626864    5413.613560     296.564946     69.811269   \n",
       "85%     14704.098058    7484.454147     455.195108     73.317468   \n",
       "88%     18863.245811    9516.589879     611.903582     75.596438   \n",
       "90%     22542.614352   11239.270860     768.344200     77.363980   \n",
       "max    559151.000000  283356.339300   61537.050000     95.754204   \n",
       "\n",
       "       Social Pillar Score  Governance Pillar Score  \\\n",
       "count         17238.000000             17239.000000   \n",
       "mean             57.807477                55.814305   \n",
       "std              22.000629                21.575963   \n",
       "min               0.263458                 0.249062   \n",
       "50%              59.346335                57.478632   \n",
       "75%              75.806258                73.257341   \n",
       "80%              79.004966                76.340187   \n",
       "85%              82.565531                79.780430   \n",
       "88%              84.797207                81.935990   \n",
       "90%              86.293569                83.418149   \n",
       "max              99.564164                99.454933   \n",
       "\n",
       "       Environmental Pillar Score  Company Market Capitalization  \\\n",
       "count                17238.000000                   2.307300e+04   \n",
       "mean                    52.169836                   2.106372e+04   \n",
       "std                     25.542867                   2.445388e+05   \n",
       "min                      0.000000                   4.115218e-01   \n",
       "50%                     54.516657                   3.324993e+03   \n",
       "75%                     73.201747                   1.110090e+04   \n",
       "80%                     77.065867                   1.486577e+04   \n",
       "85%                     80.459345                   2.134411e+04   \n",
       "88%                     82.797894                   2.680617e+04   \n",
       "90%                     84.284978                   3.251433e+04   \n",
       "max                     99.215987                   1.294135e+07   \n",
       "\n",
       "           PPE Total  P/E (Daily Time Series Ratio)  \n",
       "count   23073.000000                   23073.000000  \n",
       "mean     8556.197347                      45.249698  \n",
       "std     27255.601941                     231.219945  \n",
       "min         0.000000                       0.124464  \n",
       "50%      1500.000000                      20.425396  \n",
       "75%      5981.286796                      32.474405  \n",
       "80%      8487.124190                      37.591846  \n",
       "85%     11587.292366                      45.301422  \n",
       "88%     15409.297024                      52.847056  \n",
       "90%     18586.020000                      59.417870  \n",
       "max    511400.000000                   14545.454550  "
      ]
     },
     "execution_count": 128,
     "metadata": {},
     "output_type": "execute_result"
    }
   ],
   "source": [
    "df_firm.describe([0.75,0.8,0.85,0.88,0.9])"
   ]
  },
  {
   "cell_type": "code",
   "execution_count": 130,
   "id": "ff3d66b4",
   "metadata": {},
   "outputs": [
    {
     "data": {
      "text/html": [
       "<div>\n",
       "<style scoped>\n",
       "    .dataframe tbody tr th:only-of-type {\n",
       "        vertical-align: middle;\n",
       "    }\n",
       "\n",
       "    .dataframe tbody tr th {\n",
       "        vertical-align: top;\n",
       "    }\n",
       "\n",
       "    .dataframe thead th {\n",
       "        text-align: right;\n",
       "    }\n",
       "</style>\n",
       "<table border=\"1\" class=\"dataframe\">\n",
       "  <thead>\n",
       "    <tr style=\"text-align: right;\">\n",
       "      <th></th>\n",
       "      <th>Total Current Assets</th>\n",
       "      <th>Total Current Liabilities</th>\n",
       "      <th>Total Debt</th>\n",
       "      <th>Total Assets, Reported</th>\n",
       "      <th>Net Income - Actual</th>\n",
       "      <th>Revenue Per Share</th>\n",
       "      <th>Total Revenue</th>\n",
       "      <th>Total Equity</th>\n",
       "      <th>CO2 Emissions</th>\n",
       "      <th>ESG Score</th>\n",
       "      <th>Social Pillar Score</th>\n",
       "      <th>Governance Pillar Score</th>\n",
       "      <th>Environmental Pillar Score</th>\n",
       "      <th>Company Market Capitalization</th>\n",
       "      <th>PPE Total</th>\n",
       "      <th>P/E (Daily Time Series Ratio)</th>\n",
       "    </tr>\n",
       "  </thead>\n",
       "  <tbody>\n",
       "    <tr>\n",
       "      <th>count</th>\n",
       "      <td>18844.000000</td>\n",
       "      <td>18844.000000</td>\n",
       "      <td>18844.000000</td>\n",
       "      <td>18844.000000</td>\n",
       "      <td>18844.000000</td>\n",
       "      <td>18844.000000</td>\n",
       "      <td>18844.000000</td>\n",
       "      <td>18844.000000</td>\n",
       "      <td>18844.000000</td>\n",
       "      <td>18844.000000</td>\n",
       "      <td>13141.000000</td>\n",
       "      <td>13142.000000</td>\n",
       "      <td>13141.000000</td>\n",
       "      <td>1.884400e+04</td>\n",
       "      <td>18844.000000</td>\n",
       "      <td>18844.000000</td>\n",
       "    </tr>\n",
       "    <tr>\n",
       "      <th>mean</th>\n",
       "      <td>1402.218057</td>\n",
       "      <td>1101.101000</td>\n",
       "      <td>1799.032429</td>\n",
       "      <td>5265.209225</td>\n",
       "      <td>249.392372</td>\n",
       "      <td>111.979231</td>\n",
       "      <td>3153.866424</td>\n",
       "      <td>1870.185662</td>\n",
       "      <td>382.790491</td>\n",
       "      <td>52.985573</td>\n",
       "      <td>53.677460</td>\n",
       "      <td>53.535314</td>\n",
       "      <td>47.003681</td>\n",
       "      <td>6.074225e+03</td>\n",
       "      <td>3097.192262</td>\n",
       "      <td>46.516677</td>\n",
       "    </tr>\n",
       "    <tr>\n",
       "      <th>std</th>\n",
       "      <td>1397.708414</td>\n",
       "      <td>1301.942809</td>\n",
       "      <td>3764.377352</td>\n",
       "      <td>9551.351252</td>\n",
       "      <td>481.650677</td>\n",
       "      <td>3074.186510</td>\n",
       "      <td>4902.583560</td>\n",
       "      <td>2945.540932</td>\n",
       "      <td>1483.945492</td>\n",
       "      <td>17.735236</td>\n",
       "      <td>21.231321</td>\n",
       "      <td>21.310247</td>\n",
       "      <td>24.867306</td>\n",
       "      <td>2.024371e+04</td>\n",
       "      <td>6165.420836</td>\n",
       "      <td>229.020858</td>\n",
       "    </tr>\n",
       "    <tr>\n",
       "      <th>min</th>\n",
       "      <td>0.018617</td>\n",
       "      <td>0.026879</td>\n",
       "      <td>0.000000</td>\n",
       "      <td>0.018617</td>\n",
       "      <td>-3924.579000</td>\n",
       "      <td>-33.626790</td>\n",
       "      <td>-188.078000</td>\n",
       "      <td>-18209.000000</td>\n",
       "      <td>0.000000</td>\n",
       "      <td>1.019613</td>\n",
       "      <td>1.120470</td>\n",
       "      <td>0.249062</td>\n",
       "      <td>0.000000</td>\n",
       "      <td>4.115218e-01</td>\n",
       "      <td>0.000000</td>\n",
       "      <td>0.124464</td>\n",
       "    </tr>\n",
       "    <tr>\n",
       "      <th>50%</th>\n",
       "      <td>863.050000</td>\n",
       "      <td>570.285500</td>\n",
       "      <td>636.708500</td>\n",
       "      <td>2563.118000</td>\n",
       "      <td>112.298954</td>\n",
       "      <td>13.974118</td>\n",
       "      <td>1646.179316</td>\n",
       "      <td>938.196655</td>\n",
       "      <td>40.096170</td>\n",
       "      <td>52.068488</td>\n",
       "      <td>54.166141</td>\n",
       "      <td>54.659346</td>\n",
       "      <td>48.076347</td>\n",
       "      <td>2.268026e+03</td>\n",
       "      <td>944.413872</td>\n",
       "      <td>20.930448</td>\n",
       "    </tr>\n",
       "    <tr>\n",
       "      <th>75%</th>\n",
       "      <td>2146.382575</td>\n",
       "      <td>1546.093380</td>\n",
       "      <td>1902.796684</td>\n",
       "      <td>6123.193250</td>\n",
       "      <td>310.494527</td>\n",
       "      <td>33.530754</td>\n",
       "      <td>4002.040250</td>\n",
       "      <td>2179.464947</td>\n",
       "      <td>166.650849</td>\n",
       "      <td>66.491309</td>\n",
       "      <td>70.507114</td>\n",
       "      <td>70.797688</td>\n",
       "      <td>66.451996</td>\n",
       "      <td>6.021145e+03</td>\n",
       "      <td>3035.542718</td>\n",
       "      <td>34.007131</td>\n",
       "    </tr>\n",
       "    <tr>\n",
       "      <th>80%</th>\n",
       "      <td>2561.923000</td>\n",
       "      <td>1898.696998</td>\n",
       "      <td>2430.918248</td>\n",
       "      <td>7399.600000</td>\n",
       "      <td>392.577453</td>\n",
       "      <td>40.295309</td>\n",
       "      <td>4867.427474</td>\n",
       "      <td>2664.502602</td>\n",
       "      <td>278.497765</td>\n",
       "      <td>69.736269</td>\n",
       "      <td>74.196532</td>\n",
       "      <td>73.851824</td>\n",
       "      <td>70.616904</td>\n",
       "      <td>7.656747e+03</td>\n",
       "      <td>3971.340000</td>\n",
       "      <td>39.870707</td>\n",
       "    </tr>\n",
       "    <tr>\n",
       "      <th>85%</th>\n",
       "      <td>3092.718300</td>\n",
       "      <td>2392.057018</td>\n",
       "      <td>3216.397092</td>\n",
       "      <td>9208.764666</td>\n",
       "      <td>495.795994</td>\n",
       "      <td>50.318627</td>\n",
       "      <td>6041.250679</td>\n",
       "      <td>3368.688115</td>\n",
       "      <td>432.979837</td>\n",
       "      <td>73.257084</td>\n",
       "      <td>77.753331</td>\n",
       "      <td>77.309712</td>\n",
       "      <td>75.084557</td>\n",
       "      <td>9.984231e+03</td>\n",
       "      <td>5641.314321</td>\n",
       "      <td>47.676232</td>\n",
       "    </tr>\n",
       "    <tr>\n",
       "      <th>88%</th>\n",
       "      <td>3506.360000</td>\n",
       "      <td>2798.721149</td>\n",
       "      <td>3887.683512</td>\n",
       "      <td>10637.664000</td>\n",
       "      <td>591.000000</td>\n",
       "      <td>60.600487</td>\n",
       "      <td>7001.373756</td>\n",
       "      <td>4008.968000</td>\n",
       "      <td>581.654497</td>\n",
       "      <td>75.539164</td>\n",
       "      <td>80.144392</td>\n",
       "      <td>79.744551</td>\n",
       "      <td>78.140325</td>\n",
       "      <td>1.190876e+04</td>\n",
       "      <td>7165.018661</td>\n",
       "      <td>56.073016</td>\n",
       "    </tr>\n",
       "    <tr>\n",
       "      <th>90%</th>\n",
       "      <td>3844.895967</td>\n",
       "      <td>3184.677800</td>\n",
       "      <td>4534.870383</td>\n",
       "      <td>12058.833719</td>\n",
       "      <td>676.687710</td>\n",
       "      <td>69.278748</td>\n",
       "      <td>7760.062600</td>\n",
       "      <td>4615.225049</td>\n",
       "      <td>749.623443</td>\n",
       "      <td>77.323111</td>\n",
       "      <td>82.064850</td>\n",
       "      <td>81.445689</td>\n",
       "      <td>79.967949</td>\n",
       "      <td>1.372689e+04</td>\n",
       "      <td>8534.061201</td>\n",
       "      <td>63.675399</td>\n",
       "    </tr>\n",
       "    <tr>\n",
       "      <th>max</th>\n",
       "      <td>4998.491232</td>\n",
       "      <td>21193.000000</td>\n",
       "      <td>98330.483630</td>\n",
       "      <td>332629.457700</td>\n",
       "      <td>12783.333333</td>\n",
       "      <td>241197.527900</td>\n",
       "      <td>160346.000000</td>\n",
       "      <td>50321.000000</td>\n",
       "      <td>61537.050000</td>\n",
       "      <td>95.162371</td>\n",
       "      <td>97.994669</td>\n",
       "      <td>98.299313</td>\n",
       "      <td>98.758525</td>\n",
       "      <td>1.430501e+06</td>\n",
       "      <td>94147.000000</td>\n",
       "      <td>14545.454550</td>\n",
       "    </tr>\n",
       "  </tbody>\n",
       "</table>\n",
       "</div>"
      ],
      "text/plain": [
       "       Total Current Assets  Total Current Liabilities    Total Debt  \\\n",
       "count          18844.000000               18844.000000  18844.000000   \n",
       "mean            1402.218057                1101.101000   1799.032429   \n",
       "std             1397.708414                1301.942809   3764.377352   \n",
       "min                0.018617                   0.026879      0.000000   \n",
       "50%              863.050000                 570.285500    636.708500   \n",
       "75%             2146.382575                1546.093380   1902.796684   \n",
       "80%             2561.923000                1898.696998   2430.918248   \n",
       "85%             3092.718300                2392.057018   3216.397092   \n",
       "88%             3506.360000                2798.721149   3887.683512   \n",
       "90%             3844.895967                3184.677800   4534.870383   \n",
       "max             4998.491232               21193.000000  98330.483630   \n",
       "\n",
       "       Total Assets, Reported  Net Income - Actual  Revenue Per Share  \\\n",
       "count            18844.000000         18844.000000       18844.000000   \n",
       "mean              5265.209225           249.392372         111.979231   \n",
       "std               9551.351252           481.650677        3074.186510   \n",
       "min                  0.018617         -3924.579000         -33.626790   \n",
       "50%               2563.118000           112.298954          13.974118   \n",
       "75%               6123.193250           310.494527          33.530754   \n",
       "80%               7399.600000           392.577453          40.295309   \n",
       "85%               9208.764666           495.795994          50.318627   \n",
       "88%              10637.664000           591.000000          60.600487   \n",
       "90%              12058.833719           676.687710          69.278748   \n",
       "max             332629.457700         12783.333333      241197.527900   \n",
       "\n",
       "       Total Revenue  Total Equity  CO2 Emissions     ESG Score  \\\n",
       "count   18844.000000  18844.000000   18844.000000  18844.000000   \n",
       "mean     3153.866424   1870.185662     382.790491     52.985573   \n",
       "std      4902.583560   2945.540932    1483.945492     17.735236   \n",
       "min      -188.078000 -18209.000000       0.000000      1.019613   \n",
       "50%      1646.179316    938.196655      40.096170     52.068488   \n",
       "75%      4002.040250   2179.464947     166.650849     66.491309   \n",
       "80%      4867.427474   2664.502602     278.497765     69.736269   \n",
       "85%      6041.250679   3368.688115     432.979837     73.257084   \n",
       "88%      7001.373756   4008.968000     581.654497     75.539164   \n",
       "90%      7760.062600   4615.225049     749.623443     77.323111   \n",
       "max    160346.000000  50321.000000   61537.050000     95.162371   \n",
       "\n",
       "       Social Pillar Score  Governance Pillar Score  \\\n",
       "count         13141.000000             13142.000000   \n",
       "mean             53.677460                53.535314   \n",
       "std              21.231321                21.310247   \n",
       "min               1.120470                 0.249062   \n",
       "50%              54.166141                54.659346   \n",
       "75%              70.507114                70.797688   \n",
       "80%              74.196532                73.851824   \n",
       "85%              77.753331                77.309712   \n",
       "88%              80.144392                79.744551   \n",
       "90%              82.064850                81.445689   \n",
       "max              97.994669                98.299313   \n",
       "\n",
       "       Environmental Pillar Score  Company Market Capitalization  \\\n",
       "count                13141.000000                   1.884400e+04   \n",
       "mean                    47.003681                   6.074225e+03   \n",
       "std                     24.867306                   2.024371e+04   \n",
       "min                      0.000000                   4.115218e-01   \n",
       "50%                     48.076347                   2.268026e+03   \n",
       "75%                     66.451996                   6.021145e+03   \n",
       "80%                     70.616904                   7.656747e+03   \n",
       "85%                     75.084557                   9.984231e+03   \n",
       "88%                     78.140325                   1.190876e+04   \n",
       "90%                     79.967949                   1.372689e+04   \n",
       "max                     98.758525                   1.430501e+06   \n",
       "\n",
       "          PPE Total  P/E (Daily Time Series Ratio)  \n",
       "count  18844.000000                   18844.000000  \n",
       "mean    3097.192262                      46.516677  \n",
       "std     6165.420836                     229.020858  \n",
       "min        0.000000                       0.124464  \n",
       "50%      944.413872                      20.930448  \n",
       "75%     3035.542718                      34.007131  \n",
       "80%     3971.340000                      39.870707  \n",
       "85%     5641.314321                      47.676232  \n",
       "88%     7165.018661                      56.073016  \n",
       "90%     8534.061201                      63.675399  \n",
       "max    94147.000000                   14545.454550  "
      ]
     },
     "execution_count": 130,
     "metadata": {},
     "output_type": "execute_result"
    }
   ],
   "source": [
    "df_firm[df_firm['Total Current Assets']<=5000].describe([0.75,0.8,0.85,0.88,0.9])"
   ]
  },
  {
   "attachments": {},
   "cell_type": "markdown",
   "id": "203b41c5",
   "metadata": {},
   "source": [
    "#### Simple Linear Regression"
   ]
  },
  {
   "cell_type": "code",
   "execution_count": null,
   "id": "1dffa1d2",
   "metadata": {},
   "outputs": [],
   "source": [
    "from sklearn.metrics import mean_squared_error, mean_absolute_error, r2_score\n",
    "from sklearn.linear_model import LinearRegression\n",
    "from sklearn.model_selection import train_test_split\n",
    "from sklearn.preprocessing import MinMaxScaler\n",
    "from sklearn.model_selection import cross_val_score\n",
    "from sklearn.model_selection import KFold"
   ]
  },
  {
   "cell_type": "code",
   "execution_count": null,
   "id": "29c9e4d8",
   "metadata": {},
   "outputs": [],
   "source": [
    "from sklearn.ensemble import RandomForestRegressor"
   ]
  },
  {
   "cell_type": "code",
   "execution_count": null,
   "id": "dc84e904",
   "metadata": {},
   "outputs": [],
   "source": [
    "columns_selected = [\n",
    "    \"Total Equity\",\n",
    "    \"CO2 Emissions\",\n",
    "    \"Company Market Capitalization\",\n",
    "    \"PPE Total\",\n",
    "    \"P/E (Daily Time Series Ratio)\",\n",
    "]"
   ]
  },
  {
   "cell_type": "code",
   "execution_count": 131,
   "id": "e6da754b",
   "metadata": {},
   "outputs": [],
   "source": [
    "X = df_firm_new[df_firm_new['Total Current Assets']<=5000][columns_selected]\n",
    "y = df_firm_new[df_firm_new['Total Current Assets']<=5000]['ESG Score']"
   ]
  },
  {
   "cell_type": "code",
   "execution_count": 132,
   "id": "9d978ef4",
   "metadata": {},
   "outputs": [],
   "source": [
    "# rescale the features\n",
    "scaler = MinMaxScaler()\n",
    "\n",
    "# apply scaler() to all the numeric columns \n",
    "X = scaler.fit_transform(X)"
   ]
  },
  {
   "cell_type": "code",
   "execution_count": 133,
   "id": "7a0f1842",
   "metadata": {},
   "outputs": [],
   "source": [
    "X_train, X_test, y_train, y_test = train_test_split(X, y, test_size=0.33, random_state=42)"
   ]
  },
  {
   "cell_type": "code",
   "execution_count": 134,
   "id": "6f16bee0",
   "metadata": {},
   "outputs": [
    {
     "name": "stdout",
     "output_type": "stream",
     "text": [
      "mean_squared_error :  306.8032730638605\n",
      "mean_absolute_error :  14.429062254051216\n"
     ]
    }
   ],
   "source": [
    "model = LinearRegression()\n",
    "model.fit(X_train,y_train)\n",
    "y_pred = model.predict(X_test)\n",
    "# model evaluation\n",
    "print(\n",
    "  'mean_squared_error : ', mean_squared_error(y_test, y_pred))\n",
    "print(\n",
    "  'mean_absolute_error : ', mean_absolute_error(y_test, y_pred))"
   ]
  },
  {
   "cell_type": "code",
   "execution_count": 135,
   "id": "0174e87d",
   "metadata": {},
   "outputs": [
    {
     "data": {
      "text/plain": [
       "array([0.03127083, 0.06739193, 0.06773624, 0.04519298, 0.04247759])"
      ]
     },
     "execution_count": 135,
     "metadata": {},
     "output_type": "execute_result"
    }
   ],
   "source": [
    "# create a KFold object with 5 splits \n",
    "folds = KFold(n_splits = 5, shuffle = True, random_state = 100)\n",
    "scores = cross_val_score(model, X_train, y_train, scoring='r2', cv=folds)\n",
    "scores  "
   ]
  },
  {
   "cell_type": "code",
   "execution_count": 136,
   "id": "60daf7fa",
   "metadata": {},
   "outputs": [
    {
     "name": "stdout",
     "output_type": "stream",
     "text": [
      "mean_squared_error :  229.15607713356587\n",
      "mean_absolute_error :  12.17213868799894\n"
     ]
    }
   ],
   "source": [
    "model = RandomForestRegressor()\n",
    "model.fit(X_train,y_train)\n",
    "y_pred = model.predict(X_test)\n",
    "# model evaluation\n",
    "print(\n",
    "  'mean_squared_error : ', mean_squared_error(y_test, y_pred))\n",
    "print(\n",
    "  'mean_absolute_error : ', mean_absolute_error(y_test, y_pred))"
   ]
  },
  {
   "cell_type": "code",
   "execution_count": 137,
   "id": "d96d3468",
   "metadata": {},
   "outputs": [
    {
     "data": {
      "text/plain": [
       "array([0.26127152, 0.25089446, 0.26659676, 0.2614771 , 0.2903537 ])"
      ]
     },
     "execution_count": 137,
     "metadata": {},
     "output_type": "execute_result"
    }
   ],
   "source": [
    "# create a KFold object with 5 splits \n",
    "folds = KFold(n_splits = 5, shuffle = True, random_state = 100)\n",
    "scores = cross_val_score(model, X_train, y_train, scoring='r2', cv=folds)\n",
    "scores  "
   ]
  },
  {
   "cell_type": "code",
   "execution_count": null,
   "id": "169671fe",
   "metadata": {},
   "outputs": [],
   "source": [
    "from sklearn.ensemble import GradientBoostingRegressor\n",
    "model = GradientBoostingRegressor()\n",
    "model.fit(X_train,y_train)\n",
    "y_pred = model.predict(X_test)\n",
    "# model evaluation\n",
    "print(\n",
    "  'mean_squared_error : ', mean_squared_error(y_test, y_pred))\n",
    "print(\n",
    "  'mean_absolute_error : ', mean_absolute_error(y_test, y_pred))"
   ]
  },
  {
   "cell_type": "code",
   "execution_count": null,
   "id": "111615bb",
   "metadata": {},
   "outputs": [],
   "source": [
    "# create a KFold object with 5 splits \n",
    "folds = KFold(n_splits = 5, shuffle = True, random_state = 100)\n",
    "scores = cross_val_score(model, X_train, y_train, scoring='r2', cv=folds)\n",
    "scores  "
   ]
  },
  {
   "cell_type": "code",
   "execution_count": null,
   "id": "43b1e730",
   "metadata": {},
   "outputs": [],
   "source": [
    "from sklearn.ensemble import AdaBoostRegressor\n",
    "model = AdaBoostRegressor()\n",
    "model.fit(X_train,y_train)\n",
    "y_pred = model.predict(X_test)\n",
    "# model evaluation\n",
    "print(\n",
    "  'mean_squared_error : ', mean_squared_error(y_test, y_pred))\n",
    "print(\n",
    "  'mean_absolute_error : ', mean_absolute_error(y_test, y_pred))"
   ]
  },
  {
   "cell_type": "code",
   "execution_count": null,
   "id": "00b39da4",
   "metadata": {},
   "outputs": [],
   "source": [
    "# create a KFold object with 5 splits \n",
    "folds = KFold(n_splits = 5, shuffle = True, random_state = 100)\n",
    "scores = cross_val_score(model, X_train, y_train, scoring='r2', cv=folds)\n",
    "scores  "
   ]
  },
  {
   "cell_type": "code",
   "execution_count": null,
   "id": "3590981b",
   "metadata": {},
   "outputs": [],
   "source": [
    "from sklearn.ensemble import BaggingRegressor\n",
    "model = BaggingRegressor(estimator=RandomForestRegressor())\n",
    "model.fit(X_train,y_train)\n",
    "y_pred = model.predict(X_test)\n",
    "# model evaluation\n",
    "print(\n",
    "  'mean_squared_error : ', mean_squared_error(y_test, y_pred))\n",
    "print(\n",
    "  'mean_absolute_error : ', mean_absolute_error(y_test, y_pred))\n"
   ]
  },
  {
   "cell_type": "code",
   "execution_count": null,
   "id": "6fcc4dd4",
   "metadata": {},
   "outputs": [],
   "source": [
    "# create a KFold object with 5 splits \n",
    "folds = KFold(n_splits = 5, shuffle = True, random_state = 100)\n",
    "scores = cross_val_score(model, X_train, y_train, scoring='r2', cv=folds)\n",
    "scores  "
   ]
  }
 ],
 "metadata": {
  "kernelspec": {
   "display_name": "Python 3",
   "language": "python",
   "name": "python3"
  },
  "language_info": {
   "codemirror_mode": {
    "name": "ipython",
    "version": 3
   },
   "file_extension": ".py",
   "mimetype": "text/x-python",
   "name": "python",
   "nbconvert_exporter": "python",
   "pygments_lexer": "ipython3",
   "version": "3.8.9"
  }
 },
 "nbformat": 4,
 "nbformat_minor": 5
}
