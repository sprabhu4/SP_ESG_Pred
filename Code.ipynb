{
 "cells": [
  {
   "cell_type": "markdown",
   "id": "8af7dc11",
   "metadata": {},
   "source": [
    "# ESG Score Prediction"
   ]
  },
  {
   "cell_type": "markdown",
   "id": "a460aaae",
   "metadata": {},
   "source": [
    "## Notebook Outline :\n",
    "\n",
    "1. Introduction (ESG Score, Calculation method, Factors - Summary based on the TR pdf)\n",
    "2. Data Explanation (Features - what they are)\n",
    "3. Data Processing - Outlier Detection, Feature Transformation \n",
    "4. EDA - Basic Insights\n",
    "6. Feature Selection/Importance\n",
    "5. Data Modelling"
   ]
  },
  {
   "attachments": {},
   "cell_type": "markdown",
   "id": "e70c0e7e",
   "metadata": {},
   "source": [
    "## 1. Introduction "
   ]
  },
  {
   "attachments": {},
   "cell_type": "markdown",
   "id": "ea7bb276",
   "metadata": {},
   "source": [
    "A financial statement lists the assets, liabilities and equity of a company at a specific point in time and is used to calculate the net worth of a business. A basic tenet of double-entry book-keeping is that total assets (what a business owns) must equal liabilities plus equity (how the assets are financed). In other words, the balance sheet must balance. Subtracting liabilities from assets shows the net worth of the business. \n",
    "\n",
    "How does ESG score come into picture in a business?\n",
    "(TBD by Aheli)\n"
   ]
  },
  {
   "attachments": {},
   "cell_type": "markdown",
   "id": "bc0dfb80",
   "metadata": {},
   "source": [
    "## 2. Data Explanation  "
   ]
  },
  {
   "attachments": {},
   "cell_type": "markdown",
   "id": "e4421f26",
   "metadata": {},
   "source": [
    "### Total Current Assets \n",
    "Current assets are cash or its equivalent or those assets that will be used by the business in a year or less\n",
    "\n",
    "### Total Current Liabilities \n",
    "Debts that are due in one year or less are classified as current liabilities. If they're due in more than one year, they're long-term liabilities.\n",
    "\n",
    "### Total Debt \n",
    "Total debt refers to the sum of borrowed money that your business owes. It’s calculated by adding together your current and long-term liabilities.\n",
    "\n",
    "### Total Assets Reported \n",
    "\"Total long-term assets\" is the sum of capital and plant, investments, and miscellaneous assets.\n",
    "\"Total assets\" is the sum of total current assets and total long-term assets\n",
    "\n",
    "### Net Income - Actual \n",
    "Net income refers to the amount an individual or business makes after deducting costs, allowances and taxes.\n",
    "In commerce, net income is what the business has left over after all expenses, including salary and wages, cost of goods or raw material and taxes. \n",
    "\n",
    "### Revenue Per Share\n",
    "1. Earnings per share (EPS) is a company's net profit divided by the number of common shares it has outstanding.\n",
    "2. EPS indicates how much money a company makes for each share of its stock and is a widely used metric for estimating corporate value.\n",
    "3. A higher EPS indicates greater value because investors will pay more for a company's shares if they think the company has higher profits relative to its share price.\n",
    "4. EPS can be arrived at in several forms, such as excluding extraordinary items or discontinued operations, or on a diluted basis.\n",
    "5. Like other financial metrics, earnings per share is most valuable when compared against competitor metrics, companies of the same industry, or across a period of time.\n",
    "\n",
    "### Total Revenue \n",
    "Total revenue is the amount of money a company brings in from selling its goods and services. In other words, company's use this metric to determine how well they're generating money from their core revenue-driving operations.\n",
    "\n",
    "### Total Equity \n",
    "The total equity of a business is derived by subtracting its liabilities from its assets. The information for this calculation can be found on a company's balance sheet, which is one of its financial statements. \n",
    "An alternative approach for calculating total equity is to add up all of the line items in the stockholders' equity section of the balance sheet, which is comprised of common stock, additional paid-in capital, and retained earnings, minus treasury stock.\n",
    "In essence, total equity is the amount invested in a company by investors in exchange for stock, plus all subsequent earnings of the business, minus all subsequent dividends paid out. Many smaller businesses are strapped for cash and so have never paid any dividends. In their case, total equity is simply invested funds plus all subsequent earnings.\n",
    "\n",
    "### Company Market Capitilization \n",
    "Market cap—or market capitalization—refers to the total value of all a company's shares of stock. It is calculated by multiplying the price of a stock by its total number of outstanding shares. For example, a company with 20 million shares selling at $50 a share would have a market cap of $1 billion.\n",
    "\n",
    "Why is market capitalization such an important concept? It allows investors to understand the relative size of one company versus another. Market cap measures what a company is worth on the open market, as well as the market's perception of its future prospects, because it reflects what investors are willing to pay for its stock.\n",
    "\n",
    "### Property Plant And Equipment, Total - Gross\n",
    "Carrying amount at the balance sheet date for long-lived physical assets used in the normal conduct of business and not intended for resale. This can include land, physical structures, machinery, vehicles, furniture, computer equipment, construction in progress, and similar items.\n",
    "\n",
    "### P/E Ratio\n",
    "The price/earnings (P/E) ratio, also known as an “earnings multiple,” is one of the most popular valuation measures used by investors and analysts. The basic definition of a P/E ratio is stock price divided by earnings per share (EPS)\n"
   ]
  },
  {
   "attachments": {},
   "cell_type": "markdown",
   "id": "7362186c",
   "metadata": {},
   "source": [
    "## 3. Data Exploration"
   ]
  },
  {
   "cell_type": "code",
   "execution_count": null,
   "id": "e85e4907",
   "metadata": {},
   "outputs": [],
   "source": [
    "import pandas as pd\n",
    "import matplotlib.pyplot as plt\n",
    "import seaborn as sns\n",
    "import plotly\n",
    "import plotly.express as px"
   ]
  },
  {
   "attachments": {},
   "cell_type": "markdown",
   "id": "fedf7972",
   "metadata": {},
   "source": [
    "### Firm Data Import"
   ]
  },
  {
   "cell_type": "code",
   "execution_count": null,
   "id": "fc160a67",
   "metadata": {},
   "outputs": [],
   "source": [
    "firm_data = pd.read_csv(\"Firm Data.csv\")"
   ]
  },
  {
   "cell_type": "code",
   "execution_count": null,
   "id": "be7e8b13",
   "metadata": {},
   "outputs": [],
   "source": [
    "firm_data.head()"
   ]
  },
  {
   "cell_type": "code",
   "execution_count": null,
   "id": "3e579816",
   "metadata": {
    "scrolled": true
   },
   "outputs": [],
   "source": [
    "firm_data.shape"
   ]
  },
  {
   "cell_type": "code",
   "execution_count": null,
   "id": "21147a0a",
   "metadata": {},
   "outputs": [],
   "source": [
    "firm_data.columns"
   ]
  },
  {
   "cell_type": "code",
   "execution_count": null,
   "id": "7278305b",
   "metadata": {},
   "outputs": [],
   "source": [
    "firm_data.info()"
   ]
  },
  {
   "attachments": {},
   "cell_type": "markdown",
   "id": "3df04892",
   "metadata": {},
   "source": [
    "Share of NaN values in the data"
   ]
  },
  {
   "cell_type": "code",
   "execution_count": null,
   "id": "4aaf530d",
   "metadata": {
    "scrolled": true
   },
   "outputs": [],
   "source": [
    "firm_data.isnull().sum() / len(firm_data) * 100"
   ]
  },
  {
   "attachments": {},
   "cell_type": "markdown",
   "id": "ab23a636",
   "metadata": {},
   "source": [
    "Converting object to datatime"
   ]
  },
  {
   "cell_type": "code",
   "execution_count": null,
   "id": "2f0e735b",
   "metadata": {},
   "outputs": [],
   "source": [
    "firm_data[\"Date\"] = pd.to_datetime(firm_data[\"Date\"], format=\"%d/%m/%Y\")\n",
    "firm_data[\"Date\"].value_counts()"
   ]
  },
  {
   "attachments": {},
   "cell_type": "markdown",
   "id": "0c354040",
   "metadata": {},
   "source": [
    "### Return Data Import"
   ]
  },
  {
   "cell_type": "code",
   "execution_count": null,
   "id": "ffa2e898",
   "metadata": {},
   "outputs": [],
   "source": [
    "return_data = pd.read_csv(\"Return_Data.csv\")\n",
    "return_data = return_data.drop(\"Unnamed: 0\", axis=1)"
   ]
  },
  {
   "cell_type": "code",
   "execution_count": null,
   "id": "f9fa5b7b",
   "metadata": {},
   "outputs": [],
   "source": [
    "return_data.head()"
   ]
  },
  {
   "cell_type": "code",
   "execution_count": null,
   "id": "c1664a45",
   "metadata": {},
   "outputs": [],
   "source": [
    "return_data[[\"Date\", \"HL\"]].info()"
   ]
  },
  {
   "cell_type": "code",
   "execution_count": null,
   "id": "ad64bf91",
   "metadata": {},
   "outputs": [],
   "source": [
    "return_data[\"Date\"] = pd.to_datetime(return_data[\"Date\"], format=\"%Y/%m/%d\")\n",
    "return_data[\"Date\"].nunique()"
   ]
  },
  {
   "cell_type": "markdown",
   "id": "5706d1b7",
   "metadata": {},
   "source": [
    "We have data from 2000s in the return data. However, in our firm data - we have data only from 2009. \n",
    "Hence, we will limit our return data as per the timeline of firm data"
   ]
  },
  {
   "cell_type": "code",
   "execution_count": null,
   "id": "8488ed87",
   "metadata": {},
   "outputs": [],
   "source": [
    "firm_data[\"Date\"].min(), firm_data[\"Date\"].max()"
   ]
  },
  {
   "cell_type": "code",
   "execution_count": null,
   "id": "21d16e3a",
   "metadata": {},
   "outputs": [],
   "source": [
    "return_data[\"Date\"].min(), return_data[\"Date\"].max()"
   ]
  },
  {
   "cell_type": "code",
   "execution_count": null,
   "id": "c3a56fd9",
   "metadata": {},
   "outputs": [],
   "source": [
    "start_date = \"2009-01-01\"\n",
    "end_date = \"2021-12-31\"\n",
    "mask = return_data[\"Date\"].between(start_date, end_date)\n",
    "return_data = return_data[mask]"
   ]
  },
  {
   "cell_type": "code",
   "execution_count": null,
   "id": "f0a5e947",
   "metadata": {},
   "outputs": [],
   "source": [
    "return_data[\"Date\"] = pd.to_datetime(return_data[\"Date\"], format=\"%Y/%m/%d\")\n",
    "return_data[\"Date\"].nunique()"
   ]
  },
  {
   "cell_type": "code",
   "execution_count": null,
   "id": "4f9236f3",
   "metadata": {},
   "outputs": [],
   "source": [
    "return_data[\"Date\"].min(), return_data[\"Date\"].max()"
   ]
  },
  {
   "attachments": {},
   "cell_type": "markdown",
   "id": "df81254c",
   "metadata": {},
   "source": [
    "Transforming columns to rows"
   ]
  },
  {
   "cell_type": "code",
   "execution_count": null,
   "id": "033a8833",
   "metadata": {},
   "outputs": [],
   "source": [
    "return_data = pd.melt(\n",
    "    return_data, id_vars=\"Date\", var_name=\"RIC\", value_name=\"returns_monthly\"\n",
    ")"
   ]
  },
  {
   "attachments": {},
   "cell_type": "markdown",
   "id": "c9759c6b",
   "metadata": {},
   "source": [
    "### Combining Return Data with Firm Data"
   ]
  },
  {
   "attachments": {},
   "cell_type": "markdown",
   "id": "7a4317e6",
   "metadata": {},
   "source": [
    "Before we combine, we need to bring return data to year level since firm data is at the year level. "
   ]
  },
  {
   "cell_type": "code",
   "execution_count": null,
   "id": "3817bc00",
   "metadata": {},
   "outputs": [],
   "source": [
    "return_data[\"Year\"] = return_data[\"Date\"].dt.year"
   ]
  },
  {
   "cell_type": "code",
   "execution_count": null,
   "id": "af443cdb",
   "metadata": {},
   "outputs": [],
   "source": [
    "return_data.head()"
   ]
  },
  {
   "cell_type": "code",
   "execution_count": null,
   "id": "9c30fc6c",
   "metadata": {},
   "outputs": [],
   "source": [
    "returns_yearly = return_data.groupby(\n",
    "    [return_data[\"RIC\"], return_data[\"Year\"]], as_index=False\n",
    ")[\"returns_monthly\"].sum()\n",
    "returns_yearly.rename(\n",
    "    columns={\"returns_monthly\": \"returns_yearly\"}, inplace=True\n",
    ")\n",
    "returns_yearly.head()"
   ]
  },
  {
   "cell_type": "code",
   "execution_count": null,
   "id": "cda021a0",
   "metadata": {},
   "outputs": [],
   "source": [
    "returns_yearly.to_csv(\"data/yearly_return.csv\", index=False)"
   ]
  },
  {
   "cell_type": "code",
   "execution_count": null,
   "id": "df7e62a0",
   "metadata": {},
   "outputs": [],
   "source": [
    "firm_data[\"Year\"] = firm_data[\"Date\"].dt.year"
   ]
  },
  {
   "cell_type": "code",
   "execution_count": null,
   "id": "912d2251",
   "metadata": {},
   "outputs": [],
   "source": [
    "firm_data = firm_data.merge(returns_yearly, how=\"left\", on=[\"RIC\", \"Year\"])"
   ]
  },
  {
   "cell_type": "code",
   "execution_count": null,
   "id": "4e39e20f",
   "metadata": {},
   "outputs": [],
   "source": [
    "firm_data.head()"
   ]
  },
  {
   "cell_type": "code",
   "execution_count": null,
   "id": "d69dcf50",
   "metadata": {},
   "outputs": [],
   "source": [
    "firm_data.drop(\n",
    "    columns=[\n",
    "        \"Date\",\n",
    "        \"Social Pillar Score\",\n",
    "        \"Governance Pillar Score\",\n",
    "        \"Environmental Pillar Score\",\n",
    "    ],\n",
    "    inplace=True,\n",
    ")"
   ]
  },
  {
   "cell_type": "code",
   "execution_count": null,
   "id": "1b8bcef3",
   "metadata": {},
   "outputs": [],
   "source": [
    "firm_data.to_csv(\"data/firm_returns_merged.csv\", index=False)"
   ]
  },
  {
   "attachments": {},
   "cell_type": "markdown",
   "id": "85bcf566",
   "metadata": {},
   "source": [
    "### Correlation heatmaps"
   ]
  },
  {
   "attachments": {},
   "cell_type": "markdown",
   "id": "25d03d10",
   "metadata": {},
   "source": [
    "It is clear from the heatmap that there is a strong correlation among the following features"
   ]
  },
  {
   "cell_type": "code",
   "execution_count": null,
   "id": "fb14d161",
   "metadata": {},
   "outputs": [],
   "source": [
    "columns = [\n",
    "    \"Total Current Assets\",\n",
    "    \"Total Current Liabilities\",\n",
    "    \"Total Debt\",\n",
    "    \"Total Assets, Reported\",\n",
    "    \"Net Income - Actual\",\n",
    "    \"Total Revenue\",\n",
    "    \"Total Equity\",\n",
    "    \"ESG Score\",\n",
    "]"
   ]
  },
  {
   "cell_type": "code",
   "execution_count": null,
   "id": "be70ab87",
   "metadata": {},
   "outputs": [],
   "source": [
    "cormat = firm_data[columns].corr()\n",
    "sns.heatmap(cormat, annot=True)\n",
    "plt.figure(figsize=(20, 20))\n",
    "plt.show()"
   ]
  },
  {
   "attachments": {},
   "cell_type": "markdown",
   "id": "3fbfbd99",
   "metadata": {},
   "source": [
    "It is clear from the heatmap that none of these features are correlated among each other"
   ]
  },
  {
   "cell_type": "code",
   "execution_count": null,
   "id": "a548ed8a",
   "metadata": {},
   "outputs": [],
   "source": [
    "columns = [\n",
    "    \"Revenue Per Share\",\n",
    "    \"Total CO2 Equivalent Emissions To Revenues USD in million\",\n",
    "    \"Company Market Capitalization\",\n",
    "    \"Property Plant And Equipment, Total - Gross\",\n",
    "    \"P/E (Daily Time Series Ratio)\",\n",
    "    \"ESG Score\",\n",
    "]"
   ]
  },
  {
   "cell_type": "code",
   "execution_count": null,
   "id": "706df270",
   "metadata": {},
   "outputs": [],
   "source": [
    "cormat = firm_data[columns].corr()\n",
    "sns.heatmap(cormat, annot=True)\n",
    "plt.figure(figsize=(20, 20))\n",
    "plt.show()"
   ]
  },
  {
   "cell_type": "code",
   "execution_count": null,
   "id": "71575541",
   "metadata": {},
   "outputs": [],
   "source": [
    "columns = [\n",
    "    \"Total Current Assets\",\n",
    "    \"Total Current Liabilities\",\n",
    "    \"Total Debt\",\n",
    "    \"Total Assets, Reported\",\n",
    "    \"Net Income - Actual\",\n",
    "    \"Total Revenue\",\n",
    "    \"Total Equity\",\n",
    "    \"Property Plant And Equipment, Total - Gross\",\n",
    "    \"Total CO2 Equivalent Emissions To Revenues USD in million\",\n",
    "    \"ESG Score\",\n",
    "    \"Company Market Capitalization\",\n",
    "    \"Revenue Per Share\",\n",
    "    \"P/E (Daily Time Series Ratio)\",\n",
    "    \"returns_yearly\",\n",
    "]"
   ]
  },
  {
   "cell_type": "code",
   "execution_count": null,
   "id": "e2c20bc3",
   "metadata": {},
   "outputs": [],
   "source": [
    "cormat = firm_data[columns].corr()\n",
    "sns.heatmap(cormat, annot=True, fmt=\".1f\")\n",
    "plt.figure(figsize=(30, 30))\n",
    "plt.show()"
   ]
  },
  {
   "attachments": {},
   "cell_type": "markdown",
   "id": "28e71ee1",
   "metadata": {},
   "source": [
    "### Outlier Detection"
   ]
  },
  {
   "cell_type": "code",
   "execution_count": null,
   "id": "8e0aff4d",
   "metadata": {},
   "outputs": [],
   "source": [
    "numerical_columns = [\n",
    "    \"Total Current Assets\",\n",
    "    \"Total Current Liabilities\",\n",
    "    \"Total Debt\",\n",
    "    \"Total Assets, Reported\",\n",
    "    \"Net Income - Actual\",\n",
    "    \"Total Revenue\",\n",
    "    \"Total Equity\",\n",
    "    \"Property Plant And Equipment, Total - Gross\",\n",
    "    \"Total CO2 Equivalent Emissions To Revenues USD in million\",\n",
    "    \"Company Market Capitalization\",\n",
    "    \"Revenue Per Share\",\n",
    "    \"P/E (Daily Time Series Ratio)\",\n",
    "    \"returns_yearly\",\n",
    "]"
   ]
  },
  {
   "cell_type": "code",
   "execution_count": null,
   "id": "65fb48bb",
   "metadata": {},
   "outputs": [],
   "source": [
    "numerical_columns_data = firm_data[numerical_columns].copy()"
   ]
  },
  {
   "cell_type": "code",
   "execution_count": null,
   "id": "d15c8543",
   "metadata": {},
   "outputs": [],
   "source": [
    "# Calculate the interquartile range (IQR)\n",
    "Q1 = numerical_columns_data.quantile(0.25)\n",
    "Q3 = numerical_columns_data.quantile(0.75)\n",
    "IQR = Q3 - Q1\n",
    "\n",
    "# Define the upper and lower bounds for outlier detection\n",
    "lower_bound = Q1 - 3 * IQR\n",
    "upper_bound = Q3 + 3 * IQR\n",
    "\n",
    "# Remove outliers from the dataframe\n",
    "outliers_removed_dataset = numerical_columns_data[\n",
    "    ~(\n",
    "        (numerical_columns_data < lower_bound)\n",
    "        | (numerical_columns_data > upper_bound)\n",
    "    ).any(axis=1)\n",
    "]"
   ]
  },
  {
   "cell_type": "code",
   "execution_count": null,
   "id": "22055604",
   "metadata": {},
   "outputs": [],
   "source": [
    "outliers_removed_dataset.head()"
   ]
  },
  {
   "cell_type": "code",
   "execution_count": null,
   "id": "c0a2c1ab",
   "metadata": {},
   "outputs": [],
   "source": [
    "outliers_removed_dataset.info()"
   ]
  },
  {
   "cell_type": "code",
   "execution_count": null,
   "id": "207d83b0",
   "metadata": {},
   "outputs": [],
   "source": [
    "outliers_removed_dataset = outliers_removed_dataset.merge(\n",
    "    firm_data[[\"RIC\", \"Year\", \"ESG Score\"]],\n",
    "    left_index=True,\n",
    "    right_index=True,\n",
    "    how=\"inner\",\n",
    ")"
   ]
  },
  {
   "cell_type": "code",
   "execution_count": null,
   "id": "849738b4",
   "metadata": {},
   "outputs": [],
   "source": [
    "outliers_removed_dataset.info()"
   ]
  },
  {
   "cell_type": "code",
   "execution_count": null,
   "id": "360b28d6",
   "metadata": {},
   "outputs": [],
   "source": [
    "for i in outliers_removed_dataset.columns:\n",
    "    box = px.box(\n",
    "        outliers_removed_dataset, y=i, width=500, height=500, points=\"outliers\"\n",
    "    )\n",
    "    box.show()"
   ]
  },
  {
   "attachments": {},
   "cell_type": "markdown",
   "id": "59dcceef",
   "metadata": {},
   "source": [
    "### Data Imputation"
   ]
  },
  {
   "cell_type": "code",
   "execution_count": null,
   "id": "f0aedb1e",
   "metadata": {},
   "outputs": [],
   "source": [
    "columns_to_impute = [\n",
    "    \"Total Current Assets\",\n",
    "    \"Total Current Liabilities\",\n",
    "    \"Total Debt\",\n",
    "    \"Total Assets, Reported\",\n",
    "    \"Net Income - Actual\",\n",
    "    \"Revenue Per Share\",\n",
    "    \"Total Revenue\",\n",
    "    \"Total Equity\",\n",
    "    \"CO2 Emissions\",\n",
    "    \"Company Market Capitalization\",\n",
    "    \"PPE Total\",\n",
    "    \"P/E (Daily Time Series Ratio)\",\n",
    "]"
   ]
  },
  {
   "cell_type": "code",
   "execution_count": null,
   "id": "187e24bb",
   "metadata": {},
   "outputs": [],
   "source": [
    "df_firm = df_firm.dropna(\n",
    "    subset=columns_to_impute,\n",
    "    how=\"all\",\n",
    ")"
   ]
  },
  {
   "cell_type": "code",
   "execution_count": null,
   "id": "bdc77841",
   "metadata": {},
   "outputs": [],
   "source": [
    "df_firm.shape"
   ]
  },
  {
   "cell_type": "code",
   "execution_count": null,
   "id": "9c097119",
   "metadata": {},
   "outputs": [],
   "source": [
    "df_firm[columns_to_impute] = df_firm.groupby([\"RIC\"])[\n",
    "    columns_to_impute\n",
    "].transform(lambda x: x.fillna(x.mean()))"
   ]
  },
  {
   "cell_type": "code",
   "execution_count": null,
   "id": "e9779b64",
   "metadata": {},
   "outputs": [],
   "source": [
    "df_firm.shape"
   ]
  },
  {
   "cell_type": "code",
   "execution_count": null,
   "id": "57991f99",
   "metadata": {},
   "outputs": [],
   "source": [
    "df_firm.isna().sum()"
   ]
  },
  {
   "cell_type": "code",
   "execution_count": null,
   "id": "c56015b5",
   "metadata": {},
   "outputs": [],
   "source": [
    "df_firm[columns_to_impute] = df_firm[columns_to_impute].fillna(df_firm.mean())"
   ]
  },
  {
   "cell_type": "code",
   "execution_count": null,
   "id": "88380bed",
   "metadata": {},
   "outputs": [],
   "source": [
    "df_firm.isna().sum()"
   ]
  },
  {
   "cell_type": "code",
   "execution_count": null,
   "id": "2b9050fe",
   "metadata": {},
   "outputs": [],
   "source": [
    "df_firm.columns"
   ]
  },
  {
   "cell_type": "code",
   "execution_count": null,
   "id": "344925da",
   "metadata": {},
   "outputs": [],
   "source": [
    "df_firm_new = df_firm[df_firm[\"ESG Score\"].notna()]"
   ]
  },
  {
   "attachments": {},
   "cell_type": "markdown",
   "id": "410ee121",
   "metadata": {},
   "source": [
    "KNN Imputation"
   ]
  },
  {
   "cell_type": "code",
   "execution_count": null,
   "id": "cc64d307",
   "metadata": {},
   "outputs": [],
   "source": [
    "X = df_firm.drop(\n",
    "    columns=[\n",
    "        \"Social Pillar Score\",\n",
    "        \"Governance Pillar Score\",\n",
    "        \"Environmental Pillar Score\",\n",
    "        \"RIC\",\n",
    "        \"Date\",\n",
    "    ]\n",
    ")"
   ]
  },
  {
   "cell_type": "code",
   "execution_count": null,
   "id": "82e2357c",
   "metadata": {},
   "outputs": [],
   "source": [
    "X.shape"
   ]
  },
  {
   "cell_type": "code",
   "execution_count": null,
   "id": "72af3a05",
   "metadata": {},
   "outputs": [],
   "source": [
    "import numpy as np\n",
    "from sklearn.impute import KNNImputer\n",
    "\n",
    "imputer = KNNImputer(n_neighbors=5, missing_values=np.nan)\n",
    "X = imputer.fit_transform(X)"
   ]
  },
  {
   "cell_type": "code",
   "execution_count": null,
   "id": "c9ac993e",
   "metadata": {},
   "outputs": [],
   "source": [
    "X.shape"
   ]
  },
  {
   "cell_type": "code",
   "execution_count": null,
   "id": "ef20af9c",
   "metadata": {},
   "outputs": [],
   "source": [
    "df_imputed = pd.DataFrame(\n",
    "    X,\n",
    "    columns=[\n",
    "        \"Total Current Assets\",\n",
    "        \"Total Current Liabilities\",\n",
    "        \"Total Debt\",\n",
    "        \"Total Assets, Reported\",\n",
    "        \"Net Income - Actual\",\n",
    "        \"Revenue Per Share\",\n",
    "        \"Total Revenue\",\n",
    "        \"Total Equity\",\n",
    "        \"CO2 Emissions\",\n",
    "        \"ESG Score\",\n",
    "        \"Company Market Capitalization\",\n",
    "        \"PPE Total\",\n",
    "        \"P/E (Daily Time Series Ratio)\",\n",
    "    ],\n",
    ")"
   ]
  },
  {
   "cell_type": "code",
   "execution_count": null,
   "id": "8a38acb8",
   "metadata": {},
   "outputs": [],
   "source": [
    "df_firm[\"ESG Score\"] = df_imputed[\"ESG Score\"]"
   ]
  },
  {
   "cell_type": "code",
   "execution_count": null,
   "id": "2dd2eb59",
   "metadata": {},
   "outputs": [],
   "source": [
    "df_firm.shape"
   ]
  },
  {
   "cell_type": "code",
   "execution_count": null,
   "id": "cfc8aa54",
   "metadata": {},
   "outputs": [],
   "source": [
    "df_firm.isna().sum()"
   ]
  },
  {
   "cell_type": "code",
   "execution_count": null,
   "id": "2acb8188",
   "metadata": {},
   "outputs": [],
   "source": [
    "df_firm = df_firm[df_firm[\"ESG Score\"].notna()]"
   ]
  },
  {
   "cell_type": "code",
   "execution_count": null,
   "id": "0e34a7f4",
   "metadata": {},
   "outputs": [],
   "source": [
    "df_firm.describe([0.75, 0.8, 0.85, 0.88, 0.9])"
   ]
  },
  {
   "cell_type": "code",
   "execution_count": null,
   "id": "ff3d66b4",
   "metadata": {},
   "outputs": [],
   "source": [
    "df_firm[df_firm[\"Total Current Assets\"] <= 5000].describe(\n",
    "    [0.75, 0.8, 0.85, 0.88, 0.9]\n",
    ")"
   ]
  },
  {
   "attachments": {},
   "cell_type": "markdown",
   "id": "203b41c5",
   "metadata": {},
   "source": [
    "#### Simple Linear Regression"
   ]
  },
  {
   "cell_type": "code",
   "execution_count": null,
   "id": "1dffa1d2",
   "metadata": {},
   "outputs": [],
   "source": [
    "from sklearn.metrics import mean_squared_error, mean_absolute_error, r2_score\n",
    "from sklearn.linear_model import LinearRegression\n",
    "from sklearn.model_selection import train_test_split\n",
    "from sklearn.preprocessing import MinMaxScaler\n",
    "from sklearn.model_selection import cross_val_score\n",
    "from sklearn.model_selection import KFold"
   ]
  },
  {
   "cell_type": "code",
   "execution_count": null,
   "id": "29c9e4d8",
   "metadata": {},
   "outputs": [],
   "source": [
    "from sklearn.ensemble import RandomForestRegressor"
   ]
  },
  {
   "cell_type": "code",
   "execution_count": null,
   "id": "dc84e904",
   "metadata": {},
   "outputs": [],
   "source": [
    "columns_selected = [\n",
    "    \"Total Equity\",\n",
    "    \"CO2 Emissions\",\n",
    "    \"Company Market Capitalization\",\n",
    "    \"PPE Total\",\n",
    "    \"P/E (Daily Time Series Ratio)\",\n",
    "]"
   ]
  },
  {
   "cell_type": "code",
   "execution_count": null,
   "id": "e6da754b",
   "metadata": {},
   "outputs": [],
   "source": [
    "X = df_firm_new[df_firm_new[\"Total Current Assets\"] <= 5000][columns_selected]\n",
    "y = df_firm_new[df_firm_new[\"Total Current Assets\"] <= 5000][\"ESG Score\"]"
   ]
  },
  {
   "cell_type": "code",
   "execution_count": null,
   "id": "9d978ef4",
   "metadata": {},
   "outputs": [],
   "source": [
    "# rescale the features\n",
    "scaler = MinMaxScaler()\n",
    "\n",
    "# apply scaler() to all the numeric columns\n",
    "X = scaler.fit_transform(X)"
   ]
  },
  {
   "cell_type": "code",
   "execution_count": null,
   "id": "7a0f1842",
   "metadata": {},
   "outputs": [],
   "source": [
    "X_train, X_test, y_train, y_test = train_test_split(\n",
    "    X, y, test_size=0.33, random_state=42\n",
    ")"
   ]
  },
  {
   "cell_type": "code",
   "execution_count": null,
   "id": "6f16bee0",
   "metadata": {},
   "outputs": [],
   "source": [
    "model = LinearRegression()\n",
    "model.fit(X_train, y_train)\n",
    "y_pred = model.predict(X_test)\n",
    "# model evaluation\n",
    "print(\"mean_squared_error : \", mean_squared_error(y_test, y_pred))\n",
    "print(\"mean_absolute_error : \", mean_absolute_error(y_test, y_pred))"
   ]
  },
  {
   "cell_type": "code",
   "execution_count": null,
   "id": "0174e87d",
   "metadata": {},
   "outputs": [],
   "source": [
    "# create a KFold object with 5 splits\n",
    "folds = KFold(n_splits=5, shuffle=True, random_state=100)\n",
    "scores = cross_val_score(model, X_train, y_train, scoring=\"r2\", cv=folds)\n",
    "scores"
   ]
  },
  {
   "cell_type": "code",
   "execution_count": null,
   "id": "60daf7fa",
   "metadata": {},
   "outputs": [],
   "source": [
    "model = RandomForestRegressor()\n",
    "model.fit(X_train, y_train)\n",
    "y_pred = model.predict(X_test)\n",
    "# model evaluation\n",
    "print(\"mean_squared_error : \", mean_squared_error(y_test, y_pred))\n",
    "print(\"mean_absolute_error : \", mean_absolute_error(y_test, y_pred))"
   ]
  },
  {
   "cell_type": "code",
   "execution_count": null,
   "id": "d96d3468",
   "metadata": {},
   "outputs": [],
   "source": [
    "# create a KFold object with 5 splits\n",
    "folds = KFold(n_splits=5, shuffle=True, random_state=100)\n",
    "scores = cross_val_score(model, X_train, y_train, scoring=\"r2\", cv=folds)\n",
    "scores"
   ]
  },
  {
   "cell_type": "code",
   "execution_count": null,
   "id": "169671fe",
   "metadata": {},
   "outputs": [],
   "source": [
    "from sklearn.ensemble import GradientBoostingRegressor\n",
    "\n",
    "model = GradientBoostingRegressor()\n",
    "model.fit(X_train, y_train)\n",
    "y_pred = model.predict(X_test)\n",
    "# model evaluation\n",
    "print(\"mean_squared_error : \", mean_squared_error(y_test, y_pred))\n",
    "print(\"mean_absolute_error : \", mean_absolute_error(y_test, y_pred))"
   ]
  },
  {
   "cell_type": "code",
   "execution_count": null,
   "id": "111615bb",
   "metadata": {},
   "outputs": [],
   "source": [
    "# create a KFold object with 5 splits\n",
    "folds = KFold(n_splits=5, shuffle=True, random_state=100)\n",
    "scores = cross_val_score(model, X_train, y_train, scoring=\"r2\", cv=folds)\n",
    "scores"
   ]
  },
  {
   "cell_type": "code",
   "execution_count": null,
   "id": "43b1e730",
   "metadata": {},
   "outputs": [],
   "source": [
    "from sklearn.ensemble import AdaBoostRegressor\n",
    "\n",
    "model = AdaBoostRegressor()\n",
    "model.fit(X_train, y_train)\n",
    "y_pred = model.predict(X_test)\n",
    "# model evaluation\n",
    "print(\"mean_squared_error : \", mean_squared_error(y_test, y_pred))\n",
    "print(\"mean_absolute_error : \", mean_absolute_error(y_test, y_pred))"
   ]
  },
  {
   "cell_type": "code",
   "execution_count": null,
   "id": "00b39da4",
   "metadata": {},
   "outputs": [],
   "source": [
    "# create a KFold object with 5 splits\n",
    "folds = KFold(n_splits=5, shuffle=True, random_state=100)\n",
    "scores = cross_val_score(model, X_train, y_train, scoring=\"r2\", cv=folds)\n",
    "scores"
   ]
  },
  {
   "cell_type": "code",
   "execution_count": null,
   "id": "3590981b",
   "metadata": {},
   "outputs": [],
   "source": [
    "from sklearn.ensemble import BaggingRegressor\n",
    "\n",
    "model = BaggingRegressor(estimator=RandomForestRegressor())\n",
    "model.fit(X_train, y_train)\n",
    "y_pred = model.predict(X_test)\n",
    "# model evaluation\n",
    "print(\"mean_squared_error : \", mean_squared_error(y_test, y_pred))\n",
    "print(\"mean_absolute_error : \", mean_absolute_error(y_test, y_pred))"
   ]
  },
  {
   "cell_type": "code",
   "execution_count": null,
   "id": "6fcc4dd4",
   "metadata": {},
   "outputs": [],
   "source": [
    "# create a KFold object with 5 splits\n",
    "folds = KFold(n_splits=5, shuffle=True, random_state=100)\n",
    "scores = cross_val_score(model, X_train, y_train, scoring=\"r2\", cv=folds)\n",
    "scores"
   ]
  }
 ],
 "metadata": {
  "kernelspec": {
   "display_name": "Python 3",
   "language": "python",
   "name": "python3"
  },
  "language_info": {
   "codemirror_mode": {
    "name": "ipython",
    "version": 3
   },
   "file_extension": ".py",
   "mimetype": "text/x-python",
   "name": "python",
   "nbconvert_exporter": "python",
   "pygments_lexer": "ipython3",
   "version": "3.8.9"
  }
 },
 "nbformat": 4,
 "nbformat_minor": 5
}
