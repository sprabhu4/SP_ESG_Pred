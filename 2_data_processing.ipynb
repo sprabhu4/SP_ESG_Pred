{
 "cells": [
  {
   "cell_type": "code",
   "execution_count": null,
   "metadata": {},
   "outputs": [],
   "source": [
    "import pandas as pd\n",
    "import matplotlib.pyplot as plt\n",
    "import seaborn as sns\n",
    "import plotly\n",
    "import numpy as np\n",
    "import plotly.express as px\n",
    "from sklearn.impute import KNNImputer"
   ]
  },
  {
   "cell_type": "code",
   "execution_count": null,
   "metadata": {},
   "outputs": [],
   "source": [
    "merged_data = pd.read_csv(\"data/processed/merged_firm_returns.csv\")"
   ]
  },
  {
   "attachments": {},
   "cell_type": "markdown",
   "metadata": {},
   "source": [
    "### Calculate Absolute Ratios"
   ]
  },
  {
   "attachments": {},
   "cell_type": "markdown",
   "metadata": {},
   "source": [
    "1. <b>Current Ratio</b> : This ratio measures a company's ability to pay off its short-term liabilities with its short-term assets. A higher current ratio indicates a stronger liquidity position.\n",
    "2. <b>Debt-to-Equity Ratio</b> : This ratio measures the proportion of debt financing to equity financing in a company's capital structure. A higher debt-to-equity ratio indicates a greater reliance on debt financing, which can be a risk factor.\n",
    "3. <b>Return on Assets (ROA)</b> : This ratio measures the company's ability to generate profits from its assets.\n",
    "4. <b>Revenue Per Employee</b> : This ratio measures how much revenue a company generates per employee and can be used as a measure of the company's efficiency.\n",
    "5. <b>Return on Equity (ROE)</b> : This ratio measures the company's ability to generate profits from its shareholders' investments.\n",
    "6. <b>Asset Turnover Ratio</b> : This ratio measures a company's efficiency in using its assets to generate revenue. A higher asset turnover ratio indicates greater efficiency in asset utilization.\n",
    "7. <b>Net Income Margin</b> : This ratio measures a company's profitability relative to its revenue. A higher net income margin indicates greater profitability.\n",
    "\n",
    "\n"
   ]
  },
  {
   "cell_type": "code",
   "execution_count": null,
   "metadata": {},
   "outputs": [],
   "source": [
    "merged_data[\"Current Ratio\"] = (\n",
    "    merged_data[\"Total Current Assets\"]\n",
    "    / merged_data[\"Total Current Liabilities\"]\n",
    ")\n",
    "merged_data[\"Debt-to-Equity Ratio\"] = (\n",
    "    merged_data[\"Total Debt\"] / merged_data[\"Total Equity\"]\n",
    ")\n",
    "merged_data[\"Return on Assets\"] = (\n",
    "    merged_data[\"Net Income - Actual\"] / merged_data[\"Total Assets, Reported\"]\n",
    ")\n",
    "merged_data[\"Revenue Per Employee\"] = (\n",
    "    merged_data[\"Total Revenue\"] / merged_data[\"Company Market Capitalization\"]\n",
    ")\n",
    "merged_data[\"Return on Equity\"] = (\n",
    "    merged_data[\"Net Income - Actual\"] / merged_data[\"Total Equity\"]\n",
    ")\n",
    "merged_data[\"Asset Turnover Ratio\"] = (\n",
    "    merged_data[\"Total Revenue\"] / merged_data[\"Total Assets, Reported\"]\n",
    ")\n",
    "merged_data[\"Net Income Margin\"] = (\n",
    "    merged_data[\"Net Income - Actual\"] / merged_data[\"Total Revenue\"]\n",
    ")"
   ]
  },
  {
   "attachments": {},
   "cell_type": "markdown",
   "metadata": {},
   "source": [
    "### Outlier Analysis and Treatment"
   ]
  },
  {
   "cell_type": "code",
   "execution_count": null,
   "metadata": {},
   "outputs": [],
   "source": [
    "for i in merged_data.columns:\n",
    "    box = px.box(merged_data, y=i, width=500, height=500, points=\"outliers\")\n",
    "    box.show()"
   ]
  },
  {
   "cell_type": "code",
   "execution_count": null,
   "metadata": {},
   "outputs": [],
   "source": [
    "numerical_columns_data = merged_data.copy()\n",
    "numerical_columns_data.drop(columns=[\"RIC\", \"Year\", \"ESG Score\"], inplace=True)"
   ]
  },
  {
   "cell_type": "code",
   "execution_count": null,
   "metadata": {},
   "outputs": [],
   "source": [
    "# Calculate the interquartile range (IQR)\n",
    "Q1 = numerical_columns_data.quantile(0.25)\n",
    "Q3 = numerical_columns_data.quantile(0.75)\n",
    "IQR = Q3 - Q1\n",
    "\n",
    "# Define the upper and lower bounds for outlier detection\n",
    "lower_bound = Q1 - 3 * IQR\n",
    "upper_bound = Q3 + 3 * IQR\n",
    "\n",
    "# Remove outliers from the dataframe\n",
    "outliers_removed_dataset = numerical_columns_data[\n",
    "    ~(\n",
    "        (numerical_columns_data < lower_bound)\n",
    "        | (numerical_columns_data > upper_bound)\n",
    "    ).any(axis=1)\n",
    "]"
   ]
  },
  {
   "cell_type": "code",
   "execution_count": null,
   "metadata": {},
   "outputs": [],
   "source": [
    "outliers_removed_dataset.head()"
   ]
  },
  {
   "cell_type": "code",
   "execution_count": null,
   "metadata": {},
   "outputs": [],
   "source": [
    "outliers_removed_dataset = outliers_removed_dataset.merge(\n",
    "    merged_data[[\"RIC\", \"Year\", \"ESG Score\"]],\n",
    "    left_index=True,\n",
    "    right_index=True,\n",
    "    how=\"inner\",\n",
    ")"
   ]
  },
  {
   "cell_type": "code",
   "execution_count": null,
   "metadata": {},
   "outputs": [],
   "source": [
    "outliers_removed_dataset.info()"
   ]
  },
  {
   "cell_type": "code",
   "execution_count": null,
   "metadata": {},
   "outputs": [],
   "source": [
    "outliers_removed_dataset.isna().sum() / len(outliers_removed_dataset) * 100"
   ]
  },
  {
   "cell_type": "code",
   "execution_count": null,
   "metadata": {},
   "outputs": [],
   "source": [
    "merged_data.isnull().sum() / len(merged_data) * 100"
   ]
  },
  {
   "cell_type": "code",
   "execution_count": null,
   "metadata": {},
   "outputs": [],
   "source": [
    "merged_data.describe()"
   ]
  },
  {
   "cell_type": "code",
   "execution_count": null,
   "metadata": {},
   "outputs": [],
   "source": [
    "outliers_removed_dataset.describe()"
   ]
  },
  {
   "cell_type": "code",
   "execution_count": null,
   "metadata": {},
   "outputs": [],
   "source": [
    "for i in outliers_removed_dataset.columns:\n",
    "    box = px.box(\n",
    "        outliers_removed_dataset, y=i, width=500, height=500, points=\"outliers\"\n",
    "    )\n",
    "    box.show()"
   ]
  },
  {
   "cell_type": "code",
   "execution_count": null,
   "metadata": {},
   "outputs": [],
   "source": [
    "outliers_removed_dataset.to_csv(\n",
    "    \"data/processed/without_outliers_dataset.csv\", index=False\n",
    ")"
   ]
  },
  {
   "cell_type": "code",
   "execution_count": null,
   "metadata": {},
   "outputs": [],
   "source": [
    "merged_data.to_csv(\"data/processed/with_outliers_dataset.csv\", index=False)"
   ]
  },
  {
   "attachments": {},
   "cell_type": "markdown",
   "metadata": {},
   "source": [
    "### Data Imputation & Final Dataset creation for Model Training"
   ]
  },
  {
   "attachments": {},
   "cell_type": "markdown",
   "metadata": {},
   "source": [
    "#### 1. Without Outliers"
   ]
  },
  {
   "attachments": {},
   "cell_type": "markdown",
   "metadata": {},
   "source": [
    "Keep rows only where there is a valid ESG Score"
   ]
  },
  {
   "cell_type": "code",
   "execution_count": null,
   "metadata": {},
   "outputs": [],
   "source": [
    "without_outliers_clean_data = outliers_removed_dataset[\n",
    "    outliers_removed_dataset[\"ESG Score\"].notna()\n",
    "]"
   ]
  },
  {
   "cell_type": "code",
   "execution_count": null,
   "metadata": {},
   "outputs": [],
   "source": [
    "subset = list(without_outliers_clean_data.columns)\n",
    "del subset[-3:]"
   ]
  },
  {
   "cell_type": "code",
   "execution_count": null,
   "metadata": {},
   "outputs": [],
   "source": [
    "subset"
   ]
  },
  {
   "cell_type": "code",
   "execution_count": null,
   "metadata": {},
   "outputs": [],
   "source": [
    "# Define a function to check if at least 90% of values in the subset are null\n",
    "def check_null_perc(row, subset, null_perc=0.9):\n",
    "    subset_values = row[subset]\n",
    "    null_count = subset_values.isna().sum()\n",
    "    null_perc_subset = null_count / len(subset_values)\n",
    "    return null_perc_subset >= null_perc"
   ]
  },
  {
   "cell_type": "code",
   "execution_count": null,
   "metadata": {},
   "outputs": [],
   "source": [
    "# Apply the function to remove rows where at least 90% of columns in the subset are null\n",
    "without_outliers_clean_data = without_outliers_clean_data[\n",
    "    ~without_outliers_clean_data.apply(\n",
    "        lambda x: check_null_perc(x, subset), axis=1\n",
    "    )\n",
    "]"
   ]
  },
  {
   "cell_type": "code",
   "execution_count": null,
   "metadata": {},
   "outputs": [],
   "source": [
    "len(outliers_removed_dataset), len(without_outliers_clean_data)"
   ]
  },
  {
   "cell_type": "code",
   "execution_count": null,
   "metadata": {},
   "outputs": [],
   "source": [
    "# Normalize the dataset by doing Z score normalization\n",
    "norm_data_without_outliers = (\n",
    "    without_outliers_clean_data[subset]\n",
    "    - without_outliers_clean_data[subset].mean()\n",
    ") / without_outliers_clean_data[subset].std()"
   ]
  },
  {
   "cell_type": "code",
   "execution_count": null,
   "metadata": {},
   "outputs": [],
   "source": [
    "imputer = KNNImputer(n_neighbors=5, missing_values=np.nan)\n",
    "imputed_data_without_outliers = imputer.fit_transform(\n",
    "    norm_data_without_outliers\n",
    ")"
   ]
  },
  {
   "cell_type": "code",
   "execution_count": null,
   "metadata": {},
   "outputs": [],
   "source": [
    "imputed_without_outliers_df = pd.DataFrame(\n",
    "    imputed_data_without_outliers,\n",
    "    columns=subset,\n",
    ")"
   ]
  },
  {
   "cell_type": "code",
   "execution_count": null,
   "metadata": {},
   "outputs": [],
   "source": [
    "len(imputed_without_outliers_df)"
   ]
  },
  {
   "cell_type": "code",
   "execution_count": null,
   "metadata": {},
   "outputs": [],
   "source": [
    "len(without_outliers_clean_data[[\"RIC\", \"Year\", \"ESG Score\"]])"
   ]
  },
  {
   "cell_type": "code",
   "execution_count": null,
   "metadata": {},
   "outputs": [],
   "source": [
    "imputed_without_outliers_df[\n",
    "    [\"RIC\", \"Year\", \"ESG Score\"]\n",
    "] = without_outliers_clean_data[[\"RIC\", \"Year\", \"ESG Score\"]].reset_index(\n",
    "    drop=True\n",
    ")"
   ]
  },
  {
   "cell_type": "code",
   "execution_count": null,
   "metadata": {},
   "outputs": [],
   "source": [
    "imputed_without_outliers_df.describe()"
   ]
  },
  {
   "cell_type": "code",
   "execution_count": null,
   "metadata": {},
   "outputs": [],
   "source": [
    "imputed_without_outliers_df.info()"
   ]
  },
  {
   "cell_type": "code",
   "execution_count": null,
   "metadata": {},
   "outputs": [],
   "source": [
    "imputed_without_outliers_df.isna().sum()"
   ]
  },
  {
   "cell_type": "code",
   "execution_count": null,
   "metadata": {},
   "outputs": [],
   "source": [
    "# Plot a histogram\n",
    "\n",
    "imputed_without_outliers_df.hist(figsize=(20, 20))"
   ]
  },
  {
   "cell_type": "code",
   "execution_count": null,
   "metadata": {},
   "outputs": [],
   "source": [
    "# export merged dataframe\n",
    "\n",
    "imputed_without_outliers_df.to_csv(\n",
    "    \"data/model_training_files/imputed_without_outliers.csv\"\n",
    ")"
   ]
  },
  {
   "attachments": {},
   "cell_type": "markdown",
   "metadata": {},
   "source": [
    "#### 2. With Outliers"
   ]
  },
  {
   "cell_type": "markdown",
   "metadata": {},
   "source": [
    "Keep rows only where there is a valid ESG Score"
   ]
  },
  {
   "cell_type": "code",
   "execution_count": null,
   "metadata": {},
   "outputs": [],
   "source": [
    "with_outliers_clean_data = merged_data[merged_data[\"ESG Score\"].notna()]"
   ]
  },
  {
   "cell_type": "code",
   "execution_count": null,
   "metadata": {},
   "outputs": [],
   "source": [
    "with_outliers_clean_data.columns"
   ]
  },
  {
   "cell_type": "code",
   "execution_count": null,
   "metadata": {},
   "outputs": [],
   "source": [
    "subset = list(with_outliers_clean_data.columns)\n",
    "del subset[0]\n",
    "del subset[9]\n",
    "del subset[12]"
   ]
  },
  {
   "cell_type": "code",
   "execution_count": null,
   "metadata": {},
   "outputs": [],
   "source": [
    "subset"
   ]
  },
  {
   "cell_type": "code",
   "execution_count": null,
   "metadata": {},
   "outputs": [],
   "source": [
    "# Define a function to check if at least 90% of values in the subset are null\n",
    "def check_null_perc(row, subset, null_perc=0.9):\n",
    "    subset_values = row[subset]\n",
    "    null_count = subset_values.isna().sum()\n",
    "    null_perc_subset = null_count / len(subset_values)\n",
    "    return null_perc_subset >= null_perc"
   ]
  },
  {
   "cell_type": "code",
   "execution_count": null,
   "metadata": {},
   "outputs": [],
   "source": [
    "# Apply the function to remove rows where at least 90% of columns in the subset are null\n",
    "with_outliers_clean_data = with_outliers_clean_data[\n",
    "    ~with_outliers_clean_data.apply(\n",
    "        lambda x: check_null_perc(x, subset), axis=1\n",
    "    )\n",
    "]"
   ]
  },
  {
   "cell_type": "code",
   "execution_count": null,
   "metadata": {},
   "outputs": [],
   "source": [
    "len(merged_data), len(with_outliers_clean_data)"
   ]
  },
  {
   "cell_type": "code",
   "execution_count": null,
   "metadata": {},
   "outputs": [],
   "source": [
    "merged_data.shape"
   ]
  },
  {
   "cell_type": "code",
   "execution_count": null,
   "metadata": {},
   "outputs": [],
   "source": [
    "with_outliers_clean_data.shape"
   ]
  },
  {
   "cell_type": "code",
   "execution_count": null,
   "metadata": {},
   "outputs": [],
   "source": [
    "# Normalize the dataset by doing Z score normalization\n",
    "norm_data_with_outliers = (\n",
    "    with_outliers_clean_data[subset] - with_outliers_clean_data[subset].mean()\n",
    ") / with_outliers_clean_data[subset].std()"
   ]
  },
  {
   "cell_type": "code",
   "execution_count": null,
   "metadata": {},
   "outputs": [],
   "source": [
    "imputer = KNNImputer(\n",
    "    n_neighbors=5, missing_values=np.nan, keep_empty_features=True\n",
    ")\n",
    "imputed_data_with_outliers = imputer.fit_transform(norm_data_with_outliers)"
   ]
  },
  {
   "cell_type": "code",
   "execution_count": null,
   "metadata": {},
   "outputs": [],
   "source": [
    "norm_data_with_outliers.shape"
   ]
  },
  {
   "cell_type": "code",
   "execution_count": null,
   "metadata": {},
   "outputs": [],
   "source": [
    "imputed_data_with_outliers.shape"
   ]
  },
  {
   "cell_type": "code",
   "execution_count": null,
   "metadata": {},
   "outputs": [],
   "source": [
    "imputed_with_outliers_df = pd.DataFrame(\n",
    "    imputed_data_with_outliers,\n",
    "    columns=list(norm_data_with_outliers.columns),\n",
    ")"
   ]
  },
  {
   "cell_type": "code",
   "execution_count": null,
   "metadata": {},
   "outputs": [],
   "source": [
    "len(imputed_with_outliers_df)"
   ]
  },
  {
   "cell_type": "code",
   "execution_count": null,
   "metadata": {},
   "outputs": [],
   "source": [
    "len(with_outliers_clean_data[[\"RIC\", \"Year\", \"ESG Score\"]])"
   ]
  },
  {
   "cell_type": "code",
   "execution_count": null,
   "metadata": {},
   "outputs": [],
   "source": [
    "imputed_with_outliers_df[\n",
    "    [\"RIC\", \"Year\", \"ESG Score\"]\n",
    "] = with_outliers_clean_data[[\"RIC\", \"Year\", \"ESG Score\"]].reset_index(\n",
    "    drop=True\n",
    ")"
   ]
  },
  {
   "cell_type": "code",
   "execution_count": null,
   "metadata": {},
   "outputs": [],
   "source": [
    "imputed_with_outliers_df.describe()"
   ]
  },
  {
   "cell_type": "code",
   "execution_count": null,
   "metadata": {},
   "outputs": [],
   "source": [
    "imputed_with_outliers_df.info()"
   ]
  },
  {
   "cell_type": "code",
   "execution_count": null,
   "metadata": {},
   "outputs": [],
   "source": [
    "imputed_with_outliers_df.isna().sum()"
   ]
  },
  {
   "cell_type": "code",
   "execution_count": null,
   "metadata": {},
   "outputs": [],
   "source": [
    "# Plot a histogram\n",
    "\n",
    "imputed_with_outliers_df.hist(figsize=(20, 20))"
   ]
  },
  {
   "cell_type": "code",
   "execution_count": null,
   "metadata": {},
   "outputs": [],
   "source": [
    "# export merged dataframe\n",
    "\n",
    "imputed_with_outliers_df.to_csv(\n",
    "    \"data/model_training_files/imputed_with_outliers.csv\"\n",
    ")"
   ]
  }
 ],
 "metadata": {
  "kernelspec": {
   "display_name": "SP_ESG_Pred",
   "language": "python",
   "name": "python3"
  },
  "language_info": {
   "codemirror_mode": {
    "name": "ipython",
    "version": 3
   },
   "file_extension": ".py",
   "mimetype": "text/x-python",
   "name": "python",
   "nbconvert_exporter": "python",
   "pygments_lexer": "ipython3",
   "version": "3.8.9"
  },
  "orig_nbformat": 4
 },
 "nbformat": 4,
 "nbformat_minor": 2
}
