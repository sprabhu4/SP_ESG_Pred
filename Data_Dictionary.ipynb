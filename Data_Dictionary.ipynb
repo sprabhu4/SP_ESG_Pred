{
 "cells": [
  {
   "cell_type": "markdown",
   "id": "e9e4d383",
   "metadata": {},
   "source": [
    "**P/E: Price to Earning**  \n",
    "- Shows the amount paid by investor to earn a dollar on the share.\n",
    "- Industry dependant and a huge predictor in share prices\n",
    "- Lower value in the industry generally preferred, as it indicates higher earnings\n",
    "- Lower value can also mean drop in price and loss of investor faith\n",
    "\n",
    "**Total Equity:**\n",
    "- Total Assets - Total Liabilities, includes Current Assets and Current Liabilities also in the calculation\n",
    "- Can be negative, and therefore shouldn't be clipped to 0\n",
    "\n",
    "**Total Revenue:**\n",
    "- Total Sales Value, mostly positive\n",
    "- Negative only for a single firm in 2 years, could be due to excessive losses or credit borrowing(can be deleted)\n",
    "\n",
    "**CO2/Revenue in million :**\n",
    "- The CO2 equivalent in KGs produced to generate a million dollar of revenue\n",
    "- Has direct impact in preediction of ESG score, as it is a metric defined by UN\n",
    "\n",
    "**Additional Notes:**\n",
    "- The MC data: It is mostly Market Capitalization data of a firm, which is basically the value of the traded shares in market\n",
    "- Some companies have 0 values for some years, as they were listed later in the share market\n",
    "- return data: points to one of the three returns, ROE or ROI or ROA\n",
    "- return on capital and equity are used in stock price prediction\n",
    "- The frequency of data in MC and return csv is monthly, has to be made yearly for use with firm_data"
   ]
  },
  {
   "cell_type": "code",
   "execution_count": null,
   "id": "c51ef9dc",
   "metadata": {},
   "outputs": [],
   "source": []
  }
 ],
 "metadata": {
  "kernelspec": {
   "display_name": "Python 3 (ipykernel)",
   "language": "python",
   "name": "python3"
  },
  "language_info": {
   "codemirror_mode": {
    "name": "ipython",
    "version": 3
   },
   "file_extension": ".py",
   "mimetype": "text/x-python",
   "name": "python",
   "nbconvert_exporter": "python",
   "pygments_lexer": "ipython3",
   "version": "3.10.0"
  }
 },
 "nbformat": 4,
 "nbformat_minor": 5
}
