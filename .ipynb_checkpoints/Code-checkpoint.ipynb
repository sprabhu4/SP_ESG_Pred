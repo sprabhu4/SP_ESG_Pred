{
 "cells": [
  {
   "cell_type": "markdown",
   "id": "8af7dc11",
   "metadata": {},
   "source": [
    "# ESG Score Prediction"
   ]
  },
  {
   "cell_type": "markdown",
   "id": "a460aaae",
   "metadata": {},
   "source": [
    "## Notebook Outline :\n",
    "\n",
    "1. Introduction (ESG Score, Calculation method, Factors - Summary based on the TR pdf)\n",
    "2. Data Explanation (Features - what they are)\n",
    "3. Data Processing - Outlier Detection, Feature Transformation \n",
    "4. EDA - Basic Insights\n",
    "6. Feature Selection/Importance\n",
    "5. Data Modelling"
   ]
  },
  {
   "cell_type": "markdown",
   "id": "e70c0e7e",
   "metadata": {},
   "source": [
    "## 1. Introduction "
   ]
  },
  {
   "cell_type": "markdown",
   "id": "ea7bb276",
   "metadata": {},
   "source": [
    "A financial statement lists the assets, liabilities and equity of a company at a specific point in time and is used to calculate the net worth of a business. A basic tenet of double-entry book-keeping is that total assets (what a business owns) must equal liabilities plus equity (how the assets are financed). In other words, the balance sheet must balance. Subtracting liabilities from assets shows the net worth of the business. \n",
    "\n",
    "How does ESG score come into picture in a business?\n",
    "(TBD by Aheli)\n"
   ]
  },
  {
   "cell_type": "markdown",
   "id": "bc0dfb80",
   "metadata": {},
   "source": [
    "## 2. Data Explanation  "
   ]
  },
  {
   "cell_type": "markdown",
   "id": "e4421f26",
   "metadata": {},
   "source": [
    "### Total Current Assets \n",
    "Current assets are cash or its equivalent or those assets that will be used by the business in a year or less\n",
    "\n",
    "### Total Current Liabilities \n",
    "Debts that are due in one year or less are classified as current liabilities. If they're due in more than one year, they're long-term liabilities.\n",
    "\n",
    "### Total Debt \n",
    "Total debt refers to the sum of borrowed money that your business owes. It’s calculated by adding together your current and long-term liabilities.\n",
    "\n",
    "### Total Assets Reported \n",
    "\"Total long-term assets\" is the sum of capital and plant, investments, and miscellaneous assets.\n",
    "\"Total assets\" is the sum of total current assets and total long-term assets\n",
    "\n",
    "### Net Income - Actual \n",
    "Net income refers to the amount an individual or business makes after deducting costs, allowances and taxes.\n",
    "In commerce, net income is what the business has left over after all expenses, including salary and wages, cost of goods or raw material and taxes. \n",
    "\n",
    "### Revenue Per Share\n",
    "1. Earnings per share (EPS) is a company's net profit divided by the number of common shares it has outstanding.\n",
    "2. EPS indicates how much money a company makes for each share of its stock and is a widely used metric for estimating corporate value.\n",
    "3. A higher EPS indicates greater value because investors will pay more for a company's shares if they think the company has higher profits relative to its share price.\n",
    "4. EPS can be arrived at in several forms, such as excluding extraordinary items or discontinued operations, or on a diluted basis.\n",
    "5. Like other financial metrics, earnings per share is most valuable when compared against competitor metrics, companies of the same industry, or across a period of time.\n",
    "\n",
    "### Total Revenue \n",
    "Total revenue is the amount of money a company brings in from selling its goods and services. In other words, company's use this metric to determine how well they're generating money from their core revenue-driving operations.\n",
    "\n",
    "### Total Equity \n",
    "The total equity of a business is derived by subtracting its liabilities from its assets. The information for this calculation can be found on a company's balance sheet, which is one of its financial statements. \n",
    "An alternative approach for calculating total equity is to add up all of the line items in the stockholders' equity section of the balance sheet, which is comprised of common stock, additional paid-in capital, and retained earnings, minus treasury stock.\n",
    "In essence, total equity is the amount invested in a company by investors in exchange for stock, plus all subsequent earnings of the business, minus all subsequent dividends paid out. Many smaller businesses are strapped for cash and so have never paid any dividends. In their case, total equity is simply invested funds plus all subsequent earnings.\n",
    "\n",
    "### Company Market Capitilization \n",
    "Market cap—or market capitalization—refers to the total value of all a company's shares of stock. It is calculated by multiplying the price of a stock by its total number of outstanding shares. For example, a company with 20 million shares selling at $50 a share would have a market cap of $1 billion.\n",
    "\n",
    "Why is market capitalization such an important concept? It allows investors to understand the relative size of one company versus another. Market cap measures what a company is worth on the open market, as well as the market's perception of its future prospects, because it reflects what investors are willing to pay for its stock.\n",
    "\n",
    "### Property Plant And Equipment, Total - Gross\n",
    "Carrying amount at the balance sheet date for long-lived physical assets used in the normal conduct of business and not intended for resale. This can include land, physical structures, machinery, vehicles, furniture, computer equipment, construction in progress, and similar items.\n",
    "\n",
    "### P/E Ratio\n",
    "The price/earnings (P/E) ratio, also known as an “earnings multiple,” is one of the most popular valuation measures used by investors and analysts. The basic definition of a P/E ratio is stock price divided by earnings per share (EPS)\n"
   ]
  },
  {
   "cell_type": "markdown",
   "id": "7362186c",
   "metadata": {},
   "source": [
    "## 3. Data Exploration"
   ]
  },
  {
   "cell_type": "code",
   "execution_count": 34,
   "id": "e85e4907",
   "metadata": {},
   "outputs": [],
   "source": [
    "import pandas as pd\n",
    "import matplotlib.pyplot as plt\n",
    "import seaborn as sns\n",
    "from sklearn.impute import KNNImputer"
   ]
  },
  {
   "cell_type": "code",
   "execution_count": 2,
   "id": "fc160a67",
   "metadata": {},
   "outputs": [],
   "source": [
    "df_firm = pd.read_csv(\"raw_data.csv\")"
   ]
  },
  {
   "cell_type": "code",
   "execution_count": 3,
   "id": "be7e8b13",
   "metadata": {},
   "outputs": [
    {
     "data": {
      "text/html": [
       "<div>\n",
       "<style scoped>\n",
       "    .dataframe tbody tr th:only-of-type {\n",
       "        vertical-align: middle;\n",
       "    }\n",
       "\n",
       "    .dataframe tbody tr th {\n",
       "        vertical-align: top;\n",
       "    }\n",
       "\n",
       "    .dataframe thead th {\n",
       "        text-align: right;\n",
       "    }\n",
       "</style>\n",
       "<table border=\"1\" class=\"dataframe\">\n",
       "  <thead>\n",
       "    <tr style=\"text-align: right;\">\n",
       "      <th></th>\n",
       "      <th>RIC</th>\n",
       "      <th>Date</th>\n",
       "      <th>Total Current Assets</th>\n",
       "      <th>Total Current Liabilities</th>\n",
       "      <th>Total Debt</th>\n",
       "      <th>Total Assets, Reported</th>\n",
       "      <th>Net Income - Actual</th>\n",
       "      <th>Revenue Per Share</th>\n",
       "      <th>Total Revenue</th>\n",
       "      <th>Total Equity</th>\n",
       "      <th>Total CO2 Equivalent Emissions To Revenues USD in million</th>\n",
       "      <th>ESG Score</th>\n",
       "      <th>Social Pillar Score</th>\n",
       "      <th>Governance Pillar Score</th>\n",
       "      <th>Environmental Pillar Score</th>\n",
       "      <th>Company Market Capitalization</th>\n",
       "      <th>Property Plant And Equipment, Total - Gross</th>\n",
       "      <th>P/E (Daily Time Series Ratio)</th>\n",
       "      <th>returns_monthly</th>\n",
       "    </tr>\n",
       "  </thead>\n",
       "  <tbody>\n",
       "    <tr>\n",
       "      <th>0</th>\n",
       "      <td>BVIC.L</td>\n",
       "      <td>2009</td>\n",
       "      <td>434.373405</td>\n",
       "      <td>483.824655</td>\n",
       "      <td>718.957376</td>\n",
       "      <td>1361.504594</td>\n",
       "      <td>107.309409</td>\n",
       "      <td>7.068281</td>\n",
       "      <td>1561.383359</td>\n",
       "      <td>-3.988004</td>\n",
       "      <td>NaN</td>\n",
       "      <td>51.267135</td>\n",
       "      <td>45.539754</td>\n",
       "      <td>59.077651</td>\n",
       "      <td>53.535053</td>\n",
       "      <td>1430.561330</td>\n",
       "      <td>817.381317</td>\n",
       "      <td>19.299905</td>\n",
       "      <td>48.651108</td>\n",
       "    </tr>\n",
       "    <tr>\n",
       "      <th>1</th>\n",
       "      <td>BVIC.L</td>\n",
       "      <td>2010</td>\n",
       "      <td>579.778906</td>\n",
       "      <td>580.095207</td>\n",
       "      <td>901.298414</td>\n",
       "      <td>1655.358922</td>\n",
       "      <td>139.656087</td>\n",
       "      <td>8.006665</td>\n",
       "      <td>1800.699024</td>\n",
       "      <td>-48.552134</td>\n",
       "      <td>NaN</td>\n",
       "      <td>50.550242</td>\n",
       "      <td>57.622888</td>\n",
       "      <td>31.890959</td>\n",
       "      <td>55.261467</td>\n",
       "      <td>1772.376566</td>\n",
       "      <td>889.120843</td>\n",
       "      <td>16.927900</td>\n",
       "      <td>15.557061</td>\n",
       "    </tr>\n",
       "    <tr>\n",
       "      <th>2</th>\n",
       "      <td>BVIC.L</td>\n",
       "      <td>2011</td>\n",
       "      <td>598.968478</td>\n",
       "      <td>607.694345</td>\n",
       "      <td>893.154869</td>\n",
       "      <td>1660.096296</td>\n",
       "      <td>122.255528</td>\n",
       "      <td>7.912984</td>\n",
       "      <td>2010.689188</td>\n",
       "      <td>35.059289</td>\n",
       "      <td>NaN</td>\n",
       "      <td>46.732870</td>\n",
       "      <td>57.397993</td>\n",
       "      <td>28.924942</td>\n",
       "      <td>45.229496</td>\n",
       "      <td>1205.126197</td>\n",
       "      <td>836.280911</td>\n",
       "      <td>13.534436</td>\n",
       "      <td>-33.927688</td>\n",
       "    </tr>\n",
       "    <tr>\n",
       "      <th>3</th>\n",
       "      <td>BVIC.L</td>\n",
       "      <td>2012</td>\n",
       "      <td>615.523874</td>\n",
       "      <td>601.137943</td>\n",
       "      <td>907.121844</td>\n",
       "      <td>1658.099764</td>\n",
       "      <td>100.765756</td>\n",
       "      <td>7.914423</td>\n",
       "      <td>2030.840850</td>\n",
       "      <td>59.968319</td>\n",
       "      <td>NaN</td>\n",
       "      <td>57.941343</td>\n",
       "      <td>70.633040</td>\n",
       "      <td>37.216902</td>\n",
       "      <td>55.762859</td>\n",
       "      <td>1603.272359</td>\n",
       "      <td>872.046035</td>\n",
       "      <td>18.363571</td>\n",
       "      <td>27.226920</td>\n",
       "    </tr>\n",
       "    <tr>\n",
       "      <th>4</th>\n",
       "      <td>BVIC.L</td>\n",
       "      <td>2013</td>\n",
       "      <td>748.229068</td>\n",
       "      <td>814.064189</td>\n",
       "      <td>895.874010</td>\n",
       "      <td>1714.940377</td>\n",
       "      <td>133.919162</td>\n",
       "      <td>8.716901</td>\n",
       "      <td>2133.025672</td>\n",
       "      <td>65.996482</td>\n",
       "      <td>31.296503</td>\n",
       "      <td>49.513243</td>\n",
       "      <td>52.778937</td>\n",
       "      <td>33.146107</td>\n",
       "      <td>58.148148</td>\n",
       "      <td>2819.919676</td>\n",
       "      <td>907.653333</td>\n",
       "      <td>27.421399</td>\n",
       "      <td>56.909555</td>\n",
       "    </tr>\n",
       "  </tbody>\n",
       "</table>\n",
       "</div>"
      ],
      "text/plain": [
       "      RIC  Date  Total Current Assets  Total Current Liabilities  Total Debt  \\\n",
       "0  BVIC.L  2009            434.373405                 483.824655  718.957376   \n",
       "1  BVIC.L  2010            579.778906                 580.095207  901.298414   \n",
       "2  BVIC.L  2011            598.968478                 607.694345  893.154869   \n",
       "3  BVIC.L  2012            615.523874                 601.137943  907.121844   \n",
       "4  BVIC.L  2013            748.229068                 814.064189  895.874010   \n",
       "\n",
       "   Total Assets, Reported  Net Income - Actual  Revenue Per Share  \\\n",
       "0             1361.504594           107.309409           7.068281   \n",
       "1             1655.358922           139.656087           8.006665   \n",
       "2             1660.096296           122.255528           7.912984   \n",
       "3             1658.099764           100.765756           7.914423   \n",
       "4             1714.940377           133.919162           8.716901   \n",
       "\n",
       "   Total Revenue  Total Equity  \\\n",
       "0    1561.383359     -3.988004   \n",
       "1    1800.699024    -48.552134   \n",
       "2    2010.689188     35.059289   \n",
       "3    2030.840850     59.968319   \n",
       "4    2133.025672     65.996482   \n",
       "\n",
       "   Total CO2 Equivalent Emissions To Revenues USD in million  ESG Score  \\\n",
       "0                                                NaN          51.267135   \n",
       "1                                                NaN          50.550242   \n",
       "2                                                NaN          46.732870   \n",
       "3                                                NaN          57.941343   \n",
       "4                                          31.296503          49.513243   \n",
       "\n",
       "   Social Pillar Score  Governance Pillar Score  Environmental Pillar Score  \\\n",
       "0            45.539754                59.077651                   53.535053   \n",
       "1            57.622888                31.890959                   55.261467   \n",
       "2            57.397993                28.924942                   45.229496   \n",
       "3            70.633040                37.216902                   55.762859   \n",
       "4            52.778937                33.146107                   58.148148   \n",
       "\n",
       "   Company Market Capitalization  Property Plant And Equipment, Total - Gross  \\\n",
       "0                    1430.561330                                   817.381317   \n",
       "1                    1772.376566                                   889.120843   \n",
       "2                    1205.126197                                   836.280911   \n",
       "3                    1603.272359                                   872.046035   \n",
       "4                    2819.919676                                   907.653333   \n",
       "\n",
       "   P/E (Daily Time Series Ratio)  returns_monthly  \n",
       "0                      19.299905        48.651108  \n",
       "1                      16.927900        15.557061  \n",
       "2                      13.534436       -33.927688  \n",
       "3                      18.363571        27.226920  \n",
       "4                      27.421399        56.909555  "
      ]
     },
     "execution_count": 3,
     "metadata": {},
     "output_type": "execute_result"
    }
   ],
   "source": [
    "df_firm.head()"
   ]
  },
  {
   "cell_type": "code",
   "execution_count": 4,
   "id": "3e579816",
   "metadata": {
    "scrolled": true
   },
   "outputs": [
    {
     "data": {
      "text/plain": [
       "(24479, 19)"
      ]
     },
     "execution_count": 4,
     "metadata": {},
     "output_type": "execute_result"
    }
   ],
   "source": [
    "df_firm.shape"
   ]
  },
  {
   "cell_type": "code",
   "execution_count": 5,
   "id": "21147a0a",
   "metadata": {},
   "outputs": [
    {
     "data": {
      "text/plain": [
       "Index(['RIC', 'Date', 'Total Current Assets', 'Total Current Liabilities',\n",
       "       'Total Debt', 'Total Assets, Reported', 'Net Income - Actual',\n",
       "       'Revenue Per Share', 'Total Revenue', 'Total Equity',\n",
       "       'Total CO2 Equivalent Emissions To Revenues USD in million',\n",
       "       'ESG Score', 'Social Pillar Score', 'Governance Pillar Score',\n",
       "       'Environmental Pillar Score', 'Company Market Capitalization',\n",
       "       'Property Plant And Equipment, Total - Gross',\n",
       "       'P/E (Daily Time Series Ratio)', 'returns_monthly'],\n",
       "      dtype='object')"
      ]
     },
     "execution_count": 5,
     "metadata": {},
     "output_type": "execute_result"
    }
   ],
   "source": [
    "df_firm.columns"
   ]
  },
  {
   "cell_type": "code",
   "execution_count": 6,
   "id": "cd46bbbd",
   "metadata": {},
   "outputs": [],
   "source": [
    "# Lets rename some columns\n",
    "df_firm.rename(\n",
    "    columns={\n",
    "        \"Total CO2 Equivalent Emissions To Revenues USD in million\": \"CO2 Emissions\",\n",
    "        \"Property Plant And Equipment, Total - Gross\": \"PPE Total\",\n",
    "    },\n",
    "    inplace=True,\n",
    ")"
   ]
  },
  {
   "cell_type": "code",
   "execution_count": 7,
   "id": "7278305b",
   "metadata": {},
   "outputs": [
    {
     "name": "stdout",
     "output_type": "stream",
     "text": [
      "<class 'pandas.core.frame.DataFrame'>\n",
      "RangeIndex: 24479 entries, 0 to 24478\n",
      "Data columns (total 19 columns):\n",
      " #   Column                         Non-Null Count  Dtype  \n",
      "---  ------                         --------------  -----  \n",
      " 0   RIC                            24479 non-null  object \n",
      " 1   Date                           24479 non-null  int64  \n",
      " 2   Total Current Assets           22689 non-null  float64\n",
      " 3   Total Current Liabilities      22681 non-null  float64\n",
      " 4   Total Debt                     23628 non-null  float64\n",
      " 5   Total Assets, Reported         23663 non-null  float64\n",
      " 6   Net Income - Actual            21343 non-null  float64\n",
      " 7   Revenue Per Share              23617 non-null  float64\n",
      " 8   Total Revenue                  23718 non-null  float64\n",
      " 9   Total Equity                   23640 non-null  float64\n",
      " 10  CO2 Emissions                  14408 non-null  float64\n",
      " 11  ESG Score                      17762 non-null  float64\n",
      " 12  Social Pillar Score            17761 non-null  float64\n",
      " 13  Governance Pillar Score        17762 non-null  float64\n",
      " 14  Environmental Pillar Score     17761 non-null  float64\n",
      " 15  Company Market Capitalization  22639 non-null  float64\n",
      " 16  PPE Total                      22116 non-null  float64\n",
      " 17  P/E (Daily Time Series Ratio)  19110 non-null  float64\n",
      " 18  returns_monthly                24479 non-null  float64\n",
      "dtypes: float64(17), int64(1), object(1)\n",
      "memory usage: 3.5+ MB\n"
     ]
    }
   ],
   "source": [
    "df_firm.info()"
   ]
  },
  {
   "cell_type": "markdown",
   "id": "3df04892",
   "metadata": {},
   "source": [
    "#### Share of Null Values in the data, and imputation"
   ]
  },
  {
   "cell_type": "code",
   "execution_count": 8,
   "id": "4aaf530d",
   "metadata": {
    "scrolled": true
   },
   "outputs": [
    {
     "data": {
      "text/plain": [
       "RIC                               0.000000\n",
       "Date                              0.000000\n",
       "Total Current Assets              7.312390\n",
       "Total Current Liabilities         7.345071\n",
       "Total Debt                        3.476449\n",
       "Total Assets, Reported            3.333470\n",
       "Net Income - Actual              12.810981\n",
       "Revenue Per Share                 3.521386\n",
       "Total Revenue                     3.108787\n",
       "Total Equity                      3.427428\n",
       "CO2 Emissions                    41.141386\n",
       "ESG Score                        27.439846\n",
       "Social Pillar Score              27.443932\n",
       "Governance Pillar Score          27.439846\n",
       "Environmental Pillar Score       27.443932\n",
       "Company Market Capitalization     7.516647\n",
       "PPE Total                         9.653172\n",
       "P/E (Daily Time Series Ratio)    21.933086\n",
       "returns_monthly                   0.000000\n",
       "dtype: float64"
      ]
     },
     "execution_count": 8,
     "metadata": {},
     "output_type": "execute_result"
    }
   ],
   "source": [
    "df_firm.isnull().sum() / len(df_firm) * 100"
   ]
  },
  {
   "cell_type": "markdown",
   "id": "ea40a1d0",
   "metadata": {},
   "source": [
    "**Removing rows where ESG score is null**"
   ]
  },
  {
   "cell_type": "code",
   "execution_count": 9,
   "id": "89a06065",
   "metadata": {},
   "outputs": [
    {
     "data": {
      "text/plain": [
       "(17762, 19)"
      ]
     },
     "execution_count": 9,
     "metadata": {},
     "output_type": "execute_result"
    }
   ],
   "source": [
    "df_firm = df_firm[df_firm[\"ESG Score\"].notna()]\n",
    "df_firm.shape"
   ]
  },
  {
   "cell_type": "code",
   "execution_count": 10,
   "id": "13c9ca73",
   "metadata": {},
   "outputs": [
    {
     "data": {
      "text/plain": [
       "RIC                               0.000000\n",
       "Date                              0.000000\n",
       "Total Current Assets              4.081748\n",
       "Total Current Liabilities         4.081748\n",
       "Total Debt                        0.090080\n",
       "Total Assets, Reported            0.095710\n",
       "Net Income - Actual               3.704538\n",
       "Revenue Per Share                 0.258980\n",
       "Total Revenue                     0.090080\n",
       "Total Equity                      0.095710\n",
       "CO2 Emissions                    18.883009\n",
       "ESG Score                         0.000000\n",
       "Social Pillar Score               0.005630\n",
       "Governance Pillar Score           0.000000\n",
       "Environmental Pillar Score        0.005630\n",
       "Company Market Capitalization     0.805090\n",
       "PPE Total                         5.601847\n",
       "P/E (Daily Time Series Ratio)    15.611981\n",
       "returns_monthly                   0.000000\n",
       "dtype: float64"
      ]
     },
     "execution_count": 10,
     "metadata": {},
     "output_type": "execute_result"
    }
   ],
   "source": [
    "df_firm.isnull().sum() / len(df_firm) * 100"
   ]
  },
  {
   "cell_type": "markdown",
   "id": "d3d6e4cc",
   "metadata": {},
   "source": [
    "#### Outliers "
   ]
  },
  {
   "cell_type": "markdown",
   "id": "218c0918",
   "metadata": {},
   "source": [
    "Note: Clearly there are some extreme values. However, the question is whether these values are outliers or real-world values "
   ]
  },
  {
   "cell_type": "code",
   "execution_count": 11,
   "id": "19abaa65",
   "metadata": {},
   "outputs": [
    {
     "data": {
      "text/html": [
       "<div>\n",
       "<style scoped>\n",
       "    .dataframe tbody tr th:only-of-type {\n",
       "        vertical-align: middle;\n",
       "    }\n",
       "\n",
       "    .dataframe tbody tr th {\n",
       "        vertical-align: top;\n",
       "    }\n",
       "\n",
       "    .dataframe thead th {\n",
       "        text-align: right;\n",
       "    }\n",
       "</style>\n",
       "<table border=\"1\" class=\"dataframe\">\n",
       "  <thead>\n",
       "    <tr style=\"text-align: right;\">\n",
       "      <th></th>\n",
       "      <th>Total Equity</th>\n",
       "      <th>CO2 Emissions</th>\n",
       "      <th>Company Market Capitalization</th>\n",
       "      <th>PPE Total</th>\n",
       "      <th>P/E (Daily Time Series Ratio)</th>\n",
       "      <th>returns_monthly</th>\n",
       "    </tr>\n",
       "  </thead>\n",
       "  <tbody>\n",
       "    <tr>\n",
       "      <th>count</th>\n",
       "      <td>17745.000000</td>\n",
       "      <td>14408.000000</td>\n",
       "      <td>1.761900e+04</td>\n",
       "      <td>16767.000000</td>\n",
       "      <td>14989.000000</td>\n",
       "      <td>17762.000000</td>\n",
       "    </tr>\n",
       "    <tr>\n",
       "      <th>mean</th>\n",
       "      <td>6619.384853</td>\n",
       "      <td>385.527429</td>\n",
       "      <td>2.384355e+04</td>\n",
       "      <td>11094.315039</td>\n",
       "      <td>40.702210</td>\n",
       "      <td>16.223643</td>\n",
       "    </tr>\n",
       "    <tr>\n",
       "      <th>std</th>\n",
       "      <td>15632.423417</td>\n",
       "      <td>1362.586319</td>\n",
       "      <td>2.122861e+05</td>\n",
       "      <td>31227.619827</td>\n",
       "      <td>249.700764</td>\n",
       "      <td>36.763134</td>\n",
       "    </tr>\n",
       "    <tr>\n",
       "      <th>min</th>\n",
       "      <td>-18316.000000</td>\n",
       "      <td>0.000000</td>\n",
       "      <td>1.153237e+00</td>\n",
       "      <td>0.000000</td>\n",
       "      <td>0.124464</td>\n",
       "      <td>-221.687062</td>\n",
       "    </tr>\n",
       "    <tr>\n",
       "      <th>10%</th>\n",
       "      <td>304.003431</td>\n",
       "      <td>5.699868</td>\n",
       "      <td>8.240974e+02</td>\n",
       "      <td>176.513152</td>\n",
       "      <td>8.756062</td>\n",
       "      <td>-20.824590</td>\n",
       "    </tr>\n",
       "    <tr>\n",
       "      <th>20%</th>\n",
       "      <td>617.238562</td>\n",
       "      <td>11.665289</td>\n",
       "      <td>1.565813e+03</td>\n",
       "      <td>517.500800</td>\n",
       "      <td>11.981511</td>\n",
       "      <td>-6.246671</td>\n",
       "    </tr>\n",
       "    <tr>\n",
       "      <th>40%</th>\n",
       "      <td>1480.274197</td>\n",
       "      <td>29.907056</td>\n",
       "      <td>3.706748e+03</td>\n",
       "      <td>1516.496586</td>\n",
       "      <td>17.204850</td>\n",
       "      <td>8.665169</td>\n",
       "    </tr>\n",
       "    <tr>\n",
       "      <th>50%</th>\n",
       "      <td>2071.500000</td>\n",
       "      <td>43.776762</td>\n",
       "      <td>5.406388e+03</td>\n",
       "      <td>2389.259540</td>\n",
       "      <td>19.869258</td>\n",
       "      <td>15.081011</td>\n",
       "    </tr>\n",
       "    <tr>\n",
       "      <th>60%</th>\n",
       "      <td>2956.518040</td>\n",
       "      <td>67.426194</td>\n",
       "      <td>8.030671e+03</td>\n",
       "      <td>3802.600000</td>\n",
       "      <td>22.916193</td>\n",
       "      <td>21.560158</td>\n",
       "    </tr>\n",
       "    <tr>\n",
       "      <th>70%</th>\n",
       "      <td>4500.781065</td>\n",
       "      <td>131.580512</td>\n",
       "      <td>1.216675e+04</td>\n",
       "      <td>6349.400000</td>\n",
       "      <td>27.016712</td>\n",
       "      <td>28.749530</td>\n",
       "    </tr>\n",
       "    <tr>\n",
       "      <th>80%</th>\n",
       "      <td>7421.688516</td>\n",
       "      <td>328.276621</td>\n",
       "      <td>2.052870e+04</td>\n",
       "      <td>11370.449100</td>\n",
       "      <td>33.767076</td>\n",
       "      <td>37.361527</td>\n",
       "    </tr>\n",
       "    <tr>\n",
       "      <th>90%</th>\n",
       "      <td>14511.200000</td>\n",
       "      <td>813.617624</td>\n",
       "      <td>4.319501e+04</td>\n",
       "      <td>25078.488840</td>\n",
       "      <td>52.254902</td>\n",
       "      <td>51.842536</td>\n",
       "    </tr>\n",
       "    <tr>\n",
       "      <th>95%</th>\n",
       "      <td>27764.400000</td>\n",
       "      <td>1709.977445</td>\n",
       "      <td>8.123898e+04</td>\n",
       "      <td>43673.493063</td>\n",
       "      <td>85.514199</td>\n",
       "      <td>67.755796</td>\n",
       "    </tr>\n",
       "    <tr>\n",
       "      <th>97%</th>\n",
       "      <td>41302.200000</td>\n",
       "      <td>3153.884709</td>\n",
       "      <td>1.229329e+05</td>\n",
       "      <td>67902.965358</td>\n",
       "      <td>124.122561</td>\n",
       "      <td>81.450838</td>\n",
       "    </tr>\n",
       "    <tr>\n",
       "      <th>99%</th>\n",
       "      <td>75122.749336</td>\n",
       "      <td>5694.215007</td>\n",
       "      <td>2.328206e+05</td>\n",
       "      <td>164985.967496</td>\n",
       "      <td>310.042198</td>\n",
       "      <td>119.809233</td>\n",
       "    </tr>\n",
       "    <tr>\n",
       "      <th>99.9%</th>\n",
       "      <td>184122.792000</td>\n",
       "      <td>18832.649394</td>\n",
       "      <td>1.192074e+06</td>\n",
       "      <td>371775.582000</td>\n",
       "      <td>2883.297588</td>\n",
       "      <td>230.455690</td>\n",
       "    </tr>\n",
       "    <tr>\n",
       "      <th>max</th>\n",
       "      <td>283356.339300</td>\n",
       "      <td>61537.050000</td>\n",
       "      <td>1.294135e+07</td>\n",
       "      <td>511400.000000</td>\n",
       "      <td>14545.454550</td>\n",
       "      <td>1649.822762</td>\n",
       "    </tr>\n",
       "  </tbody>\n",
       "</table>\n",
       "</div>"
      ],
      "text/plain": [
       "        Total Equity  CO2 Emissions  Company Market Capitalization  \\\n",
       "count   17745.000000   14408.000000                   1.761900e+04   \n",
       "mean     6619.384853     385.527429                   2.384355e+04   \n",
       "std     15632.423417    1362.586319                   2.122861e+05   \n",
       "min    -18316.000000       0.000000                   1.153237e+00   \n",
       "10%       304.003431       5.699868                   8.240974e+02   \n",
       "20%       617.238562      11.665289                   1.565813e+03   \n",
       "40%      1480.274197      29.907056                   3.706748e+03   \n",
       "50%      2071.500000      43.776762                   5.406388e+03   \n",
       "60%      2956.518040      67.426194                   8.030671e+03   \n",
       "70%      4500.781065     131.580512                   1.216675e+04   \n",
       "80%      7421.688516     328.276621                   2.052870e+04   \n",
       "90%     14511.200000     813.617624                   4.319501e+04   \n",
       "95%     27764.400000    1709.977445                   8.123898e+04   \n",
       "97%     41302.200000    3153.884709                   1.229329e+05   \n",
       "99%     75122.749336    5694.215007                   2.328206e+05   \n",
       "99.9%  184122.792000   18832.649394                   1.192074e+06   \n",
       "max    283356.339300   61537.050000                   1.294135e+07   \n",
       "\n",
       "           PPE Total  P/E (Daily Time Series Ratio)  returns_monthly  \n",
       "count   16767.000000                   14989.000000     17762.000000  \n",
       "mean    11094.315039                      40.702210        16.223643  \n",
       "std     31227.619827                     249.700764        36.763134  \n",
       "min         0.000000                       0.124464      -221.687062  \n",
       "10%       176.513152                       8.756062       -20.824590  \n",
       "20%       517.500800                      11.981511        -6.246671  \n",
       "40%      1516.496586                      17.204850         8.665169  \n",
       "50%      2389.259540                      19.869258        15.081011  \n",
       "60%      3802.600000                      22.916193        21.560158  \n",
       "70%      6349.400000                      27.016712        28.749530  \n",
       "80%     11370.449100                      33.767076        37.361527  \n",
       "90%     25078.488840                      52.254902        51.842536  \n",
       "95%     43673.493063                      85.514199        67.755796  \n",
       "97%     67902.965358                     124.122561        81.450838  \n",
       "99%    164985.967496                     310.042198       119.809233  \n",
       "99.9%  371775.582000                    2883.297588       230.455690  \n",
       "max    511400.000000                   14545.454550      1649.822762  "
      ]
     },
     "execution_count": 11,
     "metadata": {},
     "output_type": "execute_result"
    }
   ],
   "source": [
    "df_firm[[\n",
    "    \"Total Equity\",\n",
    "    \"CO2 Emissions\",\n",
    "    \"Company Market Capitalization\",\n",
    "    \"PPE Total\",\n",
    "    \"P/E (Daily Time Series Ratio)\",\n",
    "    \"returns_monthly\"\n",
    "]].describe(\n",
    "    [0.1, 0.2, 0.4, 0.5, 0.6, 0.7, 0.8, 0.9, 0.95, 0.97, 0.99, 0.999]\n",
    ")"
   ]
  },
  {
   "cell_type": "markdown",
   "id": "85bcf566",
   "metadata": {},
   "source": [
    "#### Visualising the distribution "
   ]
  },
  {
   "cell_type": "markdown",
   "id": "265b8d54",
   "metadata": {},
   "source": [
    "##### Correlation heatmaps"
   ]
  },
  {
   "cell_type": "markdown",
   "id": "25d03d10",
   "metadata": {},
   "source": [
    "It is clear from the heatmap that there is a strong correlation between the following features :\n",
    "\n",
    "(We look into correlation values >= 0.8)\n",
    "\n",
    "1. Total Current Assets - Total Current Liabilities - Total Debt - Total Assets, Reported\n",
    "2. Total Equity - Total Assests, Reported"
   ]
  },
  {
   "cell_type": "code",
   "execution_count": 12,
   "id": "fb14d161",
   "metadata": {},
   "outputs": [],
   "source": [
    "columns = [\n",
    "    \"Total Current Assets\",\n",
    "    \"Total Current Liabilities\",\n",
    "    \"Total Debt\",\n",
    "    \"Total Assets, Reported\",\n",
    "    \"Net Income - Actual\",\n",
    "    \"Total Revenue\",\n",
    "    \"Total Equity\",\n",
    "    \"ESG Score\",\n",
    "    \"returns_monthly\",\n",
    "]"
   ]
  },
  {
   "cell_type": "code",
   "execution_count": 13,
   "id": "be70ab87",
   "metadata": {},
   "outputs": [
    {
     "data": {
      "image/png": "[encoded data removed]",
      "text/plain": [
       "<Figure size 432x288 with 2 Axes>"
      ]
     },
     "metadata": {
      "needs_background": "light"
     },
     "output_type": "display_data"
    },
    {
     "data": {
      "text/plain": [
       "<Figure size 2880x2880 with 0 Axes>"
      ]
     },
     "metadata": {},
     "output_type": "display_data"
    }
   ],
   "source": [
    "cormat = df_firm[columns].corr()\n",
    "sns.heatmap(cormat, annot=True)\n",
    "plt.figure(figsize=(40, 40))\n",
    "plt.show()"
   ]
  },
  {
   "cell_type": "markdown",
   "id": "3fbfbd99",
   "metadata": {},
   "source": [
    "It is clear from the heatmap that none of these features are correlated among each other"
   ]
  },
  {
   "cell_type": "code",
   "execution_count": 14,
   "id": "a548ed8a",
   "metadata": {},
   "outputs": [],
   "source": [
    "columns = [\n",
    "    \"Social Pillar Score\",\n",
    "    \"Governance Pillar Score\",\n",
    "    \"Environmental Pillar Score\",\n",
    "    \"ESG Score\",\n",
    "]"
   ]
  },
  {
   "cell_type": "code",
   "execution_count": 15,
   "id": "99e2e3e9",
   "metadata": {},
   "outputs": [
    {
     "data": {
      "image/png": "[encoded data removed]",
      "text/plain": [
       "<Figure size 432x288 with 2 Axes>"
      ]
     },
     "metadata": {
      "needs_background": "light"
     },
     "output_type": "display_data"
    },
    {
     "data": {
      "text/plain": [
       "<Figure size 1440x1440 with 0 Axes>"
      ]
     },
     "metadata": {},
     "output_type": "display_data"
    }
   ],
   "source": [
    "cormat = df_firm[columns].corr()\n",
    "sns.heatmap(cormat, annot=True)\n",
    "plt.figure(figsize=(20, 20))\n",
    "plt.show()"
   ]
  },
  {
   "cell_type": "code",
   "execution_count": 16,
   "id": "706df270",
   "metadata": {},
   "outputs": [
    {
     "data": {
      "image/png": "[encoded data removed]",
      "text/plain": [
       "<Figure size 432x288 with 2 Axes>"
      ]
     },
     "metadata": {
      "needs_background": "light"
     },
     "output_type": "display_data"
    },
    {
     "data": {
      "text/plain": [
       "<Figure size 1440x1440 with 0 Axes>"
      ]
     },
     "metadata": {},
     "output_type": "display_data"
    }
   ],
   "source": [
    "cormat = df_firm[columns].corr()\n",
    "sns.heatmap(cormat, annot=True)\n",
    "plt.figure(figsize=(20, 20))\n",
    "plt.show()"
   ]
  },
  {
   "cell_type": "code",
   "execution_count": 17,
   "id": "1187ee85",
   "metadata": {},
   "outputs": [],
   "source": [
    "columns = [\n",
    "    \"Revenue Per Share\",\n",
    "    \"CO2 Emissions\",\n",
    "    \"Company Market Capitalization\",\n",
    "    \"PPE Total\",\n",
    "    \"P/E (Daily Time Series Ratio)\",\n",
    "    \"ESG Score\",\n",
    "]"
   ]
  },
  {
   "cell_type": "code",
   "execution_count": 18,
   "id": "5266a6b2",
   "metadata": {},
   "outputs": [],
   "source": [
    "columns = [\n",
    "    \"Total Current Assets\",\n",
    "    \"Total Current Liabilities\",\n",
    "    \"Total Debt\",\n",
    "    \"Total Assets, Reported\",\n",
    "    \"Total Revenue\",\n",
    "    \"Total Equity\",\n",
    "    \"Net Income - Actual\",\n",
    "    \"PPE Total\",\n",
    "    \"Revenue Per Share\",\n",
    "    \"CO2 Emissions\",\n",
    "    \"Company Market Capitalization\",\n",
    "    \"P/E (Daily Time Series Ratio)\",\n",
    "    \"returns_monthly\"\n",
    "]"
   ]
  },
  {
   "cell_type": "code",
   "execution_count": 19,
   "id": "e2c20bc3",
   "metadata": {},
   "outputs": [
    {
     "data": {
      "image/png": "[encoded data removed]",
      "text/plain": [
       "<Figure size 432x288 with 2 Axes>"
      ]
     },
     "metadata": {
      "needs_background": "light"
     },
     "output_type": "display_data"
    },
    {
     "data": {
      "text/plain": [
       "<Figure size 2160x2160 with 0 Axes>"
      ]
     },
     "metadata": {},
     "output_type": "display_data"
    }
   ],
   "source": [
    "cormat = df_firm[columns].corr()>=0.8\n",
    "sns.heatmap(cormat, annot=True, fmt=\".1f\")\n",
    "plt.figure(figsize=(30, 30))\n",
    "plt.show()"
   ]
  },
  {
   "cell_type": "markdown",
   "id": "59dcceef",
   "metadata": {},
   "source": [
    "#### Data Imputation"
   ]
  },
  {
   "cell_type": "code",
   "execution_count": 22,
   "id": "f0aedb1e",
   "metadata": {},
   "outputs": [],
   "source": [
    "columns_to_impute = [\n",
    "    \"Total Current Assets\",\n",
    "    \"Total Current Liabilities\",\n",
    "    \"Total Debt\",\n",
    "    \"Total Assets, Reported\",\n",
    "    \"Net Income - Actual\",\n",
    "    \"Revenue Per Share\",\n",
    "    \"Total Revenue\",\n",
    "    \"Total Equity\",\n",
    "    \"CO2 Emissions\",\n",
    "    \"Company Market Capitalization\",\n",
    "    \"PPE Total\",\n",
    "    \"P/E (Daily Time Series Ratio)\",\n",
    "    \"returns_monthly\"\n",
    "]"
   ]
  },
  {
   "cell_type": "code",
   "execution_count": 23,
   "id": "187e24bb",
   "metadata": {},
   "outputs": [],
   "source": [
    "df_firm = df_firm.dropna(\n",
    "    subset=columns_to_impute,\n",
    "    how=\"all\",\n",
    ")"
   ]
  },
  {
   "cell_type": "code",
   "execution_count": 24,
   "id": "bdc77841",
   "metadata": {},
   "outputs": [
    {
     "data": {
      "text/plain": [
       "(17762, 19)"
      ]
     },
     "execution_count": 24,
     "metadata": {},
     "output_type": "execute_result"
    }
   ],
   "source": [
    "df_firm.shape"
   ]
  },
  {
   "cell_type": "code",
   "execution_count": 27,
   "id": "db12364e",
   "metadata": {},
   "outputs": [
    {
     "name": "stdout",
     "output_type": "stream",
     "text": [
      "RIC                                 0\n",
      "Date                                0\n",
      "Total Current Assets              725\n",
      "Total Current Liabilities         725\n",
      "Total Debt                         16\n",
      "Total Assets, Reported             17\n",
      "Net Income - Actual               658\n",
      "Revenue Per Share                  46\n",
      "Total Revenue                      16\n",
      "Total Equity                       17\n",
      "CO2 Emissions                    3354\n",
      "ESG Score                           0\n",
      "Social Pillar Score                 1\n",
      "Governance Pillar Score             0\n",
      "Environmental Pillar Score          1\n",
      "Company Market Capitalization     143\n",
      "PPE Total                         995\n",
      "P/E (Daily Time Series Ratio)    2773\n",
      "returns_monthly                     0\n",
      "dtype: int64\n"
     ]
    }
   ],
   "source": [
    "print(df_firm.isna().sum())"
   ]
  },
  {
   "cell_type": "code",
   "execution_count": 28,
   "id": "9c097119",
   "metadata": {},
   "outputs": [],
   "source": [
    "df_firm[columns_to_impute] = df_firm.groupby([\"RIC\"])[\n",
    "    columns_to_impute\n",
    "].transform(lambda x: x.fillna(x.mean()))"
   ]
  },
  {
   "cell_type": "code",
   "execution_count": 29,
   "id": "e9779b64",
   "metadata": {},
   "outputs": [
    {
     "data": {
      "text/plain": [
       "(17762, 19)"
      ]
     },
     "execution_count": 29,
     "metadata": {},
     "output_type": "execute_result"
    }
   ],
   "source": [
    "df_firm.shape"
   ]
  },
  {
   "cell_type": "code",
   "execution_count": 31,
   "id": "617d3bc1",
   "metadata": {},
   "outputs": [
    {
     "name": "stdout",
     "output_type": "stream",
     "text": [
      "RIC                                0\n",
      "Date                               0\n",
      "Total Current Assets             707\n",
      "Total Current Liabilities        707\n",
      "Total Debt                         0\n",
      "Total Assets, Reported             0\n",
      "Net Income - Actual              106\n",
      "Revenue Per Share                  0\n",
      "Total Revenue                      0\n",
      "Total Equity                       0\n",
      "CO2 Emissions                     15\n",
      "ESG Score                          0\n",
      "Social Pillar Score                1\n",
      "Governance Pillar Score            0\n",
      "Environmental Pillar Score         1\n",
      "Company Market Capitalization      0\n",
      "PPE Total                        188\n",
      "P/E (Daily Time Series Ratio)    123\n",
      "returns_monthly                    0\n",
      "dtype: int64\n"
     ]
    }
   ],
   "source": [
    "print(df_firm.isna().sum())"
   ]
  },
  {
   "cell_type": "code",
   "execution_count": 35,
   "id": "2d21c85b",
   "metadata": {},
   "outputs": [],
   "source": [
    "imputer = KNNImputer(n_neighbors=5)"
   ]
  },
  {
   "cell_type": "code",
   "execution_count": 36,
   "id": "d4d64b2a",
   "metadata": {},
   "outputs": [],
   "source": [
    "missing_cols=[\"Total Current Assets\", \"Total Current Liabilities\", \"Net Income - Actual\", \"PPE Total\", \"CO2 Emissions\", \"P/E (Daily Time Series Ratio)\"]"
   ]
  },
  {
   "cell_type": "code",
   "execution_count": 37,
   "id": "9d2500c1",
   "metadata": {},
   "outputs": [
    {
     "data": {
      "text/plain": [
       "KNNImputer()"
      ]
     },
     "execution_count": 37,
     "metadata": {},
     "output_type": "execute_result"
    }
   ],
   "source": [
    "imputer.fit(df_firm[missing_cols])"
   ]
  },
  {
   "cell_type": "code",
   "execution_count": 38,
   "id": "97e3f1d8",
   "metadata": {},
   "outputs": [],
   "source": [
    "df_firm[missing_cols] = imputer.transform(df_firm[missing_cols])"
   ]
  },
  {
   "cell_type": "code",
   "execution_count": 42,
   "id": "4309a5e2",
   "metadata": {},
   "outputs": [
    {
     "name": "stdout",
     "output_type": "stream",
     "text": [
      "RIC                              0\n",
      "Date                             0\n",
      "Total Current Assets             0\n",
      "Total Current Liabilities        0\n",
      "Total Debt                       0\n",
      "Total Assets, Reported           0\n",
      "Net Income - Actual              0\n",
      "Revenue Per Share                0\n",
      "Total Revenue                    0\n",
      "Total Equity                     0\n",
      "CO2 Emissions                    0\n",
      "ESG Score                        0\n",
      "Company Market Capitalization    0\n",
      "PPE Total                        0\n",
      "P/E (Daily Time Series Ratio)    0\n",
      "returns_monthly                  0\n",
      "dtype: int64\n"
     ]
    }
   ],
   "source": [
    "print(df_firm.isna().sum())"
   ]
  },
  {
   "cell_type": "code",
   "execution_count": 41,
   "id": "aa0e64ae",
   "metadata": {},
   "outputs": [],
   "source": [
    "df_firm=df_firm.drop(['Environmental Pillar Score', 'Social Pillar Score', 'Governance Pillar Score'], axis =1)"
   ]
  },
  {
   "cell_type": "markdown",
   "id": "203b41c5",
   "metadata": {},
   "source": [
    "#### Simple Linear Regression"
   ]
  },
  {
   "cell_type": "code",
   "execution_count": 26,
   "id": "1dffa1d2",
   "metadata": {},
   "outputs": [],
   "source": [
    "from sklearn.metrics import mean_squared_error, mean_absolute_error, r2_score\n",
    "from sklearn.linear_model import LinearRegression\n",
    "from sklearn.model_selection import train_test_split\n",
    "from sklearn.preprocessing import MinMaxScaler\n",
    "from sklearn.model_selection import cross_val_score\n",
    "from sklearn.model_selection import KFold"
   ]
  },
  {
   "cell_type": "code",
   "execution_count": 34,
   "id": "29c9e4d8",
   "metadata": {},
   "outputs": [],
   "source": [
    "from sklearn.ensemble import RandomForestRegressor"
   ]
  },
  {
   "cell_type": "code",
   "execution_count": 35,
   "id": "dc84e904",
   "metadata": {},
   "outputs": [],
   "source": [
    "columns_selected = [\n",
    "    \"Total Equity\",\n",
    "    \"CO2 Emissions\",\n",
    "    \"Company Market Capitalization\",\n",
    "    \"PPE Total\",\n",
    "    \"P/E (Daily Time Series Ratio)\",\n",
    "]"
   ]
  },
  {
   "cell_type": "code",
   "execution_count": 36,
   "id": "e6da754b",
   "metadata": {},
   "outputs": [],
   "source": [
    "X = df_firm[columns_selected]\n",
    "y = df_firm['ESG Score']"
   ]
  },
  {
   "cell_type": "code",
   "execution_count": 37,
   "id": "9d978ef4",
   "metadata": {},
   "outputs": [],
   "source": [
    "# rescale the features\n",
    "scaler = MinMaxScaler()\n",
    "\n",
    "# apply scaler() to all the numeric columns \n",
    "X = scaler.fit_transform(X)"
   ]
  },
  {
   "cell_type": "code",
   "execution_count": 38,
   "id": "7a0f1842",
   "metadata": {},
   "outputs": [],
   "source": [
    "X_train, X_test, y_train, y_test = train_test_split(X, y, test_size=0.33, random_state=42)"
   ]
  },
  {
   "cell_type": "code",
   "execution_count": 39,
   "id": "6f16bee0",
   "metadata": {},
   "outputs": [
    {
     "name": "stdout",
     "output_type": "stream",
     "text": [
      "mean_squared_error :  328.77697789769456\n",
      "mean_absolute_error :  14.942169409978684\n"
     ]
    }
   ],
   "source": [
    "model = LinearRegression()\n",
    "model.fit(X_train,y_train)\n",
    "y_pred = model.predict(X_test)\n",
    "# model evaluation\n",
    "print(\n",
    "  'mean_squared_error : ', mean_squared_error(y_test, y_pred))\n",
    "print(\n",
    "  'mean_absolute_error : ', mean_absolute_error(y_test, y_pred))"
   ]
  },
  {
   "cell_type": "code",
   "execution_count": 40,
   "id": "0174e87d",
   "metadata": {},
   "outputs": [
    {
     "data": {
      "text/plain": [
       "array([0.07562335, 0.08329892, 0.09090981, 0.07984194, 0.0562524 ])"
      ]
     },
     "execution_count": 40,
     "metadata": {},
     "output_type": "execute_result"
    }
   ],
   "source": [
    "# create a KFold object with 5 splits \n",
    "folds = KFold(n_splits = 5, shuffle = True, random_state = 100)\n",
    "scores = cross_val_score(model, X_train, y_train, scoring='r2', cv=folds)\n",
    "scores  "
   ]
  },
  {
   "cell_type": "code",
   "execution_count": 41,
   "id": "60daf7fa",
   "metadata": {},
   "outputs": [
    {
     "name": "stdout",
     "output_type": "stream",
     "text": [
      "mean_squared_error :  215.89389715915902\n",
      "mean_absolute_error :  11.661951301406344\n"
     ]
    }
   ],
   "source": [
    "model = RandomForestRegressor()\n",
    "model.fit(X_train,y_train)\n",
    "y_pred = model.predict(X_test)\n",
    "# model evaluation\n",
    "print(\n",
    "  'mean_squared_error : ', mean_squared_error(y_test, y_pred))\n",
    "print(\n",
    "  'mean_absolute_error : ', mean_absolute_error(y_test, y_pred))"
   ]
  },
  {
   "cell_type": "code",
   "execution_count": 42,
   "id": "d96d3468",
   "metadata": {},
   "outputs": [
    {
     "data": {
      "text/plain": [
       "array([0.38889666, 0.3903787 , 0.38410372, 0.37048642, 0.36878969])"
      ]
     },
     "execution_count": 42,
     "metadata": {},
     "output_type": "execute_result"
    }
   ],
   "source": [
    "# create a KFold object with 5 splits \n",
    "folds = KFold(n_splits = 5, shuffle = True, random_state = 100)\n",
    "scores = cross_val_score(model, X_train, y_train, scoring='r2', cv=folds)\n",
    "scores  "
   ]
  },
  {
   "cell_type": "code",
   "execution_count": 43,
   "id": "169671fe",
   "metadata": {},
   "outputs": [
    {
     "name": "stdout",
     "output_type": "stream",
     "text": [
      "mean_squared_error :  260.424717281312\n",
      "mean_absolute_error :  13.091464698217047\n"
     ]
    }
   ],
   "source": [
    "from sklearn.ensemble import GradientBoostingRegressor\n",
    "model = GradientBoostingRegressor()\n",
    "model.fit(X_train,y_train)\n",
    "y_pred = model.predict(X_test)\n",
    "# model evaluation\n",
    "print(\n",
    "  'mean_squared_error : ', mean_squared_error(y_test, y_pred))\n",
    "print(\n",
    "  'mean_absolute_error : ', mean_absolute_error(y_test, y_pred))"
   ]
  },
  {
   "cell_type": "code",
   "execution_count": 44,
   "id": "111615bb",
   "metadata": {},
   "outputs": [
    {
     "data": {
      "text/plain": [
       "array([0.26955122, 0.27881637, 0.26410811, 0.25695878, 0.25937093])"
      ]
     },
     "execution_count": 44,
     "metadata": {},
     "output_type": "execute_result"
    }
   ],
   "source": [
    "# create a KFold object with 5 splits \n",
    "folds = KFold(n_splits = 5, shuffle = True, random_state = 100)\n",
    "scores = cross_val_score(model, X_train, y_train, scoring='r2', cv=folds)\n",
    "scores  "
   ]
  },
  {
   "cell_type": "code",
   "execution_count": 45,
   "id": "43b1e730",
   "metadata": {},
   "outputs": [
    {
     "name": "stdout",
     "output_type": "stream",
     "text": [
      "mean_squared_error :  292.37407407220354\n",
      "mean_absolute_error :  14.224496163138145\n"
     ]
    }
   ],
   "source": [
    "from sklearn.ensemble import AdaBoostRegressor\n",
    "model = AdaBoostRegressor()\n",
    "model.fit(X_train,y_train)\n",
    "y_pred = model.predict(X_test)\n",
    "# model evaluation\n",
    "print(\n",
    "  'mean_squared_error : ', mean_squared_error(y_test, y_pred))\n",
    "print(\n",
    "  'mean_absolute_error : ', mean_absolute_error(y_test, y_pred))"
   ]
  },
  {
   "cell_type": "code",
   "execution_count": 46,
   "id": "00b39da4",
   "metadata": {},
   "outputs": [
    {
     "data": {
      "text/plain": [
       "array([0.16400916, 0.22222271, 0.19848944, 0.16887581, 0.17274001])"
      ]
     },
     "execution_count": 46,
     "metadata": {},
     "output_type": "execute_result"
    }
   ],
   "source": [
    "# create a KFold object with 5 splits \n",
    "folds = KFold(n_splits = 5, shuffle = True, random_state = 100)\n",
    "scores = cross_val_score(model, X_train, y_train, scoring='r2', cv=folds)\n",
    "scores  "
   ]
  },
  {
   "cell_type": "code",
   "execution_count": 49,
   "id": "3590981b",
   "metadata": {},
   "outputs": [
    {
     "name": "stdout",
     "output_type": "stream",
     "text": [
      "mean_squared_error :  221.85790173775806\n",
      "mean_absolute_error :  11.976026808369756\n"
     ]
    }
   ],
   "source": [
    "from sklearn.ensemble import BaggingRegressor\n",
    "model = BaggingRegressor(estimator=RandomForestRegressor())\n",
    "model.fit(X_train,y_train)\n",
    "y_pred = model.predict(X_test)\n",
    "# model evaluation\n",
    "print(\n",
    "  'mean_squared_error : ', mean_squared_error(y_test, y_pred))\n",
    "print(\n",
    "  'mean_absolute_error : ', mean_absolute_error(y_test, y_pred))\n"
   ]
  },
  {
   "cell_type": "code",
   "execution_count": 50,
   "id": "6fcc4dd4",
   "metadata": {},
   "outputs": [
    {
     "data": {
      "text/plain": [
       "array([0.37048366, 0.36813717, 0.36461882, 0.35927519, 0.355543  ])"
      ]
     },
     "execution_count": 50,
     "metadata": {},
     "output_type": "execute_result"
    }
   ],
   "source": [
    "# create a KFold object with 5 splits \n",
    "folds = KFold(n_splits = 5, shuffle = True, random_state = 100)\n",
    "scores = cross_val_score(model, X_train, y_train, scoring='r2', cv=folds)\n",
    "scores  "
   ]
  }
 ],
 "metadata": {
  "kernelspec": {
   "display_name": "Python 3 (ipykernel)",
   "language": "python",
   "name": "python3"
  },
  "language_info": {
   "codemirror_mode": {
    "name": "ipython",
    "version": 3
   },
   "file_extension": ".py",
   "mimetype": "text/x-python",
   "name": "python",
   "nbconvert_exporter": "python",
   "pygments_lexer": "ipython3",
   "version": "3.10.0"
  }
 },
 "nbformat": 4,
 "nbformat_minor": 5
}
