{
 "cells": [
  {
   "cell_type": "code",
   "execution_count": 1,
   "metadata": {},
   "outputs": [],
   "source": [
    "import pandas as pd\n",
    "import matplotlib.pyplot as plt\n",
    "import seaborn as sns\n",
    "import plotly\n",
    "import numpy as np\n",
    "import plotly.express as px"
   ]
  },
  {
   "cell_type": "markdown",
   "metadata": {},
   "source": [
    "### Firm Data Import"
   ]
  },
  {
   "cell_type": "code",
   "execution_count": 32,
   "metadata": {},
   "outputs": [],
   "source": [
    "firm_data = pd.read_csv(\"data/raw/Firm_Data.csv\")"
   ]
  },
  {
   "cell_type": "code",
   "execution_count": 33,
   "metadata": {},
   "outputs": [
    {
     "data": {
      "text/html": [
       "<div>\n",
       "<style scoped>\n",
       "    .dataframe tbody tr th:only-of-type {\n",
       "        vertical-align: middle;\n",
       "    }\n",
       "\n",
       "    .dataframe tbody tr th {\n",
       "        vertical-align: top;\n",
       "    }\n",
       "\n",
       "    .dataframe thead th {\n",
       "        text-align: right;\n",
       "    }\n",
       "</style>\n",
       "<table border=\"1\" class=\"dataframe\">\n",
       "  <thead>\n",
       "    <tr style=\"text-align: right;\">\n",
       "      <th></th>\n",
       "      <th>RIC</th>\n",
       "      <th>Date</th>\n",
       "      <th>Total Current Assets</th>\n",
       "      <th>Total Current Liabilities</th>\n",
       "      <th>Total Debt</th>\n",
       "      <th>Total Assets, Reported</th>\n",
       "      <th>Net Income - Actual</th>\n",
       "      <th>Revenue Per Share</th>\n",
       "      <th>Total Revenue</th>\n",
       "      <th>Total Equity</th>\n",
       "      <th>Total CO2 Equivalent Emissions To Revenues USD in million</th>\n",
       "      <th>ESG Score</th>\n",
       "      <th>Social Pillar Score</th>\n",
       "      <th>Governance Pillar Score</th>\n",
       "      <th>Environmental Pillar Score</th>\n",
       "      <th>Company Market Capitalization</th>\n",
       "      <th>Property Plant And Equipment, Total - Gross</th>\n",
       "      <th>P/E (Daily Time Series Ratio)</th>\n",
       "    </tr>\n",
       "  </thead>\n",
       "  <tbody>\n",
       "    <tr>\n",
       "      <th>0</th>\n",
       "      <td>BVIC.L</td>\n",
       "      <td>31/12/2009</td>\n",
       "      <td>434.373405</td>\n",
       "      <td>483.824655</td>\n",
       "      <td>718.957376</td>\n",
       "      <td>1361.504594</td>\n",
       "      <td>107.309409</td>\n",
       "      <td>7.068281</td>\n",
       "      <td>1561.383359</td>\n",
       "      <td>-3.988004</td>\n",
       "      <td>NaN</td>\n",
       "      <td>51.267135</td>\n",
       "      <td>45.539754</td>\n",
       "      <td>59.077651</td>\n",
       "      <td>53.535053</td>\n",
       "      <td>1430.561330</td>\n",
       "      <td>817.381317</td>\n",
       "      <td>19.299905</td>\n",
       "    </tr>\n",
       "    <tr>\n",
       "      <th>1</th>\n",
       "      <td>BVIC.L</td>\n",
       "      <td>31/12/2010</td>\n",
       "      <td>579.778906</td>\n",
       "      <td>580.095207</td>\n",
       "      <td>901.298414</td>\n",
       "      <td>1655.358922</td>\n",
       "      <td>139.656087</td>\n",
       "      <td>8.006665</td>\n",
       "      <td>1800.699024</td>\n",
       "      <td>-48.552134</td>\n",
       "      <td>NaN</td>\n",
       "      <td>50.550242</td>\n",
       "      <td>57.622888</td>\n",
       "      <td>31.890959</td>\n",
       "      <td>55.261467</td>\n",
       "      <td>1772.376566</td>\n",
       "      <td>889.120843</td>\n",
       "      <td>16.927900</td>\n",
       "    </tr>\n",
       "    <tr>\n",
       "      <th>2</th>\n",
       "      <td>BVIC.L</td>\n",
       "      <td>31/12/2011</td>\n",
       "      <td>598.968478</td>\n",
       "      <td>607.694345</td>\n",
       "      <td>893.154869</td>\n",
       "      <td>1660.096296</td>\n",
       "      <td>122.255528</td>\n",
       "      <td>7.912984</td>\n",
       "      <td>2010.689188</td>\n",
       "      <td>35.059289</td>\n",
       "      <td>NaN</td>\n",
       "      <td>46.732870</td>\n",
       "      <td>57.397993</td>\n",
       "      <td>28.924942</td>\n",
       "      <td>45.229496</td>\n",
       "      <td>1205.126197</td>\n",
       "      <td>836.280911</td>\n",
       "      <td>13.534436</td>\n",
       "    </tr>\n",
       "    <tr>\n",
       "      <th>3</th>\n",
       "      <td>BVIC.L</td>\n",
       "      <td>31/12/2012</td>\n",
       "      <td>615.523874</td>\n",
       "      <td>601.137943</td>\n",
       "      <td>907.121844</td>\n",
       "      <td>1658.099764</td>\n",
       "      <td>100.765756</td>\n",
       "      <td>7.914423</td>\n",
       "      <td>2030.840850</td>\n",
       "      <td>59.968319</td>\n",
       "      <td>NaN</td>\n",
       "      <td>57.941343</td>\n",
       "      <td>70.633040</td>\n",
       "      <td>37.216902</td>\n",
       "      <td>55.762859</td>\n",
       "      <td>1603.272359</td>\n",
       "      <td>872.046035</td>\n",
       "      <td>18.363571</td>\n",
       "    </tr>\n",
       "    <tr>\n",
       "      <th>4</th>\n",
       "      <td>BVIC.L</td>\n",
       "      <td>31/12/2013</td>\n",
       "      <td>748.229068</td>\n",
       "      <td>814.064189</td>\n",
       "      <td>895.874010</td>\n",
       "      <td>1714.940377</td>\n",
       "      <td>133.919162</td>\n",
       "      <td>8.716901</td>\n",
       "      <td>2133.025672</td>\n",
       "      <td>65.996482</td>\n",
       "      <td>31.296503</td>\n",
       "      <td>49.513243</td>\n",
       "      <td>52.778937</td>\n",
       "      <td>33.146107</td>\n",
       "      <td>58.148148</td>\n",
       "      <td>2819.919676</td>\n",
       "      <td>907.653333</td>\n",
       "      <td>27.421399</td>\n",
       "    </tr>\n",
       "  </tbody>\n",
       "</table>\n",
       "</div>"
      ],
      "text/plain": [
       "      RIC        Date  Total Current Assets  Total Current Liabilities  \\\n",
       "0  BVIC.L  31/12/2009            434.373405                 483.824655   \n",
       "1  BVIC.L  31/12/2010            579.778906                 580.095207   \n",
       "2  BVIC.L  31/12/2011            598.968478                 607.694345   \n",
       "3  BVIC.L  31/12/2012            615.523874                 601.137943   \n",
       "4  BVIC.L  31/12/2013            748.229068                 814.064189   \n",
       "\n",
       "   Total Debt  Total Assets, Reported  Net Income - Actual  Revenue Per Share  \\\n",
       "0  718.957376             1361.504594           107.309409           7.068281   \n",
       "1  901.298414             1655.358922           139.656087           8.006665   \n",
       "2  893.154869             1660.096296           122.255528           7.912984   \n",
       "3  907.121844             1658.099764           100.765756           7.914423   \n",
       "4  895.874010             1714.940377           133.919162           8.716901   \n",
       "\n",
       "   Total Revenue  Total Equity  \\\n",
       "0    1561.383359     -3.988004   \n",
       "1    1800.699024    -48.552134   \n",
       "2    2010.689188     35.059289   \n",
       "3    2030.840850     59.968319   \n",
       "4    2133.025672     65.996482   \n",
       "\n",
       "   Total CO2 Equivalent Emissions To Revenues USD in million  ESG Score  \\\n",
       "0                                                NaN          51.267135   \n",
       "1                                                NaN          50.550242   \n",
       "2                                                NaN          46.732870   \n",
       "3                                                NaN          57.941343   \n",
       "4                                          31.296503          49.513243   \n",
       "\n",
       "   Social Pillar Score  Governance Pillar Score  Environmental Pillar Score  \\\n",
       "0            45.539754                59.077651                   53.535053   \n",
       "1            57.622888                31.890959                   55.261467   \n",
       "2            57.397993                28.924942                   45.229496   \n",
       "3            70.633040                37.216902                   55.762859   \n",
       "4            52.778937                33.146107                   58.148148   \n",
       "\n",
       "   Company Market Capitalization  Property Plant And Equipment, Total - Gross  \\\n",
       "0                    1430.561330                                   817.381317   \n",
       "1                    1772.376566                                   889.120843   \n",
       "2                    1205.126197                                   836.280911   \n",
       "3                    1603.272359                                   872.046035   \n",
       "4                    2819.919676                                   907.653333   \n",
       "\n",
       "   P/E (Daily Time Series Ratio)  \n",
       "0                      19.299905  \n",
       "1                      16.927900  \n",
       "2                      13.534436  \n",
       "3                      18.363571  \n",
       "4                      27.421399  "
      ]
     },
     "execution_count": 33,
     "metadata": {},
     "output_type": "execute_result"
    }
   ],
   "source": [
    "firm_data.head()"
   ]
  },
  {
   "cell_type": "code",
   "execution_count": 34,
   "metadata": {},
   "outputs": [
    {
     "data": {
      "text/plain": [
       "(24479, 18)"
      ]
     },
     "execution_count": 34,
     "metadata": {},
     "output_type": "execute_result"
    }
   ],
   "source": [
    "firm_data.shape"
   ]
  },
  {
   "cell_type": "code",
   "execution_count": 35,
   "metadata": {},
   "outputs": [
    {
     "data": {
      "text/plain": [
       "Index(['RIC', 'Date', 'Total Current Assets', 'Total Current Liabilities',\n",
       "       'Total Debt', 'Total Assets, Reported', 'Net Income - Actual',\n",
       "       'Revenue Per Share', 'Total Revenue', 'Total Equity',\n",
       "       'Total CO2 Equivalent Emissions To Revenues USD in million',\n",
       "       'ESG Score', 'Social Pillar Score', 'Governance Pillar Score',\n",
       "       'Environmental Pillar Score', 'Company Market Capitalization',\n",
       "       'Property Plant And Equipment, Total - Gross',\n",
       "       'P/E (Daily Time Series Ratio)'],\n",
       "      dtype='object')"
      ]
     },
     "execution_count": 35,
     "metadata": {},
     "output_type": "execute_result"
    }
   ],
   "source": [
    "firm_data.columns"
   ]
  },
  {
   "cell_type": "code",
   "execution_count": 36,
   "metadata": {},
   "outputs": [
    {
     "name": "stdout",
     "output_type": "stream",
     "text": [
      "<class 'pandas.core.frame.DataFrame'>\n",
      "RangeIndex: 24479 entries, 0 to 24478\n",
      "Data columns (total 18 columns):\n",
      " #   Column                                                     Non-Null Count  Dtype  \n",
      "---  ------                                                     --------------  -----  \n",
      " 0   RIC                                                        24479 non-null  object \n",
      " 1   Date                                                       24479 non-null  object \n",
      " 2   Total Current Assets                                       22689 non-null  float64\n",
      " 3   Total Current Liabilities                                  22681 non-null  float64\n",
      " 4   Total Debt                                                 23628 non-null  float64\n",
      " 5   Total Assets, Reported                                     23663 non-null  float64\n",
      " 6   Net Income - Actual                                        21343 non-null  float64\n",
      " 7   Revenue Per Share                                          23617 non-null  float64\n",
      " 8   Total Revenue                                              23718 non-null  float64\n",
      " 9   Total Equity                                               23640 non-null  float64\n",
      " 10  Total CO2 Equivalent Emissions To Revenues USD in million  14408 non-null  float64\n",
      " 11  ESG Score                                                  17762 non-null  float64\n",
      " 12  Social Pillar Score                                        17761 non-null  float64\n",
      " 13  Governance Pillar Score                                    17762 non-null  float64\n",
      " 14  Environmental Pillar Score                                 17761 non-null  float64\n",
      " 15  Company Market Capitalization                              22639 non-null  float64\n",
      " 16  Property Plant And Equipment, Total - Gross                22116 non-null  float64\n",
      " 17  P/E (Daily Time Series Ratio)                              19110 non-null  float64\n",
      "dtypes: float64(16), object(2)\n",
      "memory usage: 3.4+ MB\n"
     ]
    }
   ],
   "source": [
    "firm_data.info()"
   ]
  },
  {
   "cell_type": "markdown",
   "metadata": {},
   "source": [
    "Share of NaN values in the data"
   ]
  },
  {
   "cell_type": "code",
   "execution_count": 37,
   "metadata": {},
   "outputs": [
    {
     "data": {
      "text/plain": [
       "RIC                                                           0.000000\n",
       "Date                                                          0.000000\n",
       "Total Current Assets                                          7.312390\n",
       "Total Current Liabilities                                     7.345071\n",
       "Total Debt                                                    3.476449\n",
       "Total Assets, Reported                                        3.333470\n",
       "Net Income - Actual                                          12.810981\n",
       "Revenue Per Share                                             3.521386\n",
       "Total Revenue                                                 3.108787\n",
       "Total Equity                                                  3.427428\n",
       "Total CO2 Equivalent Emissions To Revenues USD in million    41.141386\n",
       "ESG Score                                                    27.439846\n",
       "Social Pillar Score                                          27.443932\n",
       "Governance Pillar Score                                      27.439846\n",
       "Environmental Pillar Score                                   27.443932\n",
       "Company Market Capitalization                                 7.516647\n",
       "Property Plant And Equipment, Total - Gross                   9.653172\n",
       "P/E (Daily Time Series Ratio)                                21.933086\n",
       "dtype: float64"
      ]
     },
     "execution_count": 37,
     "metadata": {},
     "output_type": "execute_result"
    }
   ],
   "source": [
    "firm_data.isnull().sum() / len(firm_data) * 100"
   ]
  },
  {
   "cell_type": "markdown",
   "metadata": {},
   "source": [
    "Converting object to datatime"
   ]
  },
  {
   "cell_type": "code",
   "execution_count": 38,
   "metadata": {},
   "outputs": [
    {
     "data": {
      "text/plain": [
       "2009-12-31    1883\n",
       "2010-12-31    1883\n",
       "2011-12-31    1883\n",
       "2012-12-31    1883\n",
       "2013-12-31    1883\n",
       "2014-12-31    1883\n",
       "2015-12-31    1883\n",
       "2016-12-31    1883\n",
       "2017-12-31    1883\n",
       "2018-12-31    1883\n",
       "2019-12-31    1883\n",
       "2020-12-31    1883\n",
       "2021-12-31    1883\n",
       "Name: Date, dtype: int64"
      ]
     },
     "execution_count": 38,
     "metadata": {},
     "output_type": "execute_result"
    }
   ],
   "source": [
    "firm_data[\"Date\"] = pd.to_datetime(firm_data[\"Date\"], format=\"%d/%m/%Y\")\n",
    "firm_data[\"Date\"].value_counts()"
   ]
  },
  {
   "cell_type": "markdown",
   "metadata": {},
   "source": [
    "### Return Data Import"
   ]
  },
  {
   "cell_type": "code",
   "execution_count": 10,
   "metadata": {},
   "outputs": [],
   "source": [
    "return_data = pd.read_csv(\"Return_Data.csv\")\n",
    "return_data = return_data.drop(\"Unnamed: 0\", axis=1)"
   ]
  },
  {
   "cell_type": "code",
   "execution_count": 11,
   "metadata": {},
   "outputs": [
    {
     "data": {
      "text/html": [
       "<div>\n",
       "<style scoped>\n",
       "    .dataframe tbody tr th:only-of-type {\n",
       "        vertical-align: middle;\n",
       "    }\n",
       "\n",
       "    .dataframe tbody tr th {\n",
       "        vertical-align: top;\n",
       "    }\n",
       "\n",
       "    .dataframe thead th {\n",
       "        text-align: right;\n",
       "    }\n",
       "</style>\n",
       "<table border=\"1\" class=\"dataframe\">\n",
       "  <thead>\n",
       "    <tr style=\"text-align: right;\">\n",
       "      <th></th>\n",
       "      <th>Date</th>\n",
       "      <th>INTU.O</th>\n",
       "      <th>HL</th>\n",
       "      <th>GILG.DE</th>\n",
       "      <th>APH</th>\n",
       "      <th>SGH.O</th>\n",
       "      <th>PMAG.S</th>\n",
       "      <th>RTX</th>\n",
       "      <th>SOLARb.CO</th>\n",
       "      <th>OBEL.BR</th>\n",
       "      <th>...</th>\n",
       "      <th>XYL</th>\n",
       "      <th>SCHN.PA</th>\n",
       "      <th>PRGO.K</th>\n",
       "      <th>TRELb.ST</th>\n",
       "      <th>SRG.MI</th>\n",
       "      <th>LOG.MC</th>\n",
       "      <th>GEO.MI</th>\n",
       "      <th>NRG</th>\n",
       "      <th>MYTr.AT</th>\n",
       "      <th>TEMN.S</th>\n",
       "    </tr>\n",
       "  </thead>\n",
       "  <tbody>\n",
       "    <tr>\n",
       "      <th>0</th>\n",
       "      <td>2000-01-31</td>\n",
       "      <td>0.625652</td>\n",
       "      <td>-12.000000</td>\n",
       "      <td>11.671470</td>\n",
       "      <td>1.971831</td>\n",
       "      <td>0.0</td>\n",
       "      <td>0.0</td>\n",
       "      <td>-18.557692</td>\n",
       "      <td>0.000000</td>\n",
       "      <td>-25.558487</td>\n",
       "      <td>...</td>\n",
       "      <td>0.0</td>\n",
       "      <td>-6.991661</td>\n",
       "      <td>7.421875</td>\n",
       "      <td>-1.045752e+01</td>\n",
       "      <td>0.0</td>\n",
       "      <td>0.0</td>\n",
       "      <td>0.0</td>\n",
       "      <td>0.0</td>\n",
       "      <td>-23.040752</td>\n",
       "      <td>0.0</td>\n",
       "    </tr>\n",
       "    <tr>\n",
       "      <th>1</th>\n",
       "      <td>2000-02-29</td>\n",
       "      <td>-12.953368</td>\n",
       "      <td>4.545455</td>\n",
       "      <td>-2.580645</td>\n",
       "      <td>17.771639</td>\n",
       "      <td>0.0</td>\n",
       "      <td>0.0</td>\n",
       "      <td>-3.408844</td>\n",
       "      <td>-2.777778</td>\n",
       "      <td>13.397921</td>\n",
       "      <td>...</td>\n",
       "      <td>0.0</td>\n",
       "      <td>-7.586207</td>\n",
       "      <td>-14.545455</td>\n",
       "      <td>-1.021898e+01</td>\n",
       "      <td>0.0</td>\n",
       "      <td>0.0</td>\n",
       "      <td>0.0</td>\n",
       "      <td>0.0</td>\n",
       "      <td>-18.533605</td>\n",
       "      <td>0.0</td>\n",
       "    </tr>\n",
       "    <tr>\n",
       "      <th>2</th>\n",
       "      <td>2000-03-31</td>\n",
       "      <td>3.571429</td>\n",
       "      <td>-4.347826</td>\n",
       "      <td>3.973510</td>\n",
       "      <td>27.912432</td>\n",
       "      <td>0.0</td>\n",
       "      <td>0.0</td>\n",
       "      <td>24.049080</td>\n",
       "      <td>3.428571</td>\n",
       "      <td>-1.521150</td>\n",
       "      <td>...</td>\n",
       "      <td>0.0</td>\n",
       "      <td>-0.447761</td>\n",
       "      <td>3.404255</td>\n",
       "      <td>-8.130081e-01</td>\n",
       "      <td>0.0</td>\n",
       "      <td>0.0</td>\n",
       "      <td>0.0</td>\n",
       "      <td>0.0</td>\n",
       "      <td>1.125000</td>\n",
       "      <td>0.0</td>\n",
       "    </tr>\n",
       "    <tr>\n",
       "      <th>3</th>\n",
       "      <td>2000-04-30</td>\n",
       "      <td>-33.908046</td>\n",
       "      <td>-9.090909</td>\n",
       "      <td>5.732484</td>\n",
       "      <td>24.694377</td>\n",
       "      <td>0.0</td>\n",
       "      <td>0.0</td>\n",
       "      <td>-1.582591</td>\n",
       "      <td>2.287293</td>\n",
       "      <td>-14.621244</td>\n",
       "      <td>...</td>\n",
       "      <td>0.0</td>\n",
       "      <td>7.946027</td>\n",
       "      <td>-25.102881</td>\n",
       "      <td>3.516658e+00</td>\n",
       "      <td>0.0</td>\n",
       "      <td>0.0</td>\n",
       "      <td>0.0</td>\n",
       "      <td>0.0</td>\n",
       "      <td>-20.519159</td>\n",
       "      <td>0.0</td>\n",
       "    </tr>\n",
       "    <tr>\n",
       "      <th>4</th>\n",
       "      <td>2000-05-31</td>\n",
       "      <td>0.869565</td>\n",
       "      <td>-15.000000</td>\n",
       "      <td>11.862429</td>\n",
       "      <td>-28.235294</td>\n",
       "      <td>0.0</td>\n",
       "      <td>0.0</td>\n",
       "      <td>-2.515897</td>\n",
       "      <td>2.040297</td>\n",
       "      <td>-9.491945</td>\n",
       "      <td>...</td>\n",
       "      <td>0.0</td>\n",
       "      <td>-0.833333</td>\n",
       "      <td>5.494505</td>\n",
       "      <td>-4.023120e-10</td>\n",
       "      <td>0.0</td>\n",
       "      <td>0.0</td>\n",
       "      <td>0.0</td>\n",
       "      <td>0.0</td>\n",
       "      <td>19.284603</td>\n",
       "      <td>0.0</td>\n",
       "    </tr>\n",
       "  </tbody>\n",
       "</table>\n",
       "<p>5 rows × 1884 columns</p>\n",
       "</div>"
      ],
      "text/plain": [
       "         Date     INTU.O         HL    GILG.DE        APH  SGH.O  PMAG.S  \\\n",
       "0  2000-01-31   0.625652 -12.000000  11.671470   1.971831    0.0     0.0   \n",
       "1  2000-02-29 -12.953368   4.545455  -2.580645  17.771639    0.0     0.0   \n",
       "2  2000-03-31   3.571429  -4.347826   3.973510  27.912432    0.0     0.0   \n",
       "3  2000-04-30 -33.908046  -9.090909   5.732484  24.694377    0.0     0.0   \n",
       "4  2000-05-31   0.869565 -15.000000  11.862429 -28.235294    0.0     0.0   \n",
       "\n",
       "         RTX  SOLARb.CO    OBEL.BR  ...  XYL   SCHN.PA     PRGO.K  \\\n",
       "0 -18.557692   0.000000 -25.558487  ...  0.0 -6.991661   7.421875   \n",
       "1  -3.408844  -2.777778  13.397921  ...  0.0 -7.586207 -14.545455   \n",
       "2  24.049080   3.428571  -1.521150  ...  0.0 -0.447761   3.404255   \n",
       "3  -1.582591   2.287293 -14.621244  ...  0.0  7.946027 -25.102881   \n",
       "4  -2.515897   2.040297  -9.491945  ...  0.0 -0.833333   5.494505   \n",
       "\n",
       "       TRELb.ST  SRG.MI  LOG.MC  GEO.MI  NRG    MYTr.AT  TEMN.S  \n",
       "0 -1.045752e+01     0.0     0.0     0.0  0.0 -23.040752     0.0  \n",
       "1 -1.021898e+01     0.0     0.0     0.0  0.0 -18.533605     0.0  \n",
       "2 -8.130081e-01     0.0     0.0     0.0  0.0   1.125000     0.0  \n",
       "3  3.516658e+00     0.0     0.0     0.0  0.0 -20.519159     0.0  \n",
       "4 -4.023120e-10     0.0     0.0     0.0  0.0  19.284603     0.0  \n",
       "\n",
       "[5 rows x 1884 columns]"
      ]
     },
     "execution_count": 11,
     "metadata": {},
     "output_type": "execute_result"
    }
   ],
   "source": [
    "return_data.head()"
   ]
  },
  {
   "cell_type": "code",
   "execution_count": 12,
   "metadata": {},
   "outputs": [
    {
     "name": "stdout",
     "output_type": "stream",
     "text": [
      "<class 'pandas.core.frame.DataFrame'>\n",
      "RangeIndex: 261 entries, 0 to 260\n",
      "Data columns (total 2 columns):\n",
      " #   Column  Non-Null Count  Dtype  \n",
      "---  ------  --------------  -----  \n",
      " 0   Date    261 non-null    object \n",
      " 1   HL      261 non-null    float64\n",
      "dtypes: float64(1), object(1)\n",
      "memory usage: 4.2+ KB\n"
     ]
    }
   ],
   "source": [
    "return_data[[\"Date\", \"HL\"]].info()"
   ]
  },
  {
   "cell_type": "code",
   "execution_count": 13,
   "metadata": {},
   "outputs": [
    {
     "data": {
      "text/plain": [
       "261"
      ]
     },
     "execution_count": 13,
     "metadata": {},
     "output_type": "execute_result"
    }
   ],
   "source": [
    "return_data[\"Date\"] = pd.to_datetime(return_data[\"Date\"], format=\"%Y/%m/%d\")\n",
    "return_data[\"Date\"].nunique()"
   ]
  },
  {
   "cell_type": "markdown",
   "metadata": {},
   "source": [
    "We have data from 2000s in the return data. However, in our firm data - we have data only from 2009. \n",
    "Hence, we will limit our return data as per the timeline of firm data"
   ]
  },
  {
   "cell_type": "code",
   "execution_count": 39,
   "metadata": {},
   "outputs": [
    {
     "data": {
      "text/plain": [
       "(Timestamp('2009-12-31 00:00:00'), Timestamp('2021-12-31 00:00:00'))"
      ]
     },
     "execution_count": 39,
     "metadata": {},
     "output_type": "execute_result"
    }
   ],
   "source": [
    "firm_data[\"Date\"].min(), firm_data[\"Date\"].max()"
   ]
  },
  {
   "cell_type": "code",
   "execution_count": 15,
   "metadata": {},
   "outputs": [
    {
     "data": {
      "text/plain": [
       "(Timestamp('2000-01-31 00:00:00'), Timestamp('2021-09-30 00:00:00'))"
      ]
     },
     "execution_count": 15,
     "metadata": {},
     "output_type": "execute_result"
    }
   ],
   "source": [
    "return_data[\"Date\"].min(), return_data[\"Date\"].max()"
   ]
  },
  {
   "cell_type": "code",
   "execution_count": 16,
   "metadata": {},
   "outputs": [],
   "source": [
    "start_date = \"2009-01-01\"\n",
    "end_date = \"2021-12-31\"\n",
    "mask = return_data[\"Date\"].between(start_date, end_date)\n",
    "return_data = return_data[mask]"
   ]
  },
  {
   "cell_type": "code",
   "execution_count": 17,
   "metadata": {},
   "outputs": [
    {
     "data": {
      "text/plain": [
       "153"
      ]
     },
     "execution_count": 17,
     "metadata": {},
     "output_type": "execute_result"
    }
   ],
   "source": [
    "return_data[\"Date\"] = pd.to_datetime(return_data[\"Date\"], format=\"%Y/%m/%d\")\n",
    "return_data[\"Date\"].nunique()"
   ]
  },
  {
   "cell_type": "code",
   "execution_count": 18,
   "metadata": {},
   "outputs": [
    {
     "data": {
      "text/plain": [
       "(Timestamp('2009-01-31 00:00:00'), Timestamp('2021-09-30 00:00:00'))"
      ]
     },
     "execution_count": 18,
     "metadata": {},
     "output_type": "execute_result"
    }
   ],
   "source": [
    "return_data[\"Date\"].min(), return_data[\"Date\"].max()"
   ]
  },
  {
   "cell_type": "markdown",
   "metadata": {},
   "source": [
    "Transforming columns to rows"
   ]
  },
  {
   "cell_type": "code",
   "execution_count": 19,
   "metadata": {},
   "outputs": [],
   "source": [
    "return_data = pd.melt(\n",
    "    return_data, id_vars=\"Date\", var_name=\"RIC\", value_name=\"returns_monthly\"\n",
    ")"
   ]
  },
  {
   "cell_type": "markdown",
   "metadata": {},
   "source": [
    "### Combining Return Data with Firm Data"
   ]
  },
  {
   "cell_type": "markdown",
   "metadata": {},
   "source": [
    "Before we combine, we need to bring return data to year level since firm data is at the year level. "
   ]
  },
  {
   "cell_type": "code",
   "execution_count": 20,
   "metadata": {},
   "outputs": [],
   "source": [
    "return_data[\"Year\"] = return_data[\"Date\"].dt.year"
   ]
  },
  {
   "cell_type": "code",
   "execution_count": 21,
   "metadata": {},
   "outputs": [
    {
     "data": {
      "text/html": [
       "<div>\n",
       "<style scoped>\n",
       "    .dataframe tbody tr th:only-of-type {\n",
       "        vertical-align: middle;\n",
       "    }\n",
       "\n",
       "    .dataframe tbody tr th {\n",
       "        vertical-align: top;\n",
       "    }\n",
       "\n",
       "    .dataframe thead th {\n",
       "        text-align: right;\n",
       "    }\n",
       "</style>\n",
       "<table border=\"1\" class=\"dataframe\">\n",
       "  <thead>\n",
       "    <tr style=\"text-align: right;\">\n",
       "      <th></th>\n",
       "      <th>Date</th>\n",
       "      <th>RIC</th>\n",
       "      <th>returns_monthly</th>\n",
       "      <th>Year</th>\n",
       "    </tr>\n",
       "  </thead>\n",
       "  <tbody>\n",
       "    <tr>\n",
       "      <th>0</th>\n",
       "      <td>2009-01-31</td>\n",
       "      <td>INTU.O</td>\n",
       "      <td>-4.791929</td>\n",
       "      <td>2009</td>\n",
       "    </tr>\n",
       "    <tr>\n",
       "      <th>1</th>\n",
       "      <td>2009-02-28</td>\n",
       "      <td>INTU.O</td>\n",
       "      <td>0.618102</td>\n",
       "      <td>2009</td>\n",
       "    </tr>\n",
       "    <tr>\n",
       "      <th>2</th>\n",
       "      <td>2009-03-31</td>\n",
       "      <td>INTU.O</td>\n",
       "      <td>18.473014</td>\n",
       "      <td>2009</td>\n",
       "    </tr>\n",
       "    <tr>\n",
       "      <th>3</th>\n",
       "      <td>2009-04-30</td>\n",
       "      <td>INTU.O</td>\n",
       "      <td>-14.333333</td>\n",
       "      <td>2009</td>\n",
       "    </tr>\n",
       "    <tr>\n",
       "      <th>4</th>\n",
       "      <td>2009-05-31</td>\n",
       "      <td>INTU.O</td>\n",
       "      <td>17.682663</td>\n",
       "      <td>2009</td>\n",
       "    </tr>\n",
       "  </tbody>\n",
       "</table>\n",
       "</div>"
      ],
      "text/plain": [
       "        Date     RIC  returns_monthly  Year\n",
       "0 2009-01-31  INTU.O        -4.791929  2009\n",
       "1 2009-02-28  INTU.O         0.618102  2009\n",
       "2 2009-03-31  INTU.O        18.473014  2009\n",
       "3 2009-04-30  INTU.O       -14.333333  2009\n",
       "4 2009-05-31  INTU.O        17.682663  2009"
      ]
     },
     "execution_count": 21,
     "metadata": {},
     "output_type": "execute_result"
    }
   ],
   "source": [
    "return_data.head()"
   ]
  },
  {
   "cell_type": "code",
   "execution_count": 22,
   "metadata": {},
   "outputs": [
    {
     "data": {
      "text/html": [
       "<div>\n",
       "<style scoped>\n",
       "    .dataframe tbody tr th:only-of-type {\n",
       "        vertical-align: middle;\n",
       "    }\n",
       "\n",
       "    .dataframe tbody tr th {\n",
       "        vertical-align: top;\n",
       "    }\n",
       "\n",
       "    .dataframe thead th {\n",
       "        text-align: right;\n",
       "    }\n",
       "</style>\n",
       "<table border=\"1\" class=\"dataframe\">\n",
       "  <thead>\n",
       "    <tr style=\"text-align: right;\">\n",
       "      <th></th>\n",
       "      <th>RIC</th>\n",
       "      <th>Year</th>\n",
       "      <th>returns_yearly</th>\n",
       "    </tr>\n",
       "  </thead>\n",
       "  <tbody>\n",
       "    <tr>\n",
       "      <th>0</th>\n",
       "      <td>0973.HK</td>\n",
       "      <td>2009</td>\n",
       "      <td>0.000000</td>\n",
       "    </tr>\n",
       "    <tr>\n",
       "      <th>1</th>\n",
       "      <td>0973.HK</td>\n",
       "      <td>2010</td>\n",
       "      <td>46.444961</td>\n",
       "    </tr>\n",
       "    <tr>\n",
       "      <th>2</th>\n",
       "      <td>0973.HK</td>\n",
       "      <td>2011</td>\n",
       "      <td>-23.899519</td>\n",
       "    </tr>\n",
       "    <tr>\n",
       "      <th>3</th>\n",
       "      <td>0973.HK</td>\n",
       "      <td>2012</td>\n",
       "      <td>51.000108</td>\n",
       "    </tr>\n",
       "    <tr>\n",
       "      <th>4</th>\n",
       "      <td>0973.HK</td>\n",
       "      <td>2013</td>\n",
       "      <td>-34.498730</td>\n",
       "    </tr>\n",
       "  </tbody>\n",
       "</table>\n",
       "</div>"
      ],
      "text/plain": [
       "       RIC  Year  returns_yearly\n",
       "0  0973.HK  2009        0.000000\n",
       "1  0973.HK  2010       46.444961\n",
       "2  0973.HK  2011      -23.899519\n",
       "3  0973.HK  2012       51.000108\n",
       "4  0973.HK  2013      -34.498730"
      ]
     },
     "execution_count": 22,
     "metadata": {},
     "output_type": "execute_result"
    }
   ],
   "source": [
    "returns_yearly = return_data.groupby(\n",
    "    [return_data[\"RIC\"], return_data[\"Year\"]], as_index=False\n",
    ")[\"returns_monthly\"].sum()\n",
    "returns_yearly.rename(\n",
    "    columns={\"returns_monthly\": \"returns_yearly\"}, inplace=True\n",
    ")\n",
    "returns_yearly.head()"
   ]
  },
  {
   "cell_type": "code",
   "execution_count": 23,
   "metadata": {},
   "outputs": [
    {
     "data": {
      "text/plain": [
       "(2009, 2021)"
      ]
     },
     "execution_count": 23,
     "metadata": {},
     "output_type": "execute_result"
    }
   ],
   "source": [
    "returns_yearly.Year.min(), returns_yearly.Year.max()"
   ]
  },
  {
   "cell_type": "code",
   "execution_count": 24,
   "metadata": {},
   "outputs": [],
   "source": [
    "returns_yearly.to_csv(\"data/processed/yearly_returns.csv\", index=False)"
   ]
  },
  {
   "attachments": {},
   "cell_type": "markdown",
   "metadata": {},
   "source": [
    "Now we add the yearly returns to firm data"
   ]
  },
  {
   "cell_type": "code",
   "execution_count": 40,
   "metadata": {},
   "outputs": [],
   "source": [
    "firm_data[\"Year\"] = firm_data[\"Date\"].dt.year"
   ]
  },
  {
   "cell_type": "code",
   "execution_count": 41,
   "metadata": {},
   "outputs": [],
   "source": [
    "merged_data = firm_data.merge(returns_yearly, how=\"left\", on=[\"RIC\", \"Year\"])"
   ]
  },
  {
   "cell_type": "code",
   "execution_count": 42,
   "metadata": {},
   "outputs": [
    {
     "data": {
      "text/html": [
       "<div>\n",
       "<style scoped>\n",
       "    .dataframe tbody tr th:only-of-type {\n",
       "        vertical-align: middle;\n",
       "    }\n",
       "\n",
       "    .dataframe tbody tr th {\n",
       "        vertical-align: top;\n",
       "    }\n",
       "\n",
       "    .dataframe thead th {\n",
       "        text-align: right;\n",
       "    }\n",
       "</style>\n",
       "<table border=\"1\" class=\"dataframe\">\n",
       "  <thead>\n",
       "    <tr style=\"text-align: right;\">\n",
       "      <th></th>\n",
       "      <th>RIC</th>\n",
       "      <th>Date</th>\n",
       "      <th>Total Current Assets</th>\n",
       "      <th>Total Current Liabilities</th>\n",
       "      <th>Total Debt</th>\n",
       "      <th>Total Assets, Reported</th>\n",
       "      <th>Net Income - Actual</th>\n",
       "      <th>Revenue Per Share</th>\n",
       "      <th>Total Revenue</th>\n",
       "      <th>Total Equity</th>\n",
       "      <th>Total CO2 Equivalent Emissions To Revenues USD in million</th>\n",
       "      <th>ESG Score</th>\n",
       "      <th>Social Pillar Score</th>\n",
       "      <th>Governance Pillar Score</th>\n",
       "      <th>Environmental Pillar Score</th>\n",
       "      <th>Company Market Capitalization</th>\n",
       "      <th>Property Plant And Equipment, Total - Gross</th>\n",
       "      <th>P/E (Daily Time Series Ratio)</th>\n",
       "      <th>Year</th>\n",
       "      <th>returns_yearly</th>\n",
       "    </tr>\n",
       "  </thead>\n",
       "  <tbody>\n",
       "    <tr>\n",
       "      <th>0</th>\n",
       "      <td>BVIC.L</td>\n",
       "      <td>2009-12-31</td>\n",
       "      <td>434.373405</td>\n",
       "      <td>483.824655</td>\n",
       "      <td>718.957376</td>\n",
       "      <td>1361.504594</td>\n",
       "      <td>107.309409</td>\n",
       "      <td>7.068281</td>\n",
       "      <td>1561.383359</td>\n",
       "      <td>-3.988004</td>\n",
       "      <td>NaN</td>\n",
       "      <td>51.267135</td>\n",
       "      <td>45.539754</td>\n",
       "      <td>59.077651</td>\n",
       "      <td>53.535053</td>\n",
       "      <td>1430.561330</td>\n",
       "      <td>817.381317</td>\n",
       "      <td>19.299905</td>\n",
       "      <td>2009</td>\n",
       "      <td>48.651108</td>\n",
       "    </tr>\n",
       "    <tr>\n",
       "      <th>1</th>\n",
       "      <td>BVIC.L</td>\n",
       "      <td>2010-12-31</td>\n",
       "      <td>579.778906</td>\n",
       "      <td>580.095207</td>\n",
       "      <td>901.298414</td>\n",
       "      <td>1655.358922</td>\n",
       "      <td>139.656087</td>\n",
       "      <td>8.006665</td>\n",
       "      <td>1800.699024</td>\n",
       "      <td>-48.552134</td>\n",
       "      <td>NaN</td>\n",
       "      <td>50.550242</td>\n",
       "      <td>57.622888</td>\n",
       "      <td>31.890959</td>\n",
       "      <td>55.261467</td>\n",
       "      <td>1772.376566</td>\n",
       "      <td>889.120843</td>\n",
       "      <td>16.927900</td>\n",
       "      <td>2010</td>\n",
       "      <td>15.557061</td>\n",
       "    </tr>\n",
       "    <tr>\n",
       "      <th>2</th>\n",
       "      <td>BVIC.L</td>\n",
       "      <td>2011-12-31</td>\n",
       "      <td>598.968478</td>\n",
       "      <td>607.694345</td>\n",
       "      <td>893.154869</td>\n",
       "      <td>1660.096296</td>\n",
       "      <td>122.255528</td>\n",
       "      <td>7.912984</td>\n",
       "      <td>2010.689188</td>\n",
       "      <td>35.059289</td>\n",
       "      <td>NaN</td>\n",
       "      <td>46.732870</td>\n",
       "      <td>57.397993</td>\n",
       "      <td>28.924942</td>\n",
       "      <td>45.229496</td>\n",
       "      <td>1205.126197</td>\n",
       "      <td>836.280911</td>\n",
       "      <td>13.534436</td>\n",
       "      <td>2011</td>\n",
       "      <td>-33.927688</td>\n",
       "    </tr>\n",
       "    <tr>\n",
       "      <th>3</th>\n",
       "      <td>BVIC.L</td>\n",
       "      <td>2012-12-31</td>\n",
       "      <td>615.523874</td>\n",
       "      <td>601.137943</td>\n",
       "      <td>907.121844</td>\n",
       "      <td>1658.099764</td>\n",
       "      <td>100.765756</td>\n",
       "      <td>7.914423</td>\n",
       "      <td>2030.840850</td>\n",
       "      <td>59.968319</td>\n",
       "      <td>NaN</td>\n",
       "      <td>57.941343</td>\n",
       "      <td>70.633040</td>\n",
       "      <td>37.216902</td>\n",
       "      <td>55.762859</td>\n",
       "      <td>1603.272359</td>\n",
       "      <td>872.046035</td>\n",
       "      <td>18.363571</td>\n",
       "      <td>2012</td>\n",
       "      <td>27.226920</td>\n",
       "    </tr>\n",
       "    <tr>\n",
       "      <th>4</th>\n",
       "      <td>BVIC.L</td>\n",
       "      <td>2013-12-31</td>\n",
       "      <td>748.229068</td>\n",
       "      <td>814.064189</td>\n",
       "      <td>895.874010</td>\n",
       "      <td>1714.940377</td>\n",
       "      <td>133.919162</td>\n",
       "      <td>8.716901</td>\n",
       "      <td>2133.025672</td>\n",
       "      <td>65.996482</td>\n",
       "      <td>31.296503</td>\n",
       "      <td>49.513243</td>\n",
       "      <td>52.778937</td>\n",
       "      <td>33.146107</td>\n",
       "      <td>58.148148</td>\n",
       "      <td>2819.919676</td>\n",
       "      <td>907.653333</td>\n",
       "      <td>27.421399</td>\n",
       "      <td>2013</td>\n",
       "      <td>56.909555</td>\n",
       "    </tr>\n",
       "  </tbody>\n",
       "</table>\n",
       "</div>"
      ],
      "text/plain": [
       "      RIC       Date  Total Current Assets  Total Current Liabilities  \\\n",
       "0  BVIC.L 2009-12-31            434.373405                 483.824655   \n",
       "1  BVIC.L 2010-12-31            579.778906                 580.095207   \n",
       "2  BVIC.L 2011-12-31            598.968478                 607.694345   \n",
       "3  BVIC.L 2012-12-31            615.523874                 601.137943   \n",
       "4  BVIC.L 2013-12-31            748.229068                 814.064189   \n",
       "\n",
       "   Total Debt  Total Assets, Reported  Net Income - Actual  Revenue Per Share  \\\n",
       "0  718.957376             1361.504594           107.309409           7.068281   \n",
       "1  901.298414             1655.358922           139.656087           8.006665   \n",
       "2  893.154869             1660.096296           122.255528           7.912984   \n",
       "3  907.121844             1658.099764           100.765756           7.914423   \n",
       "4  895.874010             1714.940377           133.919162           8.716901   \n",
       "\n",
       "   Total Revenue  Total Equity  \\\n",
       "0    1561.383359     -3.988004   \n",
       "1    1800.699024    -48.552134   \n",
       "2    2010.689188     35.059289   \n",
       "3    2030.840850     59.968319   \n",
       "4    2133.025672     65.996482   \n",
       "\n",
       "   Total CO2 Equivalent Emissions To Revenues USD in million  ESG Score  \\\n",
       "0                                                NaN          51.267135   \n",
       "1                                                NaN          50.550242   \n",
       "2                                                NaN          46.732870   \n",
       "3                                                NaN          57.941343   \n",
       "4                                          31.296503          49.513243   \n",
       "\n",
       "   Social Pillar Score  Governance Pillar Score  Environmental Pillar Score  \\\n",
       "0            45.539754                59.077651                   53.535053   \n",
       "1            57.622888                31.890959                   55.261467   \n",
       "2            57.397993                28.924942                   45.229496   \n",
       "3            70.633040                37.216902                   55.762859   \n",
       "4            52.778937                33.146107                   58.148148   \n",
       "\n",
       "   Company Market Capitalization  Property Plant And Equipment, Total - Gross  \\\n",
       "0                    1430.561330                                   817.381317   \n",
       "1                    1772.376566                                   889.120843   \n",
       "2                    1205.126197                                   836.280911   \n",
       "3                    1603.272359                                   872.046035   \n",
       "4                    2819.919676                                   907.653333   \n",
       "\n",
       "   P/E (Daily Time Series Ratio)  Year  returns_yearly  \n",
       "0                      19.299905  2009       48.651108  \n",
       "1                      16.927900  2010       15.557061  \n",
       "2                      13.534436  2011      -33.927688  \n",
       "3                      18.363571  2012       27.226920  \n",
       "4                      27.421399  2013       56.909555  "
      ]
     },
     "execution_count": 42,
     "metadata": {},
     "output_type": "execute_result"
    }
   ],
   "source": [
    "merged_data.head()"
   ]
  },
  {
   "attachments": {},
   "cell_type": "markdown",
   "metadata": {},
   "source": [
    "We drop unnecessary columns"
   ]
  },
  {
   "cell_type": "code",
   "execution_count": 43,
   "metadata": {},
   "outputs": [],
   "source": [
    "merged_data.drop(\n",
    "    columns=[\n",
    "        \"Date\",\n",
    "        \"Social Pillar Score\",\n",
    "        \"Governance Pillar Score\",\n",
    "        \"Environmental Pillar Score\",\n",
    "    ],\n",
    "    inplace=True,\n",
    ")"
   ]
  },
  {
   "cell_type": "code",
   "execution_count": 47,
   "metadata": {},
   "outputs": [],
   "source": [
    "merged_data.to_csv(\"data/processed/merged_firm_returns.csv\", index=False)"
   ]
  },
  {
   "cell_type": "code",
   "execution_count": 45,
   "metadata": {},
   "outputs": [
    {
     "data": {
      "text/html": [
       "<div>\n",
       "<style scoped>\n",
       "    .dataframe tbody tr th:only-of-type {\n",
       "        vertical-align: middle;\n",
       "    }\n",
       "\n",
       "    .dataframe tbody tr th {\n",
       "        vertical-align: top;\n",
       "    }\n",
       "\n",
       "    .dataframe thead th {\n",
       "        text-align: right;\n",
       "    }\n",
       "</style>\n",
       "<table border=\"1\" class=\"dataframe\">\n",
       "  <thead>\n",
       "    <tr style=\"text-align: right;\">\n",
       "      <th></th>\n",
       "      <th>RIC</th>\n",
       "      <th>Total Current Assets</th>\n",
       "      <th>Total Current Liabilities</th>\n",
       "      <th>Total Debt</th>\n",
       "      <th>Total Assets, Reported</th>\n",
       "      <th>Net Income - Actual</th>\n",
       "      <th>Revenue Per Share</th>\n",
       "      <th>Total Revenue</th>\n",
       "      <th>Total Equity</th>\n",
       "      <th>Total CO2 Equivalent Emissions To Revenues USD in million</th>\n",
       "      <th>ESG Score</th>\n",
       "      <th>Company Market Capitalization</th>\n",
       "      <th>Property Plant And Equipment, Total - Gross</th>\n",
       "      <th>P/E (Daily Time Series Ratio)</th>\n",
       "      <th>Year</th>\n",
       "      <th>returns_yearly</th>\n",
       "    </tr>\n",
       "  </thead>\n",
       "  <tbody>\n",
       "    <tr>\n",
       "      <th>0</th>\n",
       "      <td>BVIC.L</td>\n",
       "      <td>434.373405</td>\n",
       "      <td>483.824655</td>\n",
       "      <td>718.957376</td>\n",
       "      <td>1361.504594</td>\n",
       "      <td>107.309409</td>\n",
       "      <td>7.068281</td>\n",
       "      <td>1561.383359</td>\n",
       "      <td>-3.988004</td>\n",
       "      <td>NaN</td>\n",
       "      <td>51.267135</td>\n",
       "      <td>1430.561330</td>\n",
       "      <td>817.381317</td>\n",
       "      <td>19.299905</td>\n",
       "      <td>2009</td>\n",
       "      <td>48.651108</td>\n",
       "    </tr>\n",
       "    <tr>\n",
       "      <th>1</th>\n",
       "      <td>BVIC.L</td>\n",
       "      <td>579.778906</td>\n",
       "      <td>580.095207</td>\n",
       "      <td>901.298414</td>\n",
       "      <td>1655.358922</td>\n",
       "      <td>139.656087</td>\n",
       "      <td>8.006665</td>\n",
       "      <td>1800.699024</td>\n",
       "      <td>-48.552134</td>\n",
       "      <td>NaN</td>\n",
       "      <td>50.550242</td>\n",
       "      <td>1772.376566</td>\n",
       "      <td>889.120843</td>\n",
       "      <td>16.927900</td>\n",
       "      <td>2010</td>\n",
       "      <td>15.557061</td>\n",
       "    </tr>\n",
       "    <tr>\n",
       "      <th>2</th>\n",
       "      <td>BVIC.L</td>\n",
       "      <td>598.968478</td>\n",
       "      <td>607.694345</td>\n",
       "      <td>893.154869</td>\n",
       "      <td>1660.096296</td>\n",
       "      <td>122.255528</td>\n",
       "      <td>7.912984</td>\n",
       "      <td>2010.689188</td>\n",
       "      <td>35.059289</td>\n",
       "      <td>NaN</td>\n",
       "      <td>46.732870</td>\n",
       "      <td>1205.126197</td>\n",
       "      <td>836.280911</td>\n",
       "      <td>13.534436</td>\n",
       "      <td>2011</td>\n",
       "      <td>-33.927688</td>\n",
       "    </tr>\n",
       "    <tr>\n",
       "      <th>3</th>\n",
       "      <td>BVIC.L</td>\n",
       "      <td>615.523874</td>\n",
       "      <td>601.137943</td>\n",
       "      <td>907.121844</td>\n",
       "      <td>1658.099764</td>\n",
       "      <td>100.765756</td>\n",
       "      <td>7.914423</td>\n",
       "      <td>2030.840850</td>\n",
       "      <td>59.968319</td>\n",
       "      <td>NaN</td>\n",
       "      <td>57.941343</td>\n",
       "      <td>1603.272359</td>\n",
       "      <td>872.046035</td>\n",
       "      <td>18.363571</td>\n",
       "      <td>2012</td>\n",
       "      <td>27.226920</td>\n",
       "    </tr>\n",
       "    <tr>\n",
       "      <th>4</th>\n",
       "      <td>BVIC.L</td>\n",
       "      <td>748.229068</td>\n",
       "      <td>814.064189</td>\n",
       "      <td>895.874010</td>\n",
       "      <td>1714.940377</td>\n",
       "      <td>133.919162</td>\n",
       "      <td>8.716901</td>\n",
       "      <td>2133.025672</td>\n",
       "      <td>65.996482</td>\n",
       "      <td>31.296503</td>\n",
       "      <td>49.513243</td>\n",
       "      <td>2819.919676</td>\n",
       "      <td>907.653333</td>\n",
       "      <td>27.421399</td>\n",
       "      <td>2013</td>\n",
       "      <td>56.909555</td>\n",
       "    </tr>\n",
       "  </tbody>\n",
       "</table>\n",
       "</div>"
      ],
      "text/plain": [
       "      RIC  Total Current Assets  Total Current Liabilities  Total Debt  \\\n",
       "0  BVIC.L            434.373405                 483.824655  718.957376   \n",
       "1  BVIC.L            579.778906                 580.095207  901.298414   \n",
       "2  BVIC.L            598.968478                 607.694345  893.154869   \n",
       "3  BVIC.L            615.523874                 601.137943  907.121844   \n",
       "4  BVIC.L            748.229068                 814.064189  895.874010   \n",
       "\n",
       "   Total Assets, Reported  Net Income - Actual  Revenue Per Share  \\\n",
       "0             1361.504594           107.309409           7.068281   \n",
       "1             1655.358922           139.656087           8.006665   \n",
       "2             1660.096296           122.255528           7.912984   \n",
       "3             1658.099764           100.765756           7.914423   \n",
       "4             1714.940377           133.919162           8.716901   \n",
       "\n",
       "   Total Revenue  Total Equity  \\\n",
       "0    1561.383359     -3.988004   \n",
       "1    1800.699024    -48.552134   \n",
       "2    2010.689188     35.059289   \n",
       "3    2030.840850     59.968319   \n",
       "4    2133.025672     65.996482   \n",
       "\n",
       "   Total CO2 Equivalent Emissions To Revenues USD in million  ESG Score  \\\n",
       "0                                                NaN          51.267135   \n",
       "1                                                NaN          50.550242   \n",
       "2                                                NaN          46.732870   \n",
       "3                                                NaN          57.941343   \n",
       "4                                          31.296503          49.513243   \n",
       "\n",
       "   Company Market Capitalization  Property Plant And Equipment, Total - Gross  \\\n",
       "0                    1430.561330                                   817.381317   \n",
       "1                    1772.376566                                   889.120843   \n",
       "2                    1205.126197                                   836.280911   \n",
       "3                    1603.272359                                   872.046035   \n",
       "4                    2819.919676                                   907.653333   \n",
       "\n",
       "   P/E (Daily Time Series Ratio)  Year  returns_yearly  \n",
       "0                      19.299905  2009       48.651108  \n",
       "1                      16.927900  2010       15.557061  \n",
       "2                      13.534436  2011      -33.927688  \n",
       "3                      18.363571  2012       27.226920  \n",
       "4                      27.421399  2013       56.909555  "
      ]
     },
     "execution_count": 45,
     "metadata": {},
     "output_type": "execute_result"
    }
   ],
   "source": [
    "merged_data.head()"
   ]
  },
  {
   "cell_type": "code",
   "execution_count": 46,
   "metadata": {},
   "outputs": [
    {
     "name": "stdout",
     "output_type": "stream",
     "text": [
      "<class 'pandas.core.frame.DataFrame'>\n",
      "Int64Index: 24479 entries, 0 to 24478\n",
      "Data columns (total 16 columns):\n",
      " #   Column                                                     Non-Null Count  Dtype  \n",
      "---  ------                                                     --------------  -----  \n",
      " 0   RIC                                                        24479 non-null  object \n",
      " 1   Total Current Assets                                       22689 non-null  float64\n",
      " 2   Total Current Liabilities                                  22681 non-null  float64\n",
      " 3   Total Debt                                                 23628 non-null  float64\n",
      " 4   Total Assets, Reported                                     23663 non-null  float64\n",
      " 5   Net Income - Actual                                        21343 non-null  float64\n",
      " 6   Revenue Per Share                                          23617 non-null  float64\n",
      " 7   Total Revenue                                              23718 non-null  float64\n",
      " 8   Total Equity                                               23640 non-null  float64\n",
      " 9   Total CO2 Equivalent Emissions To Revenues USD in million  14408 non-null  float64\n",
      " 10  ESG Score                                                  17762 non-null  float64\n",
      " 11  Company Market Capitalization                              22639 non-null  float64\n",
      " 12  Property Plant And Equipment, Total - Gross                22116 non-null  float64\n",
      " 13  P/E (Daily Time Series Ratio)                              19110 non-null  float64\n",
      " 14  Year                                                       24479 non-null  int64  \n",
      " 15  returns_yearly                                             24479 non-null  float64\n",
      "dtypes: float64(14), int64(1), object(1)\n",
      "memory usage: 3.2+ MB\n"
     ]
    }
   ],
   "source": [
    "merged_data.info()"
   ]
  },
  {
   "cell_type": "code",
   "execution_count": null,
   "metadata": {},
   "outputs": [],
   "source": []
  }
 ],
 "metadata": {
  "kernelspec": {
   "display_name": "SP_ESG_Pred",
   "language": "python",
   "name": "python3"
  },
  "language_info": {
   "codemirror_mode": {
    "name": "ipython",
    "version": 3
   },
   "file_extension": ".py",
   "mimetype": "text/x-python",
   "name": "python",
   "nbconvert_exporter": "python",
   "pygments_lexer": "ipython3",
   "version": "3.8.9"
  },
  "orig_nbformat": 4
 },
 "nbformat": 4,
 "nbformat_minor": 2
}
