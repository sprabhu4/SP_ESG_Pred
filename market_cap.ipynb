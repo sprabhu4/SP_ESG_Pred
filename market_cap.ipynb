{
 "cells": [
  {
   "cell_type": "code",
   "execution_count": null,
   "id": "b84e2f92",
   "metadata": {},
   "outputs": [],
   "source": [
    "import pandas as pd\n",
    "import matplotlib.pyplot as plt\n",
    "import seaborn as sns"
   ]
  },
  {
   "cell_type": "code",
   "execution_count": null,
   "id": "109d8b68",
   "metadata": {},
   "outputs": [],
   "source": [
    "df_mc = pd.read_csv(\"MC_Data.csv\")"
   ]
  },
  {
   "cell_type": "code",
   "execution_count": null,
   "id": "ae494a12",
   "metadata": {},
   "outputs": [],
   "source": [
    "df_mc.head()"
   ]
  },
  {
   "cell_type": "code",
   "execution_count": null,
   "id": "5d5cdc86",
   "metadata": {
    "scrolled": true
   },
   "outputs": [],
   "source": [
    "df_mc = df_mc.drop('Unnamed: 0', axis=1)"
   ]
  },
  {
   "cell_type": "code",
   "execution_count": null,
   "id": "bbf4f27b",
   "metadata": {},
   "outputs": [],
   "source": [
    "df_mc.head()"
   ]
  },
  {
   "cell_type": "code",
   "execution_count": null,
   "id": "8c3ddba2",
   "metadata": {},
   "outputs": [],
   "source": [
    "df_mc['Date']=pd.to_datetime(df_mc['Date'])"
   ]
  },
  {
   "cell_type": "code",
   "execution_count": null,
   "id": "bc0f1994",
   "metadata": {},
   "outputs": [],
   "source": [
    "df_mc.dtypes"
   ]
  },
  {
   "cell_type": "markdown",
   "id": "93f00860",
   "metadata": {},
   "source": [
    "**Capping September Data as 31-12-2021 data as we don't have further values**"
   ]
  },
  {
   "cell_type": "code",
   "execution_count": null,
   "id": "21ebc5b0",
   "metadata": {},
   "outputs": [],
   "source": [
    "final_date = pd.to_datetime('2021-09-30')\n",
    "mask = df_mc['Date'] == final_date\n",
    "df_mc.loc[mask,'Date']=pd.to_datetime('2021-12-31')"
   ]
  },
  {
   "cell_type": "code",
   "execution_count": null,
   "id": "a03ead9a",
   "metadata": {},
   "outputs": [],
   "source": [
    "df_MC_filtered = df_mc[(df_mc['Date'].dt.day == 31) & (df_mc['Date'].dt.month == 12)]"
   ]
  },
  {
   "cell_type": "code",
   "execution_count": null,
   "id": "1709d091",
   "metadata": {},
   "outputs": [],
   "source": [
    "df_MC_filtered"
   ]
  },
  {
   "cell_type": "code",
   "execution_count": null,
   "id": "dab65e0e",
   "metadata": {},
   "outputs": [],
   "source": [
    "start_date = '2009-12-31'\n",
    "end_date = '2021-12-31'\n",
    "mask = df_MC_filtered['Date'].between(start_date, end_date)"
   ]
  },
  {
   "cell_type": "code",
   "execution_count": null,
   "id": "43edb49e",
   "metadata": {},
   "outputs": [],
   "source": [
    "df_MC = df_MC_filtered[mask]"
   ]
  },
  {
   "cell_type": "code",
   "execution_count": null,
   "id": "990dadcb",
   "metadata": {},
   "outputs": [],
   "source": [
    "df_MC"
   ]
  },
  {
   "cell_type": "code",
   "execution_count": null,
   "id": "ef8440e8",
   "metadata": {},
   "outputs": [],
   "source": [
    "df_melted = pd.melt(df_MC, id_vars='Date', var_name='RIC', value_name='market_cap')"
   ]
  },
  {
   "cell_type": "code",
   "execution_count": null,
   "id": "5e5518b3",
   "metadata": {},
   "outputs": [],
   "source": [
    "df_melted"
   ]
  },
  {
   "cell_type": "code",
   "execution_count": null,
   "id": "93aa252c",
   "metadata": {},
   "outputs": [],
   "source": [
    "df_melted.to_csv('market_cap.csv', index=False)"
   ]
  },
  {
   "cell_type": "code",
   "execution_count": null,
   "id": "86f6fd99",
   "metadata": {},
   "outputs": [],
   "source": []
  }
 ],
 "metadata": {
  "kernelspec": {
   "display_name": "Python 3 (ipykernel)",
   "language": "python",
   "name": "python3"
  },
  "language_info": {
   "codemirror_mode": {
    "name": "ipython",
    "version": 3
   },
   "file_extension": ".py",
   "mimetype": "text/x-python",
   "name": "python",
   "nbconvert_exporter": "python",
   "pygments_lexer": "ipython3",
   "version": "3.10.0"
  }
 },
 "nbformat": 4,
 "nbformat_minor": 5
}
