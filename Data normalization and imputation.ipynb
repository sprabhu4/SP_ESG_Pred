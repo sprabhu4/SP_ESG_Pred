{
 "cells": [
  {
   "cell_type": "code",
   "execution_count": null,
   "metadata": {},
   "outputs": [],
   "source": [
    "import pandas as pd\n",
    "import numpy as np"
   ]
  },
  {
   "cell_type": "code",
   "execution_count": null,
   "metadata": {},
   "outputs": [],
   "source": [
    "dataset = pd.read_csv('data:outliers_removed_dataset.csv')\n",
    "dataset"
   ]
  },
  {
   "cell_type": "code",
   "execution_count": null,
   "metadata": {},
   "outputs": [],
   "source": [
    "# remove unnamed and direclty correlated rows from dataset\n",
    "columns = ['Total Current Assets', 'Total Current Liabilities',\n",
    "       'Total Debt', 'Total Assets, Reported', 'Net Income - Actual',\n",
    "       'Revenue Per Share', 'Total Revenue', 'Total Equity', 'CO2 Emissions',\n",
    "       'ESG Score', #'Social Pillar Score', 'Governance Pillar Score','Environmental Pillar Score',\n",
    "        'Company Market Capitalization',\n",
    "       'PPE Total', 'P/E (Daily Time Series Ratio)','returns_monthly']\n",
    "\n",
    "dataset = dataset[columns]\n",
    "dataset.head(5)\n",
    "\n"
   ]
  },
  {
   "cell_type": "code",
   "execution_count": null,
   "metadata": {},
   "outputs": [],
   "source": [
    "# remove all rows which have null values for ESG score\n",
    "\n",
    "dataset = dataset.dropna(subset=['ESG Score'])\n",
    "\n",
    "# check null values in other columns\n",
    "nullvalues_df = dataset.apply(lambda x: sum(x.isnull())).to_frame(name= 'count')\n",
    "print(nullvalues_df)\n",
    "\n",
    "\n",
    "# import pandas as pd\n",
    "# import numpy as np\n",
    "# from scipy.stats import chi2_contingency\n",
    "# import missingno as msno\n",
    "\n",
    "\n",
    "# # Create new binary variables for each column indicating whether the value is missing or not\n",
    "# for col in dataset.columns:\n",
    "#     if dataset[col].isnull().any():\n",
    "#         dataset['Missing ' + col] = dataset[col].isnull().astype(int)\n",
    "\n",
    "# # Calculate the contingency table and chi-square statistic for each pair of missingness binary variables\n",
    "# for i, col1 in enumerate(dataset.columns):\n",
    "#     if 'Missing' in col1:\n",
    "#         for j, col2 in enumerate(dataset.columns):\n",
    "#             if 'Missing' in col2 and j > i:\n",
    "#                 contingency_table = pd.crosstab(dataset[col1], dataset[col2])\n",
    "#                 chi2, p_value, dof, expected = chi2_contingency(contingency_table)\n",
    "#                 print(f'{col1} vs {col2}: Chi-square={chi2:.2f}, p-value={p_value:.4f}')\n",
    "\n",
    "# # Visualize the patterns of missingness in your dataset\n",
    "# msno.matrix(dataset)\n",
    "\n"
   ]
  },
  {
   "cell_type": "code",
   "execution_count": null,
   "metadata": {},
   "outputs": [],
   "source": [
    "# check distribution of data\n",
    "\n",
    "import seaborn as sns\n",
    "import scipy.stats as stats\n",
    "import matplotlib.pyplot as plt\n",
    "\n",
    "\n",
    "# Plot a histogram\n",
    "\n",
    "\n",
    "dataset[columns].hist( figsize=(15,15))\n"
   ]
  },
  {
   "cell_type": "code",
   "execution_count": null,
   "metadata": {},
   "outputs": [],
   "source": [
    "from sklearn.impute import KNNImputer\n",
    "\n",
    "\n",
    "# Identify the columns with missing values\n",
    "missing_cols = ['Total Current Assets', 'Total Current Liabilities', 'Total Debt','Total Assets, Reported','Net Income - Actual',\n",
    "                'Revenue Per Share','Total Revenue', 'Total Equity', 'CO2 Emissions','Company Market Capitalization', 'PPE Total',\n",
    "                'P/E (Daily Time Series Ratio)']\n",
    "\n",
    "\n",
    "\n",
    "\n"
   ]
  },
  {
   "attachments": {},
   "cell_type": "markdown",
   "metadata": {},
   "source": [
    "### Removing all rows where all columns have null values (because company did not post for those years)"
   ]
  },
  {
   "cell_type": "code",
   "execution_count": null,
   "metadata": {},
   "outputs": [],
   "source": [
    "# create a boolean mask of NaN values\n",
    "mask = np.isnan(dataset).any(axis=1)\n",
    "\n",
    "# select rows that do not have all NaN values\n",
    "dataset = dataset[~mask]"
   ]
  },
  {
   "cell_type": "code",
   "execution_count": null,
   "metadata": {},
   "outputs": [],
   "source": [
    "# Normalize the dataset by doing Z score normalization\n",
    "norm_data = (dataset - dataset.mean()) / dataset.std()"
   ]
  },
  {
   "cell_type": "code",
   "execution_count": null,
   "metadata": {},
   "outputs": [],
   "source": [
    "imputer = KNNImputer(n_neighbors=5,missing_values=np.nan)\n",
    "dataset = imputer.fit_transform(dataset)"
   ]
  },
  {
   "cell_type": "code",
   "execution_count": null,
   "metadata": {},
   "outputs": [],
   "source": [
    "#export merged dataframe\n",
    "dataset = pd.DataFrame(dataset)\n",
    "dataset.to_csv('clean data.csv')"
   ]
  },
  {
   "cell_type": "code",
   "execution_count": null,
   "metadata": {},
   "outputs": [],
   "source": [
    "# # Split the dataset into two parts\n",
    "# missing_data = dataset[dataset[missing_cols].isna().any(axis=1)]\n",
    "# complete_data = dataset.dropna(subset=missing_cols)\n",
    "\n",
    "\n",
    "# # Normalize the dataset by doing Z scale normalization\n",
    "# norm_data = (complete_data - complete_data.mean()) / complete_data.std()\n",
    "\n",
    "# # Create a KNN imputer object\n",
    "# imputer = KNNImputer(n_neighbors=5)\n",
    "\n",
    "# # Impute the missing values\n",
    "# imputed_data = imputer.fit_transform(norm_data)\n",
    "\n",
    "# # Convert the imputed data back to a pandas DataFrame\n",
    "# imputed_df = pd.DataFrame(imputed_data, columns=complete_data.columns)\n",
    "\n",
    "\n",
    "\n",
    "\n"
   ]
  }
 ],
 "metadata": {
  "kernelspec": {
   "display_name": "base",
   "language": "python",
   "name": "python3"
  },
  "language_info": {
   "codemirror_mode": {
    "name": "ipython",
    "version": 3
   },
   "file_extension": ".py",
   "mimetype": "text/x-python",
   "name": "python",
   "nbconvert_exporter": "python",
   "pygments_lexer": "ipython3",
   "version": "3.8.8"
  },
  "orig_nbformat": 4
 },
 "nbformat": 4,
 "nbformat_minor": 2
}
